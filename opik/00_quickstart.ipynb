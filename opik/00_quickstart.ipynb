{
 "cells": [
  {
   "cell_type": "markdown",
   "id": "a43f0140",
   "metadata": {},
   "source": [
    "# Opik - Getting started\n",
    "\n",
    "## Setup\n",
    "\n",
    "```bash\n",
    "pip install opik\n",
    "```\n",
    "\n",
    "```bash\n",
    "opik configure\n",
    "```\n",
    "\n",
    "```bash\n",
    "opik healthcheck\n",
    "```\n"
   ]
  },
  {
   "cell_type": "markdown",
   "id": "340be444",
   "metadata": {},
   "source": [
    "## Adding Opik observability to your codebase\n",
    "\n",
    "### Logging LLM calls"
   ]
  },
  {
   "cell_type": "code",
   "execution_count": 1,
   "id": "a32d6dad",
   "metadata": {},
   "outputs": [],
   "source": [
    "from opik import track\n",
    "from opik.integrations.openai import track_openai\n",
    "from openai import OpenAI"
   ]
  },
  {
   "cell_type": "code",
   "execution_count": 2,
   "id": "ef51f5d3",
   "metadata": {},
   "outputs": [],
   "source": [
    "# Wrap your OpenAI client\n",
    "openai_client = OpenAI()\n",
    "openai_client = track_openai(openai_client)"
   ]
  },
  {
   "cell_type": "code",
   "execution_count": 3,
   "id": "63a1d3fd",
   "metadata": {},
   "outputs": [],
   "source": [
    "@track\n",
    "def retrieve_context(input_text):\n",
    "    # For the purpose of this example, we are just returning a hardcoded list of strings\n",
    "    context =[\n",
    "        \"What specific information are you looking for?\",\n",
    "        \"How can I assist you with your interests today?\",\n",
    "        \"Are there any topics you'd like to explore or learn more about?\",\n",
    "    ]\n",
    "    return context\n",
    "\n",
    "@track\n",
    "def generate_response(input_text, context):\n",
    "    full_prompt = (\n",
    "        f\" If the user asks a question that is not specific, use the context to provide a relevant response.\\n\"\n",
    "        f\"Context: {', '.join(context)}\\n\"\n",
    "        f\"User: {input_text}\\n\"\n",
    "        f\"AI:\"\n",
    "    )\n",
    "    response = openai_client.chat.completions.create(\n",
    "        model=\"gpt-3.5-turbo\",\n",
    "        messages=[{\"role\": \"user\", \"content\": full_prompt}]\n",
    "    )\n",
    "    return response.choices[0].message.content\n",
    "\n",
    "@track\n",
    "def llm_chain(input_text):\n",
    "    context = retrieve_context(input_text)\n",
    "    response = generate_response(input_text, context)\n",
    "    return response\n"
   ]
  },
  {
   "cell_type": "code",
   "execution_count": 4,
   "id": "819ba19a",
   "metadata": {},
   "outputs": [
    {
     "name": "stderr",
     "output_type": "stream",
     "text": [
      "OPIK: Started logging traces to the \"Default Project\" project at https://www.comet.com/opik/api/v1/session/redirect/projects/?trace_id=01983a7b-f717-7eef-ad24-d3d4a2894412&path=aHR0cHM6Ly93d3cuY29tZXQuY29tL29waWsvYXBpLw==.\n"
     ]
    },
    {
     "data": {
      "text/plain": [
       "\"Hello! I'm here to help you with any specific questions or information you may be looking for. How can I assist you today?\""
      ]
     },
     "execution_count": 4,
     "metadata": {},
     "output_type": "execute_result"
    }
   ],
   "source": [
    "llm_chain(\"Hello, how are you?\")"
   ]
  },
  {
   "cell_type": "code",
   "execution_count": null,
   "id": "bfa70aed",
   "metadata": {},
   "outputs": [],
   "source": []
  }
 ],
 "metadata": {
  "kernelspec": {
   "display_name": "learn-llm",
   "language": "python",
   "name": "python3"
  },
  "language_info": {
   "codemirror_mode": {
    "name": "ipython",
    "version": 3
   },
   "file_extension": ".py",
   "mimetype": "text/x-python",
   "name": "python",
   "nbconvert_exporter": "python",
   "pygments_lexer": "ipython3",
   "version": "3.11.13"
  }
 },
 "nbformat": 4,
 "nbformat_minor": 5
}
