{
 "cells": [
  {
   "cell_type": "markdown",
   "id": "2177b38c",
   "metadata": {},
   "source": [
    "# Log traces\n"
   ]
  },
  {
   "cell_type": "code",
   "execution_count": 1,
   "id": "5323baf1",
   "metadata": {},
   "outputs": [],
   "source": [
    "from opik.integrations.openai import track_openai\n",
    "from openai import OpenAI\n",
    "\n",
    "client = OpenAI()\n",
    "client = track_openai(client)"
   ]
  },
  {
   "cell_type": "markdown",
   "id": "df04974a",
   "metadata": {},
   "source": [
    "### Using an integration"
   ]
  },
  {
   "cell_type": "code",
   "execution_count": 2,
   "id": "453f4a34",
   "metadata": {},
   "outputs": [
    {
     "name": "stderr",
     "output_type": "stream",
     "text": [
      "OPIK: Started logging traces to the \"Default Project\" project at https://www.comet.com/opik/api/v1/session/redirect/projects/?trace_id=01983a90-acbb-7a11-9a6f-fe39ea3e2495&path=aHR0cHM6Ly93d3cuY29tZXQuY29tL29waWsvYXBpLw==.\n"
     ]
    }
   ],
   "source": [
    "response = client.chat.completions.create(\n",
    "    model=\"gpt-3.5-turbo\",\n",
    "    messages=[\n",
    "      {\"role\":\"user\", \"content\": \"Hello, world!\"}\n",
    "    ]\n",
    ")"
   ]
  },
  {
   "cell_type": "markdown",
   "id": "d3414a62",
   "metadata": {},
   "source": [
    "### Using function decorators"
   ]
  },
  {
   "cell_type": "code",
   "execution_count": 4,
   "id": "a3ed8d18",
   "metadata": {},
   "outputs": [
    {
     "name": "stdout",
     "output_type": "stream",
     "text": [
      "Hello! I'm here to assist you with any specific information or topics you'd like to explore. How can I help you today?\n"
     ]
    }
   ],
   "source": [
    "import opik\n",
    "import openai\n",
    "\n",
    "@opik.track\n",
    "def retrieve_context(input_text):\n",
    "    # Your retrieval logic here, here we are just returning a hardcoded list of strings\n",
    "    context =[\n",
    "        \"What specific information are you looking for?\",\n",
    "        \"How can I assist you with your interests today?\",\n",
    "        \"Are there any topics you'd like to explore or learn more about?\",\n",
    "    ]\n",
    "    return context\n",
    "@opik.track\n",
    "def generate_response(input_text, context):\n",
    "    full_prompt = (\n",
    "        f\" If the user asks a question that is not specific, use the context to provide a relevant response.\\n\"\n",
    "        f\"Context: {', '.join(context)}\\n\"\n",
    "        f\"User: {input_text}\\n\"\n",
    "        f\"AI:\"\n",
    "    )\n",
    "    response = client.chat.completions.create(\n",
    "        model=\"gpt-3.5-turbo\",\n",
    "        messages=[{\"role\": \"user\", \"content\": full_prompt}]\n",
    "    )\n",
    "    return response.choices[0].message.content\n",
    "\n",
    "@opik.track(name=\"my_llm_application\")\n",
    "def llm_chain(input_text):\n",
    "    context = retrieve_context(input_text)\n",
    "    response = generate_response(input_text, context)\n",
    "    return response\n",
    "# Use the LLM chain\n",
    "result = llm_chain(\"Hello, how are you?\")\n",
    "print(result)"
   ]
  },
  {
   "cell_type": "markdown",
   "id": "8ce43a51",
   "metadata": {},
   "source": [
    "The `@track` decorator will only track the input and output of the decorated function. If you are using OpenAI, we recommend you also use the `track_openai` function to track the LLM call as well as token usage:\n",
    "\n",
    "```python\n",
    "from opik.integrations.openai import track_openai\n",
    "from openai import OpenAI\n",
    "\n",
    "client = OpenAI()\n",
    "client = track_openai(client)\n",
    "\n",
    "```"
   ]
  },
  {
   "cell_type": "markdown",
   "id": "278445eb",
   "metadata": {},
   "source": [
    "### Scoring traces\n",
    "\n",
    "Bạn có thể log (ghi lại) các điểm phản hồi cho các **trace** bằng cách sử dụng hàm `opik_context.update_current_trace`. Điều này có thể hữu ích nếu có một số **metrics** (chỉ số) đã được báo cáo như một phần của `chain` hoặc `agent` của bạn\n",
    "\n",
    "Để dễ hiểu, hãy coi mỗi yêu cầu bạn gửi đến ứng dụng LLM của mình là một \"nhiệm vụ\". **`Trace`** chính là **toàn bộ hành trình xử lý** nhiệm vụ đó, từ đầu đến cuối.\n",
    "\n",
    "-----\n",
    "\n",
    "### 1\\. \"Trace\" là gì trong ngữ cảnh LLM?\n",
    "\n",
    "Một `trace` ghi lại tất cả các bước mà ứng dụng của bạn đã thực hiện để tạo ra một câu trả lời cuối cùng. Trong một ứng dụng LLM phức tạp, một `trace` không chỉ là một lần gọi API duy nhất. Nó có thể bao gồm nhiều bước, ví dụ:\n",
    "\n",
    "  * **Đầu vào của người dùng:** \"Tóm tắt bài báo này cho tôi.\"\n",
    "  * **Bước 1: Gọi Tool/API:** Hệ thống gọi một công cụ để lấy nội dung từ URL của bài báo.\n",
    "  * **Bước 2: Xử lý dữ liệu:** Trích xuất văn bản chính từ trang web.\n",
    "  * **Bước 3: Gọi LLM:** Gửi văn bản đã trích xuất đến một LLM (ví dụ: GPT-4, Gemini) với `prompt` \"Hãy tóm tắt văn bản sau: ...\".\n",
    "  * **Bước 4: Phân tích kết quả (tùy chọn):** Hệ thống có thể chạy một phân tích cảm xúc (sentiment analysis) trên bản tóm tắt.\n",
    "  * **Đầu ra cuối cùng:** Trả về bản tóm tắt cho người dùng.\n",
    "\n",
    "Toàn bộ chuỗi sự kiện này được gói gọn trong một **`trace`**. Việc theo dõi (tracking) các `trace` giúp bạn có một cái nhìn chi tiết và minh bạch về cách ứng dụng của mình hoạt động \"dưới mui xe\".\n",
    "\n",
    "-----\n",
    "\n",
    "### 2\\. \"Scoring\" (Chấm điểm) một Trace nghĩa là gì?\n",
    "\n",
    "**Scoring** là quá trình bạn **gán một hoặc nhiều điểm số (score) hoặc nhãn (label) cho một `trace`** để đánh giá chất lượng hoặc hiệu suất của nó. Đây không phải là điểm số do LLM tự động tạo ra, mà là các **`metrics` (chỉ số)** mà *bạn* định nghĩa và ghi lại.\n",
    "\n",
    "Các loại điểm số bạn có thể `log` (ghi lại) bao gồm:\n",
    "\n",
    "  * **Điểm phản hồi của người dùng:** Người dùng có bấm nút \"thích\" 👍 hoặc \"không thích\" 👎 không?\n",
    "  * **Độ chính xác (Accuracy):** Câu trả lời có đúng sự thật không? (Ví dụ: bạn có thể chấm điểm 1 nếu đúng, 0 nếu sai).\n",
    "  * **Mức độ liên quan (Relevance):** Kết quả tìm kiếm hoặc câu trả lời có liên quan đến câu hỏi không?\n",
    "  * **Độc hại (Toxicity):** Câu trả lời có chứa nội dung không phù hợp không?\n",
    "  * **Chỉ số nghiệp vụ (Business Metrics):** Kết quả có giúp người dùng hoàn thành một tác vụ cụ thể không (ví dụ: đặt hàng thành công)?\n",
    "\n",
    "-----\n",
    "\n",
    "### 3\\. Vai trò của `opik_context.update_current_trace`\n",
    "\n",
    "Đây chính là công cụ kỹ thuật để bạn thực hiện việc \"scoring\".\n",
    "\n",
    "Khi một `chain` hoặc `agent` của bạn đang chạy, nó đang ở trong một `trace` đang hoạt động. Hàm `opik_context.update_current_trace` cho phép bạn **thêm thông tin vào `trace` đó ngay tại thời điểm nó đang chạy**.\n",
    "\n",
    "Cụ thể, bạn có thể thêm các `score` mà bạn đã tính toán được. Ví dụ, sau khi LLM trả về kết quả, bạn có thể chạy một hàm riêng để kiểm tra xem câu trả lời có chứa thông tin trích dẫn nguồn hay không, và sau đó gọi `update_current_trace` để ghi lại điểm \"có trích dẫn\" = 1 hoặc 0.\n",
    "\n",
    "-----\n",
    "\n",
    "### 4\\. Ví dụ thực tế trong một `chain`\n",
    "\n",
    "Hãy tưởng tượng bạn có một `chain` dịch thuật và đánh giá cảm xúc:\n",
    "\n",
    "1.  **Input:** \"I love this new product, it's amazing\\!\"\n",
    "2.  **Chain Step 1 (Dịch thuật):** Dịch sang tiếng Việt -\\> \"Tôi yêu sản phẩm mới này, nó thật tuyệt vời\\!\"\n",
    "3.  **Chain Step 2 (Đánh giá cảm xúc):** Phân tích câu tiếng Việt và cho ra kết quả `sentiment: \"Tích cực\"`.\n",
    "4.  **Chain Step 3 (Tự đánh giá):** Bạn có một hàm nội bộ để kiểm tra xem kết quả dịch có giữ nguyên ý nghĩa không. Hàm này trả về `{ \"translation_quality\": 0.95 }`.\n",
    "\n",
    "Lúc này, bạn có thể dùng `opik_context.update_current_trace` để ghi lại điểm số này:\n",
    "\n",
    "```python\n",
    "# Giả sử đây là đoạn code trong chain của bạn\n",
    "from opik import opik_context\n",
    "\n",
    "# ... code dịch thuật và đánh giá cảm xúc ...\n",
    "\n",
    "# Tự tính toán một metric\n",
    "translation_score = calculate_translation_quality(original_text, translated_text) # Giả sử trả về 0.95\n",
    "\n",
    "# Ghi lại điểm số này vào trace hiện tại\n",
    "opik_context.update_current_trace({\n",
    "    \"scores\": {\n",
    "        \"translation_quality\": translation_score,\n",
    "        \"sentiment_score\": 1 # 1 cho Tích cực, -1 cho Tiêu cực\n",
    "    }\n",
    "})\n",
    "\n",
    "```\n",
    "\n",
    "Khi bạn xem lại `trace` này trên giao diện của `opik`, bạn sẽ thấy không chỉ các bước thực thi mà còn cả các điểm số `translation_quality` và `sentiment_score` mà bạn đã ghi lại.\n",
    "\n",
    "### Lợi ích chính\n",
    "\n",
    "  * **Gỡ lỗi (Debugging):** Dễ dàng xác định bước nào trong `chain` hoặc `agent` đang hoạt động kém hiệu quả.\n",
    "  * **Đánh giá chất lượng:** Thu thập dữ liệu có cấu trúc về hiệu suất của mô hình theo các tiêu chí quan trọng đối với bạn.\n",
    "  * **Cải tiến liên tục:** Dựa vào các `score` đã thu thập, bạn có thể tinh chỉnh `prompt`, thay đổi mô hình, hoặc điều chỉnh logic của `agent` để cải thiện chất lượng đầu ra theo thời gian."
   ]
  },
  {
   "cell_type": "markdown",
   "id": "c012a9de",
   "metadata": {},
   "source": [
    "### Logging additional data\n",
    "\n",
    "\n",
    "Như đã đề cập ở trên, `decorator` **`@track`** chỉ ghi nhật ký **đầu vào (`input`)** và **đầu ra (`output`)** của hàm được trang trí. Nếu bạn muốn ghi nhật ký dữ liệu bổ sung, bạn có thể sử dụng hàm **`update_current_span`** và hàm **`update_current_trace`** để cập nhật thủ công `span` và `trace`:\n",
    "\n",
    "```python\n",
    "from opik import track, opik_context\n",
    "\n",
    "@track\n",
    "def llm_chain(input_text):\n",
    "    # LLM chain code\n",
    "    # ...\n",
    "\n",
    "    # Update the trace\n",
    "    opik_context.update_current_trace(\n",
    "        tags=[\"llm_chatbot\"],\n",
    "    )\n",
    "\n",
    "    # Update the span\n",
    "    opik_context.update_current_span(\n",
    "        name=\"llm_chain\"\n",
    "    )\n",
    "\n",
    "```"
   ]
  },
  {
   "cell_type": "markdown",
   "id": "867126e8",
   "metadata": {},
   "source": [
    "### Configuring the project name\n",
    "\n",
    "```python\n",
    "import opik\n",
    "\n",
    "@opik.track(project_name=\"my_project\")\n",
    "def my_function(input):\n",
    "    # Function code\n",
    "    return input\n",
    "\n",
    "```\n",
    "\n",
    "or \n",
    "\n",
    "```python\n",
    "import os\n",
    "\n",
    "os.environ[\"OPIK_PROJECT_NAME\"] = \"my_project\"\n",
    "\n",
    "```"
   ]
  },
  {
   "cell_type": "markdown",
   "id": "f7ebfd5b",
   "metadata": {},
   "source": [
    "### Flushing the trace\n",
    "\n",
    "\"Flushing the trace\" (Xả trace) có nghĩa là **buộc tất cả dữ liệu theo dõi (trace data) đã được thu thập phải được gửi đi ngay lập tức** thay vì chờ đợi để gửi theo từng đợt.\n",
    "\n",
    "Thông thường, để tối ưu hiệu suất, các hệ thống giám sát sẽ thu thập dữ liệu vào một bộ đệm (buffer) và gửi chúng đi một cách bất đồng bộ trong nền. Tuy nhiên, việc \"xả trace\" sẽ đảm bảo dữ liệu của bạn không bị mất, đặc biệt là trong các ứng dụng chạy nhanh và kết thúc đột ngột.\n",
    "\n",
    "-----\n",
    "\n",
    "### \\#\\# Hoạt động Mặc định (`flush=False`) ⚙️\n",
    "\n",
    "Để không làm chậm ứng dụng chính của bạn, các công cụ theo dõi như `opik` thường hoạt động theo cơ chế bất đồng bộ:\n",
    "\n",
    "1.  **Thu thập dữ liệu:** Khi `chain` hoặc `agent` của bạn chạy, dữ liệu về các bước thực thi, thời gian, và metadata được ghi vào một bộ đệm tạm thời trong bộ nhớ.\n",
    "2.  **Gửi theo lô (Batching):** Một tiến trình chạy nền (background process) sẽ định kỳ gom dữ liệu từ bộ đệm và gửi chúng thành từng lô đến máy chủ giám sát.\n",
    "\n",
    "Cách này rất hiệu quả vì nó giảm thiểu số lượng yêu cầu mạng và không bắt ứng dụng của bạn phải chờ đợi.\n",
    "\n",
    "-----\n",
    "\n",
    "### \\#\\# Khi nào cần \"Xả Trace\" (`flush=True`) ⚡\n",
    "\n",
    "Vấn đề với cơ chế mặc định là nếu ứng dụng của bạn kết thúc quá nhanh (ví dụ: một kịch bản dòng lệnh, một hàm serverless), chương trình chính có thể thoát **trước khi** tiến trình nền kịp gửi dữ liệu đi. Kết quả là bạn sẽ bị mất `trace` đó.\n",
    "\n",
    "Việc thiết lập **`flush=True`** trong decorator `@track` giải quyết vấn đề này.\n",
    "\n",
    "```python\n",
    "from opik import track\n",
    "\n",
    "@track(flush=True)\n",
    "def my_short_running_task():\n",
    "    # ... các bước xử lý nhanh ...\n",
    "    return \"Done\"\n",
    "\n",
    "# Khi hàm này chạy xong, chương trình sẽ đợi cho đến khi \n",
    "# toàn bộ dữ liệu của trace này được gửi đi thành công.\n",
    "my_short_running_task()\n",
    "```\n",
    "\n",
    "Khi `flush=True`, sau khi hàm được `decorate` thực thi xong, chương trình sẽ **dừng lại và chờ** cho đến khi tất cả dữ liệu của `trace` đó được gửi đi và nhận được xác nhận từ máy chủ.\n",
    "\n",
    "**Các trường hợp sử dụng chính:**\n",
    "\n",
    "  * **Hàm Serverless:** Như AWS Lambda hay Google Cloud Functions, vì môi trường thực thi có thể bị đóng băng hoặc tắt ngay sau khi hàm hoàn thành.\n",
    "  * **Kịch bản ngắn (Scripts):** Các file Python chạy một lần để xử lý dữ liệu rồi thoát.\n",
    "  * **Gỡ lỗi (Debugging):** Khi bạn muốn thấy `trace` xuất hiện trên dashboard ngay lập tức để kiểm tra.\n",
    "\n",
    "-----\n",
    "\n",
    "### \\#\\# Đánh đổi cần cân nhắc\n",
    "\n",
    "  * **`flush=False` (Mặc định):**\n",
    "\n",
    "      * ✅ **Ưu điểm:** Hiệu suất cao, độ trễ (latency) của ứng dụng thấp.\n",
    "      * ⚠️ **Nhược điểm:** Có nguy cơ mất dữ liệu nếu ứng dụng kết thúc đột ngột.\n",
    "\n",
    "  * **`flush=True`:**\n",
    "\n",
    "      * ✅ **Ưu điểm:** Đảm bảo 100% dữ liệu được ghi lại.\n",
    "      * ⚠️ **Nhược điểm:** Tăng nhẹ độ trễ cho tác vụ vì phải chờ mạng, có thể ảnh hưởng đến các ứng dụng đòi hỏi phản hồi tức thì."
   ]
  },
  {
   "cell_type": "markdown",
   "id": "c93df7a7",
   "metadata": {},
   "source": [
    "### Disabling automatic logging of function input and output\n",
    "\n",
    "```python\n",
    "import opik\n",
    "\n",
    "@opik.track(capture_input=False, capture_output=False)\n",
    "def llm_chain(input_text):\n",
    "    # LLM chain code\n",
    "    return input_text\n",
    "\n",
    "```"
   ]
  },
  {
   "cell_type": "markdown",
   "id": "bcdbd929",
   "metadata": {},
   "source": [
    "### Disable all tracing\n",
    "\n",
    "```python\n",
    "import os\n",
    "\n",
    "os.environ[\"OPIK_TRACK_DISABLE\"] = \"true\"\n",
    "\n",
    "```"
   ]
  },
  {
   "cell_type": "markdown",
   "id": "f8467fd1",
   "metadata": {},
   "source": [
    "## Using the low-level Opik client\n"
   ]
  },
  {
   "cell_type": "code",
   "execution_count": 6,
   "id": "800d26a4",
   "metadata": {},
   "outputs": [],
   "source": [
    "from opik import Opik\n",
    "client = Opik(project_name=\"Opik client demo\")"
   ]
  },
  {
   "cell_type": "code",
   "execution_count": 7,
   "id": "3fafa0aa",
   "metadata": {},
   "outputs": [
    {
     "name": "stderr",
     "output_type": "stream",
     "text": [
      "OPIK: Started logging traces to the \"Opik client demo\" project at https://www.comet.com/opik/api/v1/session/redirect/projects/?trace_id=01983ab0-44e0-7852-adae-5805500e69ed&path=aHR0cHM6Ly93d3cuY29tZXQuY29tL29waWsvYXBpLw==.\n"
     ]
    }
   ],
   "source": [
    "# Create a trace\n",
    "trace = client.trace(\n",
    "    name=\"my_trace\",\n",
    "    input={\"user_question\": \"Hello, how are you?\"},\n",
    "    output={\"response\": \"Comment ça va?\"}\n",
    ")\n",
    "# Add a span\n",
    "trace.span(\n",
    "    name=\"Add prompt template\",\n",
    "    input={\"text\": \"Hello, how are you?\", \"prompt_template\": \"Translate the following text to French: {text}\"},\n",
    "    output={\"text\": \"Translate the following text to French: hello, how are you?\"}\n",
    ")\n",
    "# Add an LLM call\n",
    "trace.span(\n",
    "    name=\"llm_call\",\n",
    "    type=\"llm\",\n",
    "    input={\"prompt\": \"Translate the following text to French: hello, how are you?\"},\n",
    "    output={\"response\": \"Comment ça va?\"}\n",
    ")\n",
    "# End the trace\n",
    "trace.end()"
   ]
  },
  {
   "cell_type": "code",
   "execution_count": null,
   "id": "797b5df6",
   "metadata": {},
   "outputs": [],
   "source": []
  }
 ],
 "metadata": {
  "kernelspec": {
   "display_name": "learn-llm",
   "language": "python",
   "name": "python3"
  },
  "language_info": {
   "codemirror_mode": {
    "name": "ipython",
    "version": 3
   },
   "file_extension": ".py",
   "mimetype": "text/x-python",
   "name": "python",
   "nbconvert_exporter": "python",
   "pygments_lexer": "ipython3",
   "version": "3.11.13"
  }
 },
 "nbformat": 4,
 "nbformat_minor": 5
}
