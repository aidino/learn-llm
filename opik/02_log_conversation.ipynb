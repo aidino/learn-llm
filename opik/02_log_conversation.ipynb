{
 "cells": [
  {
   "cell_type": "markdown",
   "id": "26f1da36",
   "metadata": {},
   "source": [
    "# Log conversations\n",
    "\n",
    "You can log chat conversations to the Opik platform and track the full conversations your users are having with your chatbot."
   ]
  },
  {
   "cell_type": "code",
   "execution_count": 1,
   "id": "dd437ca2",
   "metadata": {},
   "outputs": [
    {
     "name": "stderr",
     "output_type": "stream",
     "text": [
      "OPIK: Started logging traces to the \"Default Project\" project at https://www.comet.com/opik/api/v1/session/redirect/projects/?trace_id=01983abd-3d2f-7c02-9ccf-b739ae8865ed&path=aHR0cHM6Ly93d3cuY29tZXQuY29tL29waWsvYXBpLw==.\n"
     ]
    },
    {
     "data": {
      "text/plain": [
       "'Opik is an Open Source GenAI platform'"
      ]
     },
     "execution_count": 1,
     "metadata": {},
     "output_type": "execute_result"
    }
   ],
   "source": [
    "import opik\n",
    "from opik import opik_context\n",
    "@opik.track\n",
    "def chat_message(input, thread_id):\n",
    "    opik_context.update_current_trace(\n",
    "        thread_id=thread_id\n",
    "    )\n",
    "    return \"Opik is an Open Source GenAI platform\"\n",
    "\n",
    "thread_id = \"f174a\"\n",
    "chat_message(\"What is Opik ?\", thread_id)\n",
    "chat_message(\"Repeat the previous message\", thread_id)"
   ]
  },
  {
   "cell_type": "code",
   "execution_count": null,
   "id": "1bccd379",
   "metadata": {},
   "outputs": [],
   "source": []
  }
 ],
 "metadata": {
  "kernelspec": {
   "display_name": "learn-llm",
   "language": "python",
   "name": "python3"
  },
  "language_info": {
   "codemirror_mode": {
    "name": "ipython",
    "version": 3
   },
   "file_extension": ".py",
   "mimetype": "text/x-python",
   "name": "python",
   "nbconvert_exporter": "python",
   "pygments_lexer": "ipython3",
   "version": "3.11.13"
  }
 },
 "nbformat": 4,
 "nbformat_minor": 5
}
