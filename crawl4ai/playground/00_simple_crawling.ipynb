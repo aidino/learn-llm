{
 "cells": [
  {
   "cell_type": "markdown",
   "id": "01962601",
   "metadata": {},
   "source": [
    "# Simple Crawling"
   ]
  },
  {
   "cell_type": "code",
   "execution_count": null,
   "id": "1cb6654b",
   "metadata": {},
   "outputs": [],
   "source": [
    "from crawl4ai import AsyncWebCrawler, CrawlerRunConfig, BrowserConfig\n",
    "from IPython.display import Markdown, display, HTML\n",
    "import pprint\n",
    "\n",
    "def printmd(content):\n",
    "    display(Markdown(content))\n",
    "    \n",
    "def printhtml(content):\n",
    "    display(HTML(content))\n",
    "    \n",
    "def pretty_print(content):\n",
    "    pprint.pp(content)\n",
    "    \n",
    "sample_url=\"https://loigiaihay.com/de-thi-vao-lop-6-mon-toan-truong-cau-giay-nam-2023-a142098.html\"\n"
   ]
  },
  {
   "cell_type": "markdown",
   "id": "d2448b31",
   "metadata": {},
   "source": [
    "## Basic Usage"
   ]
  },
  {
   "cell_type": "code",
   "execution_count": 4,
   "id": "64e916f8",
   "metadata": {},
   "outputs": [
    {
     "data": {
      "text/html": [
       "<pre style=\"white-space:pre;overflow-x:auto;line-height:normal;font-family:Menlo,'DejaVu Sans Mono',consolas,'Courier New',monospace\"><span style=\"color: #008080; text-decoration-color: #008080; font-weight: bold\">[</span><span style=\"color: #008080; text-decoration-color: #008080\">INIT</span><span style=\"color: #008080; text-decoration-color: #008080; font-weight: bold\">]</span><span style=\"color: #008080; text-decoration-color: #008080\">.... → Crawl4AI </span><span style=\"color: #008080; text-decoration-color: #008080; font-weight: bold\">0.6</span><span style=\"color: #008080; text-decoration-color: #008080\">.</span><span style=\"color: #008080; text-decoration-color: #008080; font-weight: bold\">3</span><span style=\"color: #008080; text-decoration-color: #008080\"> </span>\n",
       "</pre>\n"
      ],
      "text/plain": [
       "\u001b[1;36m[\u001b[0m\u001b[36mINIT\u001b[0m\u001b[1;36m]\u001b[0m\u001b[36m...\u001b[0m\u001b[36m. → Crawl4AI \u001b[0m\u001b[1;36m0.6\u001b[0m\u001b[36m.\u001b[0m\u001b[1;36m3\u001b[0m\u001b[36m \u001b[0m\n"
      ]
     },
     "metadata": {},
     "output_type": "display_data"
    },
    {
     "data": {
      "text/html": [
       "<pre style=\"white-space:pre;overflow-x:auto;line-height:normal;font-family:Menlo,'DejaVu Sans Mono',consolas,'Courier New',monospace\"><span style=\"color: #008000; text-decoration-color: #008000; font-weight: bold\">[</span><span style=\"color: #008000; text-decoration-color: #008000\">FETCH</span><span style=\"color: #008000; text-decoration-color: #008000; font-weight: bold\">]</span><span style=\"color: #008000; text-decoration-color: #008000\">... ↓ </span><span style=\"color: #008000; text-decoration-color: #008000; text-decoration: underline\">https://loigiaihay.com/de-thi-vao-lop-6-mon-toan-truong-cau-giay-nam-2023-a142098.html</span><span style=\"color: #008000; text-decoration-color: #008000\">               |</span>\n",
       "<span style=\"color: #008000; text-decoration-color: #008000\">✓ | ⏱: </span><span style=\"color: #008000; text-decoration-color: #008000; font-weight: bold\">2.</span><span style=\"color: #008000; text-decoration-color: #008000\">10s </span>\n",
       "</pre>\n"
      ],
      "text/plain": [
       "\u001b[1;32m[\u001b[0m\u001b[32mFETCH\u001b[0m\u001b[1;32m]\u001b[0m\u001b[32m...\u001b[0m\u001b[32m ↓ \u001b[0m\u001b[4;32mhttps://loigiaihay.com/de-thi-vao-lop-6-mon-toan-truong-cau-giay-nam-2023-a142098.html\u001b[0m\u001b[32m               |\u001b[0m\n",
       "\u001b[32m✓\u001b[0m\u001b[32m | ⏱: \u001b[0m\u001b[1;32m2.\u001b[0m\u001b[32m10s \u001b[0m\n"
      ]
     },
     "metadata": {},
     "output_type": "display_data"
    },
    {
     "data": {
      "text/html": [
       "<pre style=\"white-space:pre;overflow-x:auto;line-height:normal;font-family:Menlo,'DejaVu Sans Mono',consolas,'Courier New',monospace\"><span style=\"color: #008000; text-decoration-color: #008000; font-weight: bold\">[</span><span style=\"color: #008000; text-decoration-color: #008000\">SCRAPE</span><span style=\"color: #008000; text-decoration-color: #008000; font-weight: bold\">]</span><span style=\"color: #008000; text-decoration-color: #008000\">.. ◆ </span><span style=\"color: #008000; text-decoration-color: #008000; text-decoration: underline\">https://loigiaihay.com/de-thi-vao-lop-6-mon-toan-truong-cau-giay-nam-2023-a142098.html</span><span style=\"color: #008000; text-decoration-color: #008000\">               |</span>\n",
       "<span style=\"color: #008000; text-decoration-color: #008000\">✓ | ⏱: </span><span style=\"color: #008000; text-decoration-color: #008000; font-weight: bold\">0.</span><span style=\"color: #008000; text-decoration-color: #008000\">38s </span>\n",
       "</pre>\n"
      ],
      "text/plain": [
       "\u001b[1;32m[\u001b[0m\u001b[32mSCRAPE\u001b[0m\u001b[1;32m]\u001b[0m\u001b[32m.. ◆ \u001b[0m\u001b[4;32mhttps://loigiaihay.com/de-thi-vao-lop-6-mon-toan-truong-cau-giay-nam-2023-a142098.html\u001b[0m\u001b[32m               |\u001b[0m\n",
       "\u001b[32m✓\u001b[0m\u001b[32m | ⏱: \u001b[0m\u001b[1;32m0.\u001b[0m\u001b[32m38s \u001b[0m\n"
      ]
     },
     "metadata": {},
     "output_type": "display_data"
    },
    {
     "data": {
      "text/html": [
       "<pre style=\"white-space:pre;overflow-x:auto;line-height:normal;font-family:Menlo,'DejaVu Sans Mono',consolas,'Courier New',monospace\"><span style=\"color: #008000; text-decoration-color: #008000; font-weight: bold\">[</span><span style=\"color: #008000; text-decoration-color: #008000\">COMPLETE</span><span style=\"color: #008000; text-decoration-color: #008000; font-weight: bold\">]</span><span style=\"color: #008000; text-decoration-color: #008000\"> ● </span><span style=\"color: #008000; text-decoration-color: #008000; text-decoration: underline\">https://loigiaihay.com/de-thi-vao-lop-6-mon-toan-truong-cau-giay-nam-2023-a142098.html</span><span style=\"color: #008000; text-decoration-color: #008000\">               |</span>\n",
       "<span style=\"color: #008000; text-decoration-color: #008000\">✓ | ⏱: </span><span style=\"color: #008000; text-decoration-color: #008000; font-weight: bold\">2.</span><span style=\"color: #008000; text-decoration-color: #008000\">49s </span>\n",
       "</pre>\n"
      ],
      "text/plain": [
       "\u001b[1;32m[\u001b[0m\u001b[32mCOMPLETE\u001b[0m\u001b[1;32m]\u001b[0m\u001b[32m ● \u001b[0m\u001b[4;32mhttps://loigiaihay.com/de-thi-vao-lop-6-mon-toan-truong-cau-giay-nam-2023-a142098.html\u001b[0m\u001b[32m               |\u001b[0m\n",
       "\u001b[32m✓\u001b[0m\u001b[32m | ⏱: \u001b[0m\u001b[1;32m2.\u001b[0m\u001b[32m49s \u001b[0m\n"
      ]
     },
     "metadata": {},
     "output_type": "display_data"
    }
   ],
   "source": [
    "browser_config = BrowserConfig()\n",
    "run_config = CrawlerRunConfig()\n",
    "\n",
    "async with AsyncWebCrawler(config=browser_config) as crawler:\n",
    "    result = await crawler.arun(\n",
    "        url=sample_url,\n",
    "        config=run_config\n",
    "    )\n"
   ]
  },
  {
   "cell_type": "code",
   "execution_count": 5,
   "id": "b1557df8",
   "metadata": {},
   "outputs": [
    {
     "data": {
      "text/markdown": [
       "[ ![](https://loigiaihay.com/themes/style/images/logolgh.png) ](https://loigiaihay.com/ \"loigiaihay.com\")\n",
       "  * [Lớp 12](https://loigiaihay.com/lop-12.html)\n",
       "    * ![](https://loigiaihay.com/themes/style/images/i-van.png) Ngữ văn 12\n",
       "      * [Soạn văn - Kết nối tri thức](https://loigiaihay.com/soan-van-12-ket-noi-tri-thuc-c1737.html \"Soạn văn - Kết nối tri thức\")\n",
       "      * [Soạn văn - Cánh diều](https://loigiaihay.com/soan-van-12-canh-dieu-c1738.html \"Soạn văn - Cánh diều\")\n",
       "      * [Soạn văn - Chân trời sáng tạo](https://loigiaihay.com/soan-van-12-chan-troi-sang-tao-c1739.html \"Soạn văn - Chân trời sáng tạo\")\n",
       "      * [Tác giả tác phẩm](https://loigiaihay.com/tac-gia-tac-pham-lop-12-c1851.html \"Tác giả tác phẩm\")\n",
       "      * [Tóm tắt, bố cục Văn - Kết nối tri thức](https://loigiaihay.com/tom-tat-bo-cuc-van-12-ket-noi-tri-thuc-c1848.html \"Tóm tắt, bố cục Văn - Kết nối tri thức\")\n",
       "      * [Tóm tắt, bố cục Văn - Cánh diều](https://loigiaihay.com/tom-tat-bo-cuc-van-12-canh-dieu-c1849.html \"Tóm tắt, bố"
      ],
      "text/plain": [
       "<IPython.core.display.Markdown object>"
      ]
     },
     "metadata": {},
     "output_type": "display_data"
    }
   ],
   "source": [
    "printmd(result.markdown[:1000])"
   ]
  },
  {
   "cell_type": "code",
   "execution_count": 6,
   "id": "c8520b98",
   "metadata": {},
   "outputs": [
    {
     "name": "stdout",
     "output_type": "stream",
     "text": [
      "('<!DOCTYPE html><html lang=\"vi\"><head><meta http-equiv=\"origin-trial\" '\n",
      " 'content=\"A7vZI3v+Gz7JfuRolKNM4Aff6zaGuT7X0mf3wtoZTnKv6497cVMnhy03KDqX7kBz/q/iidW7srW31oQbBt4VhgoAAACUeyJvcmlnaW4iOiJodHRwczovL3d3dy5nb29nbGUuY29tOjQ0MyIsImZlYXR1cmUiOiJEaXNhYmxlVGhpcmRQYXJ0eVN0b3JhZ2VQYXJ0aXRpb25pbmczIiwiZXhwaXJ5IjoxNzU3OTgwODAwLCJpc1N1YmRvbWFpbiI6dHJ1ZSwiaXNUaGlyZFBhcnR5Ijp0cnVlfQ==\">\\n'\n",
      " '    <meta http-equiv=\"Content-Type\" content=\"text/html; charset=utf-8\">\\n'\n",
      " '<title>Đề thi vào lớp 6 môn Toán trường Cầu Giấy năm 2023 | Đề thi vào lớp 6 '\n",
      " 'môn Toán</title>\\n'\n",
      " '<meta name=\"description\" content=\"Tổng hợp đề thi vào lớp 6 môn Toán trường '\n",
      " 'Cầu Giấy các năm có đáp án và lời giải chi tiết giúp học sinh ôn thi lớp 5 '\n",
      " 'lên 6 hiệu quả \">\\n'\n",
      " '<meta name=\"keywords\" content=\",Đề thi vào lớp 6 môn Toán\">\\n'\n",
      " '<meta name=\"robots\" content=\"index,follow\"><meta property=\"og:site_name\" '\n",
      " 'content=\"Loigiaihay.com\">\\n'\n",
      " '<meta property=\"fb:app_id\" content=\"1188256281282988\">\\n'\n",
      " '<meta property=\"og:type\" content=\"article\">\\n'\n",
      " '<meta property=\"og:title\" content=')\n"
     ]
    }
   ],
   "source": [
    "pretty_print(result.html[:1000])"
   ]
  },
  {
   "cell_type": "code",
   "execution_count": 7,
   "id": "f24af320",
   "metadata": {},
   "outputs": [
    {
     "name": "stdout",
     "output_type": "stream",
     "text": [
      "('\\n'\n",
      " '\\n'\n",
      " '\\n'\n",
      " '<div>\\n'\n",
      " '<div>\\n'\n",
      " '<div>\\n'\n",
      " '<div>\\n'\n",
      " '<a href=\"/\" title=\"loigiaihay.com\">\\n'\n",
      " '<img class=\"header-logo__img\" height=\"58\" '\n",
      " 'src=\"/themes/style/images/logolgh.png\" width=\"360\"/>\\n'\n",
      " '</a>\\n'\n",
      " '</div>\\n'\n",
      " '<nav>\\n'\n",
      " '<ul>\\n'\n",
      " '<li>\\n'\n",
      " '<a href=\"/lop-12.html\">Lớp 12</a>\\n'\n",
      " '<ul>\\n'\n",
      " '<div>\\n'\n",
      " '<li>\\n'\n",
      " '<a title=\"Ngữ văn 12\"><img src=\"/themes/style/images/i-van.png\"/> <span>Ngữ '\n",
      " 'văn 12</span></a>\\n'\n",
      " '<ul>\\n'\n",
      " '<li><a href=\"/soan-van-12-ket-noi-tri-thuc-c1737.html\" title=\"Soạn văn - Kết '\n",
      " 'nối tri thức\">Soạn văn - Kết nối tri thức</a></li><li><a '\n",
      " 'href=\"/soan-van-12-canh-dieu-c1738.html\" title=\"Soạn văn - Cánh diều\">Soạn '\n",
      " 'văn - Cánh diều</a></li><li><a '\n",
      " 'href=\"/soan-van-12-chan-troi-sang-tao-c1739.html\" title=\"Soạn văn - Chân '\n",
      " 'trời sáng tạo\">Soạn văn - Chân trời sáng tạo</a></li><li><a '\n",
      " 'href=\"/tac-gia-tac-pham-lop-12-c1851.html\" title=\"Tác giả tác phẩm\">Tác giả '\n",
      " 'tác phẩm</a></li><li><a '\n",
      " 'href=\"/tom-tat-bo-cuc-van-12-ket-noi-tri-thuc-c1848.html\" title=\"Tóm tắt, bố '\n",
      " 'cục Văn - Kết nối tri thức\">Tóm tắt, bố cục Văn - Kết nối tri '\n",
      " 'thức</a></li><li><a href=\"/tom-tat-bo-cuc-van-12-canh')\n"
     ]
    }
   ],
   "source": [
    "pretty_print(result.cleaned_html[:1000])"
   ]
  },
  {
   "cell_type": "code",
   "execution_count": 8,
   "id": "d2d41573",
   "metadata": {},
   "outputs": [
    {
     "name": "stdout",
     "output_type": "stream",
     "text": [
      "''\n"
     ]
    }
   ],
   "source": [
    "pretty_print(result.markdown.fit_markdown)"
   ]
  },
  {
   "cell_type": "code",
   "execution_count": 9,
   "id": "c3def107",
   "metadata": {},
   "outputs": [
    {
     "name": "stdout",
     "output_type": "stream",
     "text": [
      "('[ ![](https://loigiaihay.com/themes/style/images/logolgh.png) '\n",
      " '](https://loigiaihay.com/ \"loigiaihay.')\n"
     ]
    }
   ],
   "source": [
    "pretty_print(result.markdown.raw_markdown[:100])"
   ]
  },
  {
   "cell_type": "code",
   "execution_count": 10,
   "id": "0b810244",
   "metadata": {},
   "outputs": [
    {
     "data": {
      "text/markdown": [
       "[ ![](https://loigiaihay.com/themes/style/images/logolgh.png) ](https://loigiaihay.com/ \"loigiaihay."
      ],
      "text/plain": [
       "<IPython.core.display.Markdown object>"
      ]
     },
     "metadata": {},
     "output_type": "display_data"
    }
   ],
   "source": [
    "printmd(result.markdown.raw_markdown[:100])"
   ]
  },
  {
   "cell_type": "code",
   "execution_count": 11,
   "id": "9604f934",
   "metadata": {},
   "outputs": [
    {
     "data": {
      "text/plain": [
       "181729"
      ]
     },
     "execution_count": 11,
     "metadata": {},
     "output_type": "execute_result"
    }
   ],
   "source": [
    "len(result.markdown.raw_markdown)"
   ]
  },
  {
   "cell_type": "markdown",
   "id": "9fecbe59",
   "metadata": {},
   "source": [
    "## Adding basic option"
   ]
  },
  {
   "cell_type": "code",
   "execution_count": 12,
   "id": "d8936390",
   "metadata": {},
   "outputs": [
    {
     "data": {
      "text/html": [
       "<pre style=\"white-space:pre;overflow-x:auto;line-height:normal;font-family:Menlo,'DejaVu Sans Mono',consolas,'Courier New',monospace\"><span style=\"color: #008080; text-decoration-color: #008080; font-weight: bold\">[</span><span style=\"color: #008080; text-decoration-color: #008080\">INIT</span><span style=\"color: #008080; text-decoration-color: #008080; font-weight: bold\">]</span><span style=\"color: #008080; text-decoration-color: #008080\">.... → Crawl4AI </span><span style=\"color: #008080; text-decoration-color: #008080; font-weight: bold\">0.6</span><span style=\"color: #008080; text-decoration-color: #008080\">.</span><span style=\"color: #008080; text-decoration-color: #008080; font-weight: bold\">3</span><span style=\"color: #008080; text-decoration-color: #008080\"> </span>\n",
       "</pre>\n"
      ],
      "text/plain": [
       "\u001b[1;36m[\u001b[0m\u001b[36mINIT\u001b[0m\u001b[1;36m]\u001b[0m\u001b[36m...\u001b[0m\u001b[36m. → Crawl4AI \u001b[0m\u001b[1;36m0.6\u001b[0m\u001b[36m.\u001b[0m\u001b[1;36m3\u001b[0m\u001b[36m \u001b[0m\n"
      ]
     },
     "metadata": {},
     "output_type": "display_data"
    },
    {
     "data": {
      "text/html": [
       "<pre style=\"white-space:pre;overflow-x:auto;line-height:normal;font-family:Menlo,'DejaVu Sans Mono',consolas,'Courier New',monospace\"><span style=\"color: #008000; text-decoration-color: #008000; font-weight: bold\">[</span><span style=\"color: #008000; text-decoration-color: #008000\">FETCH</span><span style=\"color: #008000; text-decoration-color: #008000; font-weight: bold\">]</span><span style=\"color: #008000; text-decoration-color: #008000\">... ↓ </span><span style=\"color: #008000; text-decoration-color: #008000; text-decoration: underline\">https://loigiaihay.com/de-thi-vao-lop-6-mon-toan-truong-cau-giay-nam-2023-a142098.html</span><span style=\"color: #008000; text-decoration-color: #008000\">               |</span>\n",
       "<span style=\"color: #008000; text-decoration-color: #008000\">✓ | ⏱: </span><span style=\"color: #008000; text-decoration-color: #008000; font-weight: bold\">4.</span><span style=\"color: #008000; text-decoration-color: #008000\">68s </span>\n",
       "</pre>\n"
      ],
      "text/plain": [
       "\u001b[1;32m[\u001b[0m\u001b[32mFETCH\u001b[0m\u001b[1;32m]\u001b[0m\u001b[32m...\u001b[0m\u001b[32m ↓ \u001b[0m\u001b[4;32mhttps://loigiaihay.com/de-thi-vao-lop-6-mon-toan-truong-cau-giay-nam-2023-a142098.html\u001b[0m\u001b[32m               |\u001b[0m\n",
       "\u001b[32m✓\u001b[0m\u001b[32m | ⏱: \u001b[0m\u001b[1;32m4.\u001b[0m\u001b[32m68s \u001b[0m\n"
      ]
     },
     "metadata": {},
     "output_type": "display_data"
    },
    {
     "data": {
      "text/html": [
       "<pre style=\"white-space:pre;overflow-x:auto;line-height:normal;font-family:Menlo,'DejaVu Sans Mono',consolas,'Courier New',monospace\"><span style=\"color: #008000; text-decoration-color: #008000; font-weight: bold\">[</span><span style=\"color: #008000; text-decoration-color: #008000\">SCRAPE</span><span style=\"color: #008000; text-decoration-color: #008000; font-weight: bold\">]</span><span style=\"color: #008000; text-decoration-color: #008000\">.. ◆ </span><span style=\"color: #008000; text-decoration-color: #008000; text-decoration: underline\">https://loigiaihay.com/de-thi-vao-lop-6-mon-toan-truong-cau-giay-nam-2023-a142098.html</span><span style=\"color: #008000; text-decoration-color: #008000\">               |</span>\n",
       "<span style=\"color: #008000; text-decoration-color: #008000\">✓ | ⏱: </span><span style=\"color: #008000; text-decoration-color: #008000; font-weight: bold\">0.</span><span style=\"color: #008000; text-decoration-color: #008000\">99s </span>\n",
       "</pre>\n"
      ],
      "text/plain": [
       "\u001b[1;32m[\u001b[0m\u001b[32mSCRAPE\u001b[0m\u001b[1;32m]\u001b[0m\u001b[32m.. ◆ \u001b[0m\u001b[4;32mhttps://loigiaihay.com/de-thi-vao-lop-6-mon-toan-truong-cau-giay-nam-2023-a142098.html\u001b[0m\u001b[32m               |\u001b[0m\n",
       "\u001b[32m✓\u001b[0m\u001b[32m | ⏱: \u001b[0m\u001b[1;32m0.\u001b[0m\u001b[32m99s \u001b[0m\n"
      ]
     },
     "metadata": {},
     "output_type": "display_data"
    },
    {
     "data": {
      "text/html": [
       "<pre style=\"white-space:pre;overflow-x:auto;line-height:normal;font-family:Menlo,'DejaVu Sans Mono',consolas,'Courier New',monospace\"><span style=\"color: #008000; text-decoration-color: #008000; font-weight: bold\">[</span><span style=\"color: #008000; text-decoration-color: #008000\">COMPLETE</span><span style=\"color: #008000; text-decoration-color: #008000; font-weight: bold\">]</span><span style=\"color: #008000; text-decoration-color: #008000\"> ● </span><span style=\"color: #008000; text-decoration-color: #008000; text-decoration: underline\">https://loigiaihay.com/de-thi-vao-lop-6-mon-toan-truong-cau-giay-nam-2023-a142098.html</span><span style=\"color: #008000; text-decoration-color: #008000\">               |</span>\n",
       "<span style=\"color: #008000; text-decoration-color: #008000\">✓ | ⏱: </span><span style=\"color: #008000; text-decoration-color: #008000; font-weight: bold\">5.</span><span style=\"color: #008000; text-decoration-color: #008000\">68s </span>\n",
       "</pre>\n"
      ],
      "text/plain": [
       "\u001b[1;32m[\u001b[0m\u001b[32mCOMPLETE\u001b[0m\u001b[1;32m]\u001b[0m\u001b[32m ● \u001b[0m\u001b[4;32mhttps://loigiaihay.com/de-thi-vao-lop-6-mon-toan-truong-cau-giay-nam-2023-a142098.html\u001b[0m\u001b[32m               |\u001b[0m\n",
       "\u001b[32m✓\u001b[0m\u001b[32m | ⏱: \u001b[0m\u001b[1;32m5.\u001b[0m\u001b[32m68s \u001b[0m\n"
      ]
     },
     "metadata": {},
     "output_type": "display_data"
    }
   ],
   "source": [
    "run_config = CrawlerRunConfig(\n",
    "    word_count_threshold=10,        # Minimum words per content block\n",
    "    exclude_external_links=True,    # Remove external links\n",
    "    remove_overlay_elements=True,   # Remove popups/modals\n",
    "    process_iframes=True           # Process iframe content\n",
    ")\n",
    "\n",
    "async with AsyncWebCrawler(config=browser_config) as crawler:\n",
    "    result2 = await crawler.arun(\n",
    "        url=sample_url,\n",
    "        config=run_config\n",
    "    )"
   ]
  },
  {
   "cell_type": "code",
   "execution_count": 13,
   "id": "7f3dfec8",
   "metadata": {},
   "outputs": [
    {
     "data": {
      "text/plain": [
       "(181729, 178655)"
      ]
     },
     "execution_count": 13,
     "metadata": {},
     "output_type": "execute_result"
    }
   ],
   "source": [
    "len(result.markdown.raw_markdown), len(result2.markdown.raw_markdown)"
   ]
  },
  {
   "cell_type": "code",
   "execution_count": 14,
   "id": "ae3922c8",
   "metadata": {},
   "outputs": [
    {
     "data": {
      "text/plain": [
       "'https://img.loigiaihay.com/picture/2023/0728/20_15.png'"
      ]
     },
     "execution_count": 14,
     "metadata": {},
     "output_type": "execute_result"
    }
   ],
   "source": [
    "result.media['images'][0]['src']"
   ]
  },
  {
   "cell_type": "code",
   "execution_count": 15,
   "id": "3338a8d6",
   "metadata": {},
   "outputs": [
    {
     "data": {
      "text/plain": [
       "True"
      ]
     },
     "execution_count": 15,
     "metadata": {},
     "output_type": "execute_result"
    }
   ],
   "source": [
    "result.media['images'][0]['src'] in result.markdown.raw_markdown"
   ]
  },
  {
   "cell_type": "code",
   "execution_count": 16,
   "id": "691b965d",
   "metadata": {},
   "outputs": [
    {
     "data": {
      "text/plain": [
       "'https://img.loigiaihay.com/picture/2023/0728/20_15.png'"
      ]
     },
     "execution_count": 16,
     "metadata": {},
     "output_type": "execute_result"
    }
   ],
   "source": [
    "result2.media['images'][0]['src']"
   ]
  },
  {
   "cell_type": "code",
   "execution_count": 17,
   "id": "3955c51d",
   "metadata": {},
   "outputs": [
    {
     "data": {
      "text/plain": [
       "(dict_keys(['internal', 'external']), dict_keys(['internal', 'external']))"
      ]
     },
     "execution_count": 17,
     "metadata": {},
     "output_type": "execute_result"
    }
   ],
   "source": [
    "result.links.keys(), result2.links.keys()"
   ]
  },
  {
   "cell_type": "code",
   "execution_count": 18,
   "id": "e4f3a294",
   "metadata": {},
   "outputs": [
    {
     "data": {
      "text/plain": [
       "{'href': 'javascript:void(0)',\n",
       " 'text': '×',\n",
       " 'title': 'Xóa nội dung trong hộp tìm kiếm',\n",
       " 'base_domain': ''}"
      ]
     },
     "execution_count": 18,
     "metadata": {},
     "output_type": "execute_result"
    }
   ],
   "source": [
    "result.links['external'][0]"
   ]
  },
  {
   "cell_type": "code",
   "execution_count": 19,
   "id": "12b928d6",
   "metadata": {},
   "outputs": [
    {
     "data": {
      "text/plain": [
       "[]"
      ]
     },
     "execution_count": 19,
     "metadata": {},
     "output_type": "execute_result"
    }
   ],
   "source": [
    "result2.links['external']"
   ]
  },
  {
   "cell_type": "code",
   "execution_count": 20,
   "id": "5bc6ea0c",
   "metadata": {},
   "outputs": [
    {
     "data": {
      "text/plain": [
       "939"
      ]
     },
     "execution_count": 20,
     "metadata": {},
     "output_type": "execute_result"
    }
   ],
   "source": [
    "len(result2.links['internal'])"
   ]
  },
  {
   "cell_type": "code",
   "execution_count": 25,
   "id": "b6f66a8f",
   "metadata": {},
   "outputs": [],
   "source": [
    "# [link for link in result2.links['internal']]"
   ]
  },
  {
   "cell_type": "code",
   "execution_count": 26,
   "id": "1c053ca3",
   "metadata": {},
   "outputs": [
    {
     "data": {
      "text/plain": [
       "80"
      ]
     },
     "execution_count": 26,
     "metadata": {},
     "output_type": "execute_result"
    }
   ],
   "source": [
    "len(set([link['href'] for link in result2.links['internal'] if \"de-thi-vao-lop-6-mon-toan\" in link['href']]))"
   ]
  },
  {
   "cell_type": "markdown",
   "id": "95e1dd39",
   "metadata": {},
   "source": [
    "## Complete example"
   ]
  },
  {
   "cell_type": "code",
   "execution_count": 21,
   "id": "73e6b50a",
   "metadata": {},
   "outputs": [],
   "source": [
    "import asyncio\n",
    "from crawl4ai import AsyncWebCrawler\n",
    "from crawl4ai.async_configs import BrowserConfig, CrawlerRunConfig, CacheMode\n",
    "\n",
    "async def main():\n",
    "    browser_config = BrowserConfig(verbose=True)\n",
    "    run_config = CrawlerRunConfig(\n",
    "        # Content filtering\n",
    "        word_count_threshold=10,\n",
    "        excluded_tags=['form', 'header'],\n",
    "        exclude_external_links=True,\n",
    "\n",
    "        # Content processing\n",
    "        process_iframes=True,\n",
    "        remove_overlay_elements=True,\n",
    "\n",
    "        # Cache control\n",
    "        cache_mode=CacheMode.ENABLED  # Use cache if available\n",
    "    )\n",
    "\n",
    "    async with AsyncWebCrawler(config=browser_config) as crawler:\n",
    "        result = await crawler.arun(\n",
    "            url=\"https://example.com\",\n",
    "            config=run_config\n",
    "        )\n",
    "\n",
    "        if result.success:\n",
    "            # Print clean content\n",
    "            print(\"Content:\", result.markdown[:500])  # First 500 chars\n",
    "\n",
    "            # Process images\n",
    "            for image in result.media[\"images\"]:\n",
    "                print(f\"Found image: {image['src']}\")\n",
    "\n",
    "            # Process links\n",
    "            for link in result.links[\"internal\"]:\n",
    "                print(f\"Internal link: {link['href']}\")\n",
    "\n",
    "        else:\n",
    "            print(f\"Crawl failed: {result.error_message}\")\n"
   ]
  },
  {
   "cell_type": "code",
   "execution_count": 22,
   "id": "475d5d6a",
   "metadata": {},
   "outputs": [
    {
     "data": {
      "text/html": [
       "<pre style=\"white-space:pre;overflow-x:auto;line-height:normal;font-family:Menlo,'DejaVu Sans Mono',consolas,'Courier New',monospace\"><span style=\"color: #008080; text-decoration-color: #008080; font-weight: bold\">[</span><span style=\"color: #008080; text-decoration-color: #008080\">INIT</span><span style=\"color: #008080; text-decoration-color: #008080; font-weight: bold\">]</span><span style=\"color: #008080; text-decoration-color: #008080\">.... → Crawl4AI </span><span style=\"color: #008080; text-decoration-color: #008080; font-weight: bold\">0.6</span><span style=\"color: #008080; text-decoration-color: #008080\">.</span><span style=\"color: #008080; text-decoration-color: #008080; font-weight: bold\">3</span><span style=\"color: #008080; text-decoration-color: #008080\"> </span>\n",
       "</pre>\n"
      ],
      "text/plain": [
       "\u001b[1;36m[\u001b[0m\u001b[36mINIT\u001b[0m\u001b[1;36m]\u001b[0m\u001b[36m...\u001b[0m\u001b[36m. → Crawl4AI \u001b[0m\u001b[1;36m0.6\u001b[0m\u001b[36m.\u001b[0m\u001b[1;36m3\u001b[0m\u001b[36m \u001b[0m\n"
      ]
     },
     "metadata": {},
     "output_type": "display_data"
    },
    {
     "data": {
      "text/html": [
       "<pre style=\"white-space:pre;overflow-x:auto;line-height:normal;font-family:Menlo,'DejaVu Sans Mono',consolas,'Courier New',monospace\"><span style=\"color: #008000; text-decoration-color: #008000; font-weight: bold\">[</span><span style=\"color: #008000; text-decoration-color: #008000\">FETCH</span><span style=\"color: #008000; text-decoration-color: #008000; font-weight: bold\">]</span><span style=\"color: #008000; text-decoration-color: #008000\">... ↓ </span><span style=\"color: #008000; text-decoration-color: #008000; text-decoration: underline\">https://example.com</span><span style=\"color: #008000; text-decoration-color: #008000\">                                                                                  |</span>\n",
       "<span style=\"color: #008000; text-decoration-color: #008000\">✓ | ⏱: </span><span style=\"color: #008000; text-decoration-color: #008000; font-weight: bold\">0.</span><span style=\"color: #008000; text-decoration-color: #008000\">02s </span>\n",
       "</pre>\n"
      ],
      "text/plain": [
       "\u001b[1;32m[\u001b[0m\u001b[32mFETCH\u001b[0m\u001b[1;32m]\u001b[0m\u001b[32m...\u001b[0m\u001b[32m ↓ \u001b[0m\u001b[4;32mhttps://example.com\u001b[0m\u001b[32m                                                                                  |\u001b[0m\n",
       "\u001b[32m✓\u001b[0m\u001b[32m | ⏱: \u001b[0m\u001b[1;32m0.\u001b[0m\u001b[32m02s \u001b[0m\n"
      ]
     },
     "metadata": {},
     "output_type": "display_data"
    },
    {
     "data": {
      "text/html": [
       "<pre style=\"white-space:pre;overflow-x:auto;line-height:normal;font-family:Menlo,'DejaVu Sans Mono',consolas,'Courier New',monospace\"><span style=\"color: #008000; text-decoration-color: #008000; font-weight: bold\">[</span><span style=\"color: #008000; text-decoration-color: #008000\">COMPLETE</span><span style=\"color: #008000; text-decoration-color: #008000; font-weight: bold\">]</span><span style=\"color: #008000; text-decoration-color: #008000\"> ● </span><span style=\"color: #008000; text-decoration-color: #008000; text-decoration: underline\">https://example.com</span><span style=\"color: #008000; text-decoration-color: #008000\">                                                                                  |</span>\n",
       "<span style=\"color: #008000; text-decoration-color: #008000\">✓ | ⏱: </span><span style=\"color: #008000; text-decoration-color: #008000; font-weight: bold\">0.</span><span style=\"color: #008000; text-decoration-color: #008000\">04s </span>\n",
       "</pre>\n"
      ],
      "text/plain": [
       "\u001b[1;32m[\u001b[0m\u001b[32mCOMPLETE\u001b[0m\u001b[1;32m]\u001b[0m\u001b[32m ● \u001b[0m\u001b[4;32mhttps://example.com\u001b[0m\u001b[32m                                                                                  |\u001b[0m\n",
       "\u001b[32m✓\u001b[0m\u001b[32m | ⏱: \u001b[0m\u001b[1;32m0.\u001b[0m\u001b[32m04s \u001b[0m\n"
      ]
     },
     "metadata": {},
     "output_type": "display_data"
    },
    {
     "name": "stdout",
     "output_type": "stream",
     "text": [
      "Content: # Example Domain\n",
      "This domain is for use in illustrative examples in documents. You may use this domain in literature without prior coordination or asking for permission.\n",
      "\n"
     ]
    }
   ],
   "source": [
    "await main()"
   ]
  },
  {
   "cell_type": "code",
   "execution_count": null,
   "id": "f7bc7abf",
   "metadata": {},
   "outputs": [],
   "source": []
  }
 ],
 "metadata": {
  "kernelspec": {
   "display_name": "learn-llm",
   "language": "python",
   "name": "python3"
  },
  "language_info": {
   "codemirror_mode": {
    "name": "ipython",
    "version": 3
   },
   "file_extension": ".py",
   "mimetype": "text/x-python",
   "name": "python",
   "nbconvert_exporter": "python",
   "pygments_lexer": "ipython3",
   "version": "3.13.5"
  }
 },
 "nbformat": 4,
 "nbformat_minor": 5
}
