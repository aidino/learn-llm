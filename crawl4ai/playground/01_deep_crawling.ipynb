{
 "cells": [
  {
   "cell_type": "markdown",
   "id": "1240ef9c",
   "metadata": {},
   "source": [
    "# Deep Crawling"
   ]
  },
  {
   "cell_type": "code",
   "execution_count": 8,
   "id": "1b45302d",
   "metadata": {},
   "outputs": [],
   "source": [
    "from crawl4ai import AsyncWebCrawler, CrawlerRunConfig\n",
    "from IPython.display import Markdown, display, HTML\n",
    "import pprint\n",
    "\n",
    "def printmd(content):\n",
    "    display(Markdown(content))\n",
    "    \n",
    "def printhtml(content):\n",
    "    display(HTML(content))\n",
    "    \n",
    "def pretty_print(content):\n",
    "    pprint.pp(content)\n",
    "    \n",
    "sample_url=\"https://loigiaihay.com/de-thi-vao-lop-6-mon-toan-c1387.html\"\n"
   ]
  },
  {
   "cell_type": "markdown",
   "id": "7a2227c8",
   "metadata": {},
   "source": [
    "## Quick example\n",
    "\n",
    "Here's a minimal code snippet that implements a basic deep crawl using the `BFSDeepCrawlStrategy`:\n"
   ]
  },
  {
   "cell_type": "code",
   "execution_count": 9,
   "id": "d36648a0",
   "metadata": {},
   "outputs": [],
   "source": [
    "import asyncio\n",
    "from crawl4ai import AsyncWebCrawler, CrawlerRunConfig\n",
    "from crawl4ai.content_scraping_strategy import LXMLWebScrapingStrategy\n",
    "from crawl4ai.deep_crawling import BestFirstCrawlingStrategy\n",
    "from crawl4ai.deep_crawling.filters import (\n",
    "    FilterChain,\n",
    "    DomainFilter,\n",
    "    URLPatternFilter,\n",
    "    ContentTypeFilter\n",
    ")\n",
    "from crawl4ai.deep_crawling.scorers import KeywordRelevanceScorer"
   ]
  },
  {
   "cell_type": "code",
   "execution_count": 10,
   "id": "bc3861c6",
   "metadata": {},
   "outputs": [
    {
     "data": {
      "text/html": [
       "<pre style=\"white-space:pre;overflow-x:auto;line-height:normal;font-family:Menlo,'DejaVu Sans Mono',consolas,'Courier New',monospace\"><span style=\"color: #008080; text-decoration-color: #008080; font-weight: bold\">[</span><span style=\"color: #008080; text-decoration-color: #008080\">INIT</span><span style=\"color: #008080; text-decoration-color: #008080; font-weight: bold\">]</span><span style=\"color: #008080; text-decoration-color: #008080\">.... → Crawl4AI </span><span style=\"color: #008080; text-decoration-color: #008080; font-weight: bold\">0.7</span><span style=\"color: #008080; text-decoration-color: #008080\">.</span><span style=\"color: #008080; text-decoration-color: #008080; font-weight: bold\">1</span><span style=\"color: #008080; text-decoration-color: #008080\"> </span>\n",
       "</pre>\n"
      ],
      "text/plain": [
       "\u001b[1;36m[\u001b[0m\u001b[36mINIT\u001b[0m\u001b[1;36m]\u001b[0m\u001b[36m...\u001b[0m\u001b[36m. → Crawl4AI \u001b[0m\u001b[1;36m0.7\u001b[0m\u001b[36m.\u001b[0m\u001b[1;36m1\u001b[0m\u001b[36m \u001b[0m\n"
      ]
     },
     "metadata": {},
     "output_type": "display_data"
    },
    {
     "name": "stdout",
     "output_type": "stream",
     "text": [
      "Depth: 0 | Score: 0.00 | https://loigiaihay.com/de-thi-vao-lop-6-mon-toan-c1387.html\n",
      "Depth: 1 | Score: 0.00 | https://loigiaihay.com/de-thi-vao-lop-6-mon-toan-thanh-pho-hai-phong-e40295.html\n",
      "Depth: 1 | Score: 0.00 | https://loigiaihay.com/de-thi-vao-lop-6-mon-toan-tinh-ninh-binh-e40029.html\n",
      "Depth: 1 | Score: 0.00 | https://loigiaihay.com/de-thi-vao-lop-6-mon-toan-tinh-thanh-hoa-e40016.html\n",
      "Depth: 1 | Score: 0.00 | https://loigiaihay.com/de-thi-vao-lop-6-mon-toan-thanh-pho-thu-duc-nam-2025-co-dap-an-a185401.html\n",
      "Depth: 1 | Score: 0.00 | https://loigiaihay.com/de-thi-vao-lop-6-mon-toan-truong-amsterdam-2023-co-dap-an-a142600.html\n",
      "Depth: 1 | Score: 0.00 | https://loigiaihay.com/de-thi-vao-lop-6-mon-toan-tinh-hung-yen-e40178.html\n",
      "Depth: 1 | Score: 0.00 | https://loigiaihay.com/de-thi-vao-lop-6-mon-toan-truong-amsterdam-2020-co-dap-an-a135035.html\n",
      "Depth: 1 | Score: 0.00 | https://loigiaihay.com/de-thi-vao-lop-6-mon-toan-tinh-phu-tho-e40035.html\n",
      "Depth: 1 | Score: 0.00 | https://loigiaihay.com/de-thi-vao-lop-6-mon-toan-thanh-pho-hue-e40182.html\n",
      "Depth: 1 | Score: 0.00 | https://loigiaihay.com/de-thi-vao-lop-6-mon-toan-truong-amsterdam-2022-co-dap-an-a135015.html\n",
      "Depth: 1 | Score: 0.00 | https://loigiaihay.com/de-thi-vao-lop-6-mon-toan-truong-amsterdam-ha-noi-e30968.html\n",
      "Depth: 1 | Score: 0.00 | https://loigiaihay.com/de-thi-vao-lop-6-mon-toan-truong-archimedes-ha-noi-e34709.html\n",
      "Depth: 1 | Score: 0.00 | https://loigiaihay.com/de-thi-vao-lop-6-mon-toan-truong-archimedes-2020-bai-co-ban-co-dap-an-a154956.html\n",
      "Depth: 1 | Score: 0.00 | https://loigiaihay.com/de-thi-vao-lop-6-mon-toan-truong-cau-giay-2019-co-dap-an-a134616.html\n",
      "Depth: 1 | Score: 0.00 | https://loigiaihay.com/de-thi-vao-lop-6-mon-toan-truong-cau-giay-2021-co-dap-an-a134610.html\n",
      "Depth: 1 | Score: 0.00 | https://loigiaihay.com/de-thi-vao-lop-6-mon-toan-truong-archimedes-2021-bai-nang-cao-co-dap-an-a154892.html\n",
      "Depth: 1 | Score: 0.00 | https://loigiaihay.com/de-thi-vao-lop-6-mon-toan-truong-cau-giay-2020-2021-co-dap-an-a134614.html\n",
      "Depth: 1 | Score: 0.00 | https://loigiaihay.com/de-thi-vao-lop-6-mon-toan-truong-archimedes-2024-de-mau-co-dap-an-a155569.html\n",
      "Depth: 1 | Score: 0.00 | https://loigiaihay.com/de-thi-vao-lop-6-mon-toan-truong-archimedes-2020-bai-nang-cao-co-dap-an-a154923.html\n",
      "Depth: 1 | Score: 0.00 | https://loigiaihay.com/de-thi-vao-lop-6-mon-toan-truong-archimedes-2022-bai-co-ban-co-dap-an-a155547.html\n",
      "Depth: 1 | Score: 0.00 | https://loigiaihay.com/de-thi-vao-lop-6-mon-toan-truong-cau-giay-co-dap-an-a134606.html\n",
      "Depth: 1 | Score: 0.00 | https://loigiaihay.com/de-thi-vao-lop-6-mon-toan-truong-cau-giay-nam-2024-a175752.html\n",
      "Depth: 1 | Score: 0.00 | https://loigiaihay.com/de-thi-vao-lop-6-mon-toan-truong-cau-giay-nam-2023-a142098.html\n",
      "Depth: 1 | Score: 0.00 | https://loigiaihay.com/de-thi-vao-lop-6-mon-toan-truong-chuyen-ngoai-ngu-ha-noi-e30892.html\n",
      "Depth: 1 | Score: 0.00 | https://loigiaihay.com/de-thi-vao-lop-6-mon-toan-truong-chuyen-tran-dai-nghia-2022-co-dap-an-a155542.html\n",
      "Depth: 1 | Score: 0.00 | https://loigiaihay.com/de-thi-vao-lop-6-mon-toan-truong-chuyen-ngoai-ngu-2024-co-dap-an-a176490.html\n",
      "Depth: 1 | Score: 0.00 | https://loigiaihay.com/de-thi-vao-lop-6-mon-toan-truong-chuyen-ngoai-ngu-2021-co-dap-an-a134796.html\n",
      "Depth: 1 | Score: 0.00 | https://loigiaihay.com/de-thi-vao-lop-6-mon-toan-truong-chuyen-ngoai-ngu-2019-co-dap-an-a134800.html\n",
      "Depth: 1 | Score: 0.00 | https://loigiaihay.com/de-thi-vao-lop-6-mon-toan-truong-cau-giay-nam-2025-a186333.html\n",
      "Depth: 1 | Score: 0.00 | https://loigiaihay.com/de-thi-vao-lop-6-mon-toan-truong-chuyen-ngoai-ngu-2023-co-dap-an-a139833.html\n",
      "Depth: 1 | Score: 0.00 | https://loigiaihay.com/de-thi-vao-lop-6-mon-toan-truong-chuyen-tran-dai-nghia-2023-co-dap-an-a155516.html\n",
      "Depth: 1 | Score: 0.00 | https://loigiaihay.com/de-thi-vao-lop-6-mon-toan-truong-chuyen-tran-dai-nghia-nam-2024-a168234.html\n",
      "Depth: 1 | Score: 0.00 | https://loigiaihay.com/de-thi-vao-lop-6-mon-toan-truong-luong-the-vinh-2019-co-dap-an-a134644.html\n",
      "Depth: 1 | Score: 0.00 | https://loigiaihay.com/de-thi-vao-lop-6-mon-toan-truong-luong-the-vinh-2021-co-dap-an-a134641.html\n",
      "Depth: 1 | Score: 0.00 | https://loigiaihay.com/de-thi-vao-lop-6-mon-toan-truong-chuyen-tran-dai-nghia-ho-chi-minh-e34818.html\n",
      "Depth: 1 | Score: 0.00 | https://loigiaihay.com/de-thi-vao-lop-6-mon-toan-truong-luong-the-vinh-2018-2019-co-dap-an-a134728.html\n",
      "Depth: 1 | Score: 0.00 | https://loigiaihay.com/de-thi-vao-lop-6-mon-toan-truong-le-loi-ha-noi-e34740.html\n",
      "Depth: 1 | Score: 0.00 | https://loigiaihay.com/de-thi-vao-lop-6-mon-toan-truong-le-loi-2024-co-dap-an-a176389.html\n",
      "Depth: 1 | Score: 0.00 | https://loigiaihay.com/de-thi-vao-lop-6-mon-toan-truong-le-loi-2023-co-dap-an-a155040.html\n",
      "Depth: 1 | Score: 0.00 | https://loigiaihay.com/de-thi-vao-lop-6-mon-toan-truong-luong-the-vinh-2020-co-dap-an-a134727.html\n",
      "Depth: 1 | Score: 0.00 | https://loigiaihay.com/de-thi-vao-lop-6-mon-toan-truong-luong-the-vinh-2022-co-dap-an-a134685.html\n",
      "Depth: 1 | Score: 0.00 | https://loigiaihay.com/de-thi-vao-lop-6-mon-toan-truong-marie-curie-ha-noi-e31049.html\n",
      "Depth: 1 | Score: 0.00 | https://loigiaihay.com/de-thi-vao-lop-6-mon-toan-truong-luong-the-vinh-ha-noi-e30834.html\n",
      "Depth: 1 | Score: 0.00 | https://loigiaihay.com/de-thi-vao-lop-6-mon-toan-truong-nam-tu-liem-nam-2022-a142794.html\n",
      "Depth: 1 | Score: 0.00 | https://loigiaihay.com/de-thi-vao-lop-6-mon-toan-truong-luong-the-vinh-nam-2023-a136445.html\n",
      "Depth: 1 | Score: 0.00 | https://loigiaihay.com/de-thi-vao-lop-6-mon-toan-truong-marie-curie-2022-co-dap-an-a135241.html\n",
      "Depth: 1 | Score: 0.00 | https://loigiaihay.com/de-thi-vao-lop-6-mon-toan-truong-nam-tu-liem-nam-2020-a143040.html\n",
      "Depth: 1 | Score: 0.00 | https://loigiaihay.com/de-thi-vao-lop-6-mon-toan-truong-marie-curie-2023-co-dap-an-a155508.html\n",
      "Depth: 1 | Score: 0.00 | https://loigiaihay.com/de-thi-vao-lop-6-mon-toan-truong-luong-the-vinh-nam-2024-a164368.html\n",
      "Depth: 1 | Score: 0.00 | https://loigiaihay.com/de-thi-vao-lop-6-mon-toan-truong-marie-curie-2020-co-dap-an-a135629.html\n",
      "Depth: 1 | Score: 0.00 | https://loigiaihay.com/de-thi-vao-lop-6-mon-toan-truong-nam-tu-liem-nam-2025-a186351.html\n",
      "Depth: 1 | Score: 0.00 | https://loigiaihay.com/de-thi-vao-lop-6-mon-toan-truong-ngoi-sao-2023-co-dap-an-a154791.html\n",
      "Depth: 1 | Score: 0.00 | https://loigiaihay.com/de-thi-vao-lop-6-mon-toan-truong-nguyen-tat-thanh-2019-co-dap-an-a134586.html\n",
      "Depth: 1 | Score: 0.00 | https://loigiaihay.com/de-thi-vao-lop-6-mon-toan-truong-ngoi-sao-2020-co-dap-an-a154845.html\n",
      "Depth: 1 | Score: 0.00 | https://loigiaihay.com/de-thi-vao-lop-6-mon-toan-truong-ngoi-sao-ha-noi-e34633.html\n",
      "Depth: 1 | Score: 0.00 | https://loigiaihay.com/de-thi-vao-lop-6-mon-toan-truong-nguyen-tat-thanh-2021-co-dap-an-a134579.html\n",
      "Depth: 1 | Score: 0.00 | https://loigiaihay.com/de-thi-vao-lop-6-mon-toan-truong-nguyen-tat-thanh-2018-co-dap-an-a134598.html\n",
      "Depth: 1 | Score: 0.00 | https://loigiaihay.com/de-thi-vao-lop-6-mon-toan-truong-ngoi-sao-2021-co-dap-an-a154844.html\n",
      "Depth: 1 | Score: 0.00 | https://loigiaihay.com/de-thi-vao-lop-6-mon-toan-truong-nguyen-tat-thanh-2020-co-dap-an-a134582.html\n",
      "Depth: 1 | Score: 0.00 | https://loigiaihay.com/de-thi-vao-lop-6-mon-toan-truong-ngoi-sao-2025-co-dap-an-a182539.html\n",
      "Depth: 1 | Score: 0.00 | https://loigiaihay.com/de-thi-vao-lop-6-mon-toan-truong-nguyen-tat-thanh-2022-co-dap-an-a134574.html\n",
      "Depth: 1 | Score: 0.00 | https://loigiaihay.com/de-thi-vao-lop-6-mon-toan-truong-thanh-xuan-nam-2019-a143089.html\n",
      "Depth: 1 | Score: 0.00 | https://loigiaihay.com/de-thi-vao-lop-6-mon-toan-truong-thanh-xuan-nam-2023-a142430.html\n",
      "Depth: 1 | Score: 0.00 | https://loigiaihay.com/de-thi-vao-lop-6-mon-toan-truong-thanh-xuan-nam-2021-a142751.html\n",
      "Depth: 1 | Score: 0.00 | https://loigiaihay.com/de-thi-vao-lop-6-mon-toan-truong-nguyen-tat-thanh-2023-co-dap-an-a140456.html\n",
      "Depth: 1 | Score: 0.00 | https://loigiaihay.com/de-thi-vao-lop-6-mon-toan-truong-nguyen-tri-phuong-hue-nam-2025-a186372.html\n",
      "Depth: 1 | Score: 0.00 | https://loigiaihay.com/de-thi-vao-lop-6-mon-toan-truong-nguyen-tat-thanh-nam-2024-ma-de-602-a167472.html\n",
      "Depth: 1 | Score: 0.00 | https://loigiaihay.com/de-thi-vao-lop-6-mon-toan-truong-nguyen-tat-thanh-nam-2025-co-dap-an-a185630.html\n",
      "Depth: 1 | Score: 0.00 | https://loigiaihay.com/de-thi-vao-lop-6-mon-toan-truong-nguyen-tat-thanh-nam-2024-ma-de-601-a167469.html\n",
      "Depth: 1 | Score: 0.00 | https://loigiaihay.com/de-thi-vao-lop-6-mon-toan-truong-thanh-xuan-nam-2022-a142727.html\n",
      "Depth: 1 | Score: 0.00 | https://loigiaihay.com/de-thi-vao-lop-6-mon-toan-truong-thanh-xuan-nam-2024-a175847.html\n",
      "Depth: 1 | Score: 0.00 | https://loigiaihay.com/de-thi-vao-lop-6-mon-toan-truong-thcs-nam-tu-liem-ha-noi-e32001.html\n",
      "Depth: 1 | Score: 0.00 | https://loigiaihay.com/de-thi-vao-lop-6-mon-toan-truong-thcs-cau-giay-ha-noi-e30773.html\n",
      "Depth: 1 | Score: 0.00 | https://loigiaihay.com/de-thi-vao-lop-6-mon-toan-truong-thcs-le-van-thiem-ha-tinh-e36429.html\n",
      "Depth: 1 | Score: 0.00 | https://loigiaihay.com/de-thi-vao-lop-6-mon-toan-truong-thcs-nam-tu-liem-co-dap-an-a141866.html\n",
      "Depth: 1 | Score: 0.00 | https://loigiaihay.com/de-thi-vao-lop-6-mon-toan-truong-thcs-hoang-xuan-han-ha-tinh-e36457.html\n",
      "Depth: 1 | Score: 0.00 | https://loigiaihay.com/de-thi-vao-lop-6-mon-toan-truong-thcs-dao-su-tich-nam-2025-co-dap-an-a186985.html\n",
      "Depth: 1 | Score: 0.00 | https://loigiaihay.com/de-thi-vao-lop-6-mon-toan-truong-thcs-le-van-thiem-nam-2022-co-dap-an-a165059.html\n",
      "Depth: 1 | Score: 0.00 | https://loigiaihay.com/de-thi-vao-lop-6-mon-toan-truong-thanh-xuan-nam-2025-a185686.html\n",
      "Depth: 1 | Score: 0.00 | https://loigiaihay.com/de-thi-vao-lop-6-mon-toan-truong-thcs-luong-the-vinh-thai-binh-nam-2025-co-dap-an-a186317.html\n",
      "Depth: 1 | Score: 0.00 | https://loigiaihay.com/de-thi-vao-lop-6-mon-toan-truong-thcs-nam-tu-liem-nam-2024-a176078.html\n",
      "Depth: 1 | Score: 0.00 | https://loigiaihay.com/de-thi-vao-lop-6-mon-toan-truong-thcs-nguyen-huu-tho-nam-2025-a186597.html\n",
      "Depth: 1 | Score: 0.00 | https://loigiaihay.com/de-thi-vao-lop-6-mon-toan-truong-thcs-thpt-nguyen-tat-thanh-ha-noi-e30765.html\n",
      "Depth: 1 | Score: 0.00 | https://loigiaihay.com/de-thi-vao-lop-6-mon-toan-truong-thcs-nguyen-huu-tho-quan-7-e40219.html\n",
      "Depth: 1 | Score: 0.00 | https://loigiaihay.com/de-thi-vao-lop-6-mon-toan-truong-thcs-thanh-xuan-ha-noi-e32047.html\n",
      "Depth: 1 | Score: 0.00 | https://loigiaihay.com/de-thi-vao-lop-6-mon-toan-truong-thcs-nguyen-huu-tho-nam-2024-a186596.html\n",
      "Depth: 1 | Score: 0.00 | https://loigiaihay.com/de-thi-vao-lop-6-mon-toan-truong-thcs-tam-dao-nam-2025-co-dap-an-a186956.html\n",
      "Depth: 1 | Score: 0.00 | https://loigiaihay.com/de-thi-vao-lop-6-mon-toan-truong-thcs-nguyen-hong-le-sam-son-nam-2025-co-dap-an-a187015.html\n",
      "Depth: 1 | Score: 0.00 | https://loigiaihay.com/de-thi-vao-lop-6-mon-toan-truong-thcs-nguyen-hue-cam-giang-nam-2025-co-dap-an-a186933.html\n",
      "Depth: 1 | Score: 0.00 | https://loigiaihay.com/de-thi-vao-lop-6-mon-toan-truong-thcs-tam-duong-nam-2021-co-dap-an-a164500.html\n",
      "Depth: 1 | Score: 0.00 | https://loigiaihay.com/de-thi-vao-lop-6-mon-toan-truong-thcs-tran-dang-ninh-thanh-pho-nam-dinh-nam-2024-co-dap-an-a185584.html\n",
      "Depth: 1 | Score: 0.00 | https://loigiaihay.com/de-thi-vao-lop-6-mon-toan-truong-tran-quoc-toan-1-ho-chi-minh-e34896.html\n",
      "Depth: 1 | Score: 0.00 | https://loigiaihay.com/de-thi-vao-lop-6-mon-toan-truong-tran-quoc-toan-1-nam-2023-co-dap-an-a155686.html\n",
      "Depth: 1 | Score: 0.00 | https://loigiaihay.com/de-thi-vao-lop-6-mon-toan-truong-thcs-vinh-yen-nam-2025-a186763.html\n",
      "Depth: 1 | Score: 0.00 | https://loigiaihay.com/de-thi-vao-lop-6-mon-toan-truong-thcs-tran-mai-ninh-thanh-pho-thanh-hoa-nam-2025-co-dap-an-a185518.html\n",
      "Depth: 1 | Score: 0.00 | https://loigiaihay.com/de-thi-vao-lop-6-mon-toan-truong-thcs-tran-dang-ninh-thanh-pho-nam-dinh-nam-2025-co-dap-an-a186847.html\n",
      "Depth: 1 | Score: 0.00 | https://loigiaihay.com/de-thi-vao-lop-6-mon-toan-truong-thcs-vu-due-tinh-phu-tho-nam-2025-co-dap-an-a185676.html\n",
      "Crawled 98 high-value pages\n",
      "Average score: 0.00\n",
      "Pages crawled by depth:\n",
      "  Depth 0: 1 pages\n",
      "  Depth 1: 97 pages\n"
     ]
    }
   ],
   "source": [
    "# Create a sophisticated filter chain\n",
    "filter_chain = FilterChain([\n",
    "    # Domain boundaries\n",
    "    DomainFilter(\n",
    "        allowed_domains=[\"loigiaihay.com\"],\n",
    "        # blocked_domains=[\"old.docs.example.com\"]\n",
    "    ),\n",
    "\n",
    "    # URL patterns to include\n",
    "    URLPatternFilter(patterns=[\"*de-thi-vao-lop-6-mon-toan*\"]),\n",
    "\n",
    "    # Content type filtering\n",
    "    ContentTypeFilter(allowed_types=[\"text/html\"])\n",
    "])\n",
    "\n",
    "# Create a relevance scorer\n",
    "keyword_scorer = KeywordRelevanceScorer(\n",
    "    keywords=[\"đề thi vào lớp 6\", \"môn Toán\"],\n",
    "    weight=0.7\n",
    ")\n",
    "\n",
    "# Set up the configuration\n",
    "config = CrawlerRunConfig(\n",
    "    deep_crawl_strategy=BestFirstCrawlingStrategy(\n",
    "        max_depth=2,\n",
    "        include_external=False,\n",
    "        filter_chain=filter_chain,\n",
    "        url_scorer=keyword_scorer\n",
    "    ),\n",
    "    scraping_strategy=LXMLWebScrapingStrategy(),\n",
    "    stream=True,\n",
    "    verbose=False\n",
    ")\n",
    "\n",
    "# Execute the crawl\n",
    "results = []\n",
    "async with AsyncWebCrawler() as crawler:\n",
    "    async for result in await crawler.arun(sample_url, config=config):\n",
    "        results.append(result)\n",
    "        score = result.metadata.get(\"score\", 0)\n",
    "        depth = result.metadata.get(\"depth\", 0)\n",
    "        print(f\"Depth: {depth} | Score: {score:.2f} | {result.url}\")\n",
    "\n",
    "# Analyze the results\n",
    "print(f\"Crawled {len(results)} high-value pages\")\n",
    "print(f\"Average score: {sum(r.metadata.get('score', 0) for r in results) / len(results):.2f}\")\n",
    "\n",
    "# Group by depth\n",
    "depth_counts = {}\n",
    "for result in results:\n",
    "    depth = result.metadata.get(\"depth\", 0)\n",
    "    depth_counts[depth] = depth_counts.get(depth, 0) + 1\n",
    "\n",
    "print(\"Pages crawled by depth:\")\n",
    "for depth, count in sorted(depth_counts.items()):\n",
    "    print(f\"  Depth {depth}: {count} pages\")\n"
   ]
  },
  {
   "cell_type": "code",
   "execution_count": 11,
   "id": "89b11fad",
   "metadata": {},
   "outputs": [
    {
     "data": {
      "text/plain": [
       "77"
      ]
     },
     "execution_count": 11,
     "metadata": {},
     "output_type": "execute_result"
    }
   ],
   "source": [
    "len(set([link['href'] for link in result.links['internal'] if \"de-thi-vao-lop-6-mon-toan\" in link['href']]))"
   ]
  },
  {
   "cell_type": "code",
   "execution_count": null,
   "id": "aa93ec01",
   "metadata": {},
   "outputs": [],
   "source": []
  }
 ],
 "metadata": {
  "kernelspec": {
   "display_name": "learn-llm",
   "language": "python",
   "name": "python3"
  },
  "language_info": {
   "codemirror_mode": {
    "name": "ipython",
    "version": 3
   },
   "file_extension": ".py",
   "mimetype": "text/x-python",
   "name": "python",
   "nbconvert_exporter": "python",
   "pygments_lexer": "ipython3",
   "version": "3.11.13"
  }
 },
 "nbformat": 4,
 "nbformat_minor": 5
}
