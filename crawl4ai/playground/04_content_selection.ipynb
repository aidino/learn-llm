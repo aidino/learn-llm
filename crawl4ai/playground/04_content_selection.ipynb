{
 "cells": [
  {
   "cell_type": "code",
   "execution_count": null,
   "id": "384da547",
   "metadata": {},
   "outputs": [
    {
     "data": {
      "text/html": [
       "<pre style=\"white-space:pre;overflow-x:auto;line-height:normal;font-family:Menlo,'DejaVu Sans Mono',consolas,'Courier New',monospace\"><span style=\"color: #008080; text-decoration-color: #008080; font-weight: bold\">[</span><span style=\"color: #008080; text-decoration-color: #008080\">INIT</span><span style=\"color: #008080; text-decoration-color: #008080; font-weight: bold\">]</span><span style=\"color: #008080; text-decoration-color: #008080\">.... → Crawl4AI </span><span style=\"color: #008080; text-decoration-color: #008080; font-weight: bold\">0.7</span><span style=\"color: #008080; text-decoration-color: #008080\">.</span><span style=\"color: #008080; text-decoration-color: #008080; font-weight: bold\">1</span><span style=\"color: #008080; text-decoration-color: #008080\"> </span>\n",
       "</pre>\n"
      ],
      "text/plain": [
       "\u001b[1;36m[\u001b[0m\u001b[36mINIT\u001b[0m\u001b[1;36m]\u001b[0m\u001b[36m...\u001b[0m\u001b[36m. → Crawl4AI \u001b[0m\u001b[1;36m0.7\u001b[0m\u001b[36m.\u001b[0m\u001b[1;36m1\u001b[0m\u001b[36m \u001b[0m\n"
      ]
     },
     "metadata": {},
     "output_type": "display_data"
    },
    {
     "data": {
      "text/html": [
       "<pre style=\"white-space:pre;overflow-x:auto;line-height:normal;font-family:Menlo,'DejaVu Sans Mono',consolas,'Courier New',monospace\"><span style=\"color: #008000; text-decoration-color: #008000; font-weight: bold\">[</span><span style=\"color: #008000; text-decoration-color: #008000\">FETCH</span><span style=\"color: #008000; text-decoration-color: #008000; font-weight: bold\">]</span><span style=\"color: #008000; text-decoration-color: #008000\">... ↓ </span><span style=\"color: #008000; text-decoration-color: #008000; text-decoration: underline\">https://loigiaihay.com/de-thi-vao-lop-6-mon-toan-truong-cau-giay-nam-2023-a142098.html</span><span style=\"color: #008000; text-decoration-color: #008000\">               |</span>\n",
       "<span style=\"color: #008000; text-decoration-color: #008000\">✓ | ⏱: </span><span style=\"color: #008000; text-decoration-color: #008000; font-weight: bold\">2.</span><span style=\"color: #008000; text-decoration-color: #008000\">12s </span>\n",
       "</pre>\n"
      ],
      "text/plain": [
       "\u001b[1;32m[\u001b[0m\u001b[32mFETCH\u001b[0m\u001b[1;32m]\u001b[0m\u001b[32m...\u001b[0m\u001b[32m ↓ \u001b[0m\u001b[4;32mhttps://loigiaihay.com/de-thi-vao-lop-6-mon-toan-truong-cau-giay-nam-2023-a142098.html\u001b[0m\u001b[32m               |\u001b[0m\n",
       "\u001b[32m✓\u001b[0m\u001b[32m | ⏱: \u001b[0m\u001b[1;32m2.\u001b[0m\u001b[32m12s \u001b[0m\n"
      ]
     },
     "metadata": {},
     "output_type": "display_data"
    },
    {
     "data": {
      "text/html": [
       "<pre style=\"white-space:pre;overflow-x:auto;line-height:normal;font-family:Menlo,'DejaVu Sans Mono',consolas,'Courier New',monospace\"><span style=\"color: #008000; text-decoration-color: #008000; font-weight: bold\">[</span><span style=\"color: #008000; text-decoration-color: #008000\">SCRAPE</span><span style=\"color: #008000; text-decoration-color: #008000; font-weight: bold\">]</span><span style=\"color: #008000; text-decoration-color: #008000\">.. ◆ </span><span style=\"color: #008000; text-decoration-color: #008000; text-decoration: underline\">https://loigiaihay.com/de-thi-vao-lop-6-mon-toan-truong-cau-giay-nam-2023-a142098.html</span><span style=\"color: #008000; text-decoration-color: #008000\">               |</span>\n",
       "<span style=\"color: #008000; text-decoration-color: #008000\">✓ | ⏱: </span><span style=\"color: #808000; text-decoration-color: #808000; font-weight: bold\">0.</span><span style=\"color: #808000; text-decoration-color: #808000\">01</span><span style=\"color: #008000; text-decoration-color: #008000\">s </span>\n",
       "</pre>\n"
      ],
      "text/plain": [
       "\u001b[1;32m[\u001b[0m\u001b[32mSCRAPE\u001b[0m\u001b[1;32m]\u001b[0m\u001b[32m.. ◆ \u001b[0m\u001b[4;32mhttps://loigiaihay.com/de-thi-vao-lop-6-mon-toan-truong-cau-giay-nam-2023-a142098.html\u001b[0m\u001b[32m               |\u001b[0m\n",
       "\u001b[32m✓\u001b[0m\u001b[32m | ⏱: \u001b[0m\u001b[1;33m0.\u001b[0m\u001b[33m01\u001b[0m\u001b[32ms \u001b[0m\n"
      ]
     },
     "metadata": {},
     "output_type": "display_data"
    },
    {
     "data": {
      "text/html": [
       "<pre style=\"white-space:pre;overflow-x:auto;line-height:normal;font-family:Menlo,'DejaVu Sans Mono',consolas,'Courier New',monospace\"><span style=\"color: #008000; text-decoration-color: #008000; font-weight: bold\">[</span><span style=\"color: #008000; text-decoration-color: #008000\">COMPLETE</span><span style=\"color: #008000; text-decoration-color: #008000; font-weight: bold\">]</span><span style=\"color: #008000; text-decoration-color: #008000\"> ● </span><span style=\"color: #008000; text-decoration-color: #008000; text-decoration: underline\">https://loigiaihay.com/de-thi-vao-lop-6-mon-toan-truong-cau-giay-nam-2023-a142098.html</span><span style=\"color: #008000; text-decoration-color: #008000\">               |</span>\n",
       "<span style=\"color: #008000; text-decoration-color: #008000\">✓ | ⏱: </span><span style=\"color: #008000; text-decoration-color: #008000; font-weight: bold\">2.</span><span style=\"color: #008000; text-decoration-color: #008000\">14s </span>\n",
       "</pre>\n"
      ],
      "text/plain": [
       "\u001b[1;32m[\u001b[0m\u001b[32mCOMPLETE\u001b[0m\u001b[1;32m]\u001b[0m\u001b[32m ● \u001b[0m\u001b[4;32mhttps://loigiaihay.com/de-thi-vao-lop-6-mon-toan-truong-cau-giay-nam-2023-a142098.html\u001b[0m\u001b[32m               |\u001b[0m\n",
       "\u001b[32m✓\u001b[0m\u001b[32m | ⏱: \u001b[0m\u001b[1;32m2.\u001b[0m\u001b[32m14s \u001b[0m\n"
      ]
     },
     "metadata": {},
     "output_type": "display_data"
    }
   ],
   "source": [
    "import asyncio\n",
    "import json\n",
    "from crawl4ai import AsyncWebCrawler, CrawlerRunConfig, CacheMode\n",
    "from crawl4ai import JsonCssExtractionStrategy\n",
    "\n",
    "config = CrawlerRunConfig(\n",
    "    # e.g., first 30 items from Hacker News\n",
    "    css_selector=\"#sub-question-2\"  \n",
    ")\n",
    "async with AsyncWebCrawler() as crawler:\n",
    "    result = await crawler.arun(\n",
    "        url=\"https://loigiaihay.com/de-thi-vao-lop-6-mon-toan-truong-cau-giay-nam-2023-a142098.html\", \n",
    "        config=config\n",
    "    )\n",
    "    "
   ]
  },
  {
   "cell_type": "code",
   "execution_count": 3,
   "id": "089ea4eb",
   "metadata": {},
   "outputs": [],
   "source": [
    "from IPython.display import Markdown, display, HTML\n",
    "import pprint\n",
    "\n",
    "def printmd(content):\n",
    "    display(Markdown(content))\n",
    "    \n",
    "def printhtml(content):\n",
    "    display(HTML(content))"
   ]
  },
  {
   "cell_type": "code",
   "execution_count": 6,
   "id": "1dd5376c",
   "metadata": {},
   "outputs": [
    {
     "data": {
      "text/markdown": [
       "**Đáp án**\n",
       "**HƯỚNG DẪN GIẢI CHI TIẾT**\n",
       "**Phần 1: Trắc nghiệm**\n",
       "**Câu 1.** Tìm x125<¯x,2<134\n",
       "A. 5 \n",
       "B."
      ],
      "text/plain": [
       "<IPython.core.display.Markdown object>"
      ]
     },
     "metadata": {},
     "output_type": "display_data"
    }
   ],
   "source": [
    "printmd(result.markdown.raw_markdown[:100])"
   ]
  },
  {
   "cell_type": "markdown",
   "id": "f3aead99",
   "metadata": {},
   "source": [
    "###================================"
   ]
  },
  {
   "cell_type": "code",
   "execution_count": 9,
   "id": "e685a382",
   "metadata": {},
   "outputs": [],
   "source": [
    "import os\n",
    "import asyncio\n",
    "import json\n",
    "from pydantic import BaseModel, Field\n",
    "from typing import List, Optional\n",
    "from crawl4ai import AsyncWebCrawler, BrowserConfig, CrawlerRunConfig, CacheMode, LLMConfig\n",
    "from crawl4ai import LLMExtractionStrategy"
   ]
  },
  {
   "cell_type": "code",
   "execution_count": 10,
   "id": "669dc62f",
   "metadata": {},
   "outputs": [],
   "source": [
    "\n",
    "class Exam(BaseModel):\n",
    "    question: str = Field(..., description=\"Câu hỏi chính của bài thi, thường bắt đầu bằng 'Câu ...'. Câu hỏi có thể chứa các công thức latex\")\n",
    "    image_url: Optional[str] = Field(None, description=\"URL hình ảnh minh họa, trong trường hợp câu hỏi cần hình vẽ để mô tả\")\n",
    "    solution: str = Field(..., description=\"Hướng dẫn giải, trong hướng dẫn có thể có các công thức latex\")\n",
    "    result: Optional[str] = Field(None, description=\"Đáp án của những câu hỏi trắc nghiệm\")\n",
    "\n",
    "llm_strategy = LLMExtractionStrategy(\n",
    "    llm_config = LLMConfig(provider=\"openai/gpt-4o-mini\", api_token=os.getenv(\"OPENAI_API_KEY\")),\n",
    "    schema=Exam.model_json_schema(), # Or use model_json_schema()\n",
    "    extraction_type=\"schema\",\n",
    "    instruction=\"\"\"\n",
    "    Bạn là một chuyên gia trích xuất dữ liệu web. Nhiệm vụ của bạn là đọc nội dung của một đề thi được cung cấp và trích xuất TOÀN BỘ các câu hỏi có trong đó.\n",
    "    - Hãy trích xuất tất cả các câu hỏi, bắt đầu từ 'Câu 1' cho đến câu cuối cùng.\n",
    "    - Với mỗi câu hỏi, lấy đầy đủ nội dung câu hỏi, hình ảnh minh họa (nếu có), lời giải chi tiết và đáp án cuối cùng.\n",
    "    - Các công thức toán học trong câu hỏi và lời giải PHẢI được định dạng bằng LaTeX.\n",
    "    - Bỏ qua tất cả các nội dung không phải là câu hỏi như: lời giới thiệu đầu trang, các bình luận, quảng cáo, hoặc các link liên quan ở cuối trang.\n",
    "    - Định dạng kết quả đầu ra theo đúng cấu trúc JSON schema đã được cung cấp.\n",
    "    \"\"\",\n",
    "    chunk_token_threshold=1000,\n",
    "    overlap_rate=0.0,\n",
    "    apply_chunking=True,\n",
    "    input_format=\"fit_markdown\",   # or \"html\", \"fit_markdown\"\n",
    "    )\n",
    "\n",
    "crawl_config = CrawlerRunConfig(\n",
    "    extraction_strategy=llm_strategy,\n",
    "    cache_mode=CacheMode.BYPASS,\n",
    "    css_selector=\"#sub-question-2\"  \n",
    ")\n",
    "\n",
    "# 3. Create a browser config if needed\n",
    "browser_cfg = BrowserConfig(headless=True)"
   ]
  },
  {
   "cell_type": "code",
   "execution_count": 11,
   "id": "658e6d9f",
   "metadata": {},
   "outputs": [
    {
     "data": {
      "text/html": [
       "<pre style=\"white-space:pre;overflow-x:auto;line-height:normal;font-family:Menlo,'DejaVu Sans Mono',consolas,'Courier New',monospace\"><span style=\"color: #800000; text-decoration-color: #800000; font-weight: bold\">[</span><span style=\"color: #800000; text-decoration-color: #800000\">ERROR</span><span style=\"color: #800000; text-decoration-color: #800000; font-weight: bold\">]</span><span style=\"color: #800000; text-decoration-color: #800000\">... × </span><span style=\"color: #800000; text-decoration-color: #800000; text-decoration: underline\">https://loigiaihay.com/...y-nam-2023-a142098.html</span><span style=\"color: #800000; text-decoration-color: #800000\">  | Error: Unexpected error in _crawl_web at line </span><span style=\"color: #800000; text-decoration-color: #800000; font-weight: bold\">939</span>\n",
       "<span style=\"color: #800000; text-decoration-color: #800000\">in create_browser_context </span><span style=\"color: #800000; text-decoration-color: #800000; font-weight: bold\">(</span><span style=\"color: #800000; text-decoration-color: #800000\">../../.venv/lib/python3.13/site-packages/crawl4ai/browser_manager.py</span><span style=\"color: #800000; text-decoration-color: #800000; font-weight: bold\">)</span><span style=\"color: #800000; text-decoration-color: #800000\">:</span>\n",
       "<span style=\"color: #800000; text-decoration-color: #800000\">Error: </span><span style=\"color: #800000; text-decoration-color: #800000\">'NoneType'</span><span style=\"color: #800000; text-decoration-color: #800000\"> object has no attribute </span><span style=\"color: #800000; text-decoration-color: #800000\">'new_context'</span>\n",
       "\n",
       "<span style=\"color: #800000; text-decoration-color: #800000\">Code context:</span>\n",
       "<span style=\"color: #800000; text-decoration-color: #800000\"> </span><span style=\"color: #800000; text-decoration-color: #800000; font-weight: bold\">934</span><span style=\"color: #800000; text-decoration-color: #800000\">                   perms = </span><span style=\"color: #800000; text-decoration-color: #800000; font-weight: bold\">context_settings.get(</span><span style=\"color: #800000; text-decoration-color: #800000\">\"permissions\"</span><span style=\"color: #800000; text-decoration-color: #800000\">, </span><span style=\"color: #800000; text-decoration-color: #800000; font-weight: bold\">[])</span>\n",
       "<span style=\"color: #800000; text-decoration-color: #800000\"> </span><span style=\"color: #800000; text-decoration-color: #800000; font-weight: bold\">935</span><span style=\"color: #800000; text-decoration-color: #800000\">                   </span><span style=\"color: #800000; text-decoration-color: #800000; font-weight: bold\">perms.append(</span><span style=\"color: #800000; text-decoration-color: #800000\">\"geolocation\"</span><span style=\"color: #800000; text-decoration-color: #800000; font-weight: bold\">)</span>\n",
       "<span style=\"color: #800000; text-decoration-color: #800000\"> </span><span style=\"color: #800000; text-decoration-color: #800000; font-weight: bold\">936</span><span style=\"color: #800000; text-decoration-color: #800000\">                   context_settings</span><span style=\"color: #800000; text-decoration-color: #800000; font-weight: bold\">[</span><span style=\"color: #800000; text-decoration-color: #800000\">\"permissions\"</span><span style=\"color: #800000; text-decoration-color: #800000; font-weight: bold\">]</span><span style=\"color: #800000; text-decoration-color: #800000\"> = perms</span>\n",
       "<span style=\"color: #800000; text-decoration-color: #800000\"> </span><span style=\"color: #800000; text-decoration-color: #800000; font-weight: bold\">937</span><span style=\"color: #800000; text-decoration-color: #800000\">   </span>\n",
       "<span style=\"color: #800000; text-decoration-color: #800000\"> </span><span style=\"color: #800000; text-decoration-color: #800000; font-weight: bold\">938</span><span style=\"color: #800000; text-decoration-color: #800000\">           # Create and return the context with all settings</span>\n",
       "<span style=\"color: #800000; text-decoration-color: #800000\"> </span><span style=\"color: #800000; text-decoration-color: #800000; font-weight: bold\">939</span><span style=\"color: #800000; text-decoration-color: #800000\"> →         context = await </span><span style=\"color: #800000; text-decoration-color: #800000; font-weight: bold\">self.browser.new_context(</span><span style=\"color: #800000; text-decoration-color: #800000\">**context_settings</span><span style=\"color: #800000; text-decoration-color: #800000; font-weight: bold\">)</span>\n",
       "<span style=\"color: #800000; text-decoration-color: #800000\"> </span><span style=\"color: #800000; text-decoration-color: #800000; font-weight: bold\">940</span><span style=\"color: #800000; text-decoration-color: #800000\">   </span>\n",
       "<span style=\"color: #800000; text-decoration-color: #800000\"> </span><span style=\"color: #800000; text-decoration-color: #800000; font-weight: bold\">941</span><span style=\"color: #800000; text-decoration-color: #800000\">           # Apply text mode settings if enabled</span>\n",
       "<span style=\"color: #800000; text-decoration-color: #800000\"> </span><span style=\"color: #800000; text-decoration-color: #800000; font-weight: bold\">942</span><span style=\"color: #800000; text-decoration-color: #800000\">           if self.config.text_mode:</span>\n",
       "<span style=\"color: #800000; text-decoration-color: #800000\"> </span><span style=\"color: #800000; text-decoration-color: #800000; font-weight: bold\">943</span><span style=\"color: #800000; text-decoration-color: #800000\">               # Create and apply route patterns for each extension</span>\n",
       "<span style=\"color: #800000; text-decoration-color: #800000\"> </span><span style=\"color: #800000; text-decoration-color: #800000; font-weight: bold\">944</span><span style=\"color: #800000; text-decoration-color: #800000\">               for ext in blocked_extensions: </span>\n",
       "</pre>\n"
      ],
      "text/plain": [
       "\u001b[1;31m[\u001b[0m\u001b[31mERROR\u001b[0m\u001b[1;31m]\u001b[0m\u001b[31m...\u001b[0m\u001b[31m × \u001b[0m\u001b[4;31mhttps://loigiaihay.com/...y-nam-2023-a142098.html\u001b[0m\u001b[31m  | Error: Unexpected error in _crawl_web at line \u001b[0m\u001b[1;31m939\u001b[0m\n",
       "\u001b[31min create_browser_context \u001b[0m\u001b[1;31m(\u001b[0m\u001b[31m..\u001b[0m\u001b[31m/../.venv/lib/python3.13/site-packages/crawl4ai/\u001b[0m\u001b[31mbrowser_manager.py\u001b[0m\u001b[1;31m)\u001b[0m\u001b[31m:\u001b[0m\n",
       "\u001b[31mError: \u001b[0m\u001b[31m'NoneType'\u001b[0m\u001b[31m object has no attribute \u001b[0m\u001b[31m'new_context'\u001b[0m\n",
       "\n",
       "\u001b[31mCode context:\u001b[0m\n",
       "\u001b[31m \u001b[0m\u001b[1;31m934\u001b[0m\u001b[31m                   perms = \u001b[0m\u001b[1;31mcontext_settings.get\u001b[0m\u001b[1;31m(\u001b[0m\u001b[31m\"permissions\"\u001b[0m\u001b[31m, \u001b[0m\u001b[1;31m[\u001b[0m\u001b[1;31m]\u001b[0m\u001b[1;31m)\u001b[0m\n",
       "\u001b[31m \u001b[0m\u001b[1;31m935\u001b[0m\u001b[31m                   \u001b[0m\u001b[1;31mperms.append\u001b[0m\u001b[1;31m(\u001b[0m\u001b[31m\"geolocation\"\u001b[0m\u001b[1;31m)\u001b[0m\n",
       "\u001b[31m \u001b[0m\u001b[1;31m936\u001b[0m\u001b[31m                   context_settings\u001b[0m\u001b[1;31m[\u001b[0m\u001b[31m\"permissions\"\u001b[0m\u001b[1;31m]\u001b[0m\u001b[31m = perms\u001b[0m\n",
       "\u001b[31m \u001b[0m\u001b[1;31m937\u001b[0m\u001b[31m   \u001b[0m\n",
       "\u001b[31m \u001b[0m\u001b[1;31m938\u001b[0m\u001b[31m           # Create and return the context with all settings\u001b[0m\n",
       "\u001b[31m \u001b[0m\u001b[1;31m939\u001b[0m\u001b[31m →         context = await \u001b[0m\u001b[1;31mself.browser.new_context\u001b[0m\u001b[1;31m(\u001b[0m\u001b[31m**context_settings\u001b[0m\u001b[1;31m)\u001b[0m\n",
       "\u001b[31m \u001b[0m\u001b[1;31m940\u001b[0m\u001b[31m   \u001b[0m\n",
       "\u001b[31m \u001b[0m\u001b[1;31m941\u001b[0m\u001b[31m           # Apply text mode settings if enabled\u001b[0m\n",
       "\u001b[31m \u001b[0m\u001b[1;31m942\u001b[0m\u001b[31m           if self.config.text_mode:\u001b[0m\n",
       "\u001b[31m \u001b[0m\u001b[1;31m943\u001b[0m\u001b[31m               # Create and apply route patterns for each extension\u001b[0m\n",
       "\u001b[31m \u001b[0m\u001b[1;31m944\u001b[0m\u001b[31m               for ext in blocked_extensions: \u001b[0m\n"
      ]
     },
     "metadata": {},
     "output_type": "display_data"
    }
   ],
   "source": [
    "result = await crawler.arun(\n",
    "    url='https://loigiaihay.com/de-thi-vao-lop-6-mon-toan-truong-cau-giay-nam-2023-a142098.html',\n",
    "    config=crawl_config,\n",
    ")"
   ]
  },
  {
   "cell_type": "code",
   "execution_count": null,
   "id": "7555d6e5",
   "metadata": {},
   "outputs": [],
   "source": []
  }
 ],
 "metadata": {
  "kernelspec": {
   "display_name": "learn-llm",
   "language": "python",
   "name": "python3"
  },
  "language_info": {
   "codemirror_mode": {
    "name": "ipython",
    "version": 3
   },
   "file_extension": ".py",
   "mimetype": "text/x-python",
   "name": "python",
   "nbconvert_exporter": "python",
   "pygments_lexer": "ipython3",
   "version": "3.13.2"
  }
 },
 "nbformat": 4,
 "nbformat_minor": 5
}
