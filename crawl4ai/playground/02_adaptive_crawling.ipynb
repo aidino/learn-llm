{
 "cells": [
  {
   "cell_type": "markdown",
   "id": "77606b77",
   "metadata": {},
   "source": [
    "# Adaptive Crawling"
   ]
  },
  {
   "cell_type": "code",
   "execution_count": 1,
   "id": "f37768b4",
   "metadata": {},
   "outputs": [],
   "source": [
    "from crawl4ai import AsyncWebCrawler, CrawlerRunConfig, BrowserConfig\n",
    "from IPython.display import Markdown, display, HTML\n",
    "import pprint\n",
    "\n",
    "def printmd(content):\n",
    "    display(Markdown(content))\n",
    "    \n",
    "def printhtml(content):\n",
    "    display(HTML(content))\n",
    "    \n",
    "def pretty_print(content):\n",
    "    pprint.pp(content)\n",
    "    \n",
    "sample_url=\"https://loigiaihay.com/de-thi-vao-lop-6-mon-toan-truong-cau-giay-nam-2023-a142098.html\"\n"
   ]
  },
  {
   "cell_type": "markdown",
   "id": "428e1b27",
   "metadata": {},
   "source": [
    "## Basic usage"
   ]
  },
  {
   "cell_type": "code",
   "execution_count": 3,
   "id": "30aefec2",
   "metadata": {},
   "outputs": [
    {
     "data": {
      "text/html": [
       "<pre style=\"white-space:pre;overflow-x:auto;line-height:normal;font-family:Menlo,'DejaVu Sans Mono',consolas,'Courier New',monospace\"><span style=\"color: #008080; text-decoration-color: #008080; font-weight: bold\">[</span><span style=\"color: #008080; text-decoration-color: #008080\">INIT</span><span style=\"color: #008080; text-decoration-color: #008080; font-weight: bold\">]</span><span style=\"color: #008080; text-decoration-color: #008080\">.... → Crawl4AI </span><span style=\"color: #008080; text-decoration-color: #008080; font-weight: bold\">0.7</span><span style=\"color: #008080; text-decoration-color: #008080\">.</span><span style=\"color: #008080; text-decoration-color: #008080; font-weight: bold\">1</span><span style=\"color: #008080; text-decoration-color: #008080\"> </span>\n",
       "</pre>\n"
      ],
      "text/plain": [
       "\u001b[1;36m[\u001b[0m\u001b[36mINIT\u001b[0m\u001b[1;36m]\u001b[0m\u001b[36m...\u001b[0m\u001b[36m. → Crawl4AI \u001b[0m\u001b[1;36m0.7\u001b[0m\u001b[36m.\u001b[0m\u001b[1;36m1\u001b[0m\u001b[36m \u001b[0m\n"
      ]
     },
     "metadata": {},
     "output_type": "display_data"
    },
    {
     "data": {
      "text/html": [
       "<pre style=\"white-space:pre;overflow-x:auto;line-height:normal;font-family:Menlo,'DejaVu Sans Mono',consolas,'Courier New',monospace\"><span style=\"color: #008000; text-decoration-color: #008000; font-weight: bold\">[</span><span style=\"color: #008000; text-decoration-color: #008000\">FETCH</span><span style=\"color: #008000; text-decoration-color: #008000; font-weight: bold\">]</span><span style=\"color: #008000; text-decoration-color: #008000\">... ↓ </span><span style=\"color: #008000; text-decoration-color: #008000; text-decoration: underline\">https://loigiaihay.com/de-thi-vao-lop-6-mon-toan-truong-cau-giay-nam-2023-a142098.html</span><span style=\"color: #008000; text-decoration-color: #008000\">               |</span>\n",
       "<span style=\"color: #008000; text-decoration-color: #008000\">✓ | ⏱: </span><span style=\"color: #008000; text-decoration-color: #008000; font-weight: bold\">1.</span><span style=\"color: #008000; text-decoration-color: #008000\">63s </span>\n",
       "</pre>\n"
      ],
      "text/plain": [
       "\u001b[1;32m[\u001b[0m\u001b[32mFETCH\u001b[0m\u001b[1;32m]\u001b[0m\u001b[32m...\u001b[0m\u001b[32m ↓ \u001b[0m\u001b[4;32mhttps://loigiaihay.com/de-thi-vao-lop-6-mon-toan-truong-cau-giay-nam-2023-a142098.html\u001b[0m\u001b[32m               |\u001b[0m\n",
       "\u001b[32m✓\u001b[0m\u001b[32m | ⏱: \u001b[0m\u001b[1;32m1.\u001b[0m\u001b[32m63s \u001b[0m\n"
      ]
     },
     "metadata": {},
     "output_type": "display_data"
    },
    {
     "data": {
      "text/html": [
       "<pre style=\"white-space:pre;overflow-x:auto;line-height:normal;font-family:Menlo,'DejaVu Sans Mono',consolas,'Courier New',monospace\"><span style=\"color: #808080; text-decoration-color: #808080; font-weight: bold\">[</span><span style=\"color: #808080; text-decoration-color: #808080\">LINK_EXTRACT</span><span style=\"color: #808080; text-decoration-color: #808080; font-weight: bold\">]</span><span style=\"color: #808080; text-decoration-color: #808080\"> ℹ Added </span><span style=\"color: #808080; text-decoration-color: #808080; font-weight: bold\">936</span><span style=\"color: #808080; text-decoration-color: #808080\"> internal links </span>\n",
       "</pre>\n"
      ],
      "text/plain": [
       "\u001b[1;90m[\u001b[0m\u001b[90mLINK_EXTRACT\u001b[0m\u001b[1;90m]\u001b[0m\u001b[90m ℹ Added \u001b[0m\u001b[1;90m936\u001b[0m\u001b[90m internal links \u001b[0m\n"
      ]
     },
     "metadata": {},
     "output_type": "display_data"
    },
    {
     "data": {
      "text/html": [
       "<pre style=\"white-space:pre;overflow-x:auto;line-height:normal;font-family:Menlo,'DejaVu Sans Mono',consolas,'Courier New',monospace\"><span style=\"color: #808080; text-decoration-color: #808080; font-weight: bold\">[</span><span style=\"color: #808080; text-decoration-color: #808080\">LINK_EXTRACT</span><span style=\"color: #808080; text-decoration-color: #808080; font-weight: bold\">]</span><span style=\"color: #808080; text-decoration-color: #808080\"> ℹ Limited to </span><span style=\"color: #808080; text-decoration-color: #808080; font-weight: bold\">50</span><span style=\"color: #808080; text-decoration-color: #808080\"> links </span>\n",
       "</pre>\n"
      ],
      "text/plain": [
       "\u001b[1;90m[\u001b[0m\u001b[90mLINK_EXTRACT\u001b[0m\u001b[1;90m]\u001b[0m\u001b[90m ℹ Limited to \u001b[0m\u001b[1;90m50\u001b[0m\u001b[90m links \u001b[0m\n"
      ]
     },
     "metadata": {},
     "output_type": "display_data"
    },
    {
     "data": {
      "text/html": [
       "<pre style=\"white-space:pre;overflow-x:auto;line-height:normal;font-family:Menlo,'DejaVu Sans Mono',consolas,'Courier New',monospace\"><span style=\"color: #808080; text-decoration-color: #808080; font-weight: bold\">[</span><span style=\"color: #808080; text-decoration-color: #808080\">LINK_EXTRACT</span><span style=\"color: #808080; text-decoration-color: #808080; font-weight: bold\">]</span><span style=\"color: #808080; text-decoration-color: #808080\"> ℹ Final filtered URLs: </span><span style=\"color: #808080; text-decoration-color: #808080; font-weight: bold\">50</span><span style=\"color: #808080; text-decoration-color: #808080\"> unique links </span>\n",
       "</pre>\n"
      ],
      "text/plain": [
       "\u001b[1;90m[\u001b[0m\u001b[90mLINK_EXTRACT\u001b[0m\u001b[1;90m]\u001b[0m\u001b[90m ℹ Final filtered URLs: \u001b[0m\u001b[1;90m50\u001b[0m\u001b[90m unique links \u001b[0m\n"
      ]
     },
     "metadata": {},
     "output_type": "display_data"
    },
    {
     "data": {
      "text/html": [
       "<pre style=\"white-space:pre;overflow-x:auto;line-height:normal;font-family:Menlo,'DejaVu Sans Mono',consolas,'Courier New',monospace\"><span style=\"color: #008080; text-decoration-color: #008080; font-weight: bold\">[</span><span style=\"color: #008080; text-decoration-color: #008080\">LINK_EXTRACT</span><span style=\"color: #008080; text-decoration-color: #008080; font-weight: bold\">]</span><span style=\"color: #008080; text-decoration-color: #008080\"> ℹ Extracting head content for </span><span style=\"color: #008080; text-decoration-color: #008080; font-weight: bold\">50</span><span style=\"color: #008080; text-decoration-color: #008080\"> filtered links </span>\n",
       "</pre>\n"
      ],
      "text/plain": [
       "\u001b[1;36m[\u001b[0m\u001b[36mLINK_EXTRACT\u001b[0m\u001b[1;36m]\u001b[0m\u001b[36m ℹ Extracting head content for \u001b[0m\u001b[1;36m50\u001b[0m\u001b[36m filtered links \u001b[0m\n"
      ]
     },
     "metadata": {},
     "output_type": "display_data"
    },
    {
     "data": {
      "text/html": [
       "<pre style=\"white-space:pre;overflow-x:auto;line-height:normal;font-family:Menlo,'DejaVu Sans Mono',consolas,'Courier New',monospace\"><span style=\"color: #008080; text-decoration-color: #008080; font-weight: bold\">[</span><span style=\"color: #008080; text-decoration-color: #008080\">URL_SEED</span><span style=\"color: #008080; text-decoration-color: #008080; font-weight: bold\">]</span><span style=\"color: #008080; text-decoration-color: #008080\"> ℹ Starting head extraction for </span><span style=\"color: #008080; text-decoration-color: #008080; font-weight: bold\">50</span><span style=\"color: #008080; text-decoration-color: #008080\"> custom URLs </span>\n",
       "</pre>\n"
      ],
      "text/plain": [
       "\u001b[1;36m[\u001b[0m\u001b[36mURL_SEED\u001b[0m\u001b[1;36m]\u001b[0m\u001b[36m ℹ Starting head extraction for \u001b[0m\u001b[1;36m50\u001b[0m\u001b[36m custom URLs \u001b[0m\n"
      ]
     },
     "metadata": {},
     "output_type": "display_data"
    },
    {
     "data": {
      "text/html": [
       "<pre style=\"white-space:pre;overflow-x:auto;line-height:normal;font-family:Menlo,'DejaVu Sans Mono',consolas,'Courier New',monospace\"><span style=\"color: #808080; text-decoration-color: #808080; font-weight: bold\">[</span><span style=\"color: #808080; text-decoration-color: #808080\">URL_SEED</span><span style=\"color: #808080; text-decoration-color: #808080; font-weight: bold\">]</span><span style=\"color: #808080; text-decoration-color: #808080\"> ℹ Fetching head for </span><span style=\"color: #808080; text-decoration-color: #808080; text-decoration: underline\">https://loigiaihay.com/</span><span style=\"color: #808080; text-decoration-color: #808080\"> </span>\n",
       "</pre>\n"
      ],
      "text/plain": [
       "\u001b[1;90m[\u001b[0m\u001b[90mURL_SEED\u001b[0m\u001b[1;90m]\u001b[0m\u001b[90m ℹ Fetching head for \u001b[0m\u001b[4;90mhttps://loigiaihay.com/\u001b[0m\u001b[90m \u001b[0m\n"
      ]
     },
     "metadata": {},
     "output_type": "display_data"
    },
    {
     "data": {
      "text/html": [
       "<pre style=\"white-space:pre;overflow-x:auto;line-height:normal;font-family:Menlo,'DejaVu Sans Mono',consolas,'Courier New',monospace\"><span style=\"color: #808080; text-decoration-color: #808080; font-weight: bold\">[</span><span style=\"color: #808080; text-decoration-color: #808080\">URL_SEED</span><span style=\"color: #808080; text-decoration-color: #808080; font-weight: bold\">]</span><span style=\"color: #808080; text-decoration-color: #808080\"> ℹ Fetching head for </span><span style=\"color: #808080; text-decoration-color: #808080; text-decoration: underline\">https://loigiaihay.com/lop-12.html</span><span style=\"color: #808080; text-decoration-color: #808080\"> </span>\n",
       "</pre>\n"
      ],
      "text/plain": [
       "\u001b[1;90m[\u001b[0m\u001b[90mURL_SEED\u001b[0m\u001b[1;90m]\u001b[0m\u001b[90m ℹ Fetching head for \u001b[0m\u001b[4;90mhttps://loigiaihay.com/lop-12.html\u001b[0m\u001b[90m \u001b[0m\n"
      ]
     },
     "metadata": {},
     "output_type": "display_data"
    },
    {
     "data": {
      "text/html": [
       "<pre style=\"white-space:pre;overflow-x:auto;line-height:normal;font-family:Menlo,'DejaVu Sans Mono',consolas,'Courier New',monospace\"><span style=\"color: #808080; text-decoration-color: #808080; font-weight: bold\">[</span><span style=\"color: #808080; text-decoration-color: #808080\">URL_SEED</span><span style=\"color: #808080; text-decoration-color: #808080; font-weight: bold\">]</span><span style=\"color: #808080; text-decoration-color: #808080\"> ℹ Fetching head for </span><span style=\"color: #808080; text-decoration-color: #808080; text-decoration: underline\">https://loigiaihay.com/soan-van-12-ket-noi-tri-thuc-c1737.html</span><span style=\"color: #808080; text-decoration-color: #808080\"> </span>\n",
       "</pre>\n"
      ],
      "text/plain": [
       "\u001b[1;90m[\u001b[0m\u001b[90mURL_SEED\u001b[0m\u001b[1;90m]\u001b[0m\u001b[90m ℹ Fetching head for \u001b[0m\u001b[4;90mhttps://loigiaihay.com/soan-van-12-ket-noi-tri-thuc-c1737.html\u001b[0m\u001b[90m \u001b[0m\n"
      ]
     },
     "metadata": {},
     "output_type": "display_data"
    },
    {
     "data": {
      "text/html": [
       "<pre style=\"white-space:pre;overflow-x:auto;line-height:normal;font-family:Menlo,'DejaVu Sans Mono',consolas,'Courier New',monospace\"><span style=\"color: #808080; text-decoration-color: #808080; font-weight: bold\">[</span><span style=\"color: #808080; text-decoration-color: #808080\">URL_SEED</span><span style=\"color: #808080; text-decoration-color: #808080; font-weight: bold\">]</span><span style=\"color: #808080; text-decoration-color: #808080\"> ℹ Fetching head for </span><span style=\"color: #808080; text-decoration-color: #808080; text-decoration: underline\">https://loigiaihay.com/soan-van-12-canh-dieu-c1738.html</span><span style=\"color: #808080; text-decoration-color: #808080\"> </span>\n",
       "</pre>\n"
      ],
      "text/plain": [
       "\u001b[1;90m[\u001b[0m\u001b[90mURL_SEED\u001b[0m\u001b[1;90m]\u001b[0m\u001b[90m ℹ Fetching head for \u001b[0m\u001b[4;90mhttps://loigiaihay.com/soan-van-12-canh-dieu-c1738.html\u001b[0m\u001b[90m \u001b[0m\n"
      ]
     },
     "metadata": {},
     "output_type": "display_data"
    },
    {
     "data": {
      "text/html": [
       "<pre style=\"white-space:pre;overflow-x:auto;line-height:normal;font-family:Menlo,'DejaVu Sans Mono',consolas,'Courier New',monospace\"><span style=\"color: #808080; text-decoration-color: #808080; font-weight: bold\">[</span><span style=\"color: #808080; text-decoration-color: #808080\">URL_SEED</span><span style=\"color: #808080; text-decoration-color: #808080; font-weight: bold\">]</span><span style=\"color: #808080; text-decoration-color: #808080\"> ℹ Fetching head for </span><span style=\"color: #808080; text-decoration-color: #808080; text-decoration: underline\">https://loigiaihay.com/soan-van-12-chan-troi-sang-tao-c1739.html</span><span style=\"color: #808080; text-decoration-color: #808080\"> </span>\n",
       "</pre>\n"
      ],
      "text/plain": [
       "\u001b[1;90m[\u001b[0m\u001b[90mURL_SEED\u001b[0m\u001b[1;90m]\u001b[0m\u001b[90m ℹ Fetching head for \u001b[0m\u001b[4;90mhttps://loigiaihay.com/soan-van-12-chan-troi-sang-tao-c1739.html\u001b[0m\u001b[90m \u001b[0m\n"
      ]
     },
     "metadata": {},
     "output_type": "display_data"
    },
    {
     "data": {
      "text/html": [
       "<pre style=\"white-space:pre;overflow-x:auto;line-height:normal;font-family:Menlo,'DejaVu Sans Mono',consolas,'Courier New',monospace\"><span style=\"color: #008080; text-decoration-color: #008080; font-weight: bold\">[</span><span style=\"color: #008080; text-decoration-color: #008080\">URL_SEED</span><span style=\"color: #008080; text-decoration-color: #008080; font-weight: bold\">]</span><span style=\"color: #008080; text-decoration-color: #008080\"> ℹ HEAD VALID for </span><span style=\"color: #008080; text-decoration-color: #008080; text-decoration: underline\">https://loigiaihay.com/</span><span style=\"color: #008080; text-decoration-color: #008080\"> </span>\n",
       "</pre>\n"
      ],
      "text/plain": [
       "\u001b[1;36m[\u001b[0m\u001b[36mURL_SEED\u001b[0m\u001b[1;36m]\u001b[0m\u001b[36m ℹ HEAD VALID for \u001b[0m\u001b[4;36mhttps://loigiaihay.com/\u001b[0m\u001b[36m \u001b[0m\n"
      ]
     },
     "metadata": {},
     "output_type": "display_data"
    },
    {
     "data": {
      "text/html": [
       "<pre style=\"white-space:pre;overflow-x:auto;line-height:normal;font-family:Menlo,'DejaVu Sans Mono',consolas,'Courier New',monospace\"><span style=\"color: #808080; text-decoration-color: #808080; font-weight: bold\">[</span><span style=\"color: #808080; text-decoration-color: #808080\">URL_SEED</span><span style=\"color: #808080; text-decoration-color: #808080; font-weight: bold\">]</span><span style=\"color: #808080; text-decoration-color: #808080\"> ℹ Fetching head for </span><span style=\"color: #808080; text-decoration-color: #808080; text-decoration: underline\">https://loigiaihay.com/tac-gia-tac-pham-lop-12-c1851.html</span><span style=\"color: #808080; text-decoration-color: #808080\"> </span>\n",
       "</pre>\n"
      ],
      "text/plain": [
       "\u001b[1;90m[\u001b[0m\u001b[90mURL_SEED\u001b[0m\u001b[1;90m]\u001b[0m\u001b[90m ℹ Fetching head for \u001b[0m\u001b[4;90mhttps://loigiaihay.com/tac-gia-tac-pham-lop-12-c1851.html\u001b[0m\u001b[90m \u001b[0m\n"
      ]
     },
     "metadata": {},
     "output_type": "display_data"
    },
    {
     "data": {
      "text/html": [
       "<pre style=\"white-space:pre;overflow-x:auto;line-height:normal;font-family:Menlo,'DejaVu Sans Mono',consolas,'Courier New',monospace\"><span style=\"color: #008080; text-decoration-color: #008080; font-weight: bold\">[</span><span style=\"color: #008080; text-decoration-color: #008080\">URL_SEED</span><span style=\"color: #008080; text-decoration-color: #008080; font-weight: bold\">]</span><span style=\"color: #008080; text-decoration-color: #008080\"> ℹ HEAD VALID for </span><span style=\"color: #008080; text-decoration-color: #008080; text-decoration: underline\">https://loigiaihay.com/soan-van-12-chan-troi-sang-tao-c1739.html</span><span style=\"color: #008080; text-decoration-color: #008080\"> </span>\n",
       "</pre>\n"
      ],
      "text/plain": [
       "\u001b[1;36m[\u001b[0m\u001b[36mURL_SEED\u001b[0m\u001b[1;36m]\u001b[0m\u001b[36m ℹ HEAD VALID for \u001b[0m\u001b[4;36mhttps://loigiaihay.com/soan-van-12-chan-troi-sang-tao-c1739.html\u001b[0m\u001b[36m \u001b[0m\n"
      ]
     },
     "metadata": {},
     "output_type": "display_data"
    },
    {
     "data": {
      "text/html": [
       "<pre style=\"white-space:pre;overflow-x:auto;line-height:normal;font-family:Menlo,'DejaVu Sans Mono',consolas,'Courier New',monospace\"><span style=\"color: #808080; text-decoration-color: #808080; font-weight: bold\">[</span><span style=\"color: #808080; text-decoration-color: #808080\">URL_SEED</span><span style=\"color: #808080; text-decoration-color: #808080; font-weight: bold\">]</span><span style=\"color: #808080; text-decoration-color: #808080\"> ℹ Fetching head for </span><span style=\"color: #808080; text-decoration-color: #808080; text-decoration: underline\">https://loigiaihay.com/tom-tat-bo-cuc-van-12-ket-noi-tri-thuc-c1848.html</span><span style=\"color: #808080; text-decoration-color: #808080\"> </span>\n",
       "</pre>\n"
      ],
      "text/plain": [
       "\u001b[1;90m[\u001b[0m\u001b[90mURL_SEED\u001b[0m\u001b[1;90m]\u001b[0m\u001b[90m ℹ Fetching head for \u001b[0m\u001b[4;90mhttps://loigiaihay.com/tom-tat-bo-cuc-van-12-ket-noi-tri-thuc-c1848.html\u001b[0m\u001b[90m \u001b[0m\n"
      ]
     },
     "metadata": {},
     "output_type": "display_data"
    },
    {
     "data": {
      "text/html": [
       "<pre style=\"white-space:pre;overflow-x:auto;line-height:normal;font-family:Menlo,'DejaVu Sans Mono',consolas,'Courier New',monospace\"><span style=\"color: #008080; text-decoration-color: #008080; font-weight: bold\">[</span><span style=\"color: #008080; text-decoration-color: #008080\">URL_SEED</span><span style=\"color: #008080; text-decoration-color: #008080; font-weight: bold\">]</span><span style=\"color: #008080; text-decoration-color: #008080\"> ℹ HEAD VALID for </span><span style=\"color: #008080; text-decoration-color: #008080; text-decoration: underline\">https://loigiaihay.com/lop-12.html</span><span style=\"color: #008080; text-decoration-color: #008080\"> </span>\n",
       "</pre>\n"
      ],
      "text/plain": [
       "\u001b[1;36m[\u001b[0m\u001b[36mURL_SEED\u001b[0m\u001b[1;36m]\u001b[0m\u001b[36m ℹ HEAD VALID for \u001b[0m\u001b[4;36mhttps://loigiaihay.com/lop-12.html\u001b[0m\u001b[36m \u001b[0m\n"
      ]
     },
     "metadata": {},
     "output_type": "display_data"
    },
    {
     "data": {
      "text/html": [
       "<pre style=\"white-space:pre;overflow-x:auto;line-height:normal;font-family:Menlo,'DejaVu Sans Mono',consolas,'Courier New',monospace\"><span style=\"color: #808080; text-decoration-color: #808080; font-weight: bold\">[</span><span style=\"color: #808080; text-decoration-color: #808080\">URL_SEED</span><span style=\"color: #808080; text-decoration-color: #808080; font-weight: bold\">]</span><span style=\"color: #808080; text-decoration-color: #808080\"> ℹ Fetching head for </span><span style=\"color: #808080; text-decoration-color: #808080; text-decoration: underline\">https://loigiaihay.com/tom-tat-bo-cuc-van-12-canh-dieu-c1849.html</span><span style=\"color: #808080; text-decoration-color: #808080\"> </span>\n",
       "</pre>\n"
      ],
      "text/plain": [
       "\u001b[1;90m[\u001b[0m\u001b[90mURL_SEED\u001b[0m\u001b[1;90m]\u001b[0m\u001b[90m ℹ Fetching head for \u001b[0m\u001b[4;90mhttps://loigiaihay.com/tom-tat-bo-cuc-van-12-canh-dieu-c1849.html\u001b[0m\u001b[90m \u001b[0m\n"
      ]
     },
     "metadata": {},
     "output_type": "display_data"
    },
    {
     "data": {
      "text/html": [
       "<pre style=\"white-space:pre;overflow-x:auto;line-height:normal;font-family:Menlo,'DejaVu Sans Mono',consolas,'Courier New',monospace\"><span style=\"color: #008080; text-decoration-color: #008080; font-weight: bold\">[</span><span style=\"color: #008080; text-decoration-color: #008080\">URL_SEED</span><span style=\"color: #008080; text-decoration-color: #008080; font-weight: bold\">]</span><span style=\"color: #008080; text-decoration-color: #008080\"> ℹ HEAD VALID for </span><span style=\"color: #008080; text-decoration-color: #008080; text-decoration: underline\">https://loigiaihay.com/soan-van-12-ket-noi-tri-thuc-c1737.html</span><span style=\"color: #008080; text-decoration-color: #008080\"> </span>\n",
       "</pre>\n"
      ],
      "text/plain": [
       "\u001b[1;36m[\u001b[0m\u001b[36mURL_SEED\u001b[0m\u001b[1;36m]\u001b[0m\u001b[36m ℹ HEAD VALID for \u001b[0m\u001b[4;36mhttps://loigiaihay.com/soan-van-12-ket-noi-tri-thuc-c1737.html\u001b[0m\u001b[36m \u001b[0m\n"
      ]
     },
     "metadata": {},
     "output_type": "display_data"
    },
    {
     "data": {
      "text/html": [
       "<pre style=\"white-space:pre;overflow-x:auto;line-height:normal;font-family:Menlo,'DejaVu Sans Mono',consolas,'Courier New',monospace\"><span style=\"color: #808080; text-decoration-color: #808080; font-weight: bold\">[</span><span style=\"color: #808080; text-decoration-color: #808080\">URL_SEED</span><span style=\"color: #808080; text-decoration-color: #808080; font-weight: bold\">]</span><span style=\"color: #808080; text-decoration-color: #808080\"> ℹ Fetching head for </span><span style=\"color: #808080; text-decoration-color: #808080; text-decoration: underline\">https://loigiaihay.com/tom-tat-bo-cuc-van-12-chan-troi-sang-tao-c1850.html</span><span style=\"color: #808080; text-decoration-color: #808080\"> </span>\n",
       "</pre>\n"
      ],
      "text/plain": [
       "\u001b[1;90m[\u001b[0m\u001b[90mURL_SEED\u001b[0m\u001b[1;90m]\u001b[0m\u001b[90m ℹ Fetching head for \u001b[0m\u001b[4;90mhttps://loigiaihay.com/tom-tat-bo-cuc-van-12-chan-troi-sang-tao-c1850.html\u001b[0m\u001b[90m \u001b[0m\n"
      ]
     },
     "metadata": {},
     "output_type": "display_data"
    },
    {
     "data": {
      "text/html": [
       "<pre style=\"white-space:pre;overflow-x:auto;line-height:normal;font-family:Menlo,'DejaVu Sans Mono',consolas,'Courier New',monospace\"><span style=\"color: #008080; text-decoration-color: #008080; font-weight: bold\">[</span><span style=\"color: #008080; text-decoration-color: #008080\">URL_SEED</span><span style=\"color: #008080; text-decoration-color: #008080; font-weight: bold\">]</span><span style=\"color: #008080; text-decoration-color: #008080\"> ℹ HEAD VALID for </span><span style=\"color: #008080; text-decoration-color: #008080; text-decoration: underline\">https://loigiaihay.com/soan-van-12-canh-dieu-c1738.html</span><span style=\"color: #008080; text-decoration-color: #008080\"> </span>\n",
       "</pre>\n"
      ],
      "text/plain": [
       "\u001b[1;36m[\u001b[0m\u001b[36mURL_SEED\u001b[0m\u001b[1;36m]\u001b[0m\u001b[36m ℹ HEAD VALID for \u001b[0m\u001b[4;36mhttps://loigiaihay.com/soan-van-12-canh-dieu-c1738.html\u001b[0m\u001b[36m \u001b[0m\n"
      ]
     },
     "metadata": {},
     "output_type": "display_data"
    },
    {
     "data": {
      "text/html": [
       "<pre style=\"white-space:pre;overflow-x:auto;line-height:normal;font-family:Menlo,'DejaVu Sans Mono',consolas,'Courier New',monospace\"><span style=\"color: #808080; text-decoration-color: #808080; font-weight: bold\">[</span><span style=\"color: #808080; text-decoration-color: #808080\">URL_SEED</span><span style=\"color: #808080; text-decoration-color: #808080; font-weight: bold\">]</span><span style=\"color: #808080; text-decoration-color: #808080\"> ℹ Fetching head for </span><span style=\"color: #808080; text-decoration-color: #808080; text-decoration: underline\">https://loigiaihay.com/sbt-van-12-ket-noi-tri-thuc-c1885.html</span><span style=\"color: #808080; text-decoration-color: #808080\"> </span>\n",
       "</pre>\n"
      ],
      "text/plain": [
       "\u001b[1;90m[\u001b[0m\u001b[90mURL_SEED\u001b[0m\u001b[1;90m]\u001b[0m\u001b[90m ℹ Fetching head for \u001b[0m\u001b[4;90mhttps://loigiaihay.com/sbt-van-12-ket-noi-tri-thuc-c1885.html\u001b[0m\u001b[90m \u001b[0m\n"
      ]
     },
     "metadata": {},
     "output_type": "display_data"
    },
    {
     "data": {
      "text/html": [
       "<pre style=\"white-space:pre;overflow-x:auto;line-height:normal;font-family:Menlo,'DejaVu Sans Mono',consolas,'Courier New',monospace\"><span style=\"color: #008080; text-decoration-color: #008080; font-weight: bold\">[</span><span style=\"color: #008080; text-decoration-color: #008080\">URL_SEED</span><span style=\"color: #008080; text-decoration-color: #008080; font-weight: bold\">]</span><span style=\"color: #008080; text-decoration-color: #008080\"> ℹ HEAD VALID for </span><span style=\"color: #008080; text-decoration-color: #008080; text-decoration: underline\">https://loigiaihay.com/tac-gia-tac-pham-lop-12-c1851.html</span><span style=\"color: #008080; text-decoration-color: #008080\"> </span>\n",
       "</pre>\n"
      ],
      "text/plain": [
       "\u001b[1;36m[\u001b[0m\u001b[36mURL_SEED\u001b[0m\u001b[1;36m]\u001b[0m\u001b[36m ℹ HEAD VALID for \u001b[0m\u001b[4;36mhttps://loigiaihay.com/tac-gia-tac-pham-lop-12-c1851.html\u001b[0m\u001b[36m \u001b[0m\n"
      ]
     },
     "metadata": {},
     "output_type": "display_data"
    },
    {
     "data": {
      "text/html": [
       "<pre style=\"white-space:pre;overflow-x:auto;line-height:normal;font-family:Menlo,'DejaVu Sans Mono',consolas,'Courier New',monospace\"><span style=\"color: #808080; text-decoration-color: #808080; font-weight: bold\">[</span><span style=\"color: #808080; text-decoration-color: #808080\">URL_SEED</span><span style=\"color: #808080; text-decoration-color: #808080; font-weight: bold\">]</span><span style=\"color: #808080; text-decoration-color: #808080\"> ℹ Fetching head for </span><span style=\"color: #808080; text-decoration-color: #808080; text-decoration: underline\">https://loigiaihay.com/sgk-toan-12-ket-noi-tri-thuc-c1783.html</span><span style=\"color: #808080; text-decoration-color: #808080\"> </span>\n",
       "</pre>\n"
      ],
      "text/plain": [
       "\u001b[1;90m[\u001b[0m\u001b[90mURL_SEED\u001b[0m\u001b[1;90m]\u001b[0m\u001b[90m ℹ Fetching head for \u001b[0m\u001b[4;90mhttps://loigiaihay.com/sgk-toan-12-ket-noi-tri-thuc-c1783.html\u001b[0m\u001b[90m \u001b[0m\n"
      ]
     },
     "metadata": {},
     "output_type": "display_data"
    },
    {
     "data": {
      "text/html": [
       "<pre style=\"white-space:pre;overflow-x:auto;line-height:normal;font-family:Menlo,'DejaVu Sans Mono',consolas,'Courier New',monospace\"><span style=\"color: #008080; text-decoration-color: #008080; font-weight: bold\">[</span><span style=\"color: #008080; text-decoration-color: #008080\">URL_SEED</span><span style=\"color: #008080; text-decoration-color: #008080; font-weight: bold\">]</span><span style=\"color: #008080; text-decoration-color: #008080\"> ℹ HEAD VALID for </span><span style=\"color: #008080; text-decoration-color: #008080; text-decoration: underline\">https://loigiaihay.com/tom-tat-bo-cuc-van-12-ket-noi-tri-thuc-c1848.html</span><span style=\"color: #008080; text-decoration-color: #008080\"> </span>\n",
       "</pre>\n"
      ],
      "text/plain": [
       "\u001b[1;36m[\u001b[0m\u001b[36mURL_SEED\u001b[0m\u001b[1;36m]\u001b[0m\u001b[36m ℹ HEAD VALID for \u001b[0m\u001b[4;36mhttps://loigiaihay.com/tom-tat-bo-cuc-van-12-ket-noi-tri-thuc-c1848.html\u001b[0m\u001b[36m \u001b[0m\n"
      ]
     },
     "metadata": {},
     "output_type": "display_data"
    },
    {
     "data": {
      "text/html": [
       "<pre style=\"white-space:pre;overflow-x:auto;line-height:normal;font-family:Menlo,'DejaVu Sans Mono',consolas,'Courier New',monospace\"><span style=\"color: #808080; text-decoration-color: #808080; font-weight: bold\">[</span><span style=\"color: #808080; text-decoration-color: #808080\">URL_SEED</span><span style=\"color: #808080; text-decoration-color: #808080; font-weight: bold\">]</span><span style=\"color: #808080; text-decoration-color: #808080\"> ℹ Fetching head for </span><span style=\"color: #808080; text-decoration-color: #808080; text-decoration: underline\">https://loigiaihay.com/sgk-toan-12-canh-dieu-c1785.html</span><span style=\"color: #808080; text-decoration-color: #808080\"> </span>\n",
       "</pre>\n"
      ],
      "text/plain": [
       "\u001b[1;90m[\u001b[0m\u001b[90mURL_SEED\u001b[0m\u001b[1;90m]\u001b[0m\u001b[90m ℹ Fetching head for \u001b[0m\u001b[4;90mhttps://loigiaihay.com/sgk-toan-12-canh-dieu-c1785.html\u001b[0m\u001b[90m \u001b[0m\n"
      ]
     },
     "metadata": {},
     "output_type": "display_data"
    },
    {
     "data": {
      "text/html": [
       "<pre style=\"white-space:pre;overflow-x:auto;line-height:normal;font-family:Menlo,'DejaVu Sans Mono',consolas,'Courier New',monospace\"><span style=\"color: #008080; text-decoration-color: #008080; font-weight: bold\">[</span><span style=\"color: #008080; text-decoration-color: #008080\">URL_SEED</span><span style=\"color: #008080; text-decoration-color: #008080; font-weight: bold\">]</span><span style=\"color: #008080; text-decoration-color: #008080\"> ℹ HEAD VALID for </span><span style=\"color: #008080; text-decoration-color: #008080; text-decoration: underline\">https://loigiaihay.com/tom-tat-bo-cuc-van-12-canh-dieu-c1849.html</span><span style=\"color: #008080; text-decoration-color: #008080\"> </span>\n",
       "</pre>\n"
      ],
      "text/plain": [
       "\u001b[1;36m[\u001b[0m\u001b[36mURL_SEED\u001b[0m\u001b[1;36m]\u001b[0m\u001b[36m ℹ HEAD VALID for \u001b[0m\u001b[4;36mhttps://loigiaihay.com/tom-tat-bo-cuc-van-12-canh-dieu-c1849.html\u001b[0m\u001b[36m \u001b[0m\n"
      ]
     },
     "metadata": {},
     "output_type": "display_data"
    },
    {
     "data": {
      "text/html": [
       "<pre style=\"white-space:pre;overflow-x:auto;line-height:normal;font-family:Menlo,'DejaVu Sans Mono',consolas,'Courier New',monospace\"><span style=\"color: #808080; text-decoration-color: #808080; font-weight: bold\">[</span><span style=\"color: #808080; text-decoration-color: #808080\">URL_SEED</span><span style=\"color: #808080; text-decoration-color: #808080; font-weight: bold\">]</span><span style=\"color: #808080; text-decoration-color: #808080\"> ℹ Fetching head for </span><span style=\"color: #808080; text-decoration-color: #808080; text-decoration: underline\">https://loigiaihay.com/sgk-toan-12-chan-troi-sang-tao-c1784.html</span><span style=\"color: #808080; text-decoration-color: #808080\"> </span>\n",
       "</pre>\n"
      ],
      "text/plain": [
       "\u001b[1;90m[\u001b[0m\u001b[90mURL_SEED\u001b[0m\u001b[1;90m]\u001b[0m\u001b[90m ℹ Fetching head for \u001b[0m\u001b[4;90mhttps://loigiaihay.com/sgk-toan-12-chan-troi-sang-tao-c1784.html\u001b[0m\u001b[90m \u001b[0m\n"
      ]
     },
     "metadata": {},
     "output_type": "display_data"
    },
    {
     "data": {
      "text/html": [
       "<pre style=\"white-space:pre;overflow-x:auto;line-height:normal;font-family:Menlo,'DejaVu Sans Mono',consolas,'Courier New',monospace\"><span style=\"color: #008080; text-decoration-color: #008080; font-weight: bold\">[</span><span style=\"color: #008080; text-decoration-color: #008080\">URL_SEED</span><span style=\"color: #008080; text-decoration-color: #008080; font-weight: bold\">]</span><span style=\"color: #008080; text-decoration-color: #008080\"> ℹ HEAD VALID for </span><span style=\"color: #008080; text-decoration-color: #008080; text-decoration: underline\">https://loigiaihay.com/tom-tat-bo-cuc-van-12-chan-troi-sang-tao-c1850.html</span><span style=\"color: #008080; text-decoration-color: #008080\"> </span>\n",
       "</pre>\n"
      ],
      "text/plain": [
       "\u001b[1;36m[\u001b[0m\u001b[36mURL_SEED\u001b[0m\u001b[1;36m]\u001b[0m\u001b[36m ℹ HEAD VALID for \u001b[0m\u001b[4;36mhttps://loigiaihay.com/tom-tat-bo-cuc-van-12-chan-troi-sang-tao-c1850.html\u001b[0m\u001b[36m \u001b[0m\n"
      ]
     },
     "metadata": {},
     "output_type": "display_data"
    },
    {
     "data": {
      "text/html": [
       "<pre style=\"white-space:pre;overflow-x:auto;line-height:normal;font-family:Menlo,'DejaVu Sans Mono',consolas,'Courier New',monospace\"><span style=\"color: #808080; text-decoration-color: #808080; font-weight: bold\">[</span><span style=\"color: #808080; text-decoration-color: #808080\">URL_SEED</span><span style=\"color: #808080; text-decoration-color: #808080; font-weight: bold\">]</span><span style=\"color: #808080; text-decoration-color: #808080\"> ℹ Fetching head for </span><span style=\"color: #808080; text-decoration-color: #808080; text-decoration: underline\">https://loigiaihay.com/sgk-toan-12-cung-kham-pha-c1791.html</span><span style=\"color: #808080; text-decoration-color: #808080\"> </span>\n",
       "</pre>\n"
      ],
      "text/plain": [
       "\u001b[1;90m[\u001b[0m\u001b[90mURL_SEED\u001b[0m\u001b[1;90m]\u001b[0m\u001b[90m ℹ Fetching head for \u001b[0m\u001b[4;90mhttps://loigiaihay.com/sgk-toan-12-cung-kham-pha-c1791.html\u001b[0m\u001b[90m \u001b[0m\n"
      ]
     },
     "metadata": {},
     "output_type": "display_data"
    },
    {
     "data": {
      "text/html": [
       "<pre style=\"white-space:pre;overflow-x:auto;line-height:normal;font-family:Menlo,'DejaVu Sans Mono',consolas,'Courier New',monospace\"><span style=\"color: #008080; text-decoration-color: #008080; font-weight: bold\">[</span><span style=\"color: #008080; text-decoration-color: #008080\">URL_SEED</span><span style=\"color: #008080; text-decoration-color: #008080; font-weight: bold\">]</span><span style=\"color: #008080; text-decoration-color: #008080\"> ℹ HEAD VALID for </span><span style=\"color: #008080; text-decoration-color: #008080; text-decoration: underline\">https://loigiaihay.com/sbt-van-12-ket-noi-tri-thuc-c1885.html</span><span style=\"color: #008080; text-decoration-color: #008080\"> </span>\n",
       "</pre>\n"
      ],
      "text/plain": [
       "\u001b[1;36m[\u001b[0m\u001b[36mURL_SEED\u001b[0m\u001b[1;36m]\u001b[0m\u001b[36m ℹ HEAD VALID for \u001b[0m\u001b[4;36mhttps://loigiaihay.com/sbt-van-12-ket-noi-tri-thuc-c1885.html\u001b[0m\u001b[36m \u001b[0m\n"
      ]
     },
     "metadata": {},
     "output_type": "display_data"
    },
    {
     "data": {
      "text/html": [
       "<pre style=\"white-space:pre;overflow-x:auto;line-height:normal;font-family:Menlo,'DejaVu Sans Mono',consolas,'Courier New',monospace\"><span style=\"color: #808080; text-decoration-color: #808080; font-weight: bold\">[</span><span style=\"color: #808080; text-decoration-color: #808080\">URL_SEED</span><span style=\"color: #808080; text-decoration-color: #808080; font-weight: bold\">]</span><span style=\"color: #808080; text-decoration-color: #808080\"> ℹ Fetching head for </span><span style=\"color: #808080; text-decoration-color: #808080; text-decoration: underline\">https://loigiaihay.com/sbt-toan-12-ket-noi-tri-thuc-c1959.html</span><span style=\"color: #808080; text-decoration-color: #808080\"> </span>\n",
       "</pre>\n"
      ],
      "text/plain": [
       "\u001b[1;90m[\u001b[0m\u001b[90mURL_SEED\u001b[0m\u001b[1;90m]\u001b[0m\u001b[90m ℹ Fetching head for \u001b[0m\u001b[4;90mhttps://loigiaihay.com/sbt-toan-12-ket-noi-tri-thuc-c1959.html\u001b[0m\u001b[90m \u001b[0m\n"
      ]
     },
     "metadata": {},
     "output_type": "display_data"
    },
    {
     "data": {
      "text/html": [
       "<pre style=\"white-space:pre;overflow-x:auto;line-height:normal;font-family:Menlo,'DejaVu Sans Mono',consolas,'Courier New',monospace\"><span style=\"color: #008080; text-decoration-color: #008080; font-weight: bold\">[</span><span style=\"color: #008080; text-decoration-color: #008080\">URL_SEED</span><span style=\"color: #008080; text-decoration-color: #008080; font-weight: bold\">]</span><span style=\"color: #008080; text-decoration-color: #008080\"> ℹ HEAD VALID for </span><span style=\"color: #008080; text-decoration-color: #008080; text-decoration: underline\">https://loigiaihay.com/sgk-toan-12-ket-noi-tri-thuc-c1783.html</span><span style=\"color: #008080; text-decoration-color: #008080\"> </span>\n",
       "</pre>\n"
      ],
      "text/plain": [
       "\u001b[1;36m[\u001b[0m\u001b[36mURL_SEED\u001b[0m\u001b[1;36m]\u001b[0m\u001b[36m ℹ HEAD VALID for \u001b[0m\u001b[4;36mhttps://loigiaihay.com/sgk-toan-12-ket-noi-tri-thuc-c1783.html\u001b[0m\u001b[36m \u001b[0m\n"
      ]
     },
     "metadata": {},
     "output_type": "display_data"
    },
    {
     "data": {
      "text/html": [
       "<pre style=\"white-space:pre;overflow-x:auto;line-height:normal;font-family:Menlo,'DejaVu Sans Mono',consolas,'Courier New',monospace\"><span style=\"color: #808080; text-decoration-color: #808080; font-weight: bold\">[</span><span style=\"color: #808080; text-decoration-color: #808080\">URL_SEED</span><span style=\"color: #808080; text-decoration-color: #808080; font-weight: bold\">]</span><span style=\"color: #808080; text-decoration-color: #808080\"> ℹ Fetching head for </span><span style=\"color: #808080; text-decoration-color: #808080; text-decoration: underline\">https://loigiaihay.com/sbt-toan-12-canh-dieu-c1954.html</span><span style=\"color: #808080; text-decoration-color: #808080\"> </span>\n",
       "</pre>\n"
      ],
      "text/plain": [
       "\u001b[1;90m[\u001b[0m\u001b[90mURL_SEED\u001b[0m\u001b[1;90m]\u001b[0m\u001b[90m ℹ Fetching head for \u001b[0m\u001b[4;90mhttps://loigiaihay.com/sbt-toan-12-canh-dieu-c1954.html\u001b[0m\u001b[90m \u001b[0m\n"
      ]
     },
     "metadata": {},
     "output_type": "display_data"
    },
    {
     "data": {
      "text/html": [
       "<pre style=\"white-space:pre;overflow-x:auto;line-height:normal;font-family:Menlo,'DejaVu Sans Mono',consolas,'Courier New',monospace\"><span style=\"color: #008080; text-decoration-color: #008080; font-weight: bold\">[</span><span style=\"color: #008080; text-decoration-color: #008080\">URL_SEED</span><span style=\"color: #008080; text-decoration-color: #008080; font-weight: bold\">]</span><span style=\"color: #008080; text-decoration-color: #008080\"> ℹ HEAD VALID for </span><span style=\"color: #008080; text-decoration-color: #008080; text-decoration: underline\">https://loigiaihay.com/sgk-toan-12-canh-dieu-c1785.html</span><span style=\"color: #008080; text-decoration-color: #008080\"> </span>\n",
       "</pre>\n"
      ],
      "text/plain": [
       "\u001b[1;36m[\u001b[0m\u001b[36mURL_SEED\u001b[0m\u001b[1;36m]\u001b[0m\u001b[36m ℹ HEAD VALID for \u001b[0m\u001b[4;36mhttps://loigiaihay.com/sgk-toan-12-canh-dieu-c1785.html\u001b[0m\u001b[36m \u001b[0m\n"
      ]
     },
     "metadata": {},
     "output_type": "display_data"
    },
    {
     "data": {
      "text/html": [
       "<pre style=\"white-space:pre;overflow-x:auto;line-height:normal;font-family:Menlo,'DejaVu Sans Mono',consolas,'Courier New',monospace\"><span style=\"color: #808080; text-decoration-color: #808080; font-weight: bold\">[</span><span style=\"color: #808080; text-decoration-color: #808080\">URL_SEED</span><span style=\"color: #808080; text-decoration-color: #808080; font-weight: bold\">]</span><span style=\"color: #808080; text-decoration-color: #808080\"> ℹ Fetching head for </span><span style=\"color: #808080; text-decoration-color: #808080; text-decoration: underline\">https://loigiaihay.com/sbt-toan-12-chan-troi-sang-tao-c1960.html</span><span style=\"color: #808080; text-decoration-color: #808080\"> </span>\n",
       "</pre>\n"
      ],
      "text/plain": [
       "\u001b[1;90m[\u001b[0m\u001b[90mURL_SEED\u001b[0m\u001b[1;90m]\u001b[0m\u001b[90m ℹ Fetching head for \u001b[0m\u001b[4;90mhttps://loigiaihay.com/sbt-toan-12-chan-troi-sang-tao-c1960.html\u001b[0m\u001b[90m \u001b[0m\n"
      ]
     },
     "metadata": {},
     "output_type": "display_data"
    },
    {
     "data": {
      "text/html": [
       "<pre style=\"white-space:pre;overflow-x:auto;line-height:normal;font-family:Menlo,'DejaVu Sans Mono',consolas,'Courier New',monospace\"><span style=\"color: #008080; text-decoration-color: #008080; font-weight: bold\">[</span><span style=\"color: #008080; text-decoration-color: #008080\">URL_SEED</span><span style=\"color: #008080; text-decoration-color: #008080; font-weight: bold\">]</span><span style=\"color: #008080; text-decoration-color: #008080\"> ℹ HEAD VALID for </span><span style=\"color: #008080; text-decoration-color: #008080; text-decoration: underline\">https://loigiaihay.com/sgk-toan-12-chan-troi-sang-tao-c1784.html</span><span style=\"color: #008080; text-decoration-color: #008080\"> </span>\n",
       "</pre>\n"
      ],
      "text/plain": [
       "\u001b[1;36m[\u001b[0m\u001b[36mURL_SEED\u001b[0m\u001b[1;36m]\u001b[0m\u001b[36m ℹ HEAD VALID for \u001b[0m\u001b[4;36mhttps://loigiaihay.com/sgk-toan-12-chan-troi-sang-tao-c1784.html\u001b[0m\u001b[36m \u001b[0m\n"
      ]
     },
     "metadata": {},
     "output_type": "display_data"
    },
    {
     "data": {
      "text/html": [
       "<pre style=\"white-space:pre;overflow-x:auto;line-height:normal;font-family:Menlo,'DejaVu Sans Mono',consolas,'Courier New',monospace\"><span style=\"color: #808080; text-decoration-color: #808080; font-weight: bold\">[</span><span style=\"color: #808080; text-decoration-color: #808080\">URL_SEED</span><span style=\"color: #808080; text-decoration-color: #808080; font-weight: bold\">]</span><span style=\"color: #808080; text-decoration-color: #808080\"> ℹ Fetching head for </span><span style=\"color: #808080; text-decoration-color: #808080; text-decoration: underline\">https://loigiaihay.com/chuyen-de-hoc-tap-toan-12-ket-noi-tri-thuc-c2023.html</span><span style=\"color: #808080; text-decoration-color: #808080\"> </span>\n",
       "</pre>\n"
      ],
      "text/plain": [
       "\u001b[1;90m[\u001b[0m\u001b[90mURL_SEED\u001b[0m\u001b[1;90m]\u001b[0m\u001b[90m ℹ Fetching head for \u001b[0m\u001b[4;90mhttps://loigiaihay.com/chuyen-de-hoc-tap-toan-12-ket-noi-tri-thuc-c2023.html\u001b[0m\u001b[90m \u001b[0m\n"
      ]
     },
     "metadata": {},
     "output_type": "display_data"
    },
    {
     "data": {
      "text/html": [
       "<pre style=\"white-space:pre;overflow-x:auto;line-height:normal;font-family:Menlo,'DejaVu Sans Mono',consolas,'Courier New',monospace\"><span style=\"color: #008080; text-decoration-color: #008080; font-weight: bold\">[</span><span style=\"color: #008080; text-decoration-color: #008080\">URL_SEED</span><span style=\"color: #008080; text-decoration-color: #008080; font-weight: bold\">]</span><span style=\"color: #008080; text-decoration-color: #008080\"> ℹ HEAD VALID for </span><span style=\"color: #008080; text-decoration-color: #008080; text-decoration: underline\">https://loigiaihay.com/sbt-toan-12-ket-noi-tri-thuc-c1959.html</span><span style=\"color: #008080; text-decoration-color: #008080\"> </span>\n",
       "</pre>\n"
      ],
      "text/plain": [
       "\u001b[1;36m[\u001b[0m\u001b[36mURL_SEED\u001b[0m\u001b[1;36m]\u001b[0m\u001b[36m ℹ HEAD VALID for \u001b[0m\u001b[4;36mhttps://loigiaihay.com/sbt-toan-12-ket-noi-tri-thuc-c1959.html\u001b[0m\u001b[36m \u001b[0m\n"
      ]
     },
     "metadata": {},
     "output_type": "display_data"
    },
    {
     "data": {
      "text/html": [
       "<pre style=\"white-space:pre;overflow-x:auto;line-height:normal;font-family:Menlo,'DejaVu Sans Mono',consolas,'Courier New',monospace\"><span style=\"color: #808080; text-decoration-color: #808080; font-weight: bold\">[</span><span style=\"color: #808080; text-decoration-color: #808080\">URL_SEED</span><span style=\"color: #808080; text-decoration-color: #808080; font-weight: bold\">]</span><span style=\"color: #808080; text-decoration-color: #808080\"> ℹ Fetching head for </span><span style=\"color: #808080; text-decoration-color: #808080; text-decoration: underline\">https://loigiaihay.com/tieng-anh-12-global-success-c1752.html</span><span style=\"color: #808080; text-decoration-color: #808080\"> </span>\n",
       "</pre>\n"
      ],
      "text/plain": [
       "\u001b[1;90m[\u001b[0m\u001b[90mURL_SEED\u001b[0m\u001b[1;90m]\u001b[0m\u001b[90m ℹ Fetching head for \u001b[0m\u001b[4;90mhttps://loigiaihay.com/tieng-anh-12-global-success-c1752.html\u001b[0m\u001b[90m \u001b[0m\n"
      ]
     },
     "metadata": {},
     "output_type": "display_data"
    },
    {
     "data": {
      "text/html": [
       "<pre style=\"white-space:pre;overflow-x:auto;line-height:normal;font-family:Menlo,'DejaVu Sans Mono',consolas,'Courier New',monospace\"><span style=\"color: #008080; text-decoration-color: #008080; font-weight: bold\">[</span><span style=\"color: #008080; text-decoration-color: #008080\">URL_SEED</span><span style=\"color: #008080; text-decoration-color: #008080; font-weight: bold\">]</span><span style=\"color: #008080; text-decoration-color: #008080\"> ℹ HEAD VALID for </span><span style=\"color: #008080; text-decoration-color: #008080; text-decoration: underline\">https://loigiaihay.com/sgk-toan-12-cung-kham-pha-c1791.html</span><span style=\"color: #008080; text-decoration-color: #008080\"> </span>\n",
       "</pre>\n"
      ],
      "text/plain": [
       "\u001b[1;36m[\u001b[0m\u001b[36mURL_SEED\u001b[0m\u001b[1;36m]\u001b[0m\u001b[36m ℹ HEAD VALID for \u001b[0m\u001b[4;36mhttps://loigiaihay.com/sgk-toan-12-cung-kham-pha-c1791.html\u001b[0m\u001b[36m \u001b[0m\n"
      ]
     },
     "metadata": {},
     "output_type": "display_data"
    },
    {
     "data": {
      "text/html": [
       "<pre style=\"white-space:pre;overflow-x:auto;line-height:normal;font-family:Menlo,'DejaVu Sans Mono',consolas,'Courier New',monospace\"><span style=\"color: #808080; text-decoration-color: #808080; font-weight: bold\">[</span><span style=\"color: #808080; text-decoration-color: #808080\">URL_SEED</span><span style=\"color: #808080; text-decoration-color: #808080; font-weight: bold\">]</span><span style=\"color: #808080; text-decoration-color: #808080\"> ℹ Fetching head for </span><span style=\"color: #808080; text-decoration-color: #808080; text-decoration: underline\">https://loigiaihay.com/tieng-anh-12-friends-global-c1753.html</span><span style=\"color: #808080; text-decoration-color: #808080\"> </span>\n",
       "</pre>\n"
      ],
      "text/plain": [
       "\u001b[1;90m[\u001b[0m\u001b[90mURL_SEED\u001b[0m\u001b[1;90m]\u001b[0m\u001b[90m ℹ Fetching head for \u001b[0m\u001b[4;90mhttps://loigiaihay.com/tieng-anh-12-friends-global-c1753.html\u001b[0m\u001b[90m \u001b[0m\n"
      ]
     },
     "metadata": {},
     "output_type": "display_data"
    },
    {
     "data": {
      "text/html": [
       "<pre style=\"white-space:pre;overflow-x:auto;line-height:normal;font-family:Menlo,'DejaVu Sans Mono',consolas,'Courier New',monospace\"><span style=\"color: #008080; text-decoration-color: #008080; font-weight: bold\">[</span><span style=\"color: #008080; text-decoration-color: #008080\">URL_SEED</span><span style=\"color: #008080; text-decoration-color: #008080; font-weight: bold\">]</span><span style=\"color: #008080; text-decoration-color: #008080\"> ℹ HEAD VALID for </span><span style=\"color: #008080; text-decoration-color: #008080; text-decoration: underline\">https://loigiaihay.com/sbt-toan-12-canh-dieu-c1954.html</span><span style=\"color: #008080; text-decoration-color: #008080\"> </span>\n",
       "</pre>\n"
      ],
      "text/plain": [
       "\u001b[1;36m[\u001b[0m\u001b[36mURL_SEED\u001b[0m\u001b[1;36m]\u001b[0m\u001b[36m ℹ HEAD VALID for \u001b[0m\u001b[4;36mhttps://loigiaihay.com/sbt-toan-12-canh-dieu-c1954.html\u001b[0m\u001b[36m \u001b[0m\n"
      ]
     },
     "metadata": {},
     "output_type": "display_data"
    },
    {
     "data": {
      "text/html": [
       "<pre style=\"white-space:pre;overflow-x:auto;line-height:normal;font-family:Menlo,'DejaVu Sans Mono',consolas,'Courier New',monospace\"><span style=\"color: #808080; text-decoration-color: #808080; font-weight: bold\">[</span><span style=\"color: #808080; text-decoration-color: #808080\">URL_SEED</span><span style=\"color: #808080; text-decoration-color: #808080; font-weight: bold\">]</span><span style=\"color: #808080; text-decoration-color: #808080\"> ℹ Fetching head for </span><span style=\"color: #808080; text-decoration-color: #808080; text-decoration: underline\">https://loigiaihay.com/tieng-anh-12-ilearn-smart-world-c1754.html</span><span style=\"color: #808080; text-decoration-color: #808080\"> </span>\n",
       "</pre>\n"
      ],
      "text/plain": [
       "\u001b[1;90m[\u001b[0m\u001b[90mURL_SEED\u001b[0m\u001b[1;90m]\u001b[0m\u001b[90m ℹ Fetching head for \u001b[0m\u001b[4;90mhttps://loigiaihay.com/tieng-anh-12-ilearn-smart-world-c1754.html\u001b[0m\u001b[90m \u001b[0m\n"
      ]
     },
     "metadata": {},
     "output_type": "display_data"
    },
    {
     "data": {
      "text/html": [
       "<pre style=\"white-space:pre;overflow-x:auto;line-height:normal;font-family:Menlo,'DejaVu Sans Mono',consolas,'Courier New',monospace\"><span style=\"color: #008080; text-decoration-color: #008080; font-weight: bold\">[</span><span style=\"color: #008080; text-decoration-color: #008080\">URL_SEED</span><span style=\"color: #008080; text-decoration-color: #008080; font-weight: bold\">]</span><span style=\"color: #008080; text-decoration-color: #008080\"> ℹ HEAD VALID for </span><span style=\"color: #008080; text-decoration-color: #008080; text-decoration: underline\">https://loigiaihay.com/sbt-toan-12-chan-troi-sang-tao-c1960.html</span><span style=\"color: #008080; text-decoration-color: #008080\"> </span>\n",
       "</pre>\n"
      ],
      "text/plain": [
       "\u001b[1;36m[\u001b[0m\u001b[36mURL_SEED\u001b[0m\u001b[1;36m]\u001b[0m\u001b[36m ℹ HEAD VALID for \u001b[0m\u001b[4;36mhttps://loigiaihay.com/sbt-toan-12-chan-troi-sang-tao-c1960.html\u001b[0m\u001b[36m \u001b[0m\n"
      ]
     },
     "metadata": {},
     "output_type": "display_data"
    },
    {
     "data": {
      "text/html": [
       "<pre style=\"white-space:pre;overflow-x:auto;line-height:normal;font-family:Menlo,'DejaVu Sans Mono',consolas,'Courier New',monospace\"><span style=\"color: #808080; text-decoration-color: #808080; font-weight: bold\">[</span><span style=\"color: #808080; text-decoration-color: #808080\">URL_SEED</span><span style=\"color: #808080; text-decoration-color: #808080; font-weight: bold\">]</span><span style=\"color: #808080; text-decoration-color: #808080\"> ℹ Fetching head for </span><span style=\"color: #808080; text-decoration-color: #808080; text-decoration: underline\">https://loigiaihay.com/tieng-anh-12-bright-c1755.html</span><span style=\"color: #808080; text-decoration-color: #808080\"> </span>\n",
       "</pre>\n"
      ],
      "text/plain": [
       "\u001b[1;90m[\u001b[0m\u001b[90mURL_SEED\u001b[0m\u001b[1;90m]\u001b[0m\u001b[90m ℹ Fetching head for \u001b[0m\u001b[4;90mhttps://loigiaihay.com/tieng-anh-12-bright-c1755.html\u001b[0m\u001b[90m \u001b[0m\n"
      ]
     },
     "metadata": {},
     "output_type": "display_data"
    },
    {
     "data": {
      "text/html": [
       "<pre style=\"white-space:pre;overflow-x:auto;line-height:normal;font-family:Menlo,'DejaVu Sans Mono',consolas,'Courier New',monospace\"><span style=\"color: #008080; text-decoration-color: #008080; font-weight: bold\">[</span><span style=\"color: #008080; text-decoration-color: #008080\">URL_SEED</span><span style=\"color: #008080; text-decoration-color: #008080; font-weight: bold\">]</span><span style=\"color: #008080; text-decoration-color: #008080\"> ℹ HEAD VALID for </span><span style=\"color: #008080; text-decoration-color: #008080; text-decoration: underline\">https://loigiaihay.com/tieng-anh-12-global-success-c1752.html</span><span style=\"color: #008080; text-decoration-color: #008080\"> </span>\n",
       "</pre>\n"
      ],
      "text/plain": [
       "\u001b[1;36m[\u001b[0m\u001b[36mURL_SEED\u001b[0m\u001b[1;36m]\u001b[0m\u001b[36m ℹ HEAD VALID for \u001b[0m\u001b[4;36mhttps://loigiaihay.com/tieng-anh-12-global-success-c1752.html\u001b[0m\u001b[36m \u001b[0m\n"
      ]
     },
     "metadata": {},
     "output_type": "display_data"
    },
    {
     "data": {
      "text/html": [
       "<pre style=\"white-space:pre;overflow-x:auto;line-height:normal;font-family:Menlo,'DejaVu Sans Mono',consolas,'Courier New',monospace\"><span style=\"color: #808080; text-decoration-color: #808080; font-weight: bold\">[</span><span style=\"color: #808080; text-decoration-color: #808080\">URL_SEED</span><span style=\"color: #808080; text-decoration-color: #808080; font-weight: bold\">]</span><span style=\"color: #808080; text-decoration-color: #808080\"> ℹ Fetching head for </span><span style=\"color: #808080; text-decoration-color: #808080; text-decoration: underline\">https://loigiaihay.com/tieng-anh-12-english-discovery-c1756.html</span><span style=\"color: #808080; text-decoration-color: #808080\"> </span>\n",
       "</pre>\n"
      ],
      "text/plain": [
       "\u001b[1;90m[\u001b[0m\u001b[90mURL_SEED\u001b[0m\u001b[1;90m]\u001b[0m\u001b[90m ℹ Fetching head for \u001b[0m\u001b[4;90mhttps://loigiaihay.com/tieng-anh-12-english-discovery-c1756.html\u001b[0m\u001b[90m \u001b[0m\n"
      ]
     },
     "metadata": {},
     "output_type": "display_data"
    },
    {
     "data": {
      "text/html": [
       "<pre style=\"white-space:pre;overflow-x:auto;line-height:normal;font-family:Menlo,'DejaVu Sans Mono',consolas,'Courier New',monospace\"><span style=\"color: #008080; text-decoration-color: #008080; font-weight: bold\">[</span><span style=\"color: #008080; text-decoration-color: #008080\">URL_SEED</span><span style=\"color: #008080; text-decoration-color: #008080; font-weight: bold\">]</span><span style=\"color: #008080; text-decoration-color: #008080\"> ℹ HEAD VALID for </span><span style=\"color: #008080; text-decoration-color: #008080; text-decoration: underline\">https://loigiaihay.com/chuyen-de-hoc-tap-toan-12-ket-noi-tri-thuc-c2023.html</span><span style=\"color: #008080; text-decoration-color: #008080\"> </span>\n",
       "</pre>\n"
      ],
      "text/plain": [
       "\u001b[1;36m[\u001b[0m\u001b[36mURL_SEED\u001b[0m\u001b[1;36m]\u001b[0m\u001b[36m ℹ HEAD VALID for \u001b[0m\u001b[4;36mhttps://loigiaihay.com/chuyen-de-hoc-tap-toan-12-ket-noi-tri-thuc-c2023.html\u001b[0m\u001b[36m \u001b[0m\n"
      ]
     },
     "metadata": {},
     "output_type": "display_data"
    },
    {
     "data": {
      "text/html": [
       "<pre style=\"white-space:pre;overflow-x:auto;line-height:normal;font-family:Menlo,'DejaVu Sans Mono',consolas,'Courier New',monospace\"><span style=\"color: #808080; text-decoration-color: #808080; font-weight: bold\">[</span><span style=\"color: #808080; text-decoration-color: #808080\">URL_SEED</span><span style=\"color: #808080; text-decoration-color: #808080; font-weight: bold\">]</span><span style=\"color: #808080; text-decoration-color: #808080\"> ℹ Fetching head for </span><span style=\"color: #808080; text-decoration-color: #808080; text-decoration: underline\">https://loigiaihay.com/sbt-tieng-anh-12-global-success-ket-noi-tri-thuc-c1833.html</span><span style=\"color: #808080; text-decoration-color: #808080\"> </span>\n",
       "</pre>\n"
      ],
      "text/plain": [
       "\u001b[1;90m[\u001b[0m\u001b[90mURL_SEED\u001b[0m\u001b[1;90m]\u001b[0m\u001b[90m ℹ Fetching head for \u001b[0m\u001b[4;90mhttps://loigiaihay.com/sbt-tieng-anh-12-global-success-ket-noi-tri-thuc-c1833.html\u001b[0m\u001b[90m \u001b[0m\n"
      ]
     },
     "metadata": {},
     "output_type": "display_data"
    },
    {
     "data": {
      "text/html": [
       "<pre style=\"white-space:pre;overflow-x:auto;line-height:normal;font-family:Menlo,'DejaVu Sans Mono',consolas,'Courier New',monospace\"><span style=\"color: #008080; text-decoration-color: #008080; font-weight: bold\">[</span><span style=\"color: #008080; text-decoration-color: #008080\">URL_SEED</span><span style=\"color: #008080; text-decoration-color: #008080; font-weight: bold\">]</span><span style=\"color: #008080; text-decoration-color: #008080\"> ℹ HEAD VALID for </span><span style=\"color: #008080; text-decoration-color: #008080; text-decoration: underline\">https://loigiaihay.com/tieng-anh-12-friends-global-c1753.html</span><span style=\"color: #008080; text-decoration-color: #008080\"> </span>\n",
       "</pre>\n"
      ],
      "text/plain": [
       "\u001b[1;36m[\u001b[0m\u001b[36mURL_SEED\u001b[0m\u001b[1;36m]\u001b[0m\u001b[36m ℹ HEAD VALID for \u001b[0m\u001b[4;36mhttps://loigiaihay.com/tieng-anh-12-friends-global-c1753.html\u001b[0m\u001b[36m \u001b[0m\n"
      ]
     },
     "metadata": {},
     "output_type": "display_data"
    },
    {
     "data": {
      "text/html": [
       "<pre style=\"white-space:pre;overflow-x:auto;line-height:normal;font-family:Menlo,'DejaVu Sans Mono',consolas,'Courier New',monospace\"><span style=\"color: #808080; text-decoration-color: #808080; font-weight: bold\">[</span><span style=\"color: #808080; text-decoration-color: #808080\">URL_SEED</span><span style=\"color: #808080; text-decoration-color: #808080; font-weight: bold\">]</span><span style=\"color: #808080; text-decoration-color: #808080\"> ℹ Fetching head for </span><span style=\"color: #808080; text-decoration-color: #808080; text-decoration: underline\">https://loigiaihay.com/sbt-tieng-anh-12-friends-global-chan-troi-sang-tao-c1840.html</span>\n",
       "</pre>\n"
      ],
      "text/plain": [
       "\u001b[1;90m[\u001b[0m\u001b[90mURL_SEED\u001b[0m\u001b[1;90m]\u001b[0m\u001b[90m ℹ Fetching head for \u001b[0m\u001b[4;90mhttps://loigiaihay.com/sbt-tieng-anh-12-friends-global-chan-troi-sang-tao-c1840.html\u001b[0m\n"
      ]
     },
     "metadata": {},
     "output_type": "display_data"
    },
    {
     "data": {
      "text/html": [
       "<pre style=\"white-space:pre;overflow-x:auto;line-height:normal;font-family:Menlo,'DejaVu Sans Mono',consolas,'Courier New',monospace\"><span style=\"color: #008080; text-decoration-color: #008080; font-weight: bold\">[</span><span style=\"color: #008080; text-decoration-color: #008080\">URL_SEED</span><span style=\"color: #008080; text-decoration-color: #008080; font-weight: bold\">]</span><span style=\"color: #008080; text-decoration-color: #008080\"> ℹ HEAD VALID for </span><span style=\"color: #008080; text-decoration-color: #008080; text-decoration: underline\">https://loigiaihay.com/tieng-anh-12-ilearn-smart-world-c1754.html</span><span style=\"color: #008080; text-decoration-color: #008080\"> </span>\n",
       "</pre>\n"
      ],
      "text/plain": [
       "\u001b[1;36m[\u001b[0m\u001b[36mURL_SEED\u001b[0m\u001b[1;36m]\u001b[0m\u001b[36m ℹ HEAD VALID for \u001b[0m\u001b[4;36mhttps://loigiaihay.com/tieng-anh-12-ilearn-smart-world-c1754.html\u001b[0m\u001b[36m \u001b[0m\n"
      ]
     },
     "metadata": {},
     "output_type": "display_data"
    },
    {
     "data": {
      "text/html": [
       "<pre style=\"white-space:pre;overflow-x:auto;line-height:normal;font-family:Menlo,'DejaVu Sans Mono',consolas,'Courier New',monospace\"><span style=\"color: #808080; text-decoration-color: #808080; font-weight: bold\">[</span><span style=\"color: #808080; text-decoration-color: #808080\">URL_SEED</span><span style=\"color: #808080; text-decoration-color: #808080; font-weight: bold\">]</span><span style=\"color: #808080; text-decoration-color: #808080\"> ℹ Fetching head for </span><span style=\"color: #808080; text-decoration-color: #808080; text-decoration: underline\">https://loigiaihay.com/sbt-tieng-anh-12-ilearn-smart-world-c1841.html</span><span style=\"color: #808080; text-decoration-color: #808080\"> </span>\n",
       "</pre>\n"
      ],
      "text/plain": [
       "\u001b[1;90m[\u001b[0m\u001b[90mURL_SEED\u001b[0m\u001b[1;90m]\u001b[0m\u001b[90m ℹ Fetching head for \u001b[0m\u001b[4;90mhttps://loigiaihay.com/sbt-tieng-anh-12-ilearn-smart-world-c1841.html\u001b[0m\u001b[90m \u001b[0m\n"
      ]
     },
     "metadata": {},
     "output_type": "display_data"
    },
    {
     "data": {
      "text/html": [
       "<pre style=\"white-space:pre;overflow-x:auto;line-height:normal;font-family:Menlo,'DejaVu Sans Mono',consolas,'Courier New',monospace\"><span style=\"color: #008080; text-decoration-color: #008080; font-weight: bold\">[</span><span style=\"color: #008080; text-decoration-color: #008080\">URL_SEED</span><span style=\"color: #008080; text-decoration-color: #008080; font-weight: bold\">]</span><span style=\"color: #008080; text-decoration-color: #008080\"> ℹ HEAD VALID for </span><span style=\"color: #008080; text-decoration-color: #008080; text-decoration: underline\">https://loigiaihay.com/tieng-anh-12-bright-c1755.html</span><span style=\"color: #008080; text-decoration-color: #008080\"> </span>\n",
       "</pre>\n"
      ],
      "text/plain": [
       "\u001b[1;36m[\u001b[0m\u001b[36mURL_SEED\u001b[0m\u001b[1;36m]\u001b[0m\u001b[36m ℹ HEAD VALID for \u001b[0m\u001b[4;36mhttps://loigiaihay.com/tieng-anh-12-bright-c1755.html\u001b[0m\u001b[36m \u001b[0m\n"
      ]
     },
     "metadata": {},
     "output_type": "display_data"
    },
    {
     "data": {
      "text/html": [
       "<pre style=\"white-space:pre;overflow-x:auto;line-height:normal;font-family:Menlo,'DejaVu Sans Mono',consolas,'Courier New',monospace\"><span style=\"color: #808080; text-decoration-color: #808080; font-weight: bold\">[</span><span style=\"color: #808080; text-decoration-color: #808080\">URL_SEED</span><span style=\"color: #808080; text-decoration-color: #808080; font-weight: bold\">]</span><span style=\"color: #808080; text-decoration-color: #808080\"> ℹ Fetching head for </span><span style=\"color: #808080; text-decoration-color: #808080; text-decoration: underline\">https://loigiaihay.com/sgk-vat-li-12-ket-noi-tri-thuc-c1732.html</span><span style=\"color: #808080; text-decoration-color: #808080\"> </span>\n",
       "</pre>\n"
      ],
      "text/plain": [
       "\u001b[1;90m[\u001b[0m\u001b[90mURL_SEED\u001b[0m\u001b[1;90m]\u001b[0m\u001b[90m ℹ Fetching head for \u001b[0m\u001b[4;90mhttps://loigiaihay.com/sgk-vat-li-12-ket-noi-tri-thuc-c1732.html\u001b[0m\u001b[90m \u001b[0m\n"
      ]
     },
     "metadata": {},
     "output_type": "display_data"
    },
    {
     "data": {
      "text/html": [
       "<pre style=\"white-space:pre;overflow-x:auto;line-height:normal;font-family:Menlo,'DejaVu Sans Mono',consolas,'Courier New',monospace\"><span style=\"color: #008080; text-decoration-color: #008080; font-weight: bold\">[</span><span style=\"color: #008080; text-decoration-color: #008080\">URL_SEED</span><span style=\"color: #008080; text-decoration-color: #008080; font-weight: bold\">]</span><span style=\"color: #008080; text-decoration-color: #008080\"> ℹ HEAD VALID for </span><span style=\"color: #008080; text-decoration-color: #008080; text-decoration: underline\">https://loigiaihay.com/sbt-tieng-anh-12-friends-global-chan-troi-sang-tao-c1840.html</span><span style=\"color: #008080; text-decoration-color: #008080\"> </span>\n",
       "</pre>\n"
      ],
      "text/plain": [
       "\u001b[1;36m[\u001b[0m\u001b[36mURL_SEED\u001b[0m\u001b[1;36m]\u001b[0m\u001b[36m ℹ HEAD VALID for \u001b[0m\u001b[4;36mhttps://loigiaihay.com/sbt-tieng-anh-12-friends-global-chan-troi-sang-tao-c1840.html\u001b[0m\u001b[36m \u001b[0m\n"
      ]
     },
     "metadata": {},
     "output_type": "display_data"
    },
    {
     "data": {
      "text/html": [
       "<pre style=\"white-space:pre;overflow-x:auto;line-height:normal;font-family:Menlo,'DejaVu Sans Mono',consolas,'Courier New',monospace\"><span style=\"color: #808080; text-decoration-color: #808080; font-weight: bold\">[</span><span style=\"color: #808080; text-decoration-color: #808080\">URL_SEED</span><span style=\"color: #808080; text-decoration-color: #808080; font-weight: bold\">]</span><span style=\"color: #808080; text-decoration-color: #808080\"> ℹ Fetching head for </span><span style=\"color: #808080; text-decoration-color: #808080; text-decoration: underline\">https://loigiaihay.com/sgk-vat-li-12-canh-dieu-c1734.html</span><span style=\"color: #808080; text-decoration-color: #808080\"> </span>\n",
       "</pre>\n"
      ],
      "text/plain": [
       "\u001b[1;90m[\u001b[0m\u001b[90mURL_SEED\u001b[0m\u001b[1;90m]\u001b[0m\u001b[90m ℹ Fetching head for \u001b[0m\u001b[4;90mhttps://loigiaihay.com/sgk-vat-li-12-canh-dieu-c1734.html\u001b[0m\u001b[90m \u001b[0m\n"
      ]
     },
     "metadata": {},
     "output_type": "display_data"
    },
    {
     "data": {
      "text/html": [
       "<pre style=\"white-space:pre;overflow-x:auto;line-height:normal;font-family:Menlo,'DejaVu Sans Mono',consolas,'Courier New',monospace\"><span style=\"color: #008080; text-decoration-color: #008080; font-weight: bold\">[</span><span style=\"color: #008080; text-decoration-color: #008080\">URL_SEED</span><span style=\"color: #008080; text-decoration-color: #008080; font-weight: bold\">]</span><span style=\"color: #008080; text-decoration-color: #008080\"> ℹ HEAD VALID for </span><span style=\"color: #008080; text-decoration-color: #008080; text-decoration: underline\">https://loigiaihay.com/sbt-tieng-anh-12-global-success-ket-noi-tri-thuc-c1833.html</span><span style=\"color: #008080; text-decoration-color: #008080\"> </span>\n",
       "</pre>\n"
      ],
      "text/plain": [
       "\u001b[1;36m[\u001b[0m\u001b[36mURL_SEED\u001b[0m\u001b[1;36m]\u001b[0m\u001b[36m ℹ HEAD VALID for \u001b[0m\u001b[4;36mhttps://loigiaihay.com/sbt-tieng-anh-12-global-success-ket-noi-tri-thuc-c1833.html\u001b[0m\u001b[36m \u001b[0m\n"
      ]
     },
     "metadata": {},
     "output_type": "display_data"
    },
    {
     "data": {
      "text/html": [
       "<pre style=\"white-space:pre;overflow-x:auto;line-height:normal;font-family:Menlo,'DejaVu Sans Mono',consolas,'Courier New',monospace\"><span style=\"color: #808080; text-decoration-color: #808080; font-weight: bold\">[</span><span style=\"color: #808080; text-decoration-color: #808080\">URL_SEED</span><span style=\"color: #808080; text-decoration-color: #808080; font-weight: bold\">]</span><span style=\"color: #808080; text-decoration-color: #808080\"> ℹ Fetching head for </span><span style=\"color: #808080; text-decoration-color: #808080; text-decoration: underline\">https://loigiaihay.com/sgk-vat-li-12-chan-troi-sang-tao-c1735.html</span><span style=\"color: #808080; text-decoration-color: #808080\"> </span>\n",
       "</pre>\n"
      ],
      "text/plain": [
       "\u001b[1;90m[\u001b[0m\u001b[90mURL_SEED\u001b[0m\u001b[1;90m]\u001b[0m\u001b[90m ℹ Fetching head for \u001b[0m\u001b[4;90mhttps://loigiaihay.com/sgk-vat-li-12-chan-troi-sang-tao-c1735.html\u001b[0m\u001b[90m \u001b[0m\n"
      ]
     },
     "metadata": {},
     "output_type": "display_data"
    },
    {
     "data": {
      "text/html": [
       "<pre style=\"white-space:pre;overflow-x:auto;line-height:normal;font-family:Menlo,'DejaVu Sans Mono',consolas,'Courier New',monospace\"><span style=\"color: #008080; text-decoration-color: #008080; font-weight: bold\">[</span><span style=\"color: #008080; text-decoration-color: #008080\">URL_SEED</span><span style=\"color: #008080; text-decoration-color: #008080; font-weight: bold\">]</span><span style=\"color: #008080; text-decoration-color: #008080\"> ℹ HEAD VALID for </span><span style=\"color: #008080; text-decoration-color: #008080; text-decoration: underline\">https://loigiaihay.com/tieng-anh-12-english-discovery-c1756.html</span><span style=\"color: #008080; text-decoration-color: #008080\"> </span>\n",
       "</pre>\n"
      ],
      "text/plain": [
       "\u001b[1;36m[\u001b[0m\u001b[36mURL_SEED\u001b[0m\u001b[1;36m]\u001b[0m\u001b[36m ℹ HEAD VALID for \u001b[0m\u001b[4;36mhttps://loigiaihay.com/tieng-anh-12-english-discovery-c1756.html\u001b[0m\u001b[36m \u001b[0m\n"
      ]
     },
     "metadata": {},
     "output_type": "display_data"
    },
    {
     "data": {
      "text/html": [
       "<pre style=\"white-space:pre;overflow-x:auto;line-height:normal;font-family:Menlo,'DejaVu Sans Mono',consolas,'Courier New',monospace\"><span style=\"color: #808080; text-decoration-color: #808080; font-weight: bold\">[</span><span style=\"color: #808080; text-decoration-color: #808080\">URL_SEED</span><span style=\"color: #808080; text-decoration-color: #808080; font-weight: bold\">]</span><span style=\"color: #808080; text-decoration-color: #808080\"> ℹ Fetching head for </span><span style=\"color: #808080; text-decoration-color: #808080; text-decoration: underline\">https://loigiaihay.com/sbt-vat-li-12-ket-noi-tri-thuc-c1936.html</span><span style=\"color: #808080; text-decoration-color: #808080\"> </span>\n",
       "</pre>\n"
      ],
      "text/plain": [
       "\u001b[1;90m[\u001b[0m\u001b[90mURL_SEED\u001b[0m\u001b[1;90m]\u001b[0m\u001b[90m ℹ Fetching head for \u001b[0m\u001b[4;90mhttps://loigiaihay.com/sbt-vat-li-12-ket-noi-tri-thuc-c1936.html\u001b[0m\u001b[90m \u001b[0m\n"
      ]
     },
     "metadata": {},
     "output_type": "display_data"
    },
    {
     "data": {
      "text/html": [
       "<pre style=\"white-space:pre;overflow-x:auto;line-height:normal;font-family:Menlo,'DejaVu Sans Mono',consolas,'Courier New',monospace\"><span style=\"color: #008080; text-decoration-color: #008080; font-weight: bold\">[</span><span style=\"color: #008080; text-decoration-color: #008080\">URL_SEED</span><span style=\"color: #008080; text-decoration-color: #008080; font-weight: bold\">]</span><span style=\"color: #008080; text-decoration-color: #008080\"> ℹ HEAD VALID for </span><span style=\"color: #008080; text-decoration-color: #008080; text-decoration: underline\">https://loigiaihay.com/sbt-tieng-anh-12-ilearn-smart-world-c1841.html</span><span style=\"color: #008080; text-decoration-color: #008080\"> </span>\n",
       "</pre>\n"
      ],
      "text/plain": [
       "\u001b[1;36m[\u001b[0m\u001b[36mURL_SEED\u001b[0m\u001b[1;36m]\u001b[0m\u001b[36m ℹ HEAD VALID for \u001b[0m\u001b[4;36mhttps://loigiaihay.com/sbt-tieng-anh-12-ilearn-smart-world-c1841.html\u001b[0m\u001b[36m \u001b[0m\n"
      ]
     },
     "metadata": {},
     "output_type": "display_data"
    },
    {
     "data": {
      "text/html": [
       "<pre style=\"white-space:pre;overflow-x:auto;line-height:normal;font-family:Menlo,'DejaVu Sans Mono',consolas,'Courier New',monospace\"><span style=\"color: #008080; text-decoration-color: #008080; font-weight: bold\">[</span><span style=\"color: #008080; text-decoration-color: #008080\">URL_SEED</span><span style=\"color: #008080; text-decoration-color: #008080; font-weight: bold\">]</span><span style=\"color: #008080; text-decoration-color: #008080\"> ℹ HEAD VALID for </span><span style=\"color: #008080; text-decoration-color: #008080; text-decoration: underline\">https://loigiaihay.com/sgk-vat-li-12-ket-noi-tri-thuc-c1732.html</span><span style=\"color: #008080; text-decoration-color: #008080\"> </span>\n",
       "</pre>\n"
      ],
      "text/plain": [
       "\u001b[1;36m[\u001b[0m\u001b[36mURL_SEED\u001b[0m\u001b[1;36m]\u001b[0m\u001b[36m ℹ HEAD VALID for \u001b[0m\u001b[4;36mhttps://loigiaihay.com/sgk-vat-li-12-ket-noi-tri-thuc-c1732.html\u001b[0m\u001b[36m \u001b[0m\n"
      ]
     },
     "metadata": {},
     "output_type": "display_data"
    },
    {
     "data": {
      "text/html": [
       "<pre style=\"white-space:pre;overflow-x:auto;line-height:normal;font-family:Menlo,'DejaVu Sans Mono',consolas,'Courier New',monospace\"><span style=\"color: #808080; text-decoration-color: #808080; font-weight: bold\">[</span><span style=\"color: #808080; text-decoration-color: #808080\">URL_SEED</span><span style=\"color: #808080; text-decoration-color: #808080; font-weight: bold\">]</span><span style=\"color: #808080; text-decoration-color: #808080\"> ℹ Fetching head for </span><span style=\"color: #808080; text-decoration-color: #808080; text-decoration: underline\">https://loigiaihay.com/sbt-vat-li-12-canh-dieu-c1937.html</span><span style=\"color: #808080; text-decoration-color: #808080\"> </span>\n",
       "</pre>\n"
      ],
      "text/plain": [
       "\u001b[1;90m[\u001b[0m\u001b[90mURL_SEED\u001b[0m\u001b[1;90m]\u001b[0m\u001b[90m ℹ Fetching head for \u001b[0m\u001b[4;90mhttps://loigiaihay.com/sbt-vat-li-12-canh-dieu-c1937.html\u001b[0m\u001b[90m \u001b[0m\n"
      ]
     },
     "metadata": {},
     "output_type": "display_data"
    },
    {
     "data": {
      "text/html": [
       "<pre style=\"white-space:pre;overflow-x:auto;line-height:normal;font-family:Menlo,'DejaVu Sans Mono',consolas,'Courier New',monospace\"><span style=\"color: #808080; text-decoration-color: #808080; font-weight: bold\">[</span><span style=\"color: #808080; text-decoration-color: #808080\">URL_SEED</span><span style=\"color: #808080; text-decoration-color: #808080; font-weight: bold\">]</span><span style=\"color: #808080; text-decoration-color: #808080\"> ℹ Fetching head for </span><span style=\"color: #808080; text-decoration-color: #808080; text-decoration: underline\">https://loigiaihay.com/sbt-vat-li-12-chan-troi-sang-tao-c1938.html</span><span style=\"color: #808080; text-decoration-color: #808080\"> </span>\n",
       "</pre>\n"
      ],
      "text/plain": [
       "\u001b[1;90m[\u001b[0m\u001b[90mURL_SEED\u001b[0m\u001b[1;90m]\u001b[0m\u001b[90m ℹ Fetching head for \u001b[0m\u001b[4;90mhttps://loigiaihay.com/sbt-vat-li-12-chan-troi-sang-tao-c1938.html\u001b[0m\u001b[90m \u001b[0m\n"
      ]
     },
     "metadata": {},
     "output_type": "display_data"
    },
    {
     "data": {
      "text/html": [
       "<pre style=\"white-space:pre;overflow-x:auto;line-height:normal;font-family:Menlo,'DejaVu Sans Mono',consolas,'Courier New',monospace\"><span style=\"color: #008080; text-decoration-color: #008080; font-weight: bold\">[</span><span style=\"color: #008080; text-decoration-color: #008080\">URL_SEED</span><span style=\"color: #008080; text-decoration-color: #008080; font-weight: bold\">]</span><span style=\"color: #008080; text-decoration-color: #008080\"> ℹ HEAD VALID for </span><span style=\"color: #008080; text-decoration-color: #008080; text-decoration: underline\">https://loigiaihay.com/sgk-vat-li-12-chan-troi-sang-tao-c1735.html</span><span style=\"color: #008080; text-decoration-color: #008080\"> </span>\n",
       "</pre>\n"
      ],
      "text/plain": [
       "\u001b[1;36m[\u001b[0m\u001b[36mURL_SEED\u001b[0m\u001b[1;36m]\u001b[0m\u001b[36m ℹ HEAD VALID for \u001b[0m\u001b[4;36mhttps://loigiaihay.com/sgk-vat-li-12-chan-troi-sang-tao-c1735.html\u001b[0m\u001b[36m \u001b[0m\n"
      ]
     },
     "metadata": {},
     "output_type": "display_data"
    },
    {
     "data": {
      "text/html": [
       "<pre style=\"white-space:pre;overflow-x:auto;line-height:normal;font-family:Menlo,'DejaVu Sans Mono',consolas,'Courier New',monospace\"><span style=\"color: #008080; text-decoration-color: #008080; font-weight: bold\">[</span><span style=\"color: #008080; text-decoration-color: #008080\">URL_SEED</span><span style=\"color: #008080; text-decoration-color: #008080; font-weight: bold\">]</span><span style=\"color: #008080; text-decoration-color: #008080\"> ℹ HEAD VALID for </span><span style=\"color: #008080; text-decoration-color: #008080; text-decoration: underline\">https://loigiaihay.com/sbt-vat-li-12-ket-noi-tri-thuc-c1936.html</span><span style=\"color: #008080; text-decoration-color: #008080\"> </span>\n",
       "</pre>\n"
      ],
      "text/plain": [
       "\u001b[1;36m[\u001b[0m\u001b[36mURL_SEED\u001b[0m\u001b[1;36m]\u001b[0m\u001b[36m ℹ HEAD VALID for \u001b[0m\u001b[4;36mhttps://loigiaihay.com/sbt-vat-li-12-ket-noi-tri-thuc-c1936.html\u001b[0m\u001b[36m \u001b[0m\n"
      ]
     },
     "metadata": {},
     "output_type": "display_data"
    },
    {
     "data": {
      "text/html": [
       "<pre style=\"white-space:pre;overflow-x:auto;line-height:normal;font-family:Menlo,'DejaVu Sans Mono',consolas,'Courier New',monospace\"><span style=\"color: #808080; text-decoration-color: #808080; font-weight: bold\">[</span><span style=\"color: #808080; text-decoration-color: #808080\">URL_SEED</span><span style=\"color: #808080; text-decoration-color: #808080; font-weight: bold\">]</span><span style=\"color: #808080; text-decoration-color: #808080\"> ℹ Fetching head for </span><span style=\"color: #808080; text-decoration-color: #808080; text-decoration: underline\">https://loigiaihay.com/chuyen-de-hoc-tap-li-12-ket-noi-tri-thuc-c1873.html</span><span style=\"color: #808080; text-decoration-color: #808080\"> </span>\n",
       "</pre>\n"
      ],
      "text/plain": [
       "\u001b[1;90m[\u001b[0m\u001b[90mURL_SEED\u001b[0m\u001b[1;90m]\u001b[0m\u001b[90m ℹ Fetching head for \u001b[0m\u001b[4;90mhttps://loigiaihay.com/chuyen-de-hoc-tap-li-12-ket-noi-tri-thuc-c1873.html\u001b[0m\u001b[90m \u001b[0m\n"
      ]
     },
     "metadata": {},
     "output_type": "display_data"
    },
    {
     "data": {
      "text/html": [
       "<pre style=\"white-space:pre;overflow-x:auto;line-height:normal;font-family:Menlo,'DejaVu Sans Mono',consolas,'Courier New',monospace\"><span style=\"color: #808080; text-decoration-color: #808080; font-weight: bold\">[</span><span style=\"color: #808080; text-decoration-color: #808080\">URL_SEED</span><span style=\"color: #808080; text-decoration-color: #808080; font-weight: bold\">]</span><span style=\"color: #808080; text-decoration-color: #808080\"> ℹ Fetching head for </span><span style=\"color: #808080; text-decoration-color: #808080; text-decoration: underline\">https://loigiaihay.com/chuyen-de-hoc-tap-li-12-canh-dieu-c1874.html</span><span style=\"color: #808080; text-decoration-color: #808080\"> </span>\n",
       "</pre>\n"
      ],
      "text/plain": [
       "\u001b[1;90m[\u001b[0m\u001b[90mURL_SEED\u001b[0m\u001b[1;90m]\u001b[0m\u001b[90m ℹ Fetching head for \u001b[0m\u001b[4;90mhttps://loigiaihay.com/chuyen-de-hoc-tap-li-12-canh-dieu-c1874.html\u001b[0m\u001b[90m \u001b[0m\n"
      ]
     },
     "metadata": {},
     "output_type": "display_data"
    },
    {
     "data": {
      "text/html": [
       "<pre style=\"white-space:pre;overflow-x:auto;line-height:normal;font-family:Menlo,'DejaVu Sans Mono',consolas,'Courier New',monospace\"><span style=\"color: #008080; text-decoration-color: #008080; font-weight: bold\">[</span><span style=\"color: #008080; text-decoration-color: #008080\">URL_SEED</span><span style=\"color: #008080; text-decoration-color: #008080; font-weight: bold\">]</span><span style=\"color: #008080; text-decoration-color: #008080\"> ℹ HEAD VALID for </span><span style=\"color: #008080; text-decoration-color: #008080; text-decoration: underline\">https://loigiaihay.com/sgk-vat-li-12-canh-dieu-c1734.html</span><span style=\"color: #008080; text-decoration-color: #008080\"> </span>\n",
       "</pre>\n"
      ],
      "text/plain": [
       "\u001b[1;36m[\u001b[0m\u001b[36mURL_SEED\u001b[0m\u001b[1;36m]\u001b[0m\u001b[36m ℹ HEAD VALID for \u001b[0m\u001b[4;36mhttps://loigiaihay.com/sgk-vat-li-12-canh-dieu-c1734.html\u001b[0m\u001b[36m \u001b[0m\n"
      ]
     },
     "metadata": {},
     "output_type": "display_data"
    },
    {
     "data": {
      "text/html": [
       "<pre style=\"white-space:pre;overflow-x:auto;line-height:normal;font-family:Menlo,'DejaVu Sans Mono',consolas,'Courier New',monospace\"><span style=\"color: #808080; text-decoration-color: #808080; font-weight: bold\">[</span><span style=\"color: #808080; text-decoration-color: #808080\">URL_SEED</span><span style=\"color: #808080; text-decoration-color: #808080; font-weight: bold\">]</span><span style=\"color: #808080; text-decoration-color: #808080\"> ℹ Fetching head for </span><span style=\"color: #808080; text-decoration-color: #808080; text-decoration: underline\">https://loigiaihay.com/sgk-hoa-12-ket-noi-tri-thuc-c1745.html</span><span style=\"color: #808080; text-decoration-color: #808080\"> </span>\n",
       "</pre>\n"
      ],
      "text/plain": [
       "\u001b[1;90m[\u001b[0m\u001b[90mURL_SEED\u001b[0m\u001b[1;90m]\u001b[0m\u001b[90m ℹ Fetching head for \u001b[0m\u001b[4;90mhttps://loigiaihay.com/sgk-hoa-12-ket-noi-tri-thuc-c1745.html\u001b[0m\u001b[90m \u001b[0m\n"
      ]
     },
     "metadata": {},
     "output_type": "display_data"
    },
    {
     "data": {
      "text/html": [
       "<pre style=\"white-space:pre;overflow-x:auto;line-height:normal;font-family:Menlo,'DejaVu Sans Mono',consolas,'Courier New',monospace\"><span style=\"color: #008080; text-decoration-color: #008080; font-weight: bold\">[</span><span style=\"color: #008080; text-decoration-color: #008080\">URL_SEED</span><span style=\"color: #008080; text-decoration-color: #008080; font-weight: bold\">]</span><span style=\"color: #008080; text-decoration-color: #008080\"> ℹ HEAD VALID for </span><span style=\"color: #008080; text-decoration-color: #008080; text-decoration: underline\">https://loigiaihay.com/sbt-vat-li-12-chan-troi-sang-tao-c1938.html</span><span style=\"color: #008080; text-decoration-color: #008080\"> </span>\n",
       "</pre>\n"
      ],
      "text/plain": [
       "\u001b[1;36m[\u001b[0m\u001b[36mURL_SEED\u001b[0m\u001b[1;36m]\u001b[0m\u001b[36m ℹ HEAD VALID for \u001b[0m\u001b[4;36mhttps://loigiaihay.com/sbt-vat-li-12-chan-troi-sang-tao-c1938.html\u001b[0m\u001b[36m \u001b[0m\n"
      ]
     },
     "metadata": {},
     "output_type": "display_data"
    },
    {
     "data": {
      "text/html": [
       "<pre style=\"white-space:pre;overflow-x:auto;line-height:normal;font-family:Menlo,'DejaVu Sans Mono',consolas,'Courier New',monospace\"><span style=\"color: #808080; text-decoration-color: #808080; font-weight: bold\">[</span><span style=\"color: #808080; text-decoration-color: #808080\">URL_SEED</span><span style=\"color: #808080; text-decoration-color: #808080; font-weight: bold\">]</span><span style=\"color: #808080; text-decoration-color: #808080\"> ℹ Fetching head for </span><span style=\"color: #808080; text-decoration-color: #808080; text-decoration: underline\">https://loigiaihay.com/sgk-hoa-12-canh-dieu-c1746.html</span><span style=\"color: #808080; text-decoration-color: #808080\"> </span>\n",
       "</pre>\n"
      ],
      "text/plain": [
       "\u001b[1;90m[\u001b[0m\u001b[90mURL_SEED\u001b[0m\u001b[1;90m]\u001b[0m\u001b[90m ℹ Fetching head for \u001b[0m\u001b[4;90mhttps://loigiaihay.com/sgk-hoa-12-canh-dieu-c1746.html\u001b[0m\u001b[90m \u001b[0m\n"
      ]
     },
     "metadata": {},
     "output_type": "display_data"
    },
    {
     "data": {
      "text/html": [
       "<pre style=\"white-space:pre;overflow-x:auto;line-height:normal;font-family:Menlo,'DejaVu Sans Mono',consolas,'Courier New',monospace\"><span style=\"color: #008080; text-decoration-color: #008080; font-weight: bold\">[</span><span style=\"color: #008080; text-decoration-color: #008080\">URL_SEED</span><span style=\"color: #008080; text-decoration-color: #008080; font-weight: bold\">]</span><span style=\"color: #008080; text-decoration-color: #008080\"> ℹ HEAD VALID for </span><span style=\"color: #008080; text-decoration-color: #008080; text-decoration: underline\">https://loigiaihay.com/sbt-vat-li-12-canh-dieu-c1937.html</span><span style=\"color: #008080; text-decoration-color: #008080\"> </span>\n",
       "</pre>\n"
      ],
      "text/plain": [
       "\u001b[1;36m[\u001b[0m\u001b[36mURL_SEED\u001b[0m\u001b[1;36m]\u001b[0m\u001b[36m ℹ HEAD VALID for \u001b[0m\u001b[4;36mhttps://loigiaihay.com/sbt-vat-li-12-canh-dieu-c1937.html\u001b[0m\u001b[36m \u001b[0m\n"
      ]
     },
     "metadata": {},
     "output_type": "display_data"
    },
    {
     "data": {
      "text/html": [
       "<pre style=\"white-space:pre;overflow-x:auto;line-height:normal;font-family:Menlo,'DejaVu Sans Mono',consolas,'Courier New',monospace\"><span style=\"color: #808080; text-decoration-color: #808080; font-weight: bold\">[</span><span style=\"color: #808080; text-decoration-color: #808080\">URL_SEED</span><span style=\"color: #808080; text-decoration-color: #808080; font-weight: bold\">]</span><span style=\"color: #808080; text-decoration-color: #808080\"> ℹ Fetching head for </span><span style=\"color: #808080; text-decoration-color: #808080; text-decoration: underline\">https://loigiaihay.com/sgk-hoa-12-chan-troi-sang-tao-c1747.html</span><span style=\"color: #808080; text-decoration-color: #808080\"> </span>\n",
       "</pre>\n"
      ],
      "text/plain": [
       "\u001b[1;90m[\u001b[0m\u001b[90mURL_SEED\u001b[0m\u001b[1;90m]\u001b[0m\u001b[90m ℹ Fetching head for \u001b[0m\u001b[4;90mhttps://loigiaihay.com/sgk-hoa-12-chan-troi-sang-tao-c1747.html\u001b[0m\u001b[90m \u001b[0m\n"
      ]
     },
     "metadata": {},
     "output_type": "display_data"
    },
    {
     "data": {
      "text/html": [
       "<pre style=\"white-space:pre;overflow-x:auto;line-height:normal;font-family:Menlo,'DejaVu Sans Mono',consolas,'Courier New',monospace\"><span style=\"color: #008080; text-decoration-color: #008080; font-weight: bold\">[</span><span style=\"color: #008080; text-decoration-color: #008080\">URL_SEED</span><span style=\"color: #008080; text-decoration-color: #008080; font-weight: bold\">]</span><span style=\"color: #008080; text-decoration-color: #008080\"> ℹ HEAD VALID for </span><span style=\"color: #008080; text-decoration-color: #008080; text-decoration: underline\">https://loigiaihay.com/chuyen-de-hoc-tap-li-12-canh-dieu-c1874.html</span><span style=\"color: #008080; text-decoration-color: #008080\"> </span>\n",
       "</pre>\n"
      ],
      "text/plain": [
       "\u001b[1;36m[\u001b[0m\u001b[36mURL_SEED\u001b[0m\u001b[1;36m]\u001b[0m\u001b[36m ℹ HEAD VALID for \u001b[0m\u001b[4;36mhttps://loigiaihay.com/chuyen-de-hoc-tap-li-12-canh-dieu-c1874.html\u001b[0m\u001b[36m \u001b[0m\n"
      ]
     },
     "metadata": {},
     "output_type": "display_data"
    },
    {
     "data": {
      "text/html": [
       "<pre style=\"white-space:pre;overflow-x:auto;line-height:normal;font-family:Menlo,'DejaVu Sans Mono',consolas,'Courier New',monospace\"><span style=\"color: #808080; text-decoration-color: #808080; font-weight: bold\">[</span><span style=\"color: #808080; text-decoration-color: #808080\">URL_SEED</span><span style=\"color: #808080; text-decoration-color: #808080; font-weight: bold\">]</span><span style=\"color: #808080; text-decoration-color: #808080\"> ℹ Fetching head for </span><span style=\"color: #808080; text-decoration-color: #808080; text-decoration: underline\">https://loigiaihay.com/sbt-hoa-12-ket-noi-tri-thuc-c1882.html</span><span style=\"color: #808080; text-decoration-color: #808080\"> </span>\n",
       "</pre>\n"
      ],
      "text/plain": [
       "\u001b[1;90m[\u001b[0m\u001b[90mURL_SEED\u001b[0m\u001b[1;90m]\u001b[0m\u001b[90m ℹ Fetching head for \u001b[0m\u001b[4;90mhttps://loigiaihay.com/sbt-hoa-12-ket-noi-tri-thuc-c1882.html\u001b[0m\u001b[90m \u001b[0m\n"
      ]
     },
     "metadata": {},
     "output_type": "display_data"
    },
    {
     "data": {
      "text/html": [
       "<pre style=\"white-space:pre;overflow-x:auto;line-height:normal;font-family:Menlo,'DejaVu Sans Mono',consolas,'Courier New',monospace\"><span style=\"color: #008080; text-decoration-color: #008080; font-weight: bold\">[</span><span style=\"color: #008080; text-decoration-color: #008080\">URL_SEED</span><span style=\"color: #008080; text-decoration-color: #008080; font-weight: bold\">]</span><span style=\"color: #008080; text-decoration-color: #008080\"> ℹ HEAD VALID for </span><span style=\"color: #008080; text-decoration-color: #008080; text-decoration: underline\">https://loigiaihay.com/chuyen-de-hoc-tap-li-12-ket-noi-tri-thuc-c1873.html</span><span style=\"color: #008080; text-decoration-color: #008080\"> </span>\n",
       "</pre>\n"
      ],
      "text/plain": [
       "\u001b[1;36m[\u001b[0m\u001b[36mURL_SEED\u001b[0m\u001b[1;36m]\u001b[0m\u001b[36m ℹ HEAD VALID for \u001b[0m\u001b[4;36mhttps://loigiaihay.com/chuyen-de-hoc-tap-li-12-ket-noi-tri-thuc-c1873.html\u001b[0m\u001b[36m \u001b[0m\n"
      ]
     },
     "metadata": {},
     "output_type": "display_data"
    },
    {
     "data": {
      "text/html": [
       "<pre style=\"white-space:pre;overflow-x:auto;line-height:normal;font-family:Menlo,'DejaVu Sans Mono',consolas,'Courier New',monospace\"><span style=\"color: #808080; text-decoration-color: #808080; font-weight: bold\">[</span><span style=\"color: #808080; text-decoration-color: #808080\">URL_SEED</span><span style=\"color: #808080; text-decoration-color: #808080; font-weight: bold\">]</span><span style=\"color: #808080; text-decoration-color: #808080\"> ℹ Fetching head for </span><span style=\"color: #808080; text-decoration-color: #808080; text-decoration: underline\">https://loigiaihay.com/sbt-hoa-12-canh-dieu-c1886.html</span><span style=\"color: #808080; text-decoration-color: #808080\"> </span>\n",
       "</pre>\n"
      ],
      "text/plain": [
       "\u001b[1;90m[\u001b[0m\u001b[90mURL_SEED\u001b[0m\u001b[1;90m]\u001b[0m\u001b[90m ℹ Fetching head for \u001b[0m\u001b[4;90mhttps://loigiaihay.com/sbt-hoa-12-canh-dieu-c1886.html\u001b[0m\u001b[90m \u001b[0m\n"
      ]
     },
     "metadata": {},
     "output_type": "display_data"
    },
    {
     "data": {
      "text/html": [
       "<pre style=\"white-space:pre;overflow-x:auto;line-height:normal;font-family:Menlo,'DejaVu Sans Mono',consolas,'Courier New',monospace\"><span style=\"color: #008080; text-decoration-color: #008080; font-weight: bold\">[</span><span style=\"color: #008080; text-decoration-color: #008080\">URL_SEED</span><span style=\"color: #008080; text-decoration-color: #008080; font-weight: bold\">]</span><span style=\"color: #008080; text-decoration-color: #008080\"> ℹ HEAD VALID for </span><span style=\"color: #008080; text-decoration-color: #008080; text-decoration: underline\">https://loigiaihay.com/sgk-hoa-12-ket-noi-tri-thuc-c1745.html</span><span style=\"color: #008080; text-decoration-color: #008080\"> </span>\n",
       "</pre>\n"
      ],
      "text/plain": [
       "\u001b[1;36m[\u001b[0m\u001b[36mURL_SEED\u001b[0m\u001b[1;36m]\u001b[0m\u001b[36m ℹ HEAD VALID for \u001b[0m\u001b[4;36mhttps://loigiaihay.com/sgk-hoa-12-ket-noi-tri-thuc-c1745.html\u001b[0m\u001b[36m \u001b[0m\n"
      ]
     },
     "metadata": {},
     "output_type": "display_data"
    },
    {
     "data": {
      "text/html": [
       "<pre style=\"white-space:pre;overflow-x:auto;line-height:normal;font-family:Menlo,'DejaVu Sans Mono',consolas,'Courier New',monospace\"><span style=\"color: #808080; text-decoration-color: #808080; font-weight: bold\">[</span><span style=\"color: #808080; text-decoration-color: #808080\">URL_SEED</span><span style=\"color: #808080; text-decoration-color: #808080; font-weight: bold\">]</span><span style=\"color: #808080; text-decoration-color: #808080\"> ℹ Fetching head for </span><span style=\"color: #808080; text-decoration-color: #808080; text-decoration: underline\">https://loigiaihay.com/sbt-hoa-12-chan-troi-sang-tao-c1884.html</span><span style=\"color: #808080; text-decoration-color: #808080\"> </span>\n",
       "</pre>\n"
      ],
      "text/plain": [
       "\u001b[1;90m[\u001b[0m\u001b[90mURL_SEED\u001b[0m\u001b[1;90m]\u001b[0m\u001b[90m ℹ Fetching head for \u001b[0m\u001b[4;90mhttps://loigiaihay.com/sbt-hoa-12-chan-troi-sang-tao-c1884.html\u001b[0m\u001b[90m \u001b[0m\n"
      ]
     },
     "metadata": {},
     "output_type": "display_data"
    },
    {
     "data": {
      "text/html": [
       "<pre style=\"white-space:pre;overflow-x:auto;line-height:normal;font-family:Menlo,'DejaVu Sans Mono',consolas,'Courier New',monospace\"><span style=\"color: #008080; text-decoration-color: #008080; font-weight: bold\">[</span><span style=\"color: #008080; text-decoration-color: #008080\">URL_SEED</span><span style=\"color: #008080; text-decoration-color: #008080; font-weight: bold\">]</span><span style=\"color: #008080; text-decoration-color: #008080\"> ℹ HEAD VALID for </span><span style=\"color: #008080; text-decoration-color: #008080; text-decoration: underline\">https://loigiaihay.com/sgk-hoa-12-chan-troi-sang-tao-c1747.html</span><span style=\"color: #008080; text-decoration-color: #008080\"> </span>\n",
       "</pre>\n"
      ],
      "text/plain": [
       "\u001b[1;36m[\u001b[0m\u001b[36mURL_SEED\u001b[0m\u001b[1;36m]\u001b[0m\u001b[36m ℹ HEAD VALID for \u001b[0m\u001b[4;36mhttps://loigiaihay.com/sgk-hoa-12-chan-troi-sang-tao-c1747.html\u001b[0m\u001b[36m \u001b[0m\n"
      ]
     },
     "metadata": {},
     "output_type": "display_data"
    },
    {
     "data": {
      "text/html": [
       "<pre style=\"white-space:pre;overflow-x:auto;line-height:normal;font-family:Menlo,'DejaVu Sans Mono',consolas,'Courier New',monospace\"><span style=\"color: #808080; text-decoration-color: #808080; font-weight: bold\">[</span><span style=\"color: #808080; text-decoration-color: #808080\">URL_SEED</span><span style=\"color: #808080; text-decoration-color: #808080; font-weight: bold\">]</span><span style=\"color: #808080; text-decoration-color: #808080\"> ℹ Fetching head for </span><span style=\"color: #808080; text-decoration-color: #808080; text-decoration: underline\">https://loigiaihay.com/chuyen-de-hoc-tap-hoa-12-ket-noi-tri-thuc-c1893.html</span><span style=\"color: #808080; text-decoration-color: #808080\"> </span>\n",
       "</pre>\n"
      ],
      "text/plain": [
       "\u001b[1;90m[\u001b[0m\u001b[90mURL_SEED\u001b[0m\u001b[1;90m]\u001b[0m\u001b[90m ℹ Fetching head for \u001b[0m\u001b[4;90mhttps://loigiaihay.com/chuyen-de-hoc-tap-hoa-12-ket-noi-tri-thuc-c1893.html\u001b[0m\u001b[90m \u001b[0m\n"
      ]
     },
     "metadata": {},
     "output_type": "display_data"
    },
    {
     "data": {
      "text/html": [
       "<pre style=\"white-space:pre;overflow-x:auto;line-height:normal;font-family:Menlo,'DejaVu Sans Mono',consolas,'Courier New',monospace\"><span style=\"color: #008080; text-decoration-color: #008080; font-weight: bold\">[</span><span style=\"color: #008080; text-decoration-color: #008080\">URL_SEED</span><span style=\"color: #008080; text-decoration-color: #008080; font-weight: bold\">]</span><span style=\"color: #008080; text-decoration-color: #008080\"> ℹ HEAD VALID for </span><span style=\"color: #008080; text-decoration-color: #008080; text-decoration: underline\">https://loigiaihay.com/sgk-hoa-12-canh-dieu-c1746.html</span><span style=\"color: #008080; text-decoration-color: #008080\"> </span>\n",
       "</pre>\n"
      ],
      "text/plain": [
       "\u001b[1;36m[\u001b[0m\u001b[36mURL_SEED\u001b[0m\u001b[1;36m]\u001b[0m\u001b[36m ℹ HEAD VALID for \u001b[0m\u001b[4;36mhttps://loigiaihay.com/sgk-hoa-12-canh-dieu-c1746.html\u001b[0m\u001b[36m \u001b[0m\n"
      ]
     },
     "metadata": {},
     "output_type": "display_data"
    },
    {
     "data": {
      "text/html": [
       "<pre style=\"white-space:pre;overflow-x:auto;line-height:normal;font-family:Menlo,'DejaVu Sans Mono',consolas,'Courier New',monospace\"><span style=\"color: #808080; text-decoration-color: #808080; font-weight: bold\">[</span><span style=\"color: #808080; text-decoration-color: #808080\">URL_SEED</span><span style=\"color: #808080; text-decoration-color: #808080; font-weight: bold\">]</span><span style=\"color: #808080; text-decoration-color: #808080\"> ℹ Fetching head for </span><span style=\"color: #808080; text-decoration-color: #808080; text-decoration: underline\">https://loigiaihay.com/chuyen-de-hoc-tap-hoa-12-canh-dieu-c1894.html</span><span style=\"color: #808080; text-decoration-color: #808080\"> </span>\n",
       "</pre>\n"
      ],
      "text/plain": [
       "\u001b[1;90m[\u001b[0m\u001b[90mURL_SEED\u001b[0m\u001b[1;90m]\u001b[0m\u001b[90m ℹ Fetching head for \u001b[0m\u001b[4;90mhttps://loigiaihay.com/chuyen-de-hoc-tap-hoa-12-canh-dieu-c1894.html\u001b[0m\u001b[90m \u001b[0m\n"
      ]
     },
     "metadata": {},
     "output_type": "display_data"
    },
    {
     "data": {
      "text/html": [
       "<pre style=\"white-space:pre;overflow-x:auto;line-height:normal;font-family:Menlo,'DejaVu Sans Mono',consolas,'Courier New',monospace\"><span style=\"color: #008080; text-decoration-color: #008080; font-weight: bold\">[</span><span style=\"color: #008080; text-decoration-color: #008080\">URL_SEED</span><span style=\"color: #008080; text-decoration-color: #008080; font-weight: bold\">]</span><span style=\"color: #008080; text-decoration-color: #008080\"> ℹ HEAD VALID for </span><span style=\"color: #008080; text-decoration-color: #008080; text-decoration: underline\">https://loigiaihay.com/sbt-hoa-12-ket-noi-tri-thuc-c1882.html</span><span style=\"color: #008080; text-decoration-color: #008080\"> </span>\n",
       "</pre>\n"
      ],
      "text/plain": [
       "\u001b[1;36m[\u001b[0m\u001b[36mURL_SEED\u001b[0m\u001b[1;36m]\u001b[0m\u001b[36m ℹ HEAD VALID for \u001b[0m\u001b[4;36mhttps://loigiaihay.com/sbt-hoa-12-ket-noi-tri-thuc-c1882.html\u001b[0m\u001b[36m \u001b[0m\n"
      ]
     },
     "metadata": {},
     "output_type": "display_data"
    },
    {
     "data": {
      "text/html": [
       "<pre style=\"white-space:pre;overflow-x:auto;line-height:normal;font-family:Menlo,'DejaVu Sans Mono',consolas,'Courier New',monospace\"><span style=\"color: #008080; text-decoration-color: #008080; font-weight: bold\">[</span><span style=\"color: #008080; text-decoration-color: #008080\">URL_SEED</span><span style=\"color: #008080; text-decoration-color: #008080; font-weight: bold\">]</span><span style=\"color: #008080; text-decoration-color: #008080\"> ℹ HEAD VALID for </span><span style=\"color: #008080; text-decoration-color: #008080; text-decoration: underline\">https://loigiaihay.com/sbt-hoa-12-canh-dieu-c1886.html</span><span style=\"color: #008080; text-decoration-color: #008080\"> </span>\n",
       "</pre>\n"
      ],
      "text/plain": [
       "\u001b[1;36m[\u001b[0m\u001b[36mURL_SEED\u001b[0m\u001b[1;36m]\u001b[0m\u001b[36m ℹ HEAD VALID for \u001b[0m\u001b[4;36mhttps://loigiaihay.com/sbt-hoa-12-canh-dieu-c1886.html\u001b[0m\u001b[36m \u001b[0m\n"
      ]
     },
     "metadata": {},
     "output_type": "display_data"
    },
    {
     "data": {
      "text/html": [
       "<pre style=\"white-space:pre;overflow-x:auto;line-height:normal;font-family:Menlo,'DejaVu Sans Mono',consolas,'Courier New',monospace\"><span style=\"color: #808080; text-decoration-color: #808080; font-weight: bold\">[</span><span style=\"color: #808080; text-decoration-color: #808080\">URL_SEED</span><span style=\"color: #808080; text-decoration-color: #808080; font-weight: bold\">]</span><span style=\"color: #808080; text-decoration-color: #808080\"> ℹ Fetching head for </span><span style=\"color: #808080; text-decoration-color: #808080; text-decoration: underline\">https://loigiaihay.com/sgk-sinh-12-ket-noi-tri-thuc-c1776.html</span><span style=\"color: #808080; text-decoration-color: #808080\"> </span>\n",
       "</pre>\n"
      ],
      "text/plain": [
       "\u001b[1;90m[\u001b[0m\u001b[90mURL_SEED\u001b[0m\u001b[1;90m]\u001b[0m\u001b[90m ℹ Fetching head for \u001b[0m\u001b[4;90mhttps://loigiaihay.com/sgk-sinh-12-ket-noi-tri-thuc-c1776.html\u001b[0m\u001b[90m \u001b[0m\n"
      ]
     },
     "metadata": {},
     "output_type": "display_data"
    },
    {
     "data": {
      "text/html": [
       "<pre style=\"white-space:pre;overflow-x:auto;line-height:normal;font-family:Menlo,'DejaVu Sans Mono',consolas,'Courier New',monospace\"><span style=\"color: #808080; text-decoration-color: #808080; font-weight: bold\">[</span><span style=\"color: #808080; text-decoration-color: #808080\">URL_SEED</span><span style=\"color: #808080; text-decoration-color: #808080; font-weight: bold\">]</span><span style=\"color: #808080; text-decoration-color: #808080\"> ℹ Fetching head for </span><span style=\"color: #808080; text-decoration-color: #808080; text-decoration: underline\">https://loigiaihay.com/sgk-sinh-12-canh-dieu-c1778.html</span><span style=\"color: #808080; text-decoration-color: #808080\"> </span>\n",
       "</pre>\n"
      ],
      "text/plain": [
       "\u001b[1;90m[\u001b[0m\u001b[90mURL_SEED\u001b[0m\u001b[1;90m]\u001b[0m\u001b[90m ℹ Fetching head for \u001b[0m\u001b[4;90mhttps://loigiaihay.com/sgk-sinh-12-canh-dieu-c1778.html\u001b[0m\u001b[90m \u001b[0m\n"
      ]
     },
     "metadata": {},
     "output_type": "display_data"
    },
    {
     "data": {
      "text/html": [
       "<pre style=\"white-space:pre;overflow-x:auto;line-height:normal;font-family:Menlo,'DejaVu Sans Mono',consolas,'Courier New',monospace\"><span style=\"color: #808080; text-decoration-color: #808080; font-weight: bold\">[</span><span style=\"color: #808080; text-decoration-color: #808080\">URL_SEED</span><span style=\"color: #808080; text-decoration-color: #808080; font-weight: bold\">]</span><span style=\"color: #808080; text-decoration-color: #808080\"> ℹ Fetch head network error for </span>\n",
       "<span style=\"color: #808080; text-decoration-color: #808080; text-decoration: underline\">https://loigiaihay.com/chuyen-de-hoc-tap-hoa-12-ket-noi-tri-thuc-c1893.html:</span><span style=\"color: #808080; text-decoration-color: #808080\">  </span>\n",
       "</pre>\n"
      ],
      "text/plain": [
       "\u001b[1;90m[\u001b[0m\u001b[90mURL_SEED\u001b[0m\u001b[1;90m]\u001b[0m\u001b[90m ℹ Fetch head network error for \u001b[0m\n",
       "\u001b[4;90mhttps://loigiaihay.com/chuyen-de-hoc-tap-hoa-12-ket-noi-tri-thuc-c1893.html:\u001b[0m\u001b[90m  \u001b[0m\n"
      ]
     },
     "metadata": {},
     "output_type": "display_data"
    },
    {
     "data": {
      "text/html": [
       "<pre style=\"white-space:pre;overflow-x:auto;line-height:normal;font-family:Menlo,'DejaVu Sans Mono',consolas,'Courier New',monospace\"><span style=\"color: #808000; text-decoration-color: #808000; font-weight: bold\">[</span><span style=\"color: #808000; text-decoration-color: #808000\">URL_SEED</span><span style=\"color: #808000; text-decoration-color: #808000; font-weight: bold\">]</span><span style=\"color: #808000; text-decoration-color: #808000\"> ℹ HEAD NOT_VALID for </span><span style=\"color: #808000; text-decoration-color: #808000; text-decoration: underline\">https://loigiaihay.com/chuyen-de-hoc-tap-hoa-12-ket-noi-tri-thuc-c1893.html</span><span style=\"color: #808000; text-decoration-color: #808000\"> </span>\n",
       "</pre>\n"
      ],
      "text/plain": [
       "\u001b[1;33m[\u001b[0m\u001b[33mURL_SEED\u001b[0m\u001b[1;33m]\u001b[0m\u001b[33m ℹ HEAD NOT_VALID for \u001b[0m\u001b[4;33mhttps://loigiaihay.com/chuyen-de-hoc-tap-hoa-12-ket-noi-tri-thuc-c1893.html\u001b[0m\u001b[33m \u001b[0m\n"
      ]
     },
     "metadata": {},
     "output_type": "display_data"
    },
    {
     "data": {
      "text/html": [
       "<pre style=\"white-space:pre;overflow-x:auto;line-height:normal;font-family:Menlo,'DejaVu Sans Mono',consolas,'Courier New',monospace\"><span style=\"color: #808080; text-decoration-color: #808080; font-weight: bold\">[</span><span style=\"color: #808080; text-decoration-color: #808080\">URL_SEED</span><span style=\"color: #808080; text-decoration-color: #808080; font-weight: bold\">]</span><span style=\"color: #808080; text-decoration-color: #808080\"> ℹ Fetch head network error for </span><span style=\"color: #808080; text-decoration-color: #808080; text-decoration: underline\">https://loigiaihay.com/sgk-sinh-12-canh-dieu-c1778.html:</span><span style=\"color: #808080; text-decoration-color: #808080\">  </span>\n",
       "</pre>\n"
      ],
      "text/plain": [
       "\u001b[1;90m[\u001b[0m\u001b[90mURL_SEED\u001b[0m\u001b[1;90m]\u001b[0m\u001b[90m ℹ Fetch head network error for \u001b[0m\u001b[4;90mhttps://loigiaihay.com/sgk-sinh-12-canh-dieu-c1778.html:\u001b[0m\u001b[90m  \u001b[0m\n"
      ]
     },
     "metadata": {},
     "output_type": "display_data"
    },
    {
     "data": {
      "text/html": [
       "<pre style=\"white-space:pre;overflow-x:auto;line-height:normal;font-family:Menlo,'DejaVu Sans Mono',consolas,'Courier New',monospace\"><span style=\"color: #808000; text-decoration-color: #808000; font-weight: bold\">[</span><span style=\"color: #808000; text-decoration-color: #808000\">URL_SEED</span><span style=\"color: #808000; text-decoration-color: #808000; font-weight: bold\">]</span><span style=\"color: #808000; text-decoration-color: #808000\"> ℹ HEAD NOT_VALID for </span><span style=\"color: #808000; text-decoration-color: #808000; text-decoration: underline\">https://loigiaihay.com/sgk-sinh-12-canh-dieu-c1778.html</span><span style=\"color: #808000; text-decoration-color: #808000\"> </span>\n",
       "</pre>\n"
      ],
      "text/plain": [
       "\u001b[1;33m[\u001b[0m\u001b[33mURL_SEED\u001b[0m\u001b[1;33m]\u001b[0m\u001b[33m ℹ HEAD NOT_VALID for \u001b[0m\u001b[4;33mhttps://loigiaihay.com/sgk-sinh-12-canh-dieu-c1778.html\u001b[0m\u001b[33m \u001b[0m\n"
      ]
     },
     "metadata": {},
     "output_type": "display_data"
    },
    {
     "data": {
      "text/html": [
       "<pre style=\"white-space:pre;overflow-x:auto;line-height:normal;font-family:Menlo,'DejaVu Sans Mono',consolas,'Courier New',monospace\"><span style=\"color: #808080; text-decoration-color: #808080; font-weight: bold\">[</span><span style=\"color: #808080; text-decoration-color: #808080\">URL_SEED</span><span style=\"color: #808080; text-decoration-color: #808080; font-weight: bold\">]</span><span style=\"color: #808080; text-decoration-color: #808080\"> ℹ Fetch head network error for </span><span style=\"color: #808080; text-decoration-color: #808080; text-decoration: underline\">https://loigiaihay.com/sbt-hoa-12-chan-troi-sang-tao-c1884.html:</span><span style=\"color: #808080; text-decoration-color: #808080\">  </span>\n",
       "</pre>\n"
      ],
      "text/plain": [
       "\u001b[1;90m[\u001b[0m\u001b[90mURL_SEED\u001b[0m\u001b[1;90m]\u001b[0m\u001b[90m ℹ Fetch head network error for \u001b[0m\u001b[4;90mhttps://loigiaihay.com/sbt-hoa-12-chan-troi-sang-tao-c1884.html:\u001b[0m\u001b[90m  \u001b[0m\n"
      ]
     },
     "metadata": {},
     "output_type": "display_data"
    },
    {
     "data": {
      "text/html": [
       "<pre style=\"white-space:pre;overflow-x:auto;line-height:normal;font-family:Menlo,'DejaVu Sans Mono',consolas,'Courier New',monospace\"><span style=\"color: #808000; text-decoration-color: #808000; font-weight: bold\">[</span><span style=\"color: #808000; text-decoration-color: #808000\">URL_SEED</span><span style=\"color: #808000; text-decoration-color: #808000; font-weight: bold\">]</span><span style=\"color: #808000; text-decoration-color: #808000\"> ℹ HEAD NOT_VALID for </span><span style=\"color: #808000; text-decoration-color: #808000; text-decoration: underline\">https://loigiaihay.com/sbt-hoa-12-chan-troi-sang-tao-c1884.html</span><span style=\"color: #808000; text-decoration-color: #808000\"> </span>\n",
       "</pre>\n"
      ],
      "text/plain": [
       "\u001b[1;33m[\u001b[0m\u001b[33mURL_SEED\u001b[0m\u001b[1;33m]\u001b[0m\u001b[33m ℹ HEAD NOT_VALID for \u001b[0m\u001b[4;33mhttps://loigiaihay.com/sbt-hoa-12-chan-troi-sang-tao-c1884.html\u001b[0m\u001b[33m \u001b[0m\n"
      ]
     },
     "metadata": {},
     "output_type": "display_data"
    },
    {
     "data": {
      "text/html": [
       "<pre style=\"white-space:pre;overflow-x:auto;line-height:normal;font-family:Menlo,'DejaVu Sans Mono',consolas,'Courier New',monospace\"><span style=\"color: #808080; text-decoration-color: #808080; font-weight: bold\">[</span><span style=\"color: #808080; text-decoration-color: #808080\">URL_SEED</span><span style=\"color: #808080; text-decoration-color: #808080; font-weight: bold\">]</span><span style=\"color: #808080; text-decoration-color: #808080\"> ℹ Fetch head network error for </span><span style=\"color: #808080; text-decoration-color: #808080; text-decoration: underline\">https://loigiaihay.com/sgk-sinh-12-ket-noi-tri-thuc-c1776.html:</span><span style=\"color: #808080; text-decoration-color: #808080\">  </span>\n",
       "</pre>\n"
      ],
      "text/plain": [
       "\u001b[1;90m[\u001b[0m\u001b[90mURL_SEED\u001b[0m\u001b[1;90m]\u001b[0m\u001b[90m ℹ Fetch head network error for \u001b[0m\u001b[4;90mhttps://loigiaihay.com/sgk-sinh-12-ket-noi-tri-thuc-c1776.html:\u001b[0m\u001b[90m  \u001b[0m\n"
      ]
     },
     "metadata": {},
     "output_type": "display_data"
    },
    {
     "data": {
      "text/html": [
       "<pre style=\"white-space:pre;overflow-x:auto;line-height:normal;font-family:Menlo,'DejaVu Sans Mono',consolas,'Courier New',monospace\"><span style=\"color: #808000; text-decoration-color: #808000; font-weight: bold\">[</span><span style=\"color: #808000; text-decoration-color: #808000\">URL_SEED</span><span style=\"color: #808000; text-decoration-color: #808000; font-weight: bold\">]</span><span style=\"color: #808000; text-decoration-color: #808000\"> ℹ HEAD NOT_VALID for </span><span style=\"color: #808000; text-decoration-color: #808000; text-decoration: underline\">https://loigiaihay.com/sgk-sinh-12-ket-noi-tri-thuc-c1776.html</span><span style=\"color: #808000; text-decoration-color: #808000\"> </span>\n",
       "</pre>\n"
      ],
      "text/plain": [
       "\u001b[1;33m[\u001b[0m\u001b[33mURL_SEED\u001b[0m\u001b[1;33m]\u001b[0m\u001b[33m ℹ HEAD NOT_VALID for \u001b[0m\u001b[4;33mhttps://loigiaihay.com/sgk-sinh-12-ket-noi-tri-thuc-c1776.html\u001b[0m\u001b[33m \u001b[0m\n"
      ]
     },
     "metadata": {},
     "output_type": "display_data"
    },
    {
     "data": {
      "text/html": [
       "<pre style=\"white-space:pre;overflow-x:auto;line-height:normal;font-family:Menlo,'DejaVu Sans Mono',consolas,'Courier New',monospace\"><span style=\"color: #808080; text-decoration-color: #808080; font-weight: bold\">[</span><span style=\"color: #808080; text-decoration-color: #808080\">URL_SEED</span><span style=\"color: #808080; text-decoration-color: #808080; font-weight: bold\">]</span><span style=\"color: #808080; text-decoration-color: #808080\"> ℹ Fetch head network error for </span><span style=\"color: #808080; text-decoration-color: #808080; text-decoration: underline\">https://loigiaihay.com/chuyen-de-hoc-tap-hoa-12-canh-dieu-c1894.html:</span><span style=\"color: #808080; text-decoration-color: #808080\">  </span>\n",
       "</pre>\n"
      ],
      "text/plain": [
       "\u001b[1;90m[\u001b[0m\u001b[90mURL_SEED\u001b[0m\u001b[1;90m]\u001b[0m\u001b[90m ℹ Fetch head network error for \u001b[0m\u001b[4;90mhttps://loigiaihay.com/chuyen-de-hoc-tap-hoa-12-canh-dieu-c1894.html:\u001b[0m\u001b[90m  \u001b[0m\n"
      ]
     },
     "metadata": {},
     "output_type": "display_data"
    },
    {
     "data": {
      "text/html": [
       "<pre style=\"white-space:pre;overflow-x:auto;line-height:normal;font-family:Menlo,'DejaVu Sans Mono',consolas,'Courier New',monospace\"><span style=\"color: #808000; text-decoration-color: #808000; font-weight: bold\">[</span><span style=\"color: #808000; text-decoration-color: #808000\">URL_SEED</span><span style=\"color: #808000; text-decoration-color: #808000; font-weight: bold\">]</span><span style=\"color: #808000; text-decoration-color: #808000\"> ℹ HEAD NOT_VALID for </span><span style=\"color: #808000; text-decoration-color: #808000; text-decoration: underline\">https://loigiaihay.com/chuyen-de-hoc-tap-hoa-12-canh-dieu-c1894.html</span><span style=\"color: #808000; text-decoration-color: #808000\"> </span>\n",
       "</pre>\n"
      ],
      "text/plain": [
       "\u001b[1;33m[\u001b[0m\u001b[33mURL_SEED\u001b[0m\u001b[1;33m]\u001b[0m\u001b[33m ℹ HEAD NOT_VALID for \u001b[0m\u001b[4;33mhttps://loigiaihay.com/chuyen-de-hoc-tap-hoa-12-canh-dieu-c1894.html\u001b[0m\u001b[33m \u001b[0m\n"
      ]
     },
     "metadata": {},
     "output_type": "display_data"
    },
    {
     "data": {
      "text/html": [
       "<pre style=\"white-space:pre;overflow-x:auto;line-height:normal;font-family:Menlo,'DejaVu Sans Mono',consolas,'Courier New',monospace\"><span style=\"color: #808080; text-decoration-color: #808080; font-weight: bold\">[</span><span style=\"color: #808080; text-decoration-color: #808080\">URL_SEED</span><span style=\"color: #808080; text-decoration-color: #808080; font-weight: bold\">]</span><span style=\"color: #808080; text-decoration-color: #808080\"> ℹ Fetching head for </span><span style=\"color: #808080; text-decoration-color: #808080; text-decoration: underline\">https://loigiaihay.com/sgk-sinh-12-chan-troi-sang-tao-c1779.html</span><span style=\"color: #808080; text-decoration-color: #808080\"> </span>\n",
       "</pre>\n"
      ],
      "text/plain": [
       "\u001b[1;90m[\u001b[0m\u001b[90mURL_SEED\u001b[0m\u001b[1;90m]\u001b[0m\u001b[90m ℹ Fetching head for \u001b[0m\u001b[4;90mhttps://loigiaihay.com/sgk-sinh-12-chan-troi-sang-tao-c1779.html\u001b[0m\u001b[90m \u001b[0m\n"
      ]
     },
     "metadata": {},
     "output_type": "display_data"
    },
    {
     "data": {
      "text/html": [
       "<pre style=\"white-space:pre;overflow-x:auto;line-height:normal;font-family:Menlo,'DejaVu Sans Mono',consolas,'Courier New',monospace\"><span style=\"color: #808080; text-decoration-color: #808080; font-weight: bold\">[</span><span style=\"color: #808080; text-decoration-color: #808080\">URL_SEED</span><span style=\"color: #808080; text-decoration-color: #808080; font-weight: bold\">]</span><span style=\"color: #808080; text-decoration-color: #808080\"> ℹ Fetching head for </span><span style=\"color: #808080; text-decoration-color: #808080; text-decoration: underline\">https://loigiaihay.com/v2/tu-luyen-trac-nghiem-sinh-12-ket-noi-tri-thuc-c1926.html</span><span style=\"color: #808080; text-decoration-color: #808080\"> </span>\n",
       "</pre>\n"
      ],
      "text/plain": [
       "\u001b[1;90m[\u001b[0m\u001b[90mURL_SEED\u001b[0m\u001b[1;90m]\u001b[0m\u001b[90m ℹ Fetching head for \u001b[0m\u001b[4;90mhttps://loigiaihay.com/v2/tu-luyen-trac-nghiem-sinh-12-ket-noi-tri-thuc-c1926.html\u001b[0m\u001b[90m \u001b[0m\n"
      ]
     },
     "metadata": {},
     "output_type": "display_data"
    },
    {
     "data": {
      "text/html": [
       "<pre style=\"white-space:pre;overflow-x:auto;line-height:normal;font-family:Menlo,'DejaVu Sans Mono',consolas,'Courier New',monospace\"><span style=\"color: #808080; text-decoration-color: #808080; font-weight: bold\">[</span><span style=\"color: #808080; text-decoration-color: #808080\">URL_SEED</span><span style=\"color: #808080; text-decoration-color: #808080; font-weight: bold\">]</span><span style=\"color: #808080; text-decoration-color: #808080\"> ℹ Fetching head for </span><span style=\"color: #808080; text-decoration-color: #808080; text-decoration: underline\">https://loigiaihay.com/v2/tu-luyen-trac-nghiem-sinh-12-canh-dieu-c1928.html</span><span style=\"color: #808080; text-decoration-color: #808080\"> </span>\n",
       "</pre>\n"
      ],
      "text/plain": [
       "\u001b[1;90m[\u001b[0m\u001b[90mURL_SEED\u001b[0m\u001b[1;90m]\u001b[0m\u001b[90m ℹ Fetching head for \u001b[0m\u001b[4;90mhttps://loigiaihay.com/v2/tu-luyen-trac-nghiem-sinh-12-canh-dieu-c1928.html\u001b[0m\u001b[90m \u001b[0m\n"
      ]
     },
     "metadata": {},
     "output_type": "display_data"
    },
    {
     "data": {
      "text/html": [
       "<pre style=\"white-space:pre;overflow-x:auto;line-height:normal;font-family:Menlo,'DejaVu Sans Mono',consolas,'Courier New',monospace\"><span style=\"color: #808080; text-decoration-color: #808080; font-weight: bold\">[</span><span style=\"color: #808080; text-decoration-color: #808080\">URL_SEED</span><span style=\"color: #808080; text-decoration-color: #808080; font-weight: bold\">]</span><span style=\"color: #808080; text-decoration-color: #808080\"> ℹ Fetching head for </span><span style=\"color: #808080; text-decoration-color: #808080; text-decoration: underline\">https://loigiaihay.com/v2/tu-luyen-trac-nghiem-sinh-12-chan-troi-sang-tao-c1929.html</span>\n",
       "</pre>\n"
      ],
      "text/plain": [
       "\u001b[1;90m[\u001b[0m\u001b[90mURL_SEED\u001b[0m\u001b[1;90m]\u001b[0m\u001b[90m ℹ Fetching head for \u001b[0m\u001b[4;90mhttps://loigiaihay.com/v2/tu-luyen-trac-nghiem-sinh-12-chan-troi-sang-tao-c1929.html\u001b[0m\n"
      ]
     },
     "metadata": {},
     "output_type": "display_data"
    },
    {
     "data": {
      "text/html": [
       "<pre style=\"white-space:pre;overflow-x:auto;line-height:normal;font-family:Menlo,'DejaVu Sans Mono',consolas,'Courier New',monospace\"><span style=\"color: #808080; text-decoration-color: #808080; font-weight: bold\">[</span><span style=\"color: #808080; text-decoration-color: #808080\">URL_SEED</span><span style=\"color: #808080; text-decoration-color: #808080; font-weight: bold\">]</span><span style=\"color: #808080; text-decoration-color: #808080\"> ℹ Fetching head for </span><span style=\"color: #808080; text-decoration-color: #808080; text-decoration: underline\">https://loigiaihay.com/chuyen-de-hoc-tap-sinh-12-ket-noi-tri-thuc-c1931.html</span><span style=\"color: #808080; text-decoration-color: #808080\"> </span>\n",
       "</pre>\n"
      ],
      "text/plain": [
       "\u001b[1;90m[\u001b[0m\u001b[90mURL_SEED\u001b[0m\u001b[1;90m]\u001b[0m\u001b[90m ℹ Fetching head for \u001b[0m\u001b[4;90mhttps://loigiaihay.com/chuyen-de-hoc-tap-sinh-12-ket-noi-tri-thuc-c1931.html\u001b[0m\u001b[90m \u001b[0m\n"
      ]
     },
     "metadata": {},
     "output_type": "display_data"
    },
    {
     "data": {
      "text/html": [
       "<pre style=\"white-space:pre;overflow-x:auto;line-height:normal;font-family:Menlo,'DejaVu Sans Mono',consolas,'Courier New',monospace\"><span style=\"color: #008080; text-decoration-color: #008080; font-weight: bold\">[</span><span style=\"color: #008080; text-decoration-color: #008080\">URL_SEED</span><span style=\"color: #008080; text-decoration-color: #008080; font-weight: bold\">]</span><span style=\"color: #008080; text-decoration-color: #008080\"> ℹ HEAD VALID for </span><span style=\"color: #008080; text-decoration-color: #008080; text-decoration: underline\">https://loigiaihay.com/sgk-sinh-12-chan-troi-sang-tao-c1779.html</span><span style=\"color: #008080; text-decoration-color: #008080\"> </span>\n",
       "</pre>\n"
      ],
      "text/plain": [
       "\u001b[1;36m[\u001b[0m\u001b[36mURL_SEED\u001b[0m\u001b[1;36m]\u001b[0m\u001b[36m ℹ HEAD VALID for \u001b[0m\u001b[4;36mhttps://loigiaihay.com/sgk-sinh-12-chan-troi-sang-tao-c1779.html\u001b[0m\u001b[36m \u001b[0m\n"
      ]
     },
     "metadata": {},
     "output_type": "display_data"
    },
    {
     "data": {
      "text/html": [
       "<pre style=\"white-space:pre;overflow-x:auto;line-height:normal;font-family:Menlo,'DejaVu Sans Mono',consolas,'Courier New',monospace\"><span style=\"color: #808080; text-decoration-color: #808080; font-weight: bold\">[</span><span style=\"color: #808080; text-decoration-color: #808080\">URL_SEED</span><span style=\"color: #808080; text-decoration-color: #808080; font-weight: bold\">]</span><span style=\"color: #808080; text-decoration-color: #808080\"> ℹ Fetching head for </span><span style=\"color: #808080; text-decoration-color: #808080; text-decoration: underline\">https://loigiaihay.com/chuyen-de-hoc-tap-sinh-12-canh-dieu-c1932.html</span><span style=\"color: #808080; text-decoration-color: #808080\"> </span>\n",
       "</pre>\n"
      ],
      "text/plain": [
       "\u001b[1;90m[\u001b[0m\u001b[90mURL_SEED\u001b[0m\u001b[1;90m]\u001b[0m\u001b[90m ℹ Fetching head for \u001b[0m\u001b[4;90mhttps://loigiaihay.com/chuyen-de-hoc-tap-sinh-12-canh-dieu-c1932.html\u001b[0m\u001b[90m \u001b[0m\n"
      ]
     },
     "metadata": {},
     "output_type": "display_data"
    },
    {
     "data": {
      "text/html": [
       "<pre style=\"white-space:pre;overflow-x:auto;line-height:normal;font-family:Menlo,'DejaVu Sans Mono',consolas,'Courier New',monospace\"><span style=\"color: #008080; text-decoration-color: #008080; font-weight: bold\">[</span><span style=\"color: #008080; text-decoration-color: #008080\">URL_SEED</span><span style=\"color: #008080; text-decoration-color: #008080; font-weight: bold\">]</span><span style=\"color: #008080; text-decoration-color: #008080\"> ℹ HEAD VALID for </span><span style=\"color: #008080; text-decoration-color: #008080; text-decoration: underline\">https://loigiaihay.com/chuyen-de-hoc-tap-sinh-12-ket-noi-tri-thuc-c1931.html</span><span style=\"color: #008080; text-decoration-color: #008080\"> </span>\n",
       "</pre>\n"
      ],
      "text/plain": [
       "\u001b[1;36m[\u001b[0m\u001b[36mURL_SEED\u001b[0m\u001b[1;36m]\u001b[0m\u001b[36m ℹ HEAD VALID for \u001b[0m\u001b[4;36mhttps://loigiaihay.com/chuyen-de-hoc-tap-sinh-12-ket-noi-tri-thuc-c1931.html\u001b[0m\u001b[36m \u001b[0m\n"
      ]
     },
     "metadata": {},
     "output_type": "display_data"
    },
    {
     "data": {
      "text/html": [
       "<pre style=\"white-space:pre;overflow-x:auto;line-height:normal;font-family:Menlo,'DejaVu Sans Mono',consolas,'Courier New',monospace\"><span style=\"color: #008080; text-decoration-color: #008080; font-weight: bold\">[</span><span style=\"color: #008080; text-decoration-color: #008080\">URL_SEED</span><span style=\"color: #008080; text-decoration-color: #008080; font-weight: bold\">]</span><span style=\"color: #008080; text-decoration-color: #008080\"> ℹ HEAD VALID for </span><span style=\"color: #008080; text-decoration-color: #008080; text-decoration: underline\">https://loigiaihay.com/v2/tu-luyen-trac-nghiem-sinh-12-chan-troi-sang-tao-c1929.html</span><span style=\"color: #008080; text-decoration-color: #008080\"> </span>\n",
       "</pre>\n"
      ],
      "text/plain": [
       "\u001b[1;36m[\u001b[0m\u001b[36mURL_SEED\u001b[0m\u001b[1;36m]\u001b[0m\u001b[36m ℹ HEAD VALID for \u001b[0m\u001b[4;36mhttps://loigiaihay.com/v2/tu-luyen-trac-nghiem-sinh-12-chan-troi-sang-tao-c1929.html\u001b[0m\u001b[36m \u001b[0m\n"
      ]
     },
     "metadata": {},
     "output_type": "display_data"
    },
    {
     "data": {
      "text/html": [
       "<pre style=\"white-space:pre;overflow-x:auto;line-height:normal;font-family:Menlo,'DejaVu Sans Mono',consolas,'Courier New',monospace\"><span style=\"color: #008080; text-decoration-color: #008080; font-weight: bold\">[</span><span style=\"color: #008080; text-decoration-color: #008080\">URL_SEED</span><span style=\"color: #008080; text-decoration-color: #008080; font-weight: bold\">]</span><span style=\"color: #008080; text-decoration-color: #008080\"> ℹ HEAD VALID for </span><span style=\"color: #008080; text-decoration-color: #008080; text-decoration: underline\">https://loigiaihay.com/v2/tu-luyen-trac-nghiem-sinh-12-ket-noi-tri-thuc-c1926.html</span><span style=\"color: #008080; text-decoration-color: #008080\"> </span>\n",
       "</pre>\n"
      ],
      "text/plain": [
       "\u001b[1;36m[\u001b[0m\u001b[36mURL_SEED\u001b[0m\u001b[1;36m]\u001b[0m\u001b[36m ℹ HEAD VALID for \u001b[0m\u001b[4;36mhttps://loigiaihay.com/v2/tu-luyen-trac-nghiem-sinh-12-ket-noi-tri-thuc-c1926.html\u001b[0m\u001b[36m \u001b[0m\n"
      ]
     },
     "metadata": {},
     "output_type": "display_data"
    },
    {
     "data": {
      "text/html": [
       "<pre style=\"white-space:pre;overflow-x:auto;line-height:normal;font-family:Menlo,'DejaVu Sans Mono',consolas,'Courier New',monospace\"><span style=\"color: #008080; text-decoration-color: #008080; font-weight: bold\">[</span><span style=\"color: #008080; text-decoration-color: #008080\">URL_SEED</span><span style=\"color: #008080; text-decoration-color: #008080; font-weight: bold\">]</span><span style=\"color: #008080; text-decoration-color: #008080\"> ℹ HEAD VALID for </span><span style=\"color: #008080; text-decoration-color: #008080; text-decoration: underline\">https://loigiaihay.com/v2/tu-luyen-trac-nghiem-sinh-12-canh-dieu-c1928.html</span><span style=\"color: #008080; text-decoration-color: #008080\"> </span>\n",
       "</pre>\n"
      ],
      "text/plain": [
       "\u001b[1;36m[\u001b[0m\u001b[36mURL_SEED\u001b[0m\u001b[1;36m]\u001b[0m\u001b[36m ℹ HEAD VALID for \u001b[0m\u001b[4;36mhttps://loigiaihay.com/v2/tu-luyen-trac-nghiem-sinh-12-canh-dieu-c1928.html\u001b[0m\u001b[36m \u001b[0m\n"
      ]
     },
     "metadata": {},
     "output_type": "display_data"
    },
    {
     "data": {
      "text/html": [
       "<pre style=\"white-space:pre;overflow-x:auto;line-height:normal;font-family:Menlo,'DejaVu Sans Mono',consolas,'Courier New',monospace\"><span style=\"color: #008080; text-decoration-color: #008080; font-weight: bold\">[</span><span style=\"color: #008080; text-decoration-color: #008080\">URL_SEED</span><span style=\"color: #008080; text-decoration-color: #008080; font-weight: bold\">]</span><span style=\"color: #008080; text-decoration-color: #008080\"> ℹ HEAD VALID for </span><span style=\"color: #008080; text-decoration-color: #008080; text-decoration: underline\">https://loigiaihay.com/chuyen-de-hoc-tap-sinh-12-canh-dieu-c1932.html</span><span style=\"color: #008080; text-decoration-color: #008080\"> </span>\n",
       "</pre>\n"
      ],
      "text/plain": [
       "\u001b[1;36m[\u001b[0m\u001b[36mURL_SEED\u001b[0m\u001b[1;36m]\u001b[0m\u001b[36m ℹ HEAD VALID for \u001b[0m\u001b[4;36mhttps://loigiaihay.com/chuyen-de-hoc-tap-sinh-12-canh-dieu-c1932.html\u001b[0m\u001b[36m \u001b[0m\n"
      ]
     },
     "metadata": {},
     "output_type": "display_data"
    },
    {
     "data": {
      "text/html": [
       "<pre style=\"white-space:pre;overflow-x:auto;line-height:normal;font-family:Menlo,'DejaVu Sans Mono',consolas,'Courier New',monospace\"><span style=\"color: #008080; text-decoration-color: #008080; font-weight: bold\">[</span><span style=\"color: #008080; text-decoration-color: #008080\">URL_SEED</span><span style=\"color: #008080; text-decoration-color: #008080; font-weight: bold\">]</span><span style=\"color: #008080; text-decoration-color: #008080\"> ℹ Completed head extraction for </span><span style=\"color: #008080; text-decoration-color: #008080; font-weight: bold\">50</span><span style=\"color: #008080; text-decoration-color: #008080\"> URLs, </span><span style=\"color: #008080; text-decoration-color: #008080; font-weight: bold\">45</span><span style=\"color: #008080; text-decoration-color: #008080\"> successful </span>\n",
       "</pre>\n"
      ],
      "text/plain": [
       "\u001b[1;36m[\u001b[0m\u001b[36mURL_SEED\u001b[0m\u001b[1;36m]\u001b[0m\u001b[36m ℹ Completed head extraction for \u001b[0m\u001b[1;36m50\u001b[0m\u001b[36m URLs, \u001b[0m\u001b[1;36m45\u001b[0m\u001b[36m successful \u001b[0m\n"
      ]
     },
     "metadata": {},
     "output_type": "display_data"
    },
    {
     "data": {
      "text/html": [
       "<pre style=\"white-space:pre;overflow-x:auto;line-height:normal;font-family:Menlo,'DejaVu Sans Mono',consolas,'Courier New',monospace\"><span style=\"color: #008080; text-decoration-color: #008080; font-weight: bold\">[</span><span style=\"color: #008080; text-decoration-color: #008080\">LINK_EXTRACT</span><span style=\"color: #008080; text-decoration-color: #008080; font-weight: bold\">]</span><span style=\"color: #008080; text-decoration-color: #008080\"> ℹ Completed head extraction for links, </span><span style=\"color: #008080; text-decoration-color: #008080; font-weight: bold\">45</span><span style=\"color: #008080; text-decoration-color: #008080\"> successful </span>\n",
       "</pre>\n"
      ],
      "text/plain": [
       "\u001b[1;36m[\u001b[0m\u001b[36mLINK_EXTRACT\u001b[0m\u001b[1;36m]\u001b[0m\u001b[36m ℹ Completed head extraction for links, \u001b[0m\u001b[1;36m45\u001b[0m\u001b[36m successful \u001b[0m\n"
      ]
     },
     "metadata": {},
     "output_type": "display_data"
    },
    {
     "data": {
      "text/html": [
       "<pre style=\"white-space:pre;overflow-x:auto;line-height:normal;font-family:Menlo,'DejaVu Sans Mono',consolas,'Courier New',monospace\"><span style=\"color: #808080; text-decoration-color: #808080; font-weight: bold\">[</span><span style=\"color: #808080; text-decoration-color: #808080\">URL_SEED</span><span style=\"color: #808080; text-decoration-color: #808080; font-weight: bold\">]</span><span style=\"color: #808080; text-decoration-color: #808080\"> ℹ Closed HTTP client </span>\n",
       "</pre>\n"
      ],
      "text/plain": [
       "\u001b[1;90m[\u001b[0m\u001b[90mURL_SEED\u001b[0m\u001b[1;90m]\u001b[0m\u001b[90m ℹ Closed HTTP client \u001b[0m\n"
      ]
     },
     "metadata": {},
     "output_type": "display_data"
    },
    {
     "data": {
      "text/html": [
       "<pre style=\"white-space:pre;overflow-x:auto;line-height:normal;font-family:Menlo,'DejaVu Sans Mono',consolas,'Courier New',monospace\"><span style=\"color: #008080; text-decoration-color: #008080; font-weight: bold\">[</span><span style=\"color: #008080; text-decoration-color: #008080\">LINK_EXTRACT</span><span style=\"color: #008080; text-decoration-color: #008080; font-weight: bold\">]</span><span style=\"color: #008080; text-decoration-color: #008080\"> ℹ Link head extraction completed successfully </span>\n",
       "</pre>\n"
      ],
      "text/plain": [
       "\u001b[1;36m[\u001b[0m\u001b[36mLINK_EXTRACT\u001b[0m\u001b[1;36m]\u001b[0m\u001b[36m ℹ Link head extraction completed successfully \u001b[0m\n"
      ]
     },
     "metadata": {},
     "output_type": "display_data"
    },
    {
     "data": {
      "text/html": [
       "<pre style=\"white-space:pre;overflow-x:auto;line-height:normal;font-family:Menlo,'DejaVu Sans Mono',consolas,'Courier New',monospace\"><span style=\"color: #008000; text-decoration-color: #008000; font-weight: bold\">[</span><span style=\"color: #008000; text-decoration-color: #008000\">SCRAPE</span><span style=\"color: #008000; text-decoration-color: #008000; font-weight: bold\">]</span><span style=\"color: #008000; text-decoration-color: #008000\">.. ◆ </span><span style=\"color: #008000; text-decoration-color: #008000; text-decoration: underline\">https://loigiaihay.com/de-thi-vao-lop-6-mon-toan-truong-cau-giay-nam-2023-a142098.html</span><span style=\"color: #008000; text-decoration-color: #008000\">               |</span>\n",
       "<span style=\"color: #008000; text-decoration-color: #008000\">✓ | ⏱: </span><span style=\"color: #008000; text-decoration-color: #008000; font-weight: bold\">11.</span><span style=\"color: #008000; text-decoration-color: #008000\">12s </span>\n",
       "</pre>\n"
      ],
      "text/plain": [
       "\u001b[1;32m[\u001b[0m\u001b[32mSCRAPE\u001b[0m\u001b[1;32m]\u001b[0m\u001b[32m.. ◆ \u001b[0m\u001b[4;32mhttps://loigiaihay.com/de-thi-vao-lop-6-mon-toan-truong-cau-giay-nam-2023-a142098.html\u001b[0m\u001b[32m               |\u001b[0m\n",
       "\u001b[32m✓\u001b[0m\u001b[32m | ⏱: \u001b[0m\u001b[1;32m11.\u001b[0m\u001b[32m12s \u001b[0m\n"
      ]
     },
     "metadata": {},
     "output_type": "display_data"
    },
    {
     "data": {
      "text/html": [
       "<pre style=\"white-space:pre;overflow-x:auto;line-height:normal;font-family:Menlo,'DejaVu Sans Mono',consolas,'Courier New',monospace\"><span style=\"color: #008000; text-decoration-color: #008000; font-weight: bold\">[</span><span style=\"color: #008000; text-decoration-color: #008000\">COMPLETE</span><span style=\"color: #008000; text-decoration-color: #008000; font-weight: bold\">]</span><span style=\"color: #008000; text-decoration-color: #008000\"> ● </span><span style=\"color: #008000; text-decoration-color: #008000; text-decoration: underline\">https://loigiaihay.com/de-thi-vao-lop-6-mon-toan-truong-cau-giay-nam-2023-a142098.html</span><span style=\"color: #008000; text-decoration-color: #008000\">               |</span>\n",
       "<span style=\"color: #008000; text-decoration-color: #008000\">✓ | ⏱: </span><span style=\"color: #008000; text-decoration-color: #008000; font-weight: bold\">12.</span><span style=\"color: #008000; text-decoration-color: #008000\">75s </span>\n",
       "</pre>\n"
      ],
      "text/plain": [
       "\u001b[1;32m[\u001b[0m\u001b[32mCOMPLETE\u001b[0m\u001b[1;32m]\u001b[0m\u001b[32m ● \u001b[0m\u001b[4;32mhttps://loigiaihay.com/de-thi-vao-lop-6-mon-toan-truong-cau-giay-nam-2023-a142098.html\u001b[0m\u001b[32m               |\u001b[0m\n",
       "\u001b[32m✓\u001b[0m\u001b[32m | ⏱: \u001b[0m\u001b[1;32m12.\u001b[0m\u001b[32m75s \u001b[0m\n"
      ]
     },
     "metadata": {},
     "output_type": "display_data"
    }
   ],
   "source": [
    "from crawl4ai import AdaptiveCrawler\n",
    "async with AsyncWebCrawler() as crawler:\n",
    "    adaptive = AdaptiveCrawler(crawler)\n",
    "    result = await adaptive.digest(\n",
    "        start_url=sample_url,\n",
    "        query=\"Lời giải chi tiết đề thi vào lớp 6 môn toán\"\n",
    "    )\n",
    "    "
   ]
  },
  {
   "cell_type": "code",
   "execution_count": 4,
   "id": "427df3bd",
   "metadata": {},
   "outputs": [
    {
     "data": {
      "text/html": [
       "<pre style=\"white-space:pre;overflow-x:auto;line-height:normal;font-family:Menlo,'DejaVu Sans Mono',consolas,'Courier New',monospace\"><span style=\"font-style: italic\">Adaptive Crawl Stats - Query: 'Lời</span>\n",
       "<span style=\"font-style: italic\">giải chi tiết đề thi vào lớp 6 môn</span>\n",
       "<span style=\"font-style: italic\">              toán'               </span>\n",
       "┏━━━━━━━━━━━━━━━━┳━━━━━━━━━━━━━━━┓\n",
       "┃<span style=\"font-weight: bold\"> Metric         </span>┃<span style=\"font-weight: bold\"> Value         </span>┃\n",
       "┡━━━━━━━━━━━━━━━━╇━━━━━━━━━━━━━━━┩\n",
       "│<span style=\"color: #008080; text-decoration-color: #008080\"> Pages Crawled  </span>│<span style=\"color: #800080; text-decoration-color: #800080\"> 1             </span>│\n",
       "│<span style=\"color: #008080; text-decoration-color: #008080\"> Unique Terms   </span>│<span style=\"color: #800080; text-decoration-color: #800080\"> 1662          </span>│\n",
       "│<span style=\"color: #008080; text-decoration-color: #008080\"> Total Terms    </span>│<span style=\"color: #800080; text-decoration-color: #800080\"> 28443         </span>│\n",
       "│<span style=\"color: #008080; text-decoration-color: #008080\"> Content Length </span>│<span style=\"color: #800080; text-decoration-color: #800080\"> 181,709 chars </span>│\n",
       "│<span style=\"color: #008080; text-decoration-color: #008080\"> Pending Links  </span>│<span style=\"color: #800080; text-decoration-color: #800080\"> 64            </span>│\n",
       "│<span style=\"color: #008080; text-decoration-color: #008080\">                </span>│<span style=\"color: #800080; text-decoration-color: #800080\">               </span>│\n",
       "│<span style=\"color: #008080; text-decoration-color: #008080\"> Confidence     </span>│<span style=\"color: #800080; text-decoration-color: #800080\"> 70.00%        </span>│\n",
       "│<span style=\"color: #008080; text-decoration-color: #008080\"> Coverage       </span>│<span style=\"color: #800080; text-decoration-color: #800080\"> 100.00%       </span>│\n",
       "│<span style=\"color: #008080; text-decoration-color: #008080\"> Consistency    </span>│<span style=\"color: #800080; text-decoration-color: #800080\"> 100.00%       </span>│\n",
       "│<span style=\"color: #008080; text-decoration-color: #008080\"> Saturation     </span>│<span style=\"color: #800080; text-decoration-color: #800080\"> 0.00%         </span>│\n",
       "│<span style=\"color: #008080; text-decoration-color: #008080\">                </span>│<span style=\"color: #800080; text-decoration-color: #800080\">               </span>│\n",
       "│<span style=\"color: #008080; text-decoration-color: #008080\"> Is Sufficient? </span>│<span style=\"color: #800080; text-decoration-color: #800080\"> </span><span style=\"color: #008000; text-decoration-color: #008000\">Yes</span><span style=\"color: #800080; text-decoration-color: #800080\">           </span>│\n",
       "└────────────────┴───────────────┘\n",
       "</pre>\n"
      ],
      "text/plain": [
       "\u001b[3mAdaptive Crawl Stats - Query: 'Lời\u001b[0m\n",
       "\u001b[3mgiải chi tiết đề thi vào lớp 6 môn\u001b[0m\n",
       "\u001b[3m              toán'               \u001b[0m\n",
       "┏━━━━━━━━━━━━━━━━┳━━━━━━━━━━━━━━━┓\n",
       "┃\u001b[1m \u001b[0m\u001b[1mMetric        \u001b[0m\u001b[1m \u001b[0m┃\u001b[1m \u001b[0m\u001b[1mValue        \u001b[0m\u001b[1m \u001b[0m┃\n",
       "┡━━━━━━━━━━━━━━━━╇━━━━━━━━━━━━━━━┩\n",
       "│\u001b[36m \u001b[0m\u001b[36mPages Crawled \u001b[0m\u001b[36m \u001b[0m│\u001b[35m \u001b[0m\u001b[35m1            \u001b[0m\u001b[35m \u001b[0m│\n",
       "│\u001b[36m \u001b[0m\u001b[36mUnique Terms  \u001b[0m\u001b[36m \u001b[0m│\u001b[35m \u001b[0m\u001b[35m1662         \u001b[0m\u001b[35m \u001b[0m│\n",
       "│\u001b[36m \u001b[0m\u001b[36mTotal Terms   \u001b[0m\u001b[36m \u001b[0m│\u001b[35m \u001b[0m\u001b[35m28443        \u001b[0m\u001b[35m \u001b[0m│\n",
       "│\u001b[36m \u001b[0m\u001b[36mContent Length\u001b[0m\u001b[36m \u001b[0m│\u001b[35m \u001b[0m\u001b[35m181,709 chars\u001b[0m\u001b[35m \u001b[0m│\n",
       "│\u001b[36m \u001b[0m\u001b[36mPending Links \u001b[0m\u001b[36m \u001b[0m│\u001b[35m \u001b[0m\u001b[35m64           \u001b[0m\u001b[35m \u001b[0m│\n",
       "│\u001b[36m \u001b[0m\u001b[36m              \u001b[0m\u001b[36m \u001b[0m│\u001b[35m \u001b[0m\u001b[35m             \u001b[0m\u001b[35m \u001b[0m│\n",
       "│\u001b[36m \u001b[0m\u001b[36mConfidence    \u001b[0m\u001b[36m \u001b[0m│\u001b[35m \u001b[0m\u001b[35m70.00%       \u001b[0m\u001b[35m \u001b[0m│\n",
       "│\u001b[36m \u001b[0m\u001b[36mCoverage      \u001b[0m\u001b[36m \u001b[0m│\u001b[35m \u001b[0m\u001b[35m100.00%      \u001b[0m\u001b[35m \u001b[0m│\n",
       "│\u001b[36m \u001b[0m\u001b[36mConsistency   \u001b[0m\u001b[36m \u001b[0m│\u001b[35m \u001b[0m\u001b[35m100.00%      \u001b[0m\u001b[35m \u001b[0m│\n",
       "│\u001b[36m \u001b[0m\u001b[36mSaturation    \u001b[0m\u001b[36m \u001b[0m│\u001b[35m \u001b[0m\u001b[35m0.00%        \u001b[0m\u001b[35m \u001b[0m│\n",
       "│\u001b[36m \u001b[0m\u001b[36m              \u001b[0m\u001b[36m \u001b[0m│\u001b[35m \u001b[0m\u001b[35m             \u001b[0m\u001b[35m \u001b[0m│\n",
       "│\u001b[36m \u001b[0m\u001b[36mIs Sufficient?\u001b[0m\u001b[36m \u001b[0m│\u001b[35m \u001b[0m\u001b[32mYes\u001b[0m\u001b[35m          \u001b[0m\u001b[35m \u001b[0m│\n",
       "└────────────────┴───────────────┘\n"
      ]
     },
     "metadata": {},
     "output_type": "display_data"
    }
   ],
   "source": [
    "adaptive.print_stats()"
   ]
  },
  {
   "cell_type": "code",
   "execution_count": 5,
   "id": "87a84fb5",
   "metadata": {},
   "outputs": [
    {
     "data": {
      "text/plain": [
       "[{'url': 'https://loigiaihay.com/de-thi-vao-lop-6-mon-toan-truong-cau-giay-nam-2023-a142098.html',\n",
       "  'score': 1.0,\n",
       "  'content': '[ ![](https://loigiaihay.com/themes/style/images/logolgh.png) ](https://loigiaihay.com/ \"loigiaihay.com\")\\n  * [Lớp 12](https://loigiaihay.com/lop-12.html)\\n    * ![](https://loigiaihay.com/themes/style/images/i-van.png) Ngữ văn 12\\n      * [Soạn văn - Kết nối tri thức](https://loigiaihay.com/soan-van-12-ket-noi-tri-thuc-c1737.html \"Soạn văn - Kết nối tri thức\")\\n      * [Soạn văn - Cánh diều](https://loigiaihay.com/soan-van-12-canh-dieu-c1738.html \"Soạn văn - Cánh diều\")\\n      * [Soạn văn - Chân trời sáng tạo](https://loigiaihay.com/soan-van-12-chan-troi-sang-tao-c1739.html \"Soạn văn - Chân trời sáng tạo\")\\n      * [Tác giả tác phẩm](https://loigiaihay.com/tac-gia-tac-pham-lop-12-c1851.html \"Tác giả tác phẩm\")\\n      * [Tóm tắt, bố cục Văn - Kết nối tri thức](https://loigiaihay.com/tom-tat-bo-cuc-van-12-ket-noi-tri-thuc-c1848.html \"Tóm tắt, bố cục Văn - Kết nối tri thức\")\\n      * [Tóm tắt, bố cục Văn - Cánh diều](https://loigiaihay.com/tom-tat-bo-cuc-van-12-canh-dieu-c1849.html \"Tóm tắt, bố cục Văn - Cánh diều\")\\n      * [Tóm tắt, bố cục Văn - Chân trời sáng tạo](https://loigiaihay.com/tom-tat-bo-cuc-van-12-chan-troi-sang-tao-c1850.html \"Tóm tắt, bố cục Văn - Chân trời sáng tạo\")\\n      * [SBT Văn - Kết nối tri thức](https://loigiaihay.com/sbt-van-12-ket-noi-tri-thuc-c1885.html \"SBT Văn - Kết nối tri thức\")\\n      * [ >> Xem thêm ](https://loigiaihay.com/lop-12.html \"Xem thêm\")\\n    * ![](https://loigiaihay.com/themes/style/images/i-toan.png) Toán học 12\\n      * [SGK Toán - Kết nối tri thức](https://loigiaihay.com/sgk-toan-12-ket-noi-tri-thuc-c1783.html \"SGK Toán - Kết nối tri thức\")\\n      * [SGK Toán - Cánh diều](https://loigiaihay.com/sgk-toan-12-canh-dieu-c1785.html \"SGK Toán - Cánh diều\")\\n      * [SGK Toán - Chân trời sáng tạo](https://loigiaihay.com/sgk-toan-12-chan-troi-sang-tao-c1784.html \"SGK Toán - Chân trời sáng tạo\")\\n      * [SGK Toán - Cùng khám phá](https://loigiaihay.com/sgk-toan-12-cung-kham-pha-c1791.html \"SGK Toán - Cùng khám phá\")\\n      * [SBT Toán - Kết nối tri thức](https://loigiaihay.com/sbt-toan-12-ket-noi-tri-thuc-c1959.html \"SBT Toán - Kết nối tri thức\")\\n      * [SBT Toán - Cánh diều](https://loigiaihay.com/sbt-toan-12-canh-dieu-c1954.html \"SBT Toán - Cánh diều\")\\n      * [SBT Toán - Chân trời sáng tạo](https://loigiaihay.com/sbt-toan-12-chan-troi-sang-tao-c1960.html \"SBT Toán - Chân trời sáng tạo\")\\n      * [Chuyên đề học tập Toán - Kết nối tri thức](https://loigiaihay.com/chuyen-de-hoc-tap-toan-12-ket-noi-tri-thuc-c2023.html \"Chuyên đề học tập Toán - Kết nối tri thức\")\\n      * [ >> Xem thêm ](https://loigiaihay.com/lop-12.html \"Xem thêm\")\\n    * ![](https://loigiaihay.com/themes/style/images/i-anh.png) Tiếng Anh 12\\n      * [Tiếng Anh - Global Success](https://loigiaihay.com/tieng-anh-12-global-success-c1752.html \"Tiếng Anh - Global Success\")\\n      * [Tiếng Anh - Friends Global](https://loigiaihay.com/tieng-anh-12-friends-global-c1753.html \"Tiếng Anh - Friends Global\")\\n      * [Tiếng Anh - iLearn Smart World](https://loigiaihay.com/tieng-anh-12-ilearn-smart-world-c1754.html \"Tiếng Anh - iLearn Smart World\")\\n      * [Tiếng Anh - Bright](https://loigiaihay.com/tieng-anh-12-bright-c1755.html \"Tiếng Anh - Bright\")\\n      * [Tiếng Anh - English Discovery](https://loigiaihay.com/tieng-anh-12-english-discovery-c1756.html \"Tiếng Anh - English Discovery\")\\n      * [SBT Global Success](https://loigiaihay.com/sbt-tieng-anh-12-global-success-ket-noi-tri-thuc-c1833.html \"SBT Global Success\")\\n      * [SBT Friends Global](https://loigiaihay.com/sbt-tieng-anh-12-friends-global-chan-troi-sang-tao-c1840.html \"SBT Friends Global\")\\n      * [SBT iLearn Smart World](https://loigiaihay.com/sbt-tieng-anh-12-ilearn-smart-world-c1841.html \"SBT iLearn Smart World\")\\n      * [ >> Xem thêm ](https://loigiaihay.com/lop-12.html \"Xem thêm\")\\n    * ![](https://loigiaihay.com/themes/style/images/i-ly.png) Vật lí 12\\n      * [SGK Vật Lí - Kết nối tri thức](https://loigiaihay.com/sgk-vat-li-12-ket-noi-tri-thuc-c1732.html \"SGK Vật Lí - Kết nối tri thức\")\\n      * [SGK Vật Lí - Cánh diều](https://loigiaihay.com/sgk-vat-li-12-canh-dieu-c1734.html \"SGK Vật Lí - Cánh diều\")\\n      * [SGK Vật Lí - Chân trời sáng tạo](https://loigiaihay.com/sgk-vat-li-12-chan-troi-sang-tao-c1735.html \"SGK Vật Lí - Chân trời sáng tạo\")\\n      * [SBT Vật lí - Kết nối tri thức](https://loigiaihay.com/sbt-vat-li-12-ket-noi-tri-thuc-c1936.html \"SBT Vật lí - Kết nối tri thức\")\\n      * [SBT Vật lí - Cánh diều](https://loigiaihay.com/sbt-vat-li-12-canh-dieu-c1937.html \"SBT Vật lí - Cánh diều\")\\n      * [SBT Vật lí - Chân trời sáng tạo](https://loigiaihay.com/sbt-vat-li-12-chan-troi-sang-tao-c1938.html \"SBT Vật lí - Chân trời sáng tạo\")\\n      * [Chuyên đề học tập Lí - Kết nối tri thức](https://loigiaihay.com/chuyen-de-hoc-tap-li-12-ket-noi-tri-thuc-c1873.html \"Chuyên đề học tập Lí - Kết nối tri thức\")\\n      * [Chuyên đề học tập Lí - Cánh diều](https://loigiaihay.com/chuyen-de-hoc-tap-li-12-canh-dieu-c1874.html \"Chuyên đề học tập Lí - Cánh diều\")\\n      * [ >> Xem thêm ](https://loigiaihay.com/lop-12.html \"Xem thêm\")\\n    * ![](https://loigiaihay.com/themes/style/images/i-hoa.png) Hóa học 12\\n      * [SGK Hóa - Kết nối tri thức](https://loigiaihay.com/sgk-hoa-12-ket-noi-tri-thuc-c1745.html \"SGK Hóa - Kết nối tri thức\")\\n      * [SGK Hóa - Cánh diều](https://loigiaihay.com/sgk-hoa-12-canh-dieu-c1746.html \"SGK Hóa - Cánh diều\")\\n      * [SGK Hóa - Chân trời sáng tạo](https://loigiaihay.com/sgk-hoa-12-chan-troi-sang-tao-c1747.html \"SGK Hóa - Chân trời sáng tạo\")\\n      * [SBT Hóa - Kết nối tri thức](https://loigiaihay.com/sbt-hoa-12-ket-noi-tri-thuc-c1882.html \"SBT Hóa - Kết nối tri thức\")\\n      * [SBT Hóa - Cánh diều](https://loigiaihay.com/sbt-hoa-12-canh-dieu-c1886.html \"SBT Hóa - Cánh diều\")\\n      * [SBT Hóa - Chân trời sáng tạo](https://loigiaihay.com/sbt-hoa-12-chan-troi-sang-tao-c1884.html \"SBT Hóa - Chân trời sáng tạo\")\\n      * [Chuyên đề học tập Hóa - Kết nối tri thức](https://loigiaihay.com/chuyen-de-hoc-tap-hoa-12-ket-noi-tri-thuc-c1893.html \"Chuyên đề học tập Hóa - Kết nối tri thức\")\\n      * [Chuyên đề học tập Hóa - Cánh diều](https://loigiaihay.com/chuyen-de-hoc-tap-hoa-12-canh-dieu-c1894.html \"Chuyên đề học tập Hóa - Cánh diều\")\\n      * [ >> Xem thêm ](https://loigiaihay.com/lop-12.html \"Xem thêm\")\\n    * ![](https://loigiaihay.com/themes/style/images/i-sinh.png) Sinh học 12\\n      * [SGK Sinh - Kết nối tri thức](https://loigiaihay.com/sgk-sinh-12-ket-noi-tri-thuc-c1776.html \"SGK Sinh - Kết nối tri thức\")\\n      * [SGK Sinh - Cánh diều](https://loigiaihay.com/sgk-sinh-12-canh-dieu-c1778.html \"SGK Sinh - Cánh diều\")\\n      * [SGK Sinh - Chân trời sáng tạo](https://loigiaihay.com/sgk-sinh-12-chan-troi-sang-tao-c1779.html \"SGK Sinh - Chân trời sáng tạo\")\\n      * [Trắc nghiệm Sinh - Kết nối tri thức](https://loigiaihay.com/v2/tu-luyen-trac-nghiem-sinh-12-ket-noi-tri-thuc-c1926.html \"Trắc nghiệm Sinh - Kết nối tri thức\")\\n      * [Trắc nghiệm Sinh - Cánh diều](https://loigiaihay.com/v2/tu-luyen-trac-nghiem-sinh-12-canh-dieu-c1928.html \"Trắc nghiệm Sinh - Cánh diều\")\\n      * [Trắc nghiệm Sinh - Chân trời sáng tạo](https://loigiaihay.com/v2/tu-luyen-trac-nghiem-sinh-12-chan-troi-sang-tao-c1929.html \"Trắc nghiệm Sinh - Chân trời sáng tạo\")\\n      * [Chuyên đề học tập Sinh - Kết nối tri thức](https://loigiaihay.com/chuyen-de-hoc-tap-sinh-12-ket-noi-tri-thuc-c1931.html \"Chuyên đề học tập Sinh - Kết nối tri thức\")\\n      * [Chuyên đề học tập Sinh - Cánh diều](https://loigiaihay.com/chuyen-de-hoc-tap-sinh-12-canh-dieu-c1932.html \"Chuyên đề học tập Sinh - Cánh diều\")\\n      * [ >> Xem thêm ](https://loigiaihay.com/lop-12.html \"Xem thêm\")\\n    * ![](https://loigiaihay.com/themes/style/images/i-su.png) Lịch sử 12\\n      * [SGK Lịch sử - Kết nối tri thức](https://loigiaihay.com/sgk-lich-su-12-ket-noi-tri-thuc-c1824.html \"SGK Lịch sử - Kết nối tri thức\")\\n      * [SGK Lịch sử - Chân trời sáng tạo](https://loigiaihay.com/sgk-lich-su-12-chan-troi-sang-tao-c1826.html \"SGK Lịch sử - Chân trời sáng tạo\")\\n      * [SGK Lịch sử - Cánh diều](https://loigiaihay.com/sgk-lich-su-12-canh-dieu-c1825.html \"SGK Lịch sử - Cánh diều\")\\n      * [SBT Lịch sử - Cánh diều](https://loigiaihay.com/sbt-lich-su-12-canh-dieu-c2246.html \"SBT Lịch sử - Cánh diều\")\\n      * [Đề thi, đề kiểm tra Lịch sử - Kết nối tri thức](https://loigiaihay.com/de-thi-de-kiem-tra-lich-su-lop-12-ket-noi-tri-thuc-c2248.html \"Đề thi, đề kiểm tra Lịch sử - Kết nối tri thức\")\\n      * [Đề thi, đề kiểm tra Lịch sử - Chân trời sáng tạo](https://loigiaihay.com/de-thi-de-kiem-tra-lich-su-lop-12-chan-troi-sang-tao-c2250.html \"Đề thi, đề kiểm tra Lịch sử - Chân trời sáng tạo\")\\n      * [Đề thi, đề kiểm tra Lịch sử - Cánh diều](https://loigiaihay.com/de-thi-de-kiem-tra-lich-su-lop-12-canh-dieu-c2251.html \"Đề thi, đề kiểm tra Lịch sử - Cánh diều\")\\n      * [Chuyên đề học tập Lịch sử - Kết nối tri thức ](https://loigiaihay.com/chuyen-de-hoc-tap-lich-su-12-ket-noi-tri-thuc-c2452.html \"Chuyên đề học tập Lịch sử  - Kết nối tri thức \")\\n      * [ >> Xem thêm ](https://loigiaihay.com/lop-12.html \"Xem thêm\")\\n    * ![](https://loigiaihay.com/themes/style/images/i-dia.png) Địa lí 12\\n      * [SGK Địa lí - Kết nối tri thức](https://loigiaihay.com/sgk-dia-li-lop-12-ket-noi-tri-thuc-c1859.html \"SGK Địa lí - Kết nối tri thức\")\\n      * [SGK Địa lí - Chân trời sáng tạo](https://loigiaihay.com/sgk-dia-li-lop-12-chan-troi-sang-tao-c1860.html \"SGK Địa lí - Chân trời sáng tạo\")\\n      * [SGK Địa lí - Cánh diều](https://loigiaihay.com/sgk-dia-li-lop-12-canh-dieu-c1861.html \"SGK Địa lí - Cánh diều\")\\n      * [SBT Địa lí - Cánh diều](https://loigiaihay.com/sbt-dia-li-12-canh-dieu-c1993.html \"SBT Địa lí - Cánh diều\")\\n      * [Đề thi, đề kiểm tra Địa lí - Kết nối tri thức](https://loigiaihay.com/de-thi-de-kiem-tra-dia-li-lop-12-ket-noi-tri-thuc-c2249.html \"Đề thi, đề kiểm tra Địa lí - Kết nối tri thức\")\\n      * [Đề thi, đề kiểm tra Địa lí - Chân trời sáng tạo](https://loigiaihay.com/de-thi-de-kiem-tra-dia-li-lop-12-chan-troi-sang-tao-c2256.html \"Đề thi, đề kiểm tra Địa lí - Chân trời sáng tạo\")\\n      * [Đề thi, đề kiểm tra Địa lí - Cánh diều](https://loigiaihay.com/de-thi-de-kiem-tra-dia-li-lop-12-canh-dieu-c2257.html \"Đề thi, đề kiểm tra Địa lí - Cánh diều\")\\n      * [SBT Địa lí - Chân trời sáng tạo](https://loigiaihay.com/sbt-dia-li-12-chan-troi-sang-tao-c2285.html \"SBT Địa lí - Chân trời sáng tạo\")\\n      * [ >> Xem thêm ](https://loigiaihay.com/lop-12.html \"Xem thêm\")\\n    * GD kinh tế và pháp luật 12\\n      * [SGK Giáo dục kinh tế và pháp luật - Kết nối tri thức](https://loigiaihay.com/sgk-giao-duc-kinh-te-va-phap-luat-12-ket-noi-tri-thuc-c1879.html \"SGK Giáo dục kinh tế và pháp luật - Kết nối tri thức\")\\n      * [SGK Giáo dục kinh tế và pháp luật - Chân trời sáng tạo](https://loigiaihay.com/sgk-giao-duc-kinh-te-va-phap-luat-12-chan-troi-sang-tao-c1880.html \"SGK Giáo dục kinh tế và pháp luật - Chân trời sáng tạo\")\\n      * [SGK Giáo dục kinh tế và pháp luật - Cánh diều](https://loigiaihay.com/sgk-giao-duc-kinh-te-va-phap-luat-12-canh-dieu-c1881.html \"SGK Giáo dục kinh tế và pháp luật - Cánh diều\")\\n      * [SBT Giáo dục kinh tế và pháp luật - Cánh diều](https://loigiaihay.com/sbt-giao-duc-kinh-te-va-phap-luat-12-canh-dieu-c2242.html \"SBT Giáo dục kinh tế và pháp luật - Cánh diều\")\\n      * [SBT Giáo dục kinh tế và pháp luật - Chân trời sáng tạo](https://loigiaihay.com/sbt-giao-duc-kinh-te-va-phap-luat-12-chan-troi-sang-tao-c2287.html \"SBT Giáo dục kinh tế và pháp luật - Chân trời sáng tạo\")\\n      * [Chuyên đề học tập Giáo dục kinh tế pháp luật - Kết nối tri thức](https://loigiaihay.com/chuyen-de-hoc-tap-giao-duc-kinh-te-phap-luat-12-ket-noi-tri-thuc-c2440.html \"Chuyên đề học tập Giáo dục kinh tế pháp luật  - Kết nối tri thức\")\\n      * [Chuyên đề học tập Giáo dục kinh tế pháp luật - Cánh diều](https://loigiaihay.com/chuyen-de-hoc-tap-giao-duc-kinh-te-phap-luat-12-canh-dieu-c2441.html \"Chuyên đề học tập Giáo dục kinh tế pháp luật - Cánh diều\")\\n      * [Chuyên đề học tập Giáo dục kinh tế pháp luật - Chân trời sáng tạo](https://loigiaihay.com/chuyen-de-hoc-tap-giao-duc-kinh-te-phap-luat-12-chan-troi-sang-tao-c2442.html \"Chuyên đề học tập Giáo dục kinh tế pháp luật - Chân trời sáng tạo\")\\n    * ![](https://loigiaihay.com/themes/style/images/i-cong-nghe.png) Công nghệ 12\\n      * [SGK Công nghệ - Kết nối tri thức](https://loigiaihay.com/sgk-cong-nghe-12-ket-noi-tri-thuc-c1813.html \"SGK Công nghệ - Kết nối tri thức\")\\n      * [SGK Công nghệ - Cánh diều](https://loigiaihay.com/sgk-cong-nghe-12-canh-dieu-c1814.html \"SGK Công nghệ - Cánh diều\")\\n      * [Chuyên đề học tập Công nghệ - Kết nối tri thức](https://loigiaihay.com/chuyen-de-hoc-tap-cong-nghe-12-ket-noi-tri-thuc-c2483.html \"Chuyên đề học tập Công nghệ - Kết nối tri thức\")\\n      * [Chuyên đề học tập Công nghệ - Cánh diều](https://loigiaihay.com/chuyen-de-hoc-tap-cong-nghe-12-canh-dieu-c2484.html \"Chuyên đề học tập Công nghệ - Cánh diều\")\\n    * ![](https://loigiaihay.com/themes/style/images/i-tin.png) Tin học 12\\n      * [SGK Tin học - Cánh diều](https://loigiaihay.com/sgk-tin-hoc-12-canh-dieu-c1845.html \"SGK Tin học - Cánh diều\")\\n      * [SGK Tin học - Chân trời sáng tạo](https://loigiaihay.com/sgk-tin-hoc-12-chan-troi-sang-tao-c1846.html \"SGK Tin học - Chân trời sáng tạo\")\\n      * [SGK Tin học - Kết nối tri thức](https://loigiaihay.com/sgk-tin-hoc-12-ket-noi-tri-thuc-c1847.html \"SGK Tin học - Kết nối tri thức\")\\n      * [SBT Tin học - Kết nối tri thức](https://loigiaihay.com/sbt-tin-hoc-12-ket-noi-tri-thuc-c2268.html \"SBT Tin học - Kết nối tri thức\")\\n      * [SBT Tin học - Cánh diều](https://loigiaihay.com/sbt-tin-hoc-12-canh-dieu-c2275.html \"SBT Tin học - Cánh diều\")\\n      * [SBT Tin học - Chân trời sáng tạo](https://loigiaihay.com/sbt-tin-hoc-12-chan-troi-sang-tao-c2288.html \"SBT Tin học - Chân trời sáng tạo\")\\n      * [Chuyên đề học tập Tin - Kết nối tri thức](https://loigiaihay.com/chuyen-de-hoc-tap-tin-12-ket-noi-tri-thuc-c2475.html \"Chuyên đề học tập Tin - Kết nối tri thức\")\\n      * [Chuyên đề học tập Tin - Chân trời sáng tạo](https://loigiaihay.com/chuyen-de-hoc-tap-tin-12-chan-troi-sang-tao-c2476.html \"Chuyên đề học tập Tin - Chân trời sáng tạo\")\\n      * [ >> Xem thêm ](https://loigiaihay.com/lop-12.html \"Xem thêm\")\\n    * ![](https://loigiaihay.com/themes/style/images/i-huong-nghiep.png) HĐ trải nghiệm, hướng nghiệp 12\\n      * [SGK Hoạt động trải nghiệm, hướng nghiệp - Kết nối tri thức](https://loigiaihay.com/sgk-hoat-dong-trai-nghiem-huong-nghiep-12-ket-noi-tri-thuc-c1802.html \"SGK Hoạt động trải nghiệm, hướng nghiệp - Kết nối tri thức\")\\n      * [SGK Hoạt động trải nghiệm, hướng nghiệp - Cánh diều](https://loigiaihay.com/sgk-hoat-dong-trai-nghiem-huong-nghiep-12-canh-dieu-c1803.html \"SGK Hoạt động trải nghiệm, hướng nghiệp - Cánh diều\")\\n      * [SGK Hoạt động trải nghiệm, hướng nghiệp - Chân trời sáng tạo Bản 1](https://loigiaihay.com/sgk-hoat-dong-trai-nghiem-huong-nghiep-12-chan-troi-sang-tao-ban-1-c1804.html \"SGK Hoạt động trải nghiệm, hướng nghiệp - Chân trời sáng tạo Bản 1\")\\n      * [SGK Hoạt động trải nghiệm, hướng nghiệp - Chân trời sáng tạo Bản 2](https://loigiaihay.com/sgk-hoat-dong-trai-nghiem-huong-nghiep-12-chan-troi-sang-tao-ban-2-c1805.html \"SGK Hoạt động trải nghiệm, hướng nghiệp - Chân trời sáng tạo Bản 2\")\\n    * GD Quốc phòng và An ninh 12\\n      * [SGK Giáo dục quốc phòng và an ninh - Kết nối tri thức](https://loigiaihay.com/sgk-giao-duc-quoc-phong-va-an-ninh-12-ket-noi-tri-thuc-c1816.html \"SGK Giáo dục quốc phòng và an ninh - Kết nối tri thức\")\\n      * [SGK Giáo dục quốc phòng và an ninh - Cánh diều](https://loigiaihay.com/sgk-giao-duc-quoc-phong-va-an-ninh-12-canh-dieu-c1817.html \"SGK Giáo dục quốc phòng và an ninh - Cánh diều\")\\n    * Giáo dục thể chất 12\\n      * [SGK Giáo dục thể chất - Kết nối tri thức](https://loigiaihay.com/sgk-giao-duc-the-chat-12-ket-noi-tri-thuc-c1967.html \"SGK Giáo dục thể chất - Kết nối tri thức\")\\n      * [SGK Giáo dục thể chất - Cánh diều](https://loigiaihay.com/sgk-giao-duc-the-chat-12-canh-dieu-c2218.html \"SGK Giáo dục thể chất - Cánh diều\")\\n    * Giáo dục địa phương 12\\n      * [Tài liệu Giáo dục địa phương](https://loigiaihay.com/tai-lieu-giao-duc-dia-phuong-12-c2347.html \"Tài liệu Giáo dục địa phương\")\\n    * Đề thi, đề kiểm tra 12\\n      * [Tổng hợp đề thi, đề kiểm tra ](https://loigiaihay.com/tong-hop-de-thi-de-kiem-tra-lop-12-c1221.html \"Tổng hợp đề thi, đề kiểm tra \")\\n  * [Lớp 11](https://loigiaihay.com/lop-11.html)\\n    * ![](https://loigiaihay.com/themes/style/images/i-van.png) Ngữ văn 11\\n      * [Soạn văn - Kết nối tri thức - chi tiết](https://loigiaihay.com/soan-van-11-ket-noi-tri-thuc-chi-tiet-c1360.html \"Soạn văn - Kết nối tri thức - chi tiết\")\\n      * [Soạn văn - Kết nối tri thức - siêu ngắn](https://loigiaihay.com/soan-van-11-ket-noi-tri-thuc-sieu-ngan-c1361.html \"Soạn văn - Kết nối tri thức - siêu ngắn\")\\n      * [Soạn văn - Cánh Diều - chi tiết](https://loigiaihay.com/soan-van-11-canh-dieu-chi-tiet-c1362.html \"Soạn văn - Cánh Diều - chi tiết\")\\n      * [Soạn văn - Cánh Diều - siêu ngắn](https://loigiaihay.com/soan-van-11-canh-dieu-sieu-ngan-c1363.html \"Soạn văn - Cánh Diều - siêu ngắn\")\\n      * [Soạn văn - Chân trời sáng tạo - chi tiết](https://loigiaihay.com/soan-van-11-chan-troi-sang-tao-chi-tiet-c1364.html \"Soạn văn - Chân trời sáng tạo - chi tiết\")\\n      * [Soạn văn - Chân trời sáng tạo - siêu ngắn](https://loigiaihay.com/soan-van-11-chan-troi-sang-tao-sieu-ngan-c1365.html \"Soạn văn - Chân trời sáng tạo - siêu ngắn\")\\n      * [Tác giả tác phẩm](https://loigiaihay.com/tac-gia-tac-pham-lop-11-c1435.html \"Tác giả tác phẩm\")\\n      * [Tóm tắt, bố cục Văn - Kết nối tri thức](https://loigiaihay.com/tom-tat-bo-cuc-van-11-ket-noi-tri-thuc-c1708.html \"Tóm tắt, bố cục Văn - Kết nối tri thức\")\\n      * [ >> Xem thêm ](https://loigiaihay.com/lop-11.html \"Xem thêm\")\\n    * ![](https://loigiaihay.com/themes/style/images/i-toan.png) Toán học 11\\n      * [SGK Toán - Kết nối tri thức](https://loigiaihay.com/sgk-toan-11-ket-noi-tri-thuc-c1370.html \"SGK Toán  - Kết nối tri thức\")\\n      * [SGK Toán - Cánh diều](https://loigiaihay.com/sgk-toan-11-canh-dieu-c1371.html \"SGK Toán  - Cánh diều\")\\n      * [SGK Toán - Chân trời sáng tạo](https://loigiaihay.com/sgk-toan-11-chan-troi-sang-tao-c1372.html \"SGK Toán  - Chân trời sáng tạo\")\\n      * [SGK Toán - Cùng khám phá](https://loigiaihay.com/sgk-toan-11-cung-kham-pha-c1441.html \"SGK Toán  - Cùng khám phá\")\\n      * [Chuyên đề học tập Toán - Kết nối tri thức](https://loigiaihay.com/chuyen-de-hoc-tap-toan-11-ket-noi-tri-thuc-c1572.html \"Chuyên đề học tập Toán - Kết nối tri thức\")\\n      * [Chuyên đề học tập Toán - Cánh diều](https://loigiaihay.com/chuyen-de-hoc-tap-toan-11-canh-dieu-c1574.html \"Chuyên đề học tập Toán - Cánh diều\")\\n      * [Chuyên đề học tập Toán - Chân trời sáng tạo](https://loigiaihay.com/chuyen-de-hoc-tap-toan-11-chan-troi-sang-tao-c1575.html \"Chuyên đề học tập Toán - Chân trời sáng tạo\")\\n      * [SBT Toán - Kết nối tri thức](https://loigiaihay.com/sbt-toan-11-ket-noi-tri-thuc-c1567.html \"SBT Toán - Kết nối tri thức\")\\n      * [ >> Xem thêm ](https://loigiaihay.com/lop-11.html \"Xem thêm\")\\n    * ![](https://loigiaihay.com/themes/style/images/i-anh.png) Tiếng Anh 11\\n      * [Tiếng Anh - Global Success](https://loigiaihay.com/tieng-anh-11-global-success-c1404.html \"Tiếng Anh - Global Success\")\\n      * [Tiếng Anh - Friends Global](https://loigiaihay.com/tieng-anh-11-friends-global-c1409.html \"Tiếng Anh - Friends Global\")\\n      * [Tiếng Anh - iLearn Smart Wolrd](https://loigiaihay.com/tieng-anh-11-ilearn-smart-wolrd-c1406.html \"Tiếng Anh - iLearn Smart Wolrd\")\\n      * [Tiếng Anh - Bright](https://loigiaihay.com/tieng-anh-11-bright-c1416.html \"Tiếng Anh - Bright\")\\n      * [Tiếng Anh - English Discovery](https://loigiaihay.com/tieng-anh-11-english-discovery-c1419.html \"Tiếng Anh - English Discovery\")\\n      * [SBT Global Success](https://loigiaihay.com/sbt-tieng-anh-11-global-success-ket-noi-tri-thuc-c1577.html \"SBT Global Success\")\\n      * [SBT Friends Global](https://loigiaihay.com/sbt-tieng-anh-11-friends-global-chan-troi-sang-tao-c1579.html \"SBT Friends Global\")\\n      * [SBT iLearn Smart World](https://loigiaihay.com/sbt-tieng-anh-11-ilearn-smart-world-c1580.html \"SBT iLearn Smart World\")\\n      * [ >> Xem thêm ](https://loigiaihay.com/lop-11.html \"Xem thêm\")\\n    * ![](https://loigiaihay.com/themes/style/images/i-ly.png) Vật lí 11\\n      * [SGK Vật Lí - Kết nối tri thức](https://loigiaihay.com/sgk-vat-li-11-ket-noi-tri-thuc-c1366.html \"SGK Vật Lí - Kết nối tri thức\")\\n      * [SGK Vật Lí - Cánh diều](https://loigiaihay.com/sgk-vat-li-11-canh-dieu-c1369.html \"SGK Vật Lí - Cánh diều\")\\n      * [SGK Vật Lí - Chân trời sáng tạo](https://loigiaihay.com/sgk-vat-li-11-chan-troi-sang-tao-c1368.html \"SGK Vật Lí - Chân trời sáng tạo\")\\n      * [Chuyên đề học tập Lí - Kết nối tri thức](https://loigiaihay.com/chuyen-de-hoc-tap-li-11-ket-noi-tri-thuc-c1554.html \"Chuyên đề học tập Lí - Kết nối tri thức\")\\n      * [Chuyên đề học tập Lí - Cánh diều](https://loigiaihay.com/chuyen-de-hoc-tap-li-11-canh-dieu-c1556.html \"Chuyên đề học tập Lí - Cánh diều\")\\n      * [Chuyên đề học tập Lí - Chân trời sáng tạo](https://loigiaihay.com/chuyen-de-hoc-tap-li-11-chan-troi-sang-tao-c1555.html \"Chuyên đề học tập Lí - Chân trời sáng tạo\")\\n      * [SBT Vật lí - Kết nối tri thức](https://loigiaihay.com/sbt-vat-li-11-ket-noi-tri-thuc-c1557.html \"SBT Vật lí - Kết nối tri thức\")\\n      * [SBT Vật lí - Cánh diều](https://loigiaihay.com/sbt-vat-li-11-canh-dieu-c1562.html \"SBT Vật lí - Cánh diều\")\\n      * [ >> Xem thêm ](https://loigiaihay.com/lop-11.html \"Xem thêm\")\\n    * ![](https://loigiaihay.com/themes/style/images/i-hoa.png) Hóa học 11\\n      * [SGK Hóa học - Kết nối tri thức](https://loigiaihay.com/sgk-hoa-hoc-11-ket-noi-tri-thuc-c1431.html \"SGK Hóa học - Kết nối tri thức\")\\n      * [SGK Hóa học - Cánh diều](https://loigiaihay.com/sgk-hoa-hoc-11-canh-dieu-c1433.html \"SGK Hóa học - Cánh diều\")\\n      * [SGK Hóa học - Chân trời sáng tạo](https://loigiaihay.com/sgk-hoa-hoc-11-chan-troi-sang-tao-c1432.html \"SGK Hóa học - Chân trời sáng tạo\")\\n      * [Chuyên đề học tập Hóa - Kết nối tri thức](https://loigiaihay.com/chuyen-de-hoc-tap-hoa-11-ket-noi-tri-thuc-c1495.html \"Chuyên đề học tập Hóa - Kết nối tri thức\")\\n      * [Chuyên đề học tập Hóa - Cánh diều](https://loigiaihay.com/chuyen-de-hoc-tap-hoa-11-canh-dieu-c1497.html \"Chuyên đề học tập Hóa - Cánh diều\")\\n      * [Chuyên đề học tập Hóa - Chân trời sáng tạo](https://loigiaihay.com/chuyen-de-hoc-tap-hoa-11-chan-troi-sang-tao-c1500.html \"Chuyên đề học tập Hóa - Chân trời sáng tạo\")\\n      * [SBT Hóa - Kết nối tri thức](https://loigiaihay.com/sbt-hoa-11-ket-noi-tri-thuc-c1584.html \"SBT Hóa - Kết nối tri thức\")\\n      * [SBT Hóa - Cánh diều](https://loigiaihay.com/sbt-hoa-11-canh-dieu-c1585.html \"SBT Hóa - Cánh diều\")\\n      * [ >> Xem thêm ](https://loigiaihay.com/lop-11.html \"Xem thêm\")\\n    * ![](https://loigiaihay.com/themes/style/images/i-sinh.png) Sinh học 11\\n      * [SGK Sinh - Kết nối tri thức](https://loigiaihay.com/sgk-sinh-11-ket-noi-tri-thuc-c1388.html \"SGK Sinh - Kết nối tri thức\")\\n      * [SGK Sinh - Cánh diều](https://loigiaihay.com/sgk-sinh-11-canh-dieu-c1389.html \"SGK Sinh - Cánh diều\")\\n      * [SGK Sinh - Chân trời sáng tạo](https://loigiaihay.com/sgk-sinh-11-chan-troi-sang-tao-c1434.html \"SGK Sinh - Chân trời sáng tạo\")\\n      * [Chuyên đề học tập Sinh - Kết nối tri thức](https://loigiaihay.com/chuyen-de-hoc-tap-sinh-11-ket-noi-tri-thuc-c1569.html \"Chuyên đề học tập Sinh - Kết nối tri thức\")\\n      * [Chuyên đề học tập Sinh - Cánh diều](https://loigiaihay.com/chuyen-de-hoc-tap-sinh-11-canh-dieu-c1576.html \"Chuyên đề học tập Sinh - Cánh diều\")\\n      * [Chuyên đề học tập Sinh - Chân trời sáng tạo](https://loigiaihay.com/chuyen-de-hoc-tap-sinh-11-chan-troi-sang-tao-c1573.html \"Chuyên đề học tập Sinh - Chân trời sáng tạo\")\\n      * [SBT Sinh - Kết nối tri thức](https://loigiaihay.com/sbt-sinh-lop-11-ket-noi-tri-thuc-c1559.html \"SBT Sinh - Kết nối tri thức\")\\n      * [SBT Sinh - Cánh diều](https://loigiaihay.com/sbt-sinh-lop-11-canh-dieu-c1566.html \"SBT Sinh - Cánh diều\")\\n      * [ >> Xem thêm ](https://loigiaihay.com/lop-11.html \"Xem thêm\")\\n    * ![](https://loigiaihay.com/themes/style/images/i-huong-nghiep.png) HĐ trải nghiệm, hướng nghiệp 11\\n      * [SBT Hoạt động trải nghiệm - Kết nối tri thức](https://loigiaihay.com/sbt-hoat-dong-trai-nghiem-11-ket-noi-tri-thuc-c2361.html \"SBT Hoạt động trải nghiệm - Kết nối tri thức\")\\n      * [SGK Hoạt động trải nghiệm, hướng nghiệp - Kết nối tri thức](https://loigiaihay.com/sgk-hoat-dong-trai-nghiem-huong-nghiep-11-ket-noi-tri-thuc-c1519.html \"SGK Hoạt động trải nghiệm, hướng nghiệp - Kết nối tri thức\")\\n      * [SGK Hoạt động trải nghiệm, hướng nghiệp - Cánh diều](https://loigiaihay.com/sgk-hoat-dong-trai-nghiem-huong-nghiep-11-canh-dieu-c1520.html \"SGK Hoạt động trải nghiệm, hướng nghiệp - Cánh diều\")\\n      * [SGK Hoạt động trải nghiệm, hướng nghiệp - Chân trời sáng tạo Bản 1](https://loigiaihay.com/sgk-hoat-dong-trai-nghiem-huong-nghiep-11-chan-troi-sang-tao-c1521.html \"SGK Hoạt động trải nghiệm, hướng nghiệp - Chân trời sáng tạo Bản 1\")\\n      * [SGK Hoạt động trải nghiệm, hướng nghiệp - Chân trời sáng tạo Bản 2](https://loigiaihay.com/sgk-hoat-dong-trai-nghiem-huong-nghiep-11-chan-troi-sang-tao-ban-2-c1603.html \"SGK Hoạt động trải nghiệm, hướng nghiệp - Chân trời sáng tạo Bản 2\")\\n      * [SBT Hoạt động trải nghiệm - Cánh diều](https://loigiaihay.com/sbt-hoat-dong-trai-nghiem-11-canh-dieu-c2365.html \"SBT Hoạt động trải nghiệm - Cánh diều\")\\n      * [SBT Hoạt động trải nghiệm - Chân trời sáng tạo (Bản 1) ](https://loigiaihay.com/sbt-hoat-dong-trai-nghiem-11-chan-troi-sang-tao-ban-1-c2393.html \"SBT Hoạt động trải nghiệm  - Chân trời sáng tạo \\\\(Bản 1\\\\) \")\\n      * [SBT Hoạt động trải nghiệm - Chân trời sáng tạo (Bản 2) ](https://loigiaihay.com/sbt-hoat-dong-trai-nghiem-11-chan-troi-sang-tao-ban-2-c2400.html \"SBT Hoạt động trải nghiệm - Chân trời sáng tạo \\\\(Bản 2\\\\) \")\\n    * ![](https://loigiaihay.com/themes/style/images/i-su.png) Lịch sử 11\\n      * [SGK Lịch sử - Kết nối tri thức](https://loigiaihay.com/sgk-lich-su-11-ket-noi-tri-thuc-c1425.html \"SGK Lịch sử - Kết nối tri thức\")\\n      * [SGK Lịch sử - Chân trời sáng tạo](https://loigiaihay.com/sgk-lich-su-11-chan-troi-sang-tao-c1426.html \"SGK Lịch sử - Chân trời sáng tạo\")\\n      * [SGK Lịch sử - Cánh diều](https://loigiaihay.com/sgk-lich-su-11-canh-dieu-c1427.html \"SGK Lịch sử - Cánh diều\")\\n      * [SBT Lịch sử - Kết nối tri thức](https://loigiaihay.com/sbt-lich-su-11-ket-noi-tri-thuc-c2231.html \"SBT Lịch sử - Kết nối tri thức\")\\n      * [SBT Lịch sử - Chân trời sáng tạo](https://loigiaihay.com/sbt-lich-su-11-chan-troi-sang-tao-c2232.html \"SBT Lịch sử - Chân trời sáng tạo\")\\n      * [SBT Lịch sử - Cánh diều](https://loigiaihay.com/sbt-lich-su-11-canh-dieu-c2233.html \"SBT Lịch sử - Cánh diều\")\\n      * [Đề thi, đề kiểm tra Lịch sử - Kết nối tri thức](https://loigiaihay.com/de-thi-de-kiem-tra-lich-su-lop-11-ket-noi-tri-thuc-c2380.html \"Đề thi, đề kiểm tra Lịch sử - Kết nối tri thức\")\\n      * [Đề thi, đề kiểm tra Lịch sử - Chân trời sáng tạo](https://loigiaihay.com/de-thi-de-kiem-tra-lich-su-lop-11-chan-troi-sang-tao-c2381.html \"Đề thi, đề kiểm tra Lịch sử - Chân trời sáng tạo\")\\n      * [ >> Xem thêm ](https://loigiaihay.com/lop-11.html \"Xem thêm\")\\n    * ![](https://loigiaihay.com/themes/style/images/i-dia.png) Địa lí 11\\n      * [SGK Địa lí - Kết nối tri thức](https://loigiaihay.com/sgk-dia-li-lop-11-ket-noi-tri-thuc-c1599.html \"SGK Địa lí - Kết nối tri thức\")\\n      * [SGK Địa lí - Chân trời sáng tạo](https://loigiaihay.com/sgk-dia-li-lop-11-chan-troi-sang-tao-c1601.html \"SGK Địa lí - Chân trời sáng tạo\")\\n      * [SGK Địa lí - Cánh diều](https://loigiaihay.com/sgk-dia-li-lop-11-canh-dieu-c1719.html \"SGK Địa lí - Cánh diều\")\\n      * [SBT Địa lí - Kết nối tri thức](https://loigiaihay.com/sbt-dia-li-11-ket-noi-tri-thuc-c2235.html \"SBT Địa lí - Kết nối tri thức\")\\n      * [SBT Địa lí - Chân trời sáng tạo](https://loigiaihay.com/sbt-dia-li-11-chan-troi-sang-tao-c2236.html \"SBT Địa lí - Chân trời sáng tạo\")\\n      * [SBT Địa lí - Cánh diều](https://loigiaihay.com/sbt-dia-li-11-canh-dieu-c2237.html \"SBT Địa lí - Cánh diều\")\\n      * [Đề thi, đề kiểm tra Địa lí - Kết nối tri thức](https://loigiaihay.com/de-thi-de-kiem-tra-dia-li-lop-11-ket-noi-tri-thuc-c2261.html \"Đề thi, đề kiểm tra Địa lí - Kết nối tri thức\")\\n      * [Đề thi, đề kiểm tra Địa lí - Chân trời sáng tạo](https://loigiaihay.com/de-thi-de-kiem-tra-dia-li-lop-11-chan-troi-sang-tao-c2262.html \"Đề thi, đề kiểm tra Địa lí - Chân trời sáng tạo\")\\n      * [ >> Xem thêm ](https://loigiaihay.com/lop-11.html \"Xem thêm\")\\n    * GD kinh tế và pháp luật 11\\n      * [SGK Giáo dục kinh tế và pháp luật - Kết nối tri thức](https://loigiaihay.com/sgk-giao-duc-kinh-te-va-phap-luat-11-ket-noi-tri-thuc-c1589.html \"SGK Giáo dục kinh tế và pháp luật - Kết nối tri thức\")\\n      * [SGK Giáo dục kinh tế và pháp luật - Chân trời sáng tạo](https://loigiaihay.com/sgk-giao-duc-kinh-te-va-phap-luat-11-chan-troi-sang-tao-c1590.html \"SGK Giáo dục kinh tế và pháp luật - Chân trời sáng tạo\")\\n      * [SGK Giáo dục kinh tế và pháp luật - Cánh diều](https://loigiaihay.com/sgk-giao-duc-kinh-te-va-phap-luat-11-canh-dieu-c1591.html \"SGK Giáo dục kinh tế và pháp luật - Cánh diều\")\\n      * [SBT Giáo dục kinh tế và pháp luật - Kết nối tri thức](https://loigiaihay.com/sbt-giao-duc-kinh-te-va-phap-luat-11-ket-noi-tri-thuc-c2234.html \"SBT Giáo dục kinh tế và pháp luật - Kết nối tri thức\")\\n      * [SBT Giáo dục kinh tế và pháp luật - Chân trời sáng tạo](https://loigiaihay.com/sbt-giao-duc-kinh-te-va-phap-luat-11-chan-troi-sang-tao-c2238.html \"SBT Giáo dục kinh tế và pháp luật - Chân trời sáng tạo\")\\n      * [SBT Giáo dục kinh tế và pháp luật - Cánh diều](https://loigiaihay.com/sbt-giao-duc-kinh-te-va-phap-luat-11-canh-dieu-c2239.html \"SBT Giáo dục kinh tế và pháp luật - Cánh diều\")\\n      * [Chuyên đề học tập Giáo dục kinh tế pháp luật - Kết nối tri thức](https://loigiaihay.com/chuyen-de-hoc-tap-giao-duc-kinh-te-phap-luat-11-ket-noi-tri-thuc-c2449.html \"Chuyên đề học tập Giáo dục kinh tế pháp luật - Kết nối tri thức\")\\n      * [Chuyên đề học tập Giáo dục kinh tế pháp luật - Chân trời sáng tạo](https://loigiaihay.com/chuyen-de-hoc-tap-giao-duc-kinh-te-phap-luat-11-chan-troi-sang-tao-c2450.html \"Chuyên đề học tập Giáo dục kinh tế pháp luật - Chân trời sáng tạo\")\\n      * [ >> Xem thêm ](https://loigiaihay.com/lop-11.html \"Xem thêm\")\\n    * ![](https://loigiaihay.com/themes/style/images/i-cong-nghe.png) Công nghệ 11\\n      * [SGK Công nghệ - Kết nối tri thức](https://loigiaihay.com/sgk-cong-nghe-11-ket-noi-tri-thuc-c1493.html \"SGK Công nghệ - Kết nối tri thức\")\\n      * [SGK Công nghệ - Cánh diều](https://loigiaihay.com/sgk-cong-nghe-11-canh-dieu-c1524.html \"SGK Công nghệ - Cánh diều\")\\n    * ![](https://loigiaihay.com/themes/style/images/i-tin.png) Tin học 11\\n      * [SGK Tin học - Kết nối tri thức](https://loigiaihay.com/sgk-tin-hoc-11-ket-noi-tri-thuc-c1587.html \"SGK Tin học - Kết nối tri thức\")\\n      * [SGK Tin học - Cánh diều](https://loigiaihay.com/sgk-tin-hoc-11-canh-dieu-c1588.html \"SGK Tin học - Cánh diều\")\\n      * [SBT Tin học - Kết nối tri thức](https://loigiaihay.com/sbt-tin-hoc-11-ket-noi-tri-thuc-c2289.html \"SBT Tin học - Kết nối tri thức\")\\n      * [SBT Tin học - Cánh diều](https://loigiaihay.com/sbt-tin-hoc-11-canh-dieu-c2302.html \"SBT Tin học - Cánh diều\")\\n      * [Chuyên đề học tập Tin - Kết nối tri thức](https://loigiaihay.com/chuyen-de-hoc-tap-tin-11-ket-noi-tri-thuc-c2478.html \"Chuyên đề học tập Tin - Kết nối tri thức\")\\n      * [Chuyên đề học tập Tin - Cánh diều](https://loigiaihay.com/chuyen-de-hoc-tap-tin-11-canh-dieu-c2480.html \"Chuyên đề học tập Tin - Cánh diều\")\\n    * Giáo dục thể chất 11\\n      * [SGK Giáo dục thể chất - Kết nối tri thức](https://loigiaihay.com/sgk-giao-duc-the-chat-11-ket-noi-tri-thuc-c1494.html \"SGK Giáo dục thể chất - Kết nối tri thức\")\\n      * [SGK Giáo dục thể chất - Cánh diều](https://loigiaihay.com/sgk-giao-duc-the-chat-11-canh-dieu-c1496.html \"SGK Giáo dục thể chất - Cánh diều\")\\n    * GD Quốc phòng và An ninh 11\\n      * [SGK Giáo dục quốc phòng và an ninh - Kết nối tri thức](https://loigiaihay.com/sgk-giao-duc-quoc-phong-va-an-ninh-11-ket-noi-tri-thuc-c1501.html \"SGK Giáo dục quốc phòng và an ninh - Kết nối tri thức\")\\n      * [SGK Giáo dục quốc phòng và an ninh - Cánh diều](https://loigiaihay.com/sgk-giao-duc-quoc-phong-va-an-ninh-11-canh-dieu-c1502.html \"SGK Giáo dục quốc phòng và an ninh - Cánh diều\")\\n    * Giáo dục địa phương 11\\n      * [Tài liệu Giáo dục địa phương ](https://loigiaihay.com/tai-lieu-giao-duc-dia-phuong-11-c2324.html \"Tài liệu Giáo dục địa phương \")\\n    * Đề thi, đề kiểm tra 11\\n      * [Tổng hợp đề thi, đề kiểm tra](https://loigiaihay.com/tong-hop-de-thi-de-kiem-tra-lop-11-c1224.html \"Tổng hợp đề thi, đề kiểm tra\")\\n  * [Lớp 10](https://loigiaihay.com/lop-10.html)\\n    * ![](https://loigiaihay.com/themes/style/images/i-van.png) Ngữ văn 10\\n      * [Soạn văn - Kết nối tri thức - siêu ngắn](https://loigiaihay.com/soan-van-10-kntt-sieu-ngan-c812.html \"Soạn văn - Kết nối tri thức - siêu ngắn\")\\n      * [Soạn văn - Kết nối tri thức - chi tiết](https://loigiaihay.com/soan-van-10-ket-noi-tri-thuc-chi-tiet-c851.html \"Soạn văn - Kết nối tri thức - chi tiết\")\\n      * [Soạn văn - Chân trời sáng tạo - siêu ngắn](https://loigiaihay.com/soan-van-10-chan-troi-sang-tao-sieu-ngan-c886.html \"Soạn văn - Chân trời sáng tạo - siêu ngắn\")\\n      * [Soạn văn - Chân trời sáng tạo - chi tiết](https://loigiaihay.com/soan-van-10-chan-troi-sang-tao-chi-tiet-c887.html \"Soạn văn - Chân trời sáng tạo - chi tiết\")\\n      * [Soạn văn - Cánh Diều - siêu ngắn](https://loigiaihay.com/soan-van-10-canh-dieu-sieu-ngan-c852.html \"Soạn văn - Cánh Diều - siêu ngắn\")\\n      * [Soạn văn - Cánh Diều - chi tiết](https://loigiaihay.com/soan-van-10-canh-dieu-chi-tiet-c853.html \"Soạn văn - Cánh Diều - chi tiết\")\\n      * [Tác giả tác phẩm](https://loigiaihay.com/tac-gia-tac-pham-lop-10-ket-noi-tri-thuc-c879.html \"Tác giả tác phẩm\")\\n      * [Tóm tắt, bố cục Văn - Kết nối tri thức](https://loigiaihay.com/tom-tat-bo-cuc-van-10-ket-noi-tri-thuc-c1976.html \"Tóm tắt, bố cục Văn - Kết nối tri thức\")\\n      * [ >> Xem thêm ](https://loigiaihay.com/lop-10.html \"Xem thêm\")\\n    * ![](https://loigiaihay.com/themes/style/images/i-toan.png) Toán học 10\\n      * [SGK Toán - Kết nối tri thức](https://loigiaihay.com/sgk-toan-10-ket-noi-tri-thuc-c811.html \"SGK Toán - Kết nối tri thức\")\\n      * [SGK Toán - Chân trời sáng tạo](https://loigiaihay.com/sgk-toan-10-chan-troi-sang-tao-c868.html \"SGK Toán - Chân trời sáng tạo\")\\n      * [SGK Toán - Cánh diều](https://loigiaihay.com/sgk-toan-10-canh-dieu-c859.html \"SGK Toán - Cánh diều\")\\n      * [SBT Toán - Kết nối tri thức](https://loigiaihay.com/sbt-toan-10-ket-noi-tri-thuc-c1007.html \"SBT Toán - Kết nối tri thức\")\\n      * [SBT Toán - Chân trời sáng tạo](https://loigiaihay.com/sbt-toan-10-chan-troi-sang-tao-c1090.html \"SBT Toán - Chân trời sáng tạo\")\\n      * [SBT Toán - Cánh diều](https://loigiaihay.com/sbt-toan-10-canh-dieu-c1126.html \"SBT Toán - Cánh diều\")\\n      * [Chuyên đề học tập Toán - Kết nối tri thức](https://loigiaihay.com/chuyen-de-hoc-tap-toan-10-ket-noi-tri-thuc-c1161.html \"Chuyên đề học tập Toán - Kết nối tri thức\")\\n      * [Chuyên đề học tập Toán - Chân trời sáng tạo](https://loigiaihay.com/chuyen-de-hoc-tap-toan-10-chan-troi-sang-tao-c1162.html \"Chuyên đề học tập Toán - Chân trời sáng tạo\")\\n      * [ >> Xem thêm ](https://loigiaihay.com/lop-10.html \"Xem thêm\")\\n    * ![](https://loigiaihay.com/themes/style/images/i-anh.png) Tiếng Anh 10\\n      * [Tiếng Anh - Global Success](https://loigiaihay.com/tieng-anh-10-global-success-c818.html \"Tiếng Anh - Global Success\")\\n      * [Tiếng Anh - Friends Global](https://loigiaihay.com/tieng-anh-10-friends-global-c867.html \"Tiếng Anh - Friends Global\")\\n      * [Tiếng Anh - iLearn Smart World](https://loigiaihay.com/tieng-anh-10-ilearn-smart-world-c934.html \"Tiếng Anh - iLearn Smart World\")\\n      * [Tiếng Anh - English Discovery ](https://loigiaihay.com/tieng-anh-10-english-discovery-c946.html \"Tiếng Anh - English Discovery \")\\n      * [Tiếng Anh - Bright](https://loigiaihay.com/tieng-anh-10-bright-c1014.html \"Tiếng Anh - Bright\")\\n      * [Tiếng Anh - Explore New Worlds](https://loigiaihay.com/tieng-anh-10-explore-new-worlds-c947.html \"Tiếng Anh - Explore New Worlds\")\\n      * [SBT Global Success](https://loigiaihay.com/sbt-tieng-anh-10-global-success-ket-noi-tri-thuc-c1094.html \"SBT Global Success\")\\n      * [SBT Friends Global](https://loigiaihay.com/sbt-tieng-anh-10-friends-global-chan-troi-sang-tao-c1104.html \"SBT Friends Global\")\\n      * [ >> Xem thêm ](https://loigiaihay.com/lop-10.html \"Xem thêm\")\\n    * ![](https://loigiaihay.com/themes/style/images/i-ly.png) Vật lí 10\\n      * [SGK Vật Lí - Kết nối tri thức](https://loigiaihay.com/sgk-vat-li-10-ket-noi-tri-thuc-c804.html \"SGK Vật Lí - Kết nối tri thức\")\\n      * [SGK Vật Lí - Chân trời sáng tạo](https://loigiaihay.com/sgk-vat-li-10-chan-troi-sang-tao-c805.html \"SGK Vật Lí - Chân trời sáng tạo\")\\n      * [SGK Vật Lí - Cánh diều](https://loigiaihay.com/sgk-vat-li-10-canh-dieu-c806.html \"SGK Vật Lí - Cánh diều\")\\n      * [SBT Vật lí - Kết nối tri thức](https://loigiaihay.com/sbt-vat-li-10-ket-noi-tri-thuc-c1011.html \"SBT Vật lí - Kết nối tri thức\")\\n      * [SBT Vật lí - Chân trời sáng tạo](https://loigiaihay.com/sbt-vat-li-10-chan-troi-sang-tao-c1012.html \"SBT Vật lí - Chân trời sáng tạo\")\\n      * [SBT Vật lí - Cánh diều](https://loigiaihay.com/sbt-vat-li-10-canh-dieu-c1013.html \"SBT Vật lí - Cánh diều\")\\n      * [Trắc nghiệm Lí - Kết nối tri thức ](https://loigiaihay.com/v2/tu-luyen-trac-nghiem-li-10-ket-noi-tri-thuc-c942.html \"Trắc nghiệm Lí - Kết nối tri thức \")\\n      * [Bài tập trắc nghiệm Lí - Kết nối tri thức](https://loigiaihay.com/bai-tap-trac-nghiem-li-10-ket-noi-tri-thuc-c1333.html \"Bài tập trắc nghiệm Lí - Kết nối tri thức\")\\n      * [ >> Xem thêm ](https://loigiaihay.com/lop-10.html \"Xem thêm\")\\n    * ![](https://loigiaihay.com/themes/style/images/i-hoa.png) Hóa học 10\\n      * [SGK Hóa - Kết nối tri thức](https://loigiaihay.com/sgk-hoa-10-ket-noi-tri-thuc-c828.html \"SGK Hóa - Kết nối tri thức\")\\n      * [SGK Hóa - Chân trời sáng tạo](https://loigiaihay.com/sgk-hoa-10-chan-troi-sang-tao-c870.html \"SGK Hóa - Chân trời sáng tạo\")\\n      * [SGK Hóa - Cánh diều](https://loigiaihay.com/sgk-hoa-10-canh-dieu-c862.html \"SGK Hóa - Cánh diều\")\\n      * [SBT Hóa - Kết nối tri thức](https://loigiaihay.com/sbt-hoa-10-ket-noi-tri-thuc-c1108.html \"SBT Hóa - Kết nối tri thức\")\\n      * [SBT Hóa - Chân trời sáng tạo](https://loigiaihay.com/sbt-hoa-10-chan-troi-sang-tao-c1087.html \"SBT Hóa - Chân trời sáng tạo\")\\n      * [SBT Hóa 10 - Cánh diều](https://loigiaihay.com/sbt-hoa-10-canh-dieu-c1159.html \"SBT Hóa 10 - Cánh diều\")\\n      * [Chuyên đề học tập Hóa - Kết nối tri thức ](https://loigiaihay.com/chuyen-de-hoc-tap-hoa-10-ket-noi-tri-thuc-c1138.html \"Chuyên đề học tập Hóa - Kết nối tri thức \")\\n      * [Chuyên đề học tập Hóa 10 – Chân trời sáng tạo](https://loigiaihay.com/chuyen-de-hoc-tap-hoa-10-chan-troi-sang-tao-c1158.html \"Chuyên đề học tập Hóa 10 – Chân trời sáng tạo\")\\n      * [ >> Xem thêm ](https://loigiaihay.com/lop-10.html \"Xem thêm\")\\n    * ![](https://loigiaihay.com/themes/style/images/i-sinh.png) Sinh học 10\\n      * [SGK Sinh - Kết nối tri thức](https://loigiaihay.com/sgk-sinh-10-ket-noi-tri-thuc-c854.html \"SGK Sinh - Kết nối tri thức\")\\n      * [SGK Sinh - Chân trời sáng tạo](https://loigiaihay.com/sgk-sinh-10-chan-troi-sang-tao-c871.html \"SGK Sinh - Chân trời sáng tạo\")\\n      * [SGK Sinh - Cánh diều](https://loigiaihay.com/sgk-sinh-10-canh-dieu-c855.html \"SGK Sinh - Cánh diều\")\\n      * [SBT Sinh - Kết nối tri thức](https://loigiaihay.com/sbt-sinh-lop-10-ket-noi-tri-thuc-c1120.html \"SBT Sinh - Kết nối tri thức\")\\n      * [SBT Sinh - Chân trời sáng tạo](https://loigiaihay.com/sbt-sinh-lop-10-chan-troi-sang-tao-c1122.html \"SBT Sinh - Chân trời sáng tạo\")\\n      * [SBT Sinh - Cánh diều](https://loigiaihay.com/sbt-sinh-lop-10-canh-dieu-c1125.html \"SBT Sinh - Cánh diều\")\\n      * [Chuyên đề học tập Sinh - Kết nối tri thức](https://loigiaihay.com/chuyen-de-hoc-tap-sinh-10-ket-noi-tri-thuc-c1149.html \"Chuyên đề học tập Sinh - Kết nối tri thức\")\\n      * [Chuyên đề học tập Sinh - Chân trời sáng tạo](https://loigiaihay.com/chuyen-de-hoc-tap-sinh-10-chan-troi-sang-tao-c1150.html \"Chuyên đề học tập Sinh - Chân trời sáng tạo\")\\n      * [ >> Xem thêm ](https://loigiaihay.com/lop-10.html \"Xem thêm\")\\n    * ![](https://loigiaihay.com/themes/style/images/i-su.png) Lịch sử 10\\n      * [SGK Lịch sử - Kết nối tri thức](https://loigiaihay.com/sgk-lich-su-10-ket-noi-tri-thuc-voi-cuoc-song-c824.html \"SGK Lịch sử - Kết nối tri thức\")\\n      * [SGK Lịch sử - Chân trời sáng tạo](https://loigiaihay.com/sgk-lich-su-10-chan-troi-sang-tao-c869.html \"SGK Lịch sử - Chân trời sáng tạo\")\\n      * [SGK Lịch sử - Cánh Diều](https://loigiaihay.com/sgk-lich-su-10-canh-dieu-c850.html \"SGK Lịch sử - Cánh Diều\")\\n      * [SBT Lịch sử - Kết nối tri thức](https://loigiaihay.com/sbt-lich-su-10-ket-noi-tri-thuc-c1086.html \"SBT Lịch sử - Kết nối tri thức\")\\n      * [SBT Lịch sử - Chân trời sáng tạo](https://loigiaihay.com/sbt-lich-su-10-chan-troi-sang-tao-c1088.html \"SBT Lịch sử - Chân trời sáng tạo\")\\n      * [SBT Lịch sử - Cánh Diều](https://loigiaihay.com/sbt-lich-su-10-canh-dieu-c1089.html \"SBT Lịch sử - Cánh Diều\")\\n      * [Chuyên đề học tập Lịch sử - Kết nối tri thức](https://loigiaihay.com/chuyen-de-hoc-tap-lich-su-10-ket-noi-tri-thuc-c1177.html \"Chuyên đề học tập Lịch sử - Kết nối tri thức\")\\n      * [Trắc nghiệm Sử - kết nối tri thức](https://loigiaihay.com/v2/tu-luyen-trac-nghiem-su-10-ket-noi-tri-thuc-c943.html \"Trắc nghiệm Sử - kết nối tri thức\")\\n      * [ >> Xem thêm ](https://loigiaihay.com/lop-10.html \"Xem thêm\")\\n    * ![](https://loigiaihay.com/themes/style/images/i-dia.png) Địa lí 10\\n      * [SGK Địa lí - Kết nối tri thức](https://loigiaihay.com/sgk-dia-li-lop-10-ket-noi-tri-thuc-c810.html \"SGK Địa lí - Kết nối tri thức\")\\n      * [SGK Địa lí - Cánh Diều](https://loigiaihay.com/sgk-dia-li-lop-10-canh-dieu-c846.html \"SGK Địa lí - Cánh Diều\")\\n      * [SGK Địa lí - Chân trời sáng tạo](https://loigiaihay.com/sgk-dia-li-lop-10-chan-troi-sang-tao-c803.html \"SGK Địa lí - Chân trời sáng tạo\")\\n      * [SBT Địa lí - Kết nối tri thức](https://loigiaihay.com/sbt-dia-li-10-ket-noi-tri-thuc-c1009.html \"SBT Địa lí - Kết nối tri thức\")\\n      * [SBT Địa lí - Chân trời sáng tạo](https://loigiaihay.com/sbt-dia-li-10-chan-troi-sang-tao-c1010.html \"SBT Địa lí - Chân trời sáng tạo\")\\n      * [Trắc nghiệm Địa lí - Kết nối tri thức](https://loigiaihay.com/v2/tu-luyen-trac-nghiem-dia-li-lop-10-kntt-c954.html \"Trắc nghiệm Địa lí - Kết nối tri thức\")\\n      * [Trắc nghiệm Địa lí - Chân trời sáng tạo](https://loigiaihay.com/v2/tu-luyen-trac-nghiem-dia-li-lop-10-ctst-c1002.html \"Trắc nghiệm Địa lí - Chân trời sáng tạo\")\\n      * [Trắc nghiệm Địa lí - Cánh Diều](https://loigiaihay.com/v2/tu-luyen-trac-nghiem-dia-li-lop-10-cd-c1003.html \"Trắc nghiệm Địa lí - Cánh Diều\")\\n      * [ >> Xem thêm ](https://loigiaihay.com/lop-10.html \"Xem thêm\")\\n    * ![](https://loigiaihay.com/themes/style/images/i-tin.png) Tin học 10\\n      * [SGK Tin học - Kết nối tri thức](https://loigiaihay.com/sgk-tin-hoc-10-ket-noi-tri-thuc-c897.html \"SGK Tin học - Kết nối tri thức\")\\n      * [SGK Tin học - Cánh Diều](https://loigiaihay.com/sgk-tin-hoc-10-canh-dieu-c906.html \"SGK Tin học - Cánh Diều\")\\n      * [SBT Tin học - Kết nối tri thức](https://loigiaihay.com/sbt-tin-10-ket-noi-tri-thuc-c1156.html \"SBT Tin học - Kết nối tri thức\")\\n      * [SBT Tin học 10 - Cánh diều](https://loigiaihay.com/sbt-tin-hoc-10-canh-dieu-c2433.html \"SBT Tin học 10 - Cánh diều\")\\n    * ![](https://loigiaihay.com/themes/style/images/i-cong-nghe.png) Công nghệ 10\\n      * [SGK Công nghệ - Kết nối tri thức](https://loigiaihay.com/sgk-cong-nghe-10-ket-noi-tri-thuc-c899.html \"SGK Công nghệ - Kết nối tri thức\")\\n      * [SGK Công nghệ - Cánh diều](https://loigiaihay.com/sgk-cong-nghe-10-canh-dieu-c900.html \"SGK Công nghệ - Cánh diều\")\\n      * [Chuyên đề học tập Công nghệ - Kết nối tri thức](https://loigiaihay.com/chuyen-de-hoc-tap-cong-nghe-10-ket-noi-tri-thuc-c2481.html \"Chuyên đề học tập Công nghệ - Kết nối tri thức\")\\n      * [Chuyên đề học tập Công nghệ - Cánh diều](https://loigiaihay.com/chuyen-de-hoc-tap-cong-nghe-10-canh-dieu-c2482.html \"Chuyên đề học tập Công nghệ - Cánh diều\")\\n    * GD kinh tế và pháp luật 10\\n      * [SGK Giáo dục kinh tế và pháp luật - KNTT](https://loigiaihay.com/sgk-giao-duc-kinh-te-va-phap-luat-10-ket-noi-tri-thuc-c921.html \"SGK Giáo dục kinh tế và pháp luật - KNTT\")\\n      * [SGK Giáo dục kinh tế và pháp luật - CTST](https://loigiaihay.com/sgk-giao-duc-kinh-te-va-phap-luat-10-chan-troi-sang-tao-c922.html \"SGK Giáo dục kinh tế và pháp luật - CTST\")\\n      * [SGK Giáo dục kinh tế và pháp luật - Cánh diều](https://loigiaihay.com/sgk-giao-duc-kinh-te-va-phap-luat-10-canh-dieu-c923.html \"SGK Giáo dục kinh tế và pháp luật - Cánh diều\")\\n      * [SBT Giáo dục kinh tế và pháp luật - Kết nối tri thức](https://loigiaihay.com/sbt-giao-duc-kinh-te-va-phap-luat-10-ket-noi-tri-thuc-c2280.html \"SBT Giáo dục kinh tế và pháp luật - Kết nối tri thức\")\\n      * [SBT Giáo dục kinh tế và pháp luật - Chân trời sáng tạo](https://loigiaihay.com/sbt-giao-duc-kinh-te-va-phap-luat-10-chan-troi-sang-tao-c2281.html \"SBT Giáo dục kinh tế và pháp luật - Chân trời sáng tạo\")\\n      * [SBT Giáo dục kinh tế và pháp luật - Cánh diều](https://loigiaihay.com/sbt-giao-duc-kinh-te-va-phap-luat-10-canh-dieu-c2282.html \"SBT Giáo dục kinh tế và pháp luật - Cánh diều\")\\n      * [Chuyên đề học tập Giáo dục kinh tế pháp luật - Kết nối tri thức](https://loigiaihay.com/chuyen-de-hoc-tap-giao-duc-kinh-te-phap-luat-10-ket-noi-tri-thuc-c2469.html \"Chuyên đề học tập Giáo dục kinh tế pháp luật - Kết nối tri thức\")\\n      * [Chuyên đề học tập Giáo dục kinh tế pháp luật - Chân trời sáng tạo](https://loigiaihay.com/chuyen-de-hoc-tap-giao-duc-kinh-te-phap-luat-10-chan-troi-sang-tao-c2470.html \"Chuyên đề học tập Giáo dục kinh tế pháp luật - Chân trời sáng tạo\")\\n      * [ >> Xem thêm ](https://loigiaihay.com/lop-10.html \"Xem thêm\")\\n    * ![](https://loigiaihay.com/themes/style/images/i-huong-nghiep.png) HĐ trải nghiệm, hướng nghiệp 10\\n      * [SGK Hoạt động trải nghiệm, hướng nghiệp - Kết nối tri thức](https://loigiaihay.com/hoat-dong-trai-nghiem-huong-nghiep-lop-10-c917.html \"SGK Hoạt động trải nghiệm, hướng nghiệp - Kết nối tri thức\")\\n      * [SGK Hoạt động trải nghiệm, hướng nghiệp - Chân trời sáng tạo](https://loigiaihay.com/sgk-hoat-dong-trai-nghiem-huong-nghiep-10-chan-troi-sang-tao-c918.html \"SGK Hoạt động trải nghiệm, hướng nghiệp - Chân trời sáng tạo\")\\n      * [SGK Hoạt động trải nghiệm, hướng nghiệp - Cánh Diều](https://loigiaihay.com/sgk-hoat-dong-trai-nghiem-huong-nghiep-10-canh-dieu-c919.html \"SGK Hoạt động trải nghiệm, hướng nghiệp - Cánh Diều\")\\n      * [SBT Hoạt động trải nghiệm - Kết nối tri thức](https://loigiaihay.com/sbt-hoat-dong-trai-nghiem-10-ket-noi-tri-thuc-c2367.html \"SBT Hoạt động trải nghiệm - Kết nối tri thức\")\\n      * [SBT Hoạt động trải nghiệm - Cánh diều](https://loigiaihay.com/sbt-hoat-dong-trai-nghiem-10-canh-dieu-c2384.html \"SBT Hoạt động trải nghiệm - Cánh diều\")\\n      * [SBT Hoạt động trải nghiệm - Chân trời sáng tạo (Bản 1) ](https://loigiaihay.com/sbt-hoat-dong-trai-nghiem-10-chan-troi-sang-tao-ban-1-c2388.html \"SBT Hoạt động trải nghiệm - Chân trời sáng tạo \\\\(Bản 1\\\\) \")\\n      * [SBT Hoạt động trải nghiệm - Chân trời sáng tạo (Bản 2) ](https://loigiaihay.com/sbt-hoat-dong-trai-nghiem-10-chan-troi-sang-tao-ban-2-c2401.html \"SBT Hoạt động trải nghiệm - Chân trời sáng tạo \\\\(Bản 2\\\\) \")\\n    * Giáo dục thể chất 10\\n      * [SGK Giáo dục thể chất - Kết nối tri thức](https://loigiaihay.com/sgk-giao-duc-the-chat-10-ket-noi-tri-thuc-c1151.html \"SGK Giáo dục thể chất - Kết nối tri thức\")\\n      * [SGK Giáo dục thể chất - Cánh diều](https://loigiaihay.com/sgk-giao-duc-the-chat-10-canh-dieu-c1152.html \"SGK Giáo dục thể chất - Cánh diều\")\\n    * GD Quốc phòng và An ninh 10\\n      * [SGK Giáo dục quốc phòng và an ninh - Kết nối tri thức](https://loigiaihay.com/sgk-giao-duc-quoc-phong-va-an-ninh-10-ket-noi-tri-thuc-c1166.html \"SGK Giáo dục quốc phòng và an ninh - Kết nối tri thức\")\\n      * [SGK Giáo dục quốc phòng và an ninh - Cánh diều](https://loigiaihay.com/sgk-giao-duc-quoc-phong-va-an-ninh-10-canh-dieu-c1167.html \"SGK Giáo dục quốc phòng và an ninh - Cánh diều\")\\n    * Giáo dục địa phương 10\\n      * [Tài liệu Giáo dục địa phương](https://loigiaihay.com/tai-lieu-giao-duc-dia-phuong-10-c2323.html \"Tài liệu Giáo dục địa phương\")\\n    * Đề thi, đề kiểm tra 10\\n      * [Tổng hợp đề thi, đề kiểm tra ](https://loigiaihay.com/tong-hop-de-thi-de-kiem-tra-lop-10-c1227.html \"Tổng hợp đề thi, đề kiểm tra \")\\n  * [Lớp 9](https://loigiaihay.com/lop-9.html)\\n    * ![](https://loigiaihay.com/themes/style/images/i-toan.png) Toán học 9\\n      * [SGK Toán - Kết nối tri thức](https://loigiaihay.com/sgk-toan-9-ket-noi-tri-thuc-c1748.html \"SGK Toán - Kết nối tri thức\")\\n      * [SGK Toán - Chân trời sáng tạo](https://loigiaihay.com/sgk-toan-9-chan-troi-sang-tao-c1749.html \"SGK Toán - Chân trời sáng tạo\")\\n      * [SGK Toán - Cánh diều](https://loigiaihay.com/sgk-toan-9-canh-dieu-c1750.html \"SGK Toán - Cánh diều\")\\n      * [SGK Toán - Cùng khám phá](https://loigiaihay.com/sgk-toan-9-cung-kham-pha-c1751.html \"SGK Toán - Cùng khám phá\")\\n      * [SBT Toán - Kết nối tri thức](https://loigiaihay.com/sbt-toan-9-ket-noi-tri-thuc-c1876.html \"SBT Toán - Kết nối tri thức\")\\n      * [SBT Toán - Chân trời sáng tạo](https://loigiaihay.com/sbt-toan-9-chan-troi-sang-tao-c1877.html \"SBT Toán - Chân trời sáng tạo\")\\n      * [SBT Toán - Cánh diều](https://loigiaihay.com/sbt-toan-9-canh-dieu-c1878.html \"SBT Toán - Cánh diều\")\\n      * [Vở thực hành Toán](https://loigiaihay.com/vo-thuc-hanh-toan-9-c1866.html \"Vở thực hành Toán\")\\n      * [ >> Xem thêm ](https://loigiaihay.com/lop-9.html \"Xem thêm\")\\n    * ![](https://loigiaihay.com/themes/style/images/i-van.png) Ngữ văn 9\\n      * [Soạn văn - Kết nối tri thức](https://loigiaihay.com/soan-van-9-ket-noi-tri-thuc-c1740.html \"Soạn văn - Kết nối tri thức\")\\n      * [Soạn văn - Chân trời sáng tạo](https://loigiaihay.com/soan-van-9-chan-troi-sang-tao-c1743.html \"Soạn văn - Chân trời sáng tạo\")\\n      * [Soạn văn - Cánh diều](https://loigiaihay.com/soan-van-9-canh-dieu-c1742.html \"Soạn văn - Cánh diều\")\\n      * [Tác giả - Tác phẩm văn](https://loigiaihay.com/tac-gia-tac-pham-van-9-c1789.html \"Tác giả - Tác phẩm văn\")\\n      * [Tóm tắt, bố cục Văn - Kết nối tri thức](https://loigiaihay.com/tom-tat-bo-cuc-van-9-ket-noi-tri-thuc-c1799.html \"Tóm tắt, bố cục Văn - Kết nối tri thức\")\\n      * [Tóm tắt, bố cục Văn - Chân trời sáng tạo](https://loigiaihay.com/tom-tat-bo-cuc-van-9-chan-troi-sang-tao-c1801.html \"Tóm tắt, bố cục Văn - Chân trời sáng tạo\")\\n      * [Tóm tắt, bố cục Văn - Cánh diều](https://loigiaihay.com/tom-tat-bo-cuc-van-9-canh-dieu-c1800.html \"Tóm tắt, bố cục Văn - Cánh diều\")\\n      * [SBT Văn - Kết nối tri thức](https://loigiaihay.com/sbt-van-9-ket-noi-tri-thuc-c1913.html \"SBT Văn - Kết nối tri thức\")\\n      * [ >> Xem thêm ](https://loigiaihay.com/lop-9.html \"Xem thêm\")\\n    * ![](https://loigiaihay.com/themes/style/images/i-anh.png) Tiếng Anh 9\\n      * [Tiếng Anh - Global Success](https://loigiaihay.com/tieng-anh-9-global-success-c1757.html \"Tiếng Anh - Global Success\")\\n      * [Tiếng Anh - Friends Plus](https://loigiaihay.com/tieng-anh-9-friends-plus-c1758.html \"Tiếng Anh - Friends Plus\")\\n      * [Tiếng Anh - iLearn Smart World](https://loigiaihay.com/tieng-anh-9-ilearn-smart-world-c1759.html \"Tiếng Anh - iLearn Smart World\")\\n      * [Tiếng Anh - Right on!](https://loigiaihay.com/tieng-anh-9-right-on-c1760.html \"Tiếng Anh - Right on!\")\\n      * [Tiếng Anh - English Discovery](https://loigiaihay.com/tieng-anh-9-english-discovery-c1761.html \"Tiếng Anh - English Discovery\")\\n      * [SBT Global Success](https://loigiaihay.com/sbt-tieng-anh-9-global-success-ket-noi-tri-thuc-c1834.html \"SBT Global Success\")\\n      * [SBT Friends Plus](https://loigiaihay.com/sbt-tieng-anh-9-friends-plus-chan-troi-sang-tao-c1835.html \"SBT Friends Plus\")\\n      * [SBT iLearn Smart World](https://loigiaihay.com/sbt-tieng-anh-9-ilearn-smart-world-c1836.html \"SBT iLearn Smart World\")\\n      * [ >> Xem thêm ](https://loigiaihay.com/lop-9.html \"Xem thêm\")\\n    * ![](https://loigiaihay.com/themes/style/images/i-sinh.png) Khoa học tự nhiên 9\\n      * [SGK Khoa học tự nhiên - Kết nối tri thức](https://loigiaihay.com/sgk-khoa-hoc-tu-nhien-9-ket-noi-tri-thuc-c1744.html \"SGK Khoa học tự nhiên - Kết nối tri thức\")\\n      * [SGK Khoa học tự nhiên - Cánh diều](https://loigiaihay.com/sgk-khoa-hoc-tu-nhien-9-canh-dieu-c1733.html \"SGK Khoa học tự nhiên  - Cánh diều\")\\n      * [SGK Khoa học tự nhiên 9 Chân trời sáng tạo](https://loigiaihay.com/sgk-khoa-hoc-tu-nhien-9-chan-troi-sang-tao-c1736.html \"SGK Khoa học tự nhiên 9 Chân trời sáng tạo\")\\n      * [SBT KHTN - Kết nối tri thức](https://loigiaihay.com/sbt-khtn-lop-9-ket-noi-tri-thuc-c1939.html \"SBT KHTN - Kết nối tri thức\")\\n      * [SBT KHTN - Cánh diều](https://loigiaihay.com/sbt-khtn-lop-9-canh-dieu-c1940.html \"SBT KHTN - Cánh diều\")\\n      * [SBT KHTN - Chân trời sáng tạo](https://loigiaihay.com/sbt-khtn-lop-9-chan-troi-sang-tao-c1942.html \"SBT KHTN - Chân trời sáng tạo\")\\n      * [Trắc nghiệm KHTN - Kết nối tri thức ](https://loigiaihay.com/v2/tu-luyen-trac-nghiem-khtn-9-ket-noi-tri-thuc-c1924.html \"Trắc nghiệm KHTN - Kết nối tri thức \")\\n      * [Trắc nghiệm KHTN - Cánh diều](https://loigiaihay.com/v2/tu-luyen-trac-nghiem-khtn-9-canh-dieu-c1925.html \"Trắc nghiệm KHTN - Cánh diều\")\\n      * [ >> Xem thêm ](https://loigiaihay.com/lop-9.html \"Xem thêm\")\\n    * ![](https://loigiaihay.com/themes/style/images/i-su.png) Lịch sử và Địa lí 9\\n      * [SGK Lịch sử và Địa lí - Kết nối tri thức](https://loigiaihay.com/sgk-lich-su-va-dia-li-9-ket-noi-tri-thuc-c1827.html \"SGK Lịch sử và Địa lí - Kết nối tri thức\")\\n      * [SGK Lịch sử và Địa lí - Cánh diều](https://loigiaihay.com/sgk-lich-su-va-dia-ly-9-canh-dieu-c1828.html \"SGK Lịch sử và Địa lí - Cánh diều\")\\n      * [SGK Lịch sử và Địa lí - Chân trời sáng tạo](https://loigiaihay.com/sgk-lich-su-va-dia-li-9-chan-troi-sang-tao-c1829.html \"SGK Lịch sử và Địa lí - Chân trời sáng tạo\")\\n      * [SBT Lịch sử - Cánh diều](https://loigiaihay.com/sbt-lich-su-9-canh-dieu-c2357.html \"SBT Lịch sử - Cánh diều\")\\n      * [SBT Địa lí - Kết nối tri thức](https://loigiaihay.com/sbt-dia-li-9-ket-noi-tri-thuc-c2374.html \"SBT Địa lí - Kết nối tri thức\")\\n      * [SBT Địa lí - Chân trời sáng tạo](https://loigiaihay.com/sbt-dia-li-9-chan-troi-sang-tao-c2375.html \"SBT Địa lí - Chân trời sáng tạo\")\\n      * [SBT Đia lí - Cánh diều](https://loigiaihay.com/sbt-dia-li-9-canh-dieu-c2366.html \"SBT Đia lí - Cánh diều\")\\n      * [Đề thi, kiểm tra Lịch Sử và Địa lí - Kết nối tri thức](https://loigiaihay.com/de-thi-kiem-tra-lich-su-va-dia-li-lop-9-ket-noi-tri-thuc-c2258.html \"Đề thi, kiểm tra Lịch Sử và Địa lí - Kết nối tri thức\")\\n      * [ >> Xem thêm ](https://loigiaihay.com/lop-9.html \"Xem thêm\")\\n    * ![](https://loigiaihay.com/themes/style/images/i-gdcd.png) GDCD 9\\n      * [Giáo dục công dân - Kết nối tri thức](https://loigiaihay.com/giao-duc-cong-dan-9-ket-noi-tri-thuc-c1818.html \"Giáo dục công dân - Kết nối tri thức\")\\n      * [Giáo dục công dân - Chân trời sáng tạo](https://loigiaihay.com/giao-duc-cong-dan-9-chan-troi-sang-tao-c1819.html \"Giáo dục công dân - Chân trời sáng tạo\")\\n      * [Giáo dục công dân - Cánh diều](https://loigiaihay.com/giao-duc-cong-dan-9-canh-dieu-c1820.html \"Giáo dục công dân - Cánh diều\")\\n      * [SBT GDCD - Chân trời sáng tạo](https://loigiaihay.com/sbt-gdcd-lop-9-chan-troi-sang-tao-c2284.html \"SBT GDCD - Chân trời sáng tạo\")\\n      * [SBT GDCD - Cánh diều](https://loigiaihay.com/sbt-gdcd-lop-9-canh-dieu-c2286.html \"SBT GDCD - Cánh diều\")\\n    * ![](https://loigiaihay.com/themes/style/images/i-tin.png) Tin học 9\\n      * [SGK Tin học - Kết nối tri thức](https://loigiaihay.com/sgk-tin-hoc-9-ket-noi-tri-thuc-c1821.html \"SGK Tin học - Kết nối tri thức\")\\n      * [SGK Tin học - Cánh diều](https://loigiaihay.com/sgk-tin-hoc-9-canh-dieu-c1822.html \"SGK Tin học - Cánh diều\")\\n      * [SGK Tin học - Chân trời sáng tạo](https://loigiaihay.com/sgk-tin-hoc-9-chan-troi-sang-tao-c1823.html \"SGK Tin học - Chân trời sáng tạo\")\\n      * [SBT Tin học - Kết nối tri thức](https://loigiaihay.com/sbt-tin-hoc-9-ket-noi-tri-thuc-c2252.html \"SBT Tin học - Kết nối tri thức\")\\n      * [SBT Tin học - Chân trời sáng tạo](https://loigiaihay.com/sbt-tin-hoc-9-chan-troi-sang-tao-c2253.html \"SBT Tin học - Chân trời sáng tạo\")\\n      * [SBT Tin học - Cánh diều](https://loigiaihay.com/sbt-tin-hoc-9-canh-dieu-c2254.html \"SBT Tin học - Cánh diều\")\\n    * ![](https://loigiaihay.com/themes/style/images/i-cong-nghe.png) Công nghệ 9\\n      * [SGK Công nghệ - Kết nối tri thức](https://loigiaihay.com/sgk-cong-nghe-9-ket-noi-tri-thuc-c1810.html \"SGK Công nghệ - Kết nối tri thức\")\\n      * [SGK Công nghệ - Chân trời sáng tạo](https://loigiaihay.com/sgk-cong-nghe-9-chan-troi-sang-tao-c1811.html \"SGK Công nghệ - Chân trời sáng tạo\")\\n      * [SGK Công nghệ - Cánh diều](https://loigiaihay.com/sgk-cong-nghe-9-canh-dieu-c1812.html \"SGK Công nghệ - Cánh diều\")\\n      * [SBT Công nghệ - Cánh diều](https://loigiaihay.com/sbt-cong-nghe-9-canh-dieu-c2432.html \"SBT Công nghệ - Cánh diều\")\\n    * ![](https://loigiaihay.com/themes/style/images/i-huong-nghiep.png) HĐ trải nghiệm, hướng nghiệp 9\\n      * [SGK Hoạt động trải nghiệm, hướng nghiệp - Kết nối tri thức](https://loigiaihay.com/sgk-hoat-dong-trai-nghiem-huong-nghiep-9-ket-noi-tri-thuc-c1862.html \"SGK Hoạt động trải nghiệm, hướng nghiệp - Kết nối tri thức\")\\n      * [SGK Hoạt động trải nghiệm, hướng nghiệp - Cánh diều](https://loigiaihay.com/sgk-hoat-dong-trai-nghiem-huong-nghiep-9-canh-dieu-c1863.html \"SGK Hoạt động trải nghiệm, hướng nghiệp - Cánh diều\")\\n      * [SGK Hoạt động trải nghiệm, hướng nghiệp - Chân trời sáng tạo Bản 1](https://loigiaihay.com/sgk-hoat-dong-trai-nghiem-huong-nghiep-9-chan-troi-sang-tao-ban-1-c1864.html \"SGK Hoạt động trải nghiệm, hướng nghiệp - Chân trời sáng tạo Bản 1\")\\n      * [SGK Hoạt động trải nghiệm, hướng nghiệp - Chân trời sáng tạo Bản 2](https://loigiaihay.com/sgk-hoat-dong-trai-nghiem-huong-nghiep-9-chan-troi-sang-tao-ban-2-c1865.html \"SGK Hoạt động trải nghiệm, hướng nghiệp - Chân trời sáng tạo Bản 2\")\\n    * Giáo dục địa phương 9\\n      * [Tài liệu Giáo dục địa phương](https://loigiaihay.com/tai-lieu-giao-duc-dia-phuong-9-c2339.html \"Tài liệu Giáo dục địa phương\")\\n    * Đề thi, đề kiểm tra 9\\n      * [Tổng hợp đề thi, đề kiểm tra ](https://loigiaihay.com/tong-hop-de-thi-de-kiem-tra-lop-9-c1225.html \"Tổng hợp đề thi, đề kiểm tra \")\\n      * [Tổng hợp đề thi vào 10 ](https://loigiaihay.com/tong-hop-de-thi-vao-10-c2406.html \"Tổng hợp đề thi vào 10 \")\\n  * [Lớp 8](https://loigiaihay.com/lop-8.html)\\n    * ![](https://loigiaihay.com/themes/style/images/i-van.png) Ngữ văn 8\\n      * [Soạn văn chi tiết - KNTT](https://loigiaihay.com/soan-van-8-ket-noi-tri-thuc-chi-tiet-c1381.html \"Soạn văn chi tiết - KNTT\")\\n      * [Soạn văn siêu ngắn - KNTT](https://loigiaihay.com/soan-van-8-ket-noi-tri-thuc-sieu-ngan-c1382.html \"Soạn văn siêu ngắn - KNTT\")\\n      * [Soạn văn chi tiết - CTST](https://loigiaihay.com/soan-van-8-chan-troi-sang-tao-chi-tiet-c1383.html \"Soạn văn chi tiết - CTST\")\\n      * [Soạn văn siêu ngắn - CTST](https://loigiaihay.com/soan-van-8-chan-troi-sang-tao-sieu-ngan-c1384.html \"Soạn văn siêu ngắn - CTST\")\\n      * [Soạn văn chi tiết - Cánh diều](https://loigiaihay.com/soan-van-8-canh-dieu-chi-tiet-c1385.html \"Soạn văn chi tiết - Cánh diều\")\\n      * [Soạn văn siêu ngắn - Cánh diều](https://loigiaihay.com/soan-van-8-canh-dieu-sieu-ngan-c1386.html \"Soạn văn siêu ngắn - Cánh diều\")\\n      * [Tác giả - Tác phẩm văn](https://loigiaihay.com/tac-gia-tac-pham-van-8-c1429.html \"Tác giả - Tác phẩm văn\")\\n      * [Tóm tắt, bố cục Văn - Kết nối tri thức](https://loigiaihay.com/tom-tat-bo-cuc-van-8-ket-noi-tri-thuc-c1711.html \"Tóm tắt, bố cục Văn - Kết nối tri thức\")\\n      * [ >> Xem thêm ](https://loigiaihay.com/lop-8.html \"Xem thêm\")\\n    * ![](https://loigiaihay.com/themes/style/images/i-toan.png) Toán học 8\\n      * [SGK Toán - Kết nối tri thức](https://loigiaihay.com/sgk-toan-8-ket-noi-tri-thuc-c1390.html \"SGK Toán -  Kết nối tri thức\")\\n      * [SGK Toán - Chân trời sáng tạo](https://loigiaihay.com/sgk-toan-8-chan-troi-sang-tao-c1391.html \"SGK Toán - Chân trời sáng tạo\")\\n      * [SGK Toán - Cánh diều](https://loigiaihay.com/sgk-toan-8-canh-dieu-c1392.html \"SGK Toán - Cánh diều\")\\n      * [SGK Toán - Cùng khám phá](https://loigiaihay.com/sgk-toan-8-cung-kham-pha-c1439.html \"SGK Toán - Cùng khám phá\")\\n      * [SBT Toán - Kết nối tri thức](https://loigiaihay.com/sbt-toan-8-ket-noi-tri-thuc-c1540.html \"SBT Toán - Kết nối tri thức\")\\n      * [SBT Toán - Chân trời sáng tạo](https://loigiaihay.com/sbt-toan-8-chan-troi-sang-tao-c1541.html \"SBT Toán - Chân trời sáng tạo\")\\n      * [SBT Toán - Cánh diều](https://loigiaihay.com/sbt-toan-8-canh-dieu-c1542.html \"SBT Toán - Cánh diều\")\\n      * [Vở thực hành Toán](https://loigiaihay.com/vo-thuc-hanh-toan-8-c1543.html \"Vở thực hành Toán\")\\n      * [ >> Xem thêm ](https://loigiaihay.com/lop-8.html \"Xem thêm\")\\n    * ![](https://loigiaihay.com/themes/style/images/i-anh.png) Tiếng Anh 8\\n      * [Tiếng Anh - Global Success](https://loigiaihay.com/tieng-anh-8-global-success-c1405.html \"Tiếng Anh - Global Success\")\\n      * [Tiếng Anh - Friends Plus](https://loigiaihay.com/tieng-anh-8-friends-plus-c1415.html \"Tiếng Anh - Friends Plus\")\\n      * [Tiếng Anh - iLearn Smart World](https://loigiaihay.com/tieng-anh-8-ilearn-smart-world-c1407.html \"Tiếng Anh - iLearn Smart World\")\\n      * [Tiếng Anh - Right on!](https://loigiaihay.com/tieng-anh-8-right-on-c1420.html \"Tiếng Anh - Right on!\")\\n      * [Tiếng Anh - English Discovery](https://loigiaihay.com/tieng-anh-8-english-discovery-c1418.html \"Tiếng Anh - English Discovery\")\\n      * [SBT Global Success](https://loigiaihay.com/sbt-tieng-anh-8-global-success-ket-noi-tri-thuc-c1550.html \"SBT Global Success\")\\n      * [SBT Friends Plus](https://loigiaihay.com/sbt-tieng-anh-8-friends-plus-chan-troi-sang-tao-c1560.html \"SBT Friends Plus\")\\n      * [SBT iLearn Smart World](https://loigiaihay.com/sbt-tieng-anh-8-ilearn-smart-world-c1563.html \"SBT iLearn Smart World\")\\n      * [ >> Xem thêm ](https://loigiaihay.com/lop-8.html \"Xem thêm\")\\n    * ![](https://loigiaihay.com/themes/style/images/i-sinh.png) Khoa học tự nhiên 8\\n      * [SGK Khoa học tự nhiên - Kết nối tri thức](https://loigiaihay.com/sgk-khoa-hoc-tu-nhien-8-ket-noi-tri-thuc-c1378.html \"SGK Khoa học tự nhiên - Kết nối tri thức\")\\n      * [SGK Khoa học tự nhiên - Chân trời sáng tạo](https://loigiaihay.com/sgk-khoa-hoc-tu-nhien-8-chan-troi-sang-tao-c1379.html \"SGK Khoa học tự nhiên - Chân trời sáng tạo\")\\n      * [SGK Khoa học tự nhiên - Cánh diều](https://loigiaihay.com/sgk-khoa-hoc-tu-nhien-8-canh-dieu-c1380.html \"SGK Khoa học tự nhiên - Cánh diều\")\\n      * [SBT KHTN - Kết nối tri thức](https://loigiaihay.com/sbt-khtn-lop-8-ket-noi-tri-thuc-c1583.html \"SBT KHTN - Kết nối tri thức\")\\n      * [SBT KHTN - Cánh diều](https://loigiaihay.com/sbt-khtn-lop-8-canh-dieu-c1564.html \"SBT KHTN - Cánh diều\")\\n      * [Vở thực hành Khoa học tự nhiên](https://loigiaihay.com/vo-thuc-hanh-khoa-hoc-tu-nhien-8-c1578.html \"Vở thực hành Khoa học tự nhiên\")\\n      * [Đề thi, đề kiểm tra KHTN - Kết nối tri thức](https://loigiaihay.com/de-thi-de-kiem-tra-khtn-lop-8-ket-noi-tri-thuc-c1642.html \"Đề thi, đề kiểm tra KHTN - Kết nối tri thức\")\\n      * [Đề thi, đề kiểm tra KHTN - Cánh diều](https://loigiaihay.com/de-thi-de-kiem-tra-khtn-lop-8-canh-dieu-c1643.html \"Đề thi, đề kiểm tra KHTN - Cánh diều\")\\n      * [ >> Xem thêm ](https://loigiaihay.com/lop-8.html \"Xem thêm\")\\n    * ![](https://loigiaihay.com/themes/style/images/i-su.png) Lịch sử và Địa lí 8\\n      * [SGK Lịch sử và Địa lí - Kết nối tri thức](https://loigiaihay.com/sgk-lich-su-va-dia-li-lop-8-ket-noi-tri-thuc-c1604.html \"SGK Lịch sử và Địa lí - Kết nối tri thức\")\\n      * [SGK Lịch sử và Địa lí - Cánh diều](https://loigiaihay.com/sgk-lich-su-va-dia-li-lop-8-canh-dieu-c1605.html \"SGK Lịch sử và Địa lí - Cánh diều\")\\n      * [SGK Lịch sử và Địa lí - Chân trời sáng tạo](https://loigiaihay.com/sgk-lich-su-va-dia-li-lop-8-chan-troi-sang-tao-c1615.html \"SGK Lịch sử và Địa lí - Chân trời sáng tạo\")\\n      * [SBT Lịch sử - Kết nối tri thức](https://loigiaihay.com/sbt-lich-su-8-ket-noi-tri-thuc-c2240.html \"SBT Lịch sử - Kết nối tri thức\")\\n      * [SBT Địa lí - Kết nối tri thức](https://loigiaihay.com/sbt-dia-li-8-ket-noi-tri-thuc-c2241.html \"SBT Địa lí - Kết nối tri thức\")\\n      * [SBT Lịch sử - Chân trời sáng tạo](https://loigiaihay.com/sbt-lich-su-8-chan-troi-sang-tao-c2255.html \"SBT Lịch sử - Chân trời sáng tạo\")\\n      * [SBT Địa lí - Chân trời sáng tạo](https://loigiaihay.com/sbt-dia-li-8-chan-troi-sang-tao-c2264.html \"SBT Địa lí - Chân trời sáng tạo\")\\n      * [SBT Lịch sử - Cánh diều](https://loigiaihay.com/sbt-lich-su-8-canh-dieu-c2265.html \"SBT Lịch sử - Cánh diều\")\\n      * [ >> Xem thêm ](https://loigiaihay.com/lop-8.html \"Xem thêm\")\\n    * ![](https://loigiaihay.com/themes/style/images/i-gdcd.png) GDCD 8\\n      * [Giáo dục công dân - Kết nối tri thức](https://loigiaihay.com/giao-duc-cong-dan-8-ket-noi-tri-thuc-c1592.html \"Giáo dục công dân - Kết nối tri thức\")\\n      * [Giáo dục công dân - Chân trời sáng tạo](https://loigiaihay.com/giao-duc-cong-dan-8-chan-troi-sang-tao-c1593.html \"Giáo dục công dân - Chân trời sáng tạo\")\\n      * [Giáo dục công dân - Cánh diều](https://loigiaihay.com/giao-duc-cong-dan-8-canh-dieu-c1594.html \"Giáo dục công dân - Cánh diều\")\\n      * [SBT GDCD - Kết nối tri thức](https://loigiaihay.com/sbt-gdcd-lop-8-ket-noi-tri-thuc-c2243.html \"SBT GDCD - Kết nối tri thức\")\\n      * [SBT GDCD - Chân trời sáng tạo](https://loigiaihay.com/sbt-gdcd-lop-8-chan-troi-sang-tao-c2244.html \"SBT GDCD - Chân trời sáng tạo\")\\n      * [SBT GDCD - Cánh diều](https://loigiaihay.com/sbt-gdcd-lop-8-canh-dieu-c2245.html \"SBT GDCD - Cánh diều\")\\n    * ![](https://loigiaihay.com/themes/style/images/i-cong-nghe.png) Công nghệ 8\\n      * [SGK Công nghệ - Kết nối tri thức](https://loigiaihay.com/sgk-cong-nghe-8-ket-noi-tri-thuc-c1529.html \"SGK Công nghệ - Kết nối tri thức\")\\n      * [SGK Công nghệ - Chân trời sáng tạo](https://loigiaihay.com/sgk-cong-nghe-8-chan-troi-sang-tao-c1531.html \"SGK Công nghệ - Chân trời sáng tạo\")\\n      * [SGK Công nghệ - Cánh diều](https://loigiaihay.com/sgk-cong-nghe-8-canh-dieu-c1526.html \"SGK Công nghệ - Cánh diều\")\\n      * [SBT Công nghệ - Kết nối tri thức](https://loigiaihay.com/sbt-cong-nghe-lop-8-ket-noi-tri-thuc-c2308.html \"SBT Công nghệ - Kết nối tri thức\")\\n      * [SBT Công nghệ - Chân trời sáng tạo](https://loigiaihay.com/sbt-cong-nghe-lop-8-chan-troi-sang-tao-c2309.html \"SBT Công nghệ - Chân trời sáng tạo\")\\n      * [SBT Công nghệ - Cánh diều](https://loigiaihay.com/sbt-cong-nghe-lop-8-canh-dieu-c2314.html \"SBT Công nghệ - Cánh diều\")\\n    * ![](https://loigiaihay.com/themes/style/images/i-tin.png) Tin học 8\\n      * [SGK Tin học - Kết nối tri thức](https://loigiaihay.com/sgk-tin-hoc-8-ket-noi-tri-thuc-c2219.html \"SGK Tin học - Kết nối tri thức\")\\n      * [SGK Tin học - Chân trời sáng tạo](https://loigiaihay.com/sgk-tin-hoc-8-chan-troi-sang-tao-c2220.html \"SGK Tin học - Chân trời sáng tạo\")\\n      * [SGK Tin học - Cánh diều](https://loigiaihay.com/sgk-tin-hoc-8-canh-dieu-c2221.html \"SGK Tin học - Cánh diều\")\\n      * [SBT Tin học - Kết nối tri thức](https://loigiaihay.com/sbt-tin-hoc-8-ket-noi-tri-thuc-c2267.html \"SBT Tin học - Kết nối tri thức\")\\n      * [SBT Tin học - Chân trời sáng tạo](https://loigiaihay.com/sbt-tin-hoc-8-chan-troi-sang-tao-c2276.html \"SBT Tin học - Chân trời sáng tạo\")\\n      * [SBT Tin học - Cánh diều](https://loigiaihay.com/sbt-tin-hoc-8-canh-dieu-c2277.html \"SBT Tin học - Cánh diều\")\\n    * ![](https://loigiaihay.com/themes/style/images/i-huong-nghiep.png) HĐ trải nghiệm, hướng nghiệp 8\\n      * [SGK Hoạt động trải nghiệm, hướng nghiệp - Kết nối tri thức](https://loigiaihay.com/sgk-hoat-dong-trai-nghiem-huong-nghiep-8-ket-noi-tri-thuc-c1489.html \"SGK Hoạt động trải nghiệm, hướng nghiệp - Kết nối tri thức\")\\n      * [SGK Hoạt động trải nghiệm, hướng nghiệp - Cánh diều](https://loigiaihay.com/sgk-hoat-dong-trai-nghiem-huong-nghiep-8-canh-dieu-c1499.html \"SGK Hoạt động trải nghiệm, hướng nghiệp - Cánh diều\")\\n      * [SGK Hoạt động trải nghiệm, hướng nghiệp - Chân trời sáng tạo Bản 1](https://loigiaihay.com/sgk-hoat-dong-trai-nghiem-huong-nghiep-8-chan-troi-sang-tao-c1505.html \"SGK Hoạt động trải nghiệm, hướng nghiệp - Chân trời sáng tạo Bản 1\")\\n      * [SGK Hoạt động trải nghiệm, hướng nghiệp - Chân trời sáng tạo Bản 2](https://loigiaihay.com/sgk-hoat-dong-trai-nghiem-huong-nghiep-8-chan-troi-sang-tao-ban-2-c1597.html \"SGK Hoạt động trải nghiệm, hướng nghiệp - Chân trời sáng tạo Bản 2\")\\n      * [SBT Hoạt động trải nghiệm - Kết nối tri thức](https://loigiaihay.com/sbt-hoat-dong-trai-nghiem-8-ket-noi-tri-thuc-c2358.html \"SBT Hoạt động trải nghiệm - Kết nối tri thức\")\\n      * [SBT Hoạt động trải nghiệm - Cánh diều](https://loigiaihay.com/sbt-hoat-dong-trai-nghiem-8-canh-dieu-c2359.html \"SBT Hoạt động trải nghiệm - Cánh diều\")\\n      * [SBT Hoạt động trải nghiệm - Chân trời sáng tạo (Bản 1) ](https://loigiaihay.com/sbt-hoat-dong-trai-nghiem-8-chan-troi-sang-tao-ban-1-c2383.html \"SBT Hoạt động trải nghiệm - Chân trời sáng tạo \\\\(Bản 1\\\\) \")\\n      * [SBT Hoạt động trải nghiệm - Chân trời sáng tạo (Bản 2)](https://loigiaihay.com/sbt-hoat-dong-trai-nghiem-8-chan-troi-sang-tao-ban-2-c2403.html \"SBT Hoạt động trải nghiệm - Chân trời sáng tạo \\\\(Bản 2\\\\)\")\\n    * ![](https://loigiaihay.com/themes/style/images/i-nhac.png) Âm nhạc 8\\n      * [SGK Âm nhạc - Kết nối tri thức](https://loigiaihay.com/sgk-am-nhac-8-ket-noi-tri-thuc-c1512.html \"SGK Âm nhạc - Kết nối tri thức\")\\n      * [SGK Âm nhạc - Chân trời sáng tạo](https://loigiaihay.com/sgk-am-nhac-8-chan-troi-sang-tao-c1513.html \"SGK Âm nhạc - Chân trời sáng tạo\")\\n      * [SGK Âm nhạc - Cánh diều](https://loigiaihay.com/sgk-am-nhac-8-canh-dieu-c1515.html \"SGK Âm nhạc - Cánh diều\")\\n    * ![](https://loigiaihay.com/themes/style/images/i-mythuat.png) Mỹ thuật 8\\n      * [SGK Mĩ thuật - Kết nối tri thức](https://loigiaihay.com/sgk-mi-thuat-8-ket-noi-tri-thuc-c1490.html \"SGK Mĩ thuật - Kết nối tri thức\")\\n      * [SGK Mĩ thuật - Chân trời sáng tạo bản 1](https://loigiaihay.com/sgk-mi-thuat-8-chan-troi-sang-tao-c1491.html \"SGK Mĩ thuật - Chân trời sáng tạo bản 1\")\\n      * [SGK Mĩ thuật - Cánh diều](https://loigiaihay.com/sgk-mi-thuat-8-canh-dieu-c1492.html \"SGK Mĩ thuật  - Cánh diều\")\\n      * [SGK Mĩ thuật - Chân trời sáng tạo bản 2](https://loigiaihay.com/sgk-mi-thuat-8-chan-troi-sang-tao-ban-2-c1598.html \"SGK Mĩ thuật - Chân trời sáng tạo bản 2\")\\n    * Giáo dục thể chất 8\\n      * [SGK Giáo dục thể chất - Kết nối tri thức](https://loigiaihay.com/sgk-giao-duc-the-chat-8-ket-noi-tri-thuc-c1498.html \"SGK Giáo dục thể chất - Kết nối tri thức\")\\n      * [SGK Giáo dục thể chất - Cánh diều](https://loigiaihay.com/sgk-giao-duc-the-chat-8-canh-dieu-c1504.html \"SGK Giáo dục thể chất - Cánh diều\")\\n      * [SGK Giáo dục thể chất - Chân trời sáng tạo](https://loigiaihay.com/sgk-giao-duc-the-chat-8-chan-troi-sang-tao-c1506.html \"SGK Giáo dục thể chất - Chân trời sáng tạo\")\\n    * Giáo dục địa phương 8\\n      * [Đề thi, đề kiểm tra Giáo dục địa phương](https://loigiaihay.com/de-thi-de-kiem-tra-giao-duc-dia-phuong-8-c2312.html \"Đề thi, đề kiểm tra Giáo dục địa phương\")\\n      * [Tài liệu Giáo dục địa phương ](https://loigiaihay.com/tai-lieu-giao-duc-dia-phuong-8-c2340.html \"Tài liệu Giáo dục địa phương \")\\n    * Đề thi, đề kiểm tra 8\\n      * [Tổng hợp đề thi, đề kiểm tra](https://loigiaihay.com/tong-hop-de-thi-de-kiem-tra-lop-8-c1226.html \"Tổng hợp đề thi, đề kiểm tra\")\\n  * [Lớp 7](https://loigiaihay.com/lop-7.html)\\n    * ![](https://loigiaihay.com/themes/style/images/i-van.png) Ngữ văn 7\\n      * [Soạn văn siêu ngắn - KNTT](https://loigiaihay.com/soan-van-7-ket-noi-tri-thuc-sieu-ngan-c830.html \"Soạn văn siêu ngắn - KNTT\")\\n      * [Soạn văn chi tiết - KNTT](https://loigiaihay.com/soan-van-7-ket-noi-tri-thuc-chi-tiet-c839.html \"Soạn văn chi tiết - KNTT\")\\n      * [Soạn văn siêu ngắn - CTST](https://loigiaihay.com/soan-van-7-chan-troi-sang-tao-sieu-ngan-c832.html \"Soạn văn siêu ngắn - CTST\")\\n      * [Soạn văn chi tiết - CTST](https://loigiaihay.com/soan-van-7-chan-troi-sang-tao-chi-tiet-c843.html \"Soạn văn chi tiết - CTST\")\\n      * [Soạn văn siêu ngắn - Cánh diều](https://loigiaihay.com/soan-van-7-canh-dieu-sieu-ngan-c835.html \"Soạn văn siêu ngắn - Cánh diều\")\\n      * [Soạn văn chi tiết - Cánh diều](https://loigiaihay.com/soan-van-7-canh-dieu-chi-tiet-c836.html \"Soạn văn chi tiết - Cánh diều\")\\n      * [Tác giả - Tác phẩm văn](https://loigiaihay.com/tac-gia-tac-pham-van-7-c875.html \"Tác giả - Tác phẩm văn\")\\n      * [Tóm tắt, bố cục Văn - Kết nối tri thức](https://loigiaihay.com/tom-tat-bo-cuc-van-7-ket-noi-tri-thuc-c2016.html \"Tóm tắt, bố cục Văn - Kết nối tri thức\")\\n      * [ >> Xem thêm ](https://loigiaihay.com/lop-7.html \"Xem thêm\")\\n    * ![](https://loigiaihay.com/themes/style/images/i-toan.png) Toán học 7\\n      * [SGK Toán - Kết nối tri thức](https://loigiaihay.com/sgk-toan-7-ket-noi-tri-thuc-c807.html \"SGK Toán - Kết nối tri thức\")\\n      * [SGK Toán - Chân trời sáng tạo](https://loigiaihay.com/sgk-toan-7-chan-troi-sang-tao-c808.html \"SGK Toán - Chân trời sáng tạo\")\\n      * [SGK Toán - Cánh diều](https://loigiaihay.com/sgk-toan-7-canh-dieu-c809.html \"SGK Toán - Cánh diều\")\\n      * [SBT Toán - Kết nối tri thức](https://loigiaihay.com/sach-bai-tap-toan-7-ket-noi-tri-thuc-c1004.html \"SBT Toán - Kết nối tri thức\")\\n      * [SBT Toán - Chân trời sáng tạo](https://loigiaihay.com/sach-bai-tap-toan-7-chan-troi-sang-tao-c1005.html \"SBT Toán - Chân trời sáng tạo\")\\n      * [SBT Toán - Cánh diều](https://loigiaihay.com/sach-bai-tap-toan-7-canh-dieu-c1006.html \"SBT Toán - Cánh diều\")\\n      * [Trắc nghiệm Toán - Kết nối tri thức](https://loigiaihay.com/v2/tu-luyen-trac-nghiem-toan-7-ket-noi-tri-thuc-c552.html \"Trắc nghiệm Toán - Kết nối tri thức\")\\n      * [Trắc nghiệm Toán- Chân trời sáng tạo](https://loigiaihay.com/v2/tu-luyen-trac-nghiem-toan-7-chan-troi-sang-tao-c951.html \"Trắc nghiệm Toán- Chân trời sáng tạo\")\\n      * [ >> Xem thêm ](https://loigiaihay.com/lop-7.html \"Xem thêm\")\\n    * ![](https://loigiaihay.com/themes/style/images/i-anh.png) Tiếng Anh 7\\n      * [Tiếng Anh - Global Success](https://loigiaihay.com/tieng-anh-lop-7-global-success-c139.html \"Tiếng Anh - Global Success\")\\n      * [Tiếng Anh - Friends Plus](https://loigiaihay.com/tieng-anh-7-friends-plus-c866.html \"Tiếng Anh - Friends Plus\")\\n      * [Tiếng Anh - iLearn Smart World](https://loigiaihay.com/tieng-anh-7-ilearn-smart-world-c903.html \"Tiếng Anh - iLearn Smart World\")\\n      * [Tiếng Anh - English Discovery](https://loigiaihay.com/tieng-anh-7-english-discovery-c909.html \"Tiếng Anh - English Discovery\")\\n      * [Tiếng Anh - Right on!](https://loigiaihay.com/tieng-anh-7-right-on-c916.html \"Tiếng Anh - Right on!\")\\n      * [SBT Global Success](https://loigiaihay.com/sbt-tieng-anh-7-global-success-ket-noi-tri-thuc-c1093.html \"SBT Global Success\")\\n      * [SBT Friends Plus](https://loigiaihay.com/sbt-tieng-anh-7-friends-plus-chan-troi-sang-tao-c1117.html \"SBT Friends Plus\")\\n      * [SBT iLearn Smart World](https://loigiaihay.com/sbt-tieng-anh-7-ilearn-smart-world-c1118.html \"SBT iLearn Smart World\")\\n      * [ >> Xem thêm ](https://loigiaihay.com/lop-7.html \"Xem thêm\")\\n    * ![](https://loigiaihay.com/themes/style/images/i-sinh.png) Khoa học tự nhiên 7\\n      * [SGK Khoa học tự nhiên - Kết nối tri thức](https://loigiaihay.com/sgk-khoa-hoc-tu-nhien-7-ket-noi-tri-thuc-c856.html \"SGK Khoa học tự nhiên - Kết nối tri thức\")\\n      * [SGK Khoa học tự nhiên - Chân trời sáng tạo](https://loigiaihay.com/sgk-khoa-hoc-tu-nhien-7-chan-troi-sang-tao-c857.html \"SGK Khoa học tự nhiên - Chân trời sáng tạo\")\\n      * [SGK Khoa học tự nhiên - Cánh diều](https://loigiaihay.com/sgk-khoa-hoc-tu-nhien-7-canh-dieu-c858.html \"SGK Khoa học tự nhiên - Cánh diều\")\\n      * [SBT KHTN - Kết nối tri thức](https://loigiaihay.com/sbt-khtn-lop-7-ket-noi-tri-thuc-c1091.html \"SBT KHTN - Kết nối tri thức\")\\n      * [SBT KHTN - Chân trời sáng tạo](https://loigiaihay.com/sbt-khtn-lop-7-chan-troi-sang-tao-c1092.html \"SBT KHTN - Chân trời sáng tạo\")\\n      * [SBT KHTN - Cánh diều](https://loigiaihay.com/sbt-khtn-lop-7-canh-dieu-c1129.html \"SBT KHTN - Cánh diều\")\\n      * [Trắc nghiệm KHTN - Kết nối tri thức](https://loigiaihay.com/v2/tu-luyen-trac-nghiem-khtn-7-ket-noi-tri-thuc-c953.html \"Trắc nghiệm KHTN  - Kết nối tri thức\")\\n      * [Bài tập trắc nghiệm Khoa học tự nhiên - Kết nối tri thức](https://loigiaihay.com/bai-tap-trac-nghiem-khoa-hoc-tu-nhien-7-ket-noi-tri-thuc-c1269.html \"Bài tập trắc nghiệm Khoa học tự nhiên - Kết nối tri thức\")\\n      * [ >> Xem thêm ](https://loigiaihay.com/lop-7.html \"Xem thêm\")\\n    * ![](https://loigiaihay.com/themes/style/images/i-su.png) Lịch sử và Địa lí 7\\n      * [SGK Lịch sử và Địa lí - Kết nối tri thức](https://loigiaihay.com/sgk-lich-su-va-dia-li-lop-7-ket-noi-tri-thuc-c829.html \"SGK Lịch sử và Địa lí - Kết nối tri thức\")\\n      * [SGK Lịch sử và Địa lí - Chân trời sáng tạo](https://loigiaihay.com/sgk-lich-su-va-dia-li-lop-7-chan-troi-sang-tao-c825.html \"SGK Lịch sử và Địa lí - Chân trời sáng tạo\")\\n      * [SGK Lịch sử và Địa lí - Cánh Diều](https://loigiaihay.com/sgk-lich-su-va-dia-li-lop-7-canh-dieu-c845.html \"SGK Lịch sử và Địa lí - Cánh Diều\")\\n      * [SBT Lịch sử và Địa lí - Kết nối tri thức](https://loigiaihay.com/sbt-lich-su-va-dia-li-7-ket-noi-tri-thuc-c1095.html \"SBT Lịch sử và Địa lí - Kết nối tri thức\")\\n      * [SBT Lịch sử và Địa lí - Chân trời sáng tạo](https://loigiaihay.com/sbt-lich-su-va-dia-li-7-chan-troi-sang-tao-c1096.html \"SBT Lịch sử và Địa lí - Chân trời sáng tạo\")\\n      * [SBT Lịch sử và Địa lí - Cánh diều](https://loigiaihay.com/sbt-lich-su-va-dia-li-7-canh-dieu-c1351.html \"SBT Lịch sử và Địa lí - Cánh diều\")\\n      * [Trắc nghiệm Lịch sử và Địa lí - Kết nối tri thức](https://loigiaihay.com/v2/tu-luyen-trac-nghiem-lich-su-va-dia-li-7-ket-noi-tri-thuc-c983.html \"Trắc nghiệm Lịch sử và Địa lí - Kết nối tri thức\")\\n      * [Trắc nghiệm Lịch sử và Địa lí - Chân trời sáng tạo](https://loigiaihay.com/v2/tu-luyen-trac-nghiem-lich-su-va-dia-li-7-chan-troi-sang-tao-c984.html \"Trắc nghiệm Lịch sử và Địa lí - Chân trời sáng tạo\")\\n      * [ >> Xem thêm ](https://loigiaihay.com/lop-7.html \"Xem thêm\")\\n    * ![](https://loigiaihay.com/themes/style/images/i-tin.png) Tin học 7\\n      * [SGK Tin học - Kết nối tri thức](https://loigiaihay.com/sgk-tin-hoc-7-ket-noi-tri-thuc-c896.html \"SGK Tin học - Kết nối tri thức\")\\n      * [SGK Tin học - Cánh Diều](https://loigiaihay.com/sgk-tin-hoc-7-canh-dieu-c907.html \"SGK Tin học - Cánh Diều\")\\n      * [SGK Tin học - Chân trời sáng tạo](https://loigiaihay.com/sgk-tin-hoc-7-chan-troi-sang-tao-c895.html \"SGK Tin học - Chân trời sáng tạo\")\\n      * [SBT Tin học - Kết nối tri thức](https://loigiaihay.com/sbt-tin-hoc-7-ket-noi-tri-thuc-c1157.html \"SBT Tin học - Kết nối tri thức\")\\n      * [SBT Tin học - Chân trời sáng tạo](https://loigiaihay.com/sbt-tin-hoc-7-chan-troi-sang-tao-c2278.html \"SBT Tin học - Chân trời sáng tạo\")\\n      * [SBT Tin học - Cánh diều](https://loigiaihay.com/sbt-tin-hoc-7-canh-dieu-c2279.html \"SBT Tin học - Cánh diều\")\\n    * ![](https://loigiaihay.com/themes/style/images/i-cong-nghe.png) Công nghệ 7\\n      * [SGK Công nghệ - Kết nối tri thức](https://loigiaihay.com/sgk-cong-nghe-7-ket-noi-tri-thuc-c892.html \"SGK Công nghệ - Kết nối tri thức\")\\n      * [SGK Công nghệ - Chân trời sáng tạo](https://loigiaihay.com/sgk-cong-nghe-7-chan-troi-sang-tao-c901.html \"SGK Công nghệ - Chân trời sáng tạo\")\\n      * [SGK Công nghệ - Cánh diều](https://loigiaihay.com/sgk-cong-nghe-7-canh-dieu-c902.html \"SGK Công nghệ - Cánh diều\")\\n      * [SBT Công nghệ - Kết nối tri thức ](https://loigiaihay.com/sbt-cong-nghe-7-ket-noi-tri-thuc-c2353.html \"SBT Công nghệ - Kết nối tri thức \")\\n      * [SBT Công nghệ - Chân trời sáng tạo](https://loigiaihay.com/sbt-cong-nghe-7-chan-troi-sang-tao-c2354.html \"SBT Công nghệ - Chân trời sáng tạo\")\\n      * [SBT Công nghệ - Cánh diều](https://loigiaihay.com/sbt-cong-nghe-7-canh-dieu-c2355.html \"SBT Công nghệ - Cánh diều\")\\n    * ![](https://loigiaihay.com/themes/style/images/i-gdcd.png) GDCD 7\\n      * [SGK GDCD - KNTT](https://loigiaihay.com/sgk-giao-duc-cong-dan-7-ket-noi-tri-thuc-c924.html \"SGK GDCD - KNTT\")\\n      * [SGK GDCD - CTST](https://loigiaihay.com/sgk-giao-duc-cong-dan-7-chan-troi-sang-tao-c925.html \"SGK GDCD - CTST\")\\n      * [SGK GDCD - Cánh diều](https://loigiaihay.com/sgk-giao-duc-cong-dan-7-canh-dieu-c926.html \"SGK GDCD - Cánh diều\")\\n      * [Bài tập tình huống GDCD](https://loigiaihay.com/bai-tap-tinh-huong-giao-duc-cong-dan-7-c470.html \"Bài tập tình huống GDCD\")\\n      * [SBT GDCD - Kết nối tri thức](https://loigiaihay.com/sbt-gdcd-lop-7-ket-noi-tri-thuc-c2290.html \"SBT GDCD - Kết nối tri thức\")\\n      * [SBT GDCD - Chân trời sáng tạo](https://loigiaihay.com/sbt-gdcd-lop-7-chan-troi-sang-tao-c2291.html \"SBT GDCD - Chân trời sáng tạo\")\\n      * [SBT GDCD - Cánh diều](https://loigiaihay.com/sbt-gdcd-lop-7-canh-dieu-c2293.html \"SBT GDCD - Cánh diều\")\\n    * ![](https://loigiaihay.com/themes/style/images/i-huong-nghiep.png) HĐ trải nghiệm, hướng nghiệp 7\\n      * [SBT Hoạt động trải nghiệm - Chân trời sáng tạo (Bản 1)](https://loigiaihay.com/sbt-hoat-dong-trai-nghiem-7-chan-troi-sang-tao-c2379.html \"SBT Hoạt động trải nghiệm - Chân trời sáng tạo \\\\(Bản 1\\\\)\")\\n      * [SGK Hoạt động trải nghiệm, hướng nghiệp - Kết nối tri thức](https://loigiaihay.com/sgk-hoat-dong-trai-nghiem-huong-nghiep-7-ket-noi-tri-thuc-c930.html \"SGK Hoạt động trải nghiệm, hướng nghiệp - Kết nối tri thức\")\\n      * [SGK Hoạt động trải nghiệm, hướng nghiệp - Cánh Diều](https://loigiaihay.com/sgk-hoat-dong-trai-nghiem-huong-nghiep-7-canh-dieu-c920.html \"SGK Hoạt động trải nghiệm, hướng nghiệp - Cánh Diều\")\\n      * [SGK Hoạt động trải nghiệm, hướng nghiệp - Chân trời sáng tạo](https://loigiaihay.com/sgk-hoat-dong-trai-nghiem-huong-nghiep-7-chan-troi-sang-tao-c1130.html \"SGK Hoạt động trải nghiệm, hướng nghiệp - Chân trời sáng tạo\")\\n      * [SBT Hoạt động trải nghiệm - Cánh diều](https://loigiaihay.com/sbt-hoat-dong-trai-nghiem-7-canh-dieu-c2360.html \"SBT Hoạt động trải nghiệm - Cánh diều\")\\n      * [SBT Hoạt động trải nghiệm - Kết nối tri thức](https://loigiaihay.com/sbt-hoat-dong-trai-nghiem-7-ket-noi-tri-thuc-c2376.html \"SBT Hoạt động trải nghiệm - Kết nối tri thức\")\\n      * [SBT Hoạt động trải nghiệm - Chân trời sáng tạo (Bản 2) ](https://loigiaihay.com/sbt-hoat-dong-trai-nghiem-7-chan-troi-sang-tao-ban-2-c2404.html \"SBT Hoạt động trải nghiệm - Chân trời sáng tạo \\\\(Bản 2\\\\) \")\\n    * ![](https://loigiaihay.com/themes/style/images/i-nhac.png) Âm nhạc 7\\n      * [Âm nhạc - Kết nối tri thức](https://loigiaihay.com/sgk-am-nhac-7-ket-noi-tri-thuc-c911.html \"Âm nhạc - Kết nối tri thức\")\\n      * [Âm nhạc - Chân trời sáng tạo](https://loigiaihay.com/sgk-am-nhac-7-chan-troi-sang-tao-c913.html \"Âm nhạc - Chân trời sáng tạo\")\\n      * [Âm nhạc - Cánh diều](https://loigiaihay.com/sgk-am-nhac-7-canh-dieu-c912.html \"Âm nhạc - Cánh diều\")\\n    * Giáo dục địa phương 7\\n      * [Đề thi, đề kiểm tra Giáo dục địa phương 7](https://loigiaihay.com/de-thi-de-kiem-tra-giao-duc-dia-phuong-7-c2307.html \"Đề thi, đề kiểm tra Giáo dục địa phương 7\")\\n      * [Tài liệu Giáo dục địa phương](https://loigiaihay.com/tai-lieu-giao-duc-dia-phuong-7-c2316.html \"Tài liệu Giáo dục địa phương\")\\n    * Đề thi, đề kiểm tra 7\\n      * [Tổng hợp đề thi, đề kiểm tra](https://loigiaihay.com/tong-hop-de-thi-de-kiem-tra-lop-7-c1230.html \"Tổng hợp đề thi, đề kiểm tra\")\\n  * [Lớp 6](https://loigiaihay.com/lop-6.html)\\n    * ![](https://loigiaihay.com/themes/style/images/i-van.png) Ngữ văn 6\\n      * [Soạn văn siêu ngắn - KNTT](https://loigiaihay.com/soan-van-6-ket-noi-tri-thuc-voi-cuoc-song-sieu-ngan-c632.html \"Soạn văn siêu ngắn - KNTT\")\\n      * [Soạn văn chi tiết - KNTT](https://loigiaihay.com/soan-van-6-ket-noi-tri-thuc-voi-cuoc-song-chi-tiet-c630.html \"Soạn văn chi tiết - KNTT\")\\n      * [Soạn văn siêu ngắn - CTST](https://loigiaihay.com/soan-van-6-chan-troi-sang-tao-sieu-ngan-c627.html \"Soạn văn siêu ngắn - CTST\")\\n      * [Soạn văn chi tiết - CTST](https://loigiaihay.com/soan-van-6-chan-troi-sang-tao-chi-tiet-c629.html \"Soạn văn chi tiết - CTST\")\\n      * [Soạn văn siêu ngắn - Cánh diều](https://loigiaihay.com/soan-van-6-canh-dieu-sieu-ngan-c633.html \"Soạn văn siêu ngắn - Cánh diều\")\\n      * [Soạn văn chi tiết - Cánh diều](https://loigiaihay.com/soan-van-6-canh-dieu-chi-tiet-c635.html \"Soạn văn chi tiết - Cánh diều\")\\n      * [Tác giả - Tác phẩm văn](https://loigiaihay.com/tac-gia-tac-pham-van-6-sgk-moi-c653.html \"Tác giả - Tác phẩm văn\")\\n      * [Tóm tắt, bố cục Văn - Kết nối tri thức](https://loigiaihay.com/tom-tat-bo-cuc-van-6-ket-noi-tri-thuc-c2013.html \"Tóm tắt, bố cục Văn - Kết nối tri thức\")\\n      * [ >> Xem thêm ](https://loigiaihay.com/lop-6.html \"Xem thêm\")\\n    * ![](https://loigiaihay.com/themes/style/images/i-toan.png) Toán học 6\\n      * [SGK Toán - Kết nối tri thức](https://loigiaihay.com/toan-lop-6-ket-noi-tri-thuc-voi-cuoc-song-c643.html \"SGK Toán - Kết nối tri thức\")\\n      * [SGK Toán - Chân trời sáng tạo](https://loigiaihay.com/toan-lop-6-chan-troi-sang-tao-c641.html \"SGK Toán - Chân trời sáng tạo\")\\n      * [SGK Toán - Cánh diều](https://loigiaihay.com/toan-lop-6-canh-dieu-c642.html \"SGK Toán - Cánh diều\")\\n      * [SBT Toán - Kết nối tri thức](https://loigiaihay.com/sach-bai-tap-toan-6-ket-noi-tri-thuc-c663.html \"SBT Toán - Kết nối tri thức\")\\n      * [SBT Toán - Chân trời sáng tạo](https://loigiaihay.com/sach-bai-tap-toan-lop-6-chan-troi-sang-tao-c662.html \"SBT Toán - Chân trời sáng tạo\")\\n      * [SBT Toán - Cánh diều](https://loigiaihay.com/sach-bai-tap-toan-6-canh-dieu-c675.html \"SBT Toán - Cánh diều\")\\n      * [Trắc nghiệm Toán - Kết nối tri thức](https://loigiaihay.com/v2/tu-luyen-trac-nghiem-toan-6-ket-noi-tri-thuc-c553.html \"Trắc nghiệm Toán - Kết nối tri thức\")\\n      * [Trắc nghiệm Toán - Chân trời sáng tạo](https://loigiaihay.com/v2/tu-luyen-trac-nghiem-toan-6-chan-troi-sang-tao-c778.html \"Trắc nghiệm Toán - Chân trời sáng tạo\")\\n      * [ >> Xem thêm ](https://loigiaihay.com/lop-6.html \"Xem thêm\")\\n    * ![](https://loigiaihay.com/themes/style/images/i-anh.png) Tiếng Anh 6\\n      * [Global Success (Pearson)](https://loigiaihay.com/tieng-anh-6-Global-Success-ket-noi-tri-thuc-c645.html \"Global Success \\\\(Pearson\\\\)\")\\n      * [Tiếng Anh - Friends plus](https://loigiaihay.com/tieng-anh-6-chan-troi-sang-tao-friends-plus-c644.html \"Tiếng Anh - Friends plus\")\\n      * [Tiếng Anh - iLearn Smart World](https://loigiaihay.com/tieng-anh-6-ilearn-smart-world-c647.html \"Tiếng Anh - iLearn Smart World\")\\n      * [Tiếng Anh - Right on](https://loigiaihay.com/tieng-anh-6-right-on-c649.html \"Tiếng Anh - Right on\")\\n      * [Tiếng Anh - English Discovery](https://loigiaihay.com/tieng-anh-6-english-discovery-c648.html \"Tiếng Anh - English Discovery\")\\n      * [Tiếng Anh - Explore English](https://loigiaihay.com/tieng-anh-6-canh-dieu-explore-english-c646.html \"Tiếng Anh - Explore English\")\\n      * [SBT Global Success](https://loigiaihay.com/sbt-tieng-ang-6-global-success-c688.html \"SBT Global Success\")\\n      * [SBT Friends Plus](https://loigiaihay.com/sbt-tieng-anh-6-friends-plus-c689.html \"SBT Friends Plus\")\\n      * [ >> Xem thêm ](https://loigiaihay.com/lop-6.html \"Xem thêm\")\\n    * ![](https://loigiaihay.com/themes/style/images/i-sinh.png) Khoa học tự nhiên 6\\n      * [SGK KHTN - Kết nối tri thức](https://loigiaihay.com/khoa-hoc-tu-nhien-lop-6-ket-noi-tri-thuc-voi-cuoc-song-c615.html \"SGK KHTN - Kết nối tri thức\")\\n      * [ SGK KHTN - Chân trời sáng tạo](https://loigiaihay.com/khoa-hoc-tu-nhien-lop-6-chan-troi-sang-tao-c616.html \" SGK KHTN - Chân trời sáng tạo\")\\n      * [SGK KHTN - Cánh Diều](https://loigiaihay.com/khoa-hoc-tu-nhien-lop-6-canh-dieu-c610.html \"SGK KHTN - Cánh Diều\")\\n      * [SBT KHTN - Kết nối tri thức](https://loigiaihay.com/sach-bai-tap-khoa-hoc-tu-nhien-lop-6-kntt-c665.html \"SBT KHTN - Kết nối tri thức\")\\n      * [SBT KHTN - Chân trời sáng tạo](https://loigiaihay.com/sach-bai-tap-khoa-hoc-tu-nhien-lop-6-ctst-c660.html \"SBT KHTN - Chân trời sáng tạo\")\\n      * [SBT KHTN - Cánh Diều](https://loigiaihay.com/sach-bai-tap-khoa-hoc-tu-nhien-lop-6-cd-c678.html \"SBT KHTN - Cánh Diều\")\\n      * [Trắc nghiệm KHTN - Kết nối tri thức](https://loigiaihay.com/v2/tu-luyen-trac-nghiem-khtn-6-ket-noi-tri-thuc-c772.html \"Trắc nghiệm KHTN - Kết nối tri thức\")\\n      * [Trắc nghiệm KHTN - Chân trời sáng tạo](https://loigiaihay.com/v2/tu-luyen-trac-nghiem-khtn-6-chan-troi-sang-tao-c774.html \"Trắc nghiệm KHTN - Chân trời sáng tạo\")\\n      * [ >> Xem thêm ](https://loigiaihay.com/lop-6.html \"Xem thêm\")\\n    * ![](https://loigiaihay.com/themes/style/images/i-su.png) Lịch sử và Địa lí 6\\n      * [SGK Lịch sử và Địa lí - KNTT](https://loigiaihay.com/lich-su-va-dia-li-lop-6-ket-noi-tri-thuc-c618.html \"SGK Lịch sử và Địa lí - KNTT\")\\n      * [SGK Lịch sử và Địa lí - CTST](https://loigiaihay.com/lich-su-va-dia-li-lop-6-chan-troi-sang-tao-c617.html \"SGK Lịch sử và Địa lí - CTST\")\\n      * [SGK Lịch sử và Địa lí - Cánh Diều](https://loigiaihay.com/lich-su-va-dia-li-lop-6-canh-dieu-c620.html \"SGK Lịch sử và Địa lí - Cánh Diều\")\\n      * [SBT Lịch sử và Địa lí - KNTT](https://loigiaihay.com/sach-bai-tap-lich-su-va-dia-li-6-ket-noi-tri-thuc-c658.html \"SBT Lịch sử và Địa lí - KNTT\")\\n      * [SBT Lịch sử và Địa lí - CTST](https://loigiaihay.com/sach-bai-tap-lich-su-va-dia-li-lop-6-chan-troi-sang-tao-c657.html \"SBT Lịch sử và Địa lí - CTST\")\\n      * [SBT Lịch sử và Địa lí - Cánh diều](https://loigiaihay.com/sach-bai-tap-lich-su-va-dia-li-lop-6-canh-dieu-c676.html \"SBT Lịch sử và Địa lí - Cánh diều\")\\n      * [Trắc nghiệm Lịch sử và Địa Lí - KNTT](https://loigiaihay.com/v2/tu-luyen-trac-nghiem-su-6-c564.html \"Trắc nghiệm Lịch sử và Địa Lí - KNTT\")\\n      * [Trắc nghiệm Lịch Sử và Địa Lí - CTST](https://loigiaihay.com/v2/tu-luyen-trac-nghiem-lich-su-va-dia-li-6-ctst-c796.html \"Trắc nghiệm Lịch Sử và Địa Lí - CTST\")\\n      * [ >> Xem thêm ](https://loigiaihay.com/lop-6.html \"Xem thêm\")\\n    * ![](https://loigiaihay.com/themes/style/images/i-gdcd.png) GDCD 6\\n      * [SGK GDCD - KNTT](https://loigiaihay.com/sgk-giao-duc-cong-dan-lop-6-ket-noi-tri-thuc-c654.html \"SGK GDCD - KNTT\")\\n      * [SGK GDCD - CTST](https://loigiaihay.com/sgk-gdcd-lop-6-chan-troi-sang-tao-c655.html \"SGK GDCD - CTST\")\\n      * [SGK GDCD - Cánh Diều](https://loigiaihay.com/sgk-gdcd-lop-6-canh-dieu-c667.html \"SGK GDCD - Cánh Diều\")\\n      * [SBT GDCD - Kết nối tri thức](https://loigiaihay.com/sbt-gdcd-lop-6-ket-noi-tri-thuc-c731.html \"SBT GDCD - Kết nối tri thức\")\\n      * [SBT GDCD - Chân trời sáng tạo](https://loigiaihay.com/sbt-gdcd-lop-6-chan-troi-sang-tao-c732.html \"SBT GDCD - Chân trời sáng tạo\")\\n      * [SBT GDCD - Cánh diều](https://loigiaihay.com/sbt-gdcd-lop-6-canh-dieu-c733.html \"SBT GDCD - Cánh diều\")\\n    * ![](https://loigiaihay.com/themes/style/images/i-cong-nghe.png) Công nghệ 6\\n      * [Công nghệ - Kết nối tri thức](https://loigiaihay.com/cong-nghe-lop-6-ket-noi-tri-thuc-c713.html \"Công nghệ - Kết nối tri thức\")\\n      * [Công nghệ - Cánh Diều](https://loigiaihay.com/cong-nghe-lop-6-canh-dieu-c696.html \"Công nghệ - Cánh Diều\")\\n      * [Công nghệ - Chân trời sáng tạo](https://loigiaihay.com/cong-nghe-lop-6-chan-troi-sang-tao-c705.html \"Công nghệ - Chân trời sáng tạo\")\\n      * [SBT Công nghệ - Kết nối tri thức](https://loigiaihay.com/sbt-cong-nghe-lop-6-ket-noi-tri-thuc-c724.html \"SBT Công nghệ - Kết nối tri thức\")\\n      * [ SBT Công nghệ - Cánh diều](https://loigiaihay.com/sbt-cong-nghe-lop-6-canh-dieu-c738.html \" SBT Công nghệ - Cánh diều\")\\n      * [SBT Công nghệ - Chân trời sáng tạo](https://loigiaihay.com/sbt-cong-nghe-lop-6-chan-troi-sang-tao-c737.html \"SBT Công nghệ - Chân trời sáng tạo\")\\n    * ![](https://loigiaihay.com/themes/style/images/i-tin.png) Tin học 6\\n      * [Tin học - Kết nối tri thức + chân trời sáng tạo](https://loigiaihay.com/tin-hoc-lop-6-ket-noi-tri-thuc-c697.html \"Tin học - Kết nối tri thức + chân trời sáng tạo\")\\n      * [Tin học - Cánh Diều](https://loigiaihay.com/tin-hoc-lop-6-canh-dieu-c708.html \"Tin học - Cánh Diều\")\\n      * [SBT Tin học - Kết nối tri thức](https://loigiaihay.com/sbt-tin-hoc-lop-6-ket-noi-tri-thuc-c707.html \"SBT Tin học - Kết nối tri thức\")\\n      * [SBT Tin học - Cánh Diều](https://loigiaihay.com/sbt-tin-hoc-lop-6-canh-dieu-c714.html \"SBT Tin học - Cánh Diều\")\\n    * ![](https://loigiaihay.com/themes/style/images/i-huong-nghiep.png) HĐ trải nghiệm, hướng nghiệp 6\\n      * [SGK Trải nghiệm, hướng nghiệp - Kết nối tri thức](https://loigiaihay.com/hoat-dong-trai-nghiem-huong-nghiep-lop-6-ket-noi-tri-thuc-c698.html \"SGK Trải nghiệm, hướng nghiệp - Kết nối tri thức\")\\n      * [SGK Trải nghiệm, hướng nghiệp - Chân trời sáng tạo](https://loigiaihay.com/hoat-dong-trai-nghiem-huong-nghiep-lop-6-chan-troi-sang-tao-c699.html \"SGK Trải nghiệm, hướng nghiệp - Chân trời sáng tạo\")\\n      * [SGK Trải nghiệm, hướng nghiệp - Cánh diều](https://loigiaihay.com/hoat-dong-trai-nghiem-huong-nghiep-lop-6-canh-dieu-c700.html \"SGK Trải nghiệm, hướng nghiệp - Cánh diều\")\\n      * [SBT Trải nghiệm, hướng nghiệp - Kết nối tri thức](https://loigiaihay.com/sbt-hoat-dong-trai-nghiem-huong-nghiep-lop-6-ket-noi-tri-thuc-c729.html \"SBT Trải nghiệm, hướng nghiệp - Kết nối tri thức\")\\n      * [SBT Trải nghiệm, hướng nghiệp - Chân trời sáng tạo](https://loigiaihay.com/sbt-hoat-dong-trai-nghiem-huong-nghiep-lop-6-chan-troi-sang-tao-c728.html \"SBT Trải nghiệm, hướng nghiệp - Chân trời sáng tạo\")\\n      * [Thực hành Trải nghiệm, hướng nghiệp - Cánh diều](https://loigiaihay.com/thuc-hanh-hoat-dong-trai-nghiem-huong-nghiep-lop-6-canh-dieu-c730.html \"Thực hành Trải nghiệm, hướng nghiệp - Cánh diều\")\\n    * ![](https://loigiaihay.com/themes/style/images/i-nhac.png) Âm nhạc 6\\n      * [Âm nhạc - Kết nối tri thức](https://loigiaihay.com/am-nhac-lop-6-ket-noi-tri-thuc-c715.html \"Âm nhạc - Kết nối tri thức\")\\n      * [Âm nhạc - Cánh Diều](https://loigiaihay.com/am-nhac-lop-6-canh-dieu-c709.html \"Âm nhạc - Cánh Diều\")\\n      * [Âm nhạc: Chân trời sáng tạo](https://loigiaihay.com/am-nhac-lop-6-chan-troi-sang-tao-c740.html \"Âm nhạc: Chân trời sáng tạo\")\\n    * ![](https://loigiaihay.com/themes/style/images/i-mythuat.png) Mỹ thuật 6\\n      * [Mĩ thuật - Kết nối tri thức](https://loigiaihay.com/mi-thuat-lop-6-ket-noi-tri-thuc-c706.html \"Mĩ thuật - Kết nối tri thức\")\\n      * [Mĩ thuật - Chân trời sáng tạo](https://loigiaihay.com/mi-thuat-lop-6-chan-troi-sang-tao-c725.html \"Mĩ thuật - Chân trời sáng tạo\")\\n      * [Mĩ thuật - Cánh diều](https://loigiaihay.com/mi-thuat-lop-6-canh-dieu-c726.html \"Mĩ thuật - Cánh diều\")\\n    * Giáo dục địa phương 6\\n      * [Đề thi, đề kiểm tra Giáo dục địa phương](https://loigiaihay.com/de-thi-de-kiem-tra-giao-duc-dia-phuong-6-c2306.html \"Đề thi, đề kiểm tra Giáo dục địa phương\")\\n      * [Tài liệu Giáo dục địa phương ](https://loigiaihay.com/tai-lieu-giao-duc-dia-phuong-6-c2315.html \"Tài liệu Giáo dục địa phương \")\\n    * Đề thi, đề kiểm tra 6\\n      * [Tổng hợp đề thi, đề kiểm tra](https://loigiaihay.com/tong-hop-de-thi-de-kiem-tra-lop-6-c1232.html \"Tổng hợp đề thi, đề kiểm tra\")\\n  * [Lớp 5](https://loigiaihay.com/lop-5.html)\\n    * ![](https://loigiaihay.com/themes/style/images/i-toan.png) Toán học 5\\n      * [SGK Toán - Kết nối tri thức](https://loigiaihay.com/sgk-toan-5-ket-noi-tri-thuc-c1728.html \"SGK Toán - Kết nối tri thức\")\\n      * [SGK Toán - Chân trời sáng tạo](https://loigiaihay.com/sgk-toan-5-chan-troi-sang-tao-c1729.html \"SGK Toán - Chân trời sáng tạo\")\\n      * [SGK Toán - Cánh diều](https://loigiaihay.com/sgk-toan-5-canh-dieu-c1730.html \"SGK Toán - Cánh diều\")\\n      * [SGK Toán - Bình Minh](https://loigiaihay.com/sgk-toan-5-binh-minh-c1731.html \"SGK Toán - Bình Minh\")\\n      * [VBT Toán - Kết nối tri thức](https://loigiaihay.com/vo-bai-tap-toan-lop-5-ket-noi-tri-thuc-c1950.html \"VBT Toán - Kết nối tri thức\")\\n      * [VBT Toán - Cánh diều](https://loigiaihay.com/vo-bai-tap-toan-lop-5-canh-dieu-c1872.html \"VBT Toán - Cánh diều\")\\n      * [Trắc nghiệm Toán - Kết nối tri thức](https://loigiaihay.com/v2/tu-luyen-trac-nghiem-toan-lop-5-ket-noi-tri-thuc-c1951.html \"Trắc nghiệm Toán - Kết nối tri thức\")\\n      * [Trắc nghiệm Toán - Chân trời sáng tạo](https://loigiaihay.com/v2/tu-luyen-trac-nghiem-toan-lop-5-chan-troi-sang-tao-c1952.html \"Trắc nghiệm Toán - Chân trời sáng tạo\")\\n      * [ >> Xem thêm ](https://loigiaihay.com/lop-5.html \"Xem thêm\")\\n    * ![](https://loigiaihay.com/themes/style/images/i-van.png) Tiếng việt 5\\n      * [Tiếng Việt - Kết nối tri thức](https://loigiaihay.com/tieng-viet-5-ket-noi-tri-thuc-c1786.html \"Tiếng Việt - Kết nối tri thức\")\\n      * [Tiếng Việt - Chân trời sáng tạo](https://loigiaihay.com/tieng-viet-5-chan-troi-sang-tao-c1787.html \"Tiếng Việt - Chân trời sáng tạo\")\\n      * [Tiếng Việt - Cánh diều](https://loigiaihay.com/tieng-viet-5-canh-dieu-c1788.html \"Tiếng Việt - Cánh diều\")\\n      * [VBT Tiếng Việt - Kết nối tri thức](https://loigiaihay.com/vo-bai-tap-tieng-viet-lop-5-ket-noi-tri-thuc-c1945.html \"VBT Tiếng Việt - Kết nối tri thức\")\\n      * [VBT Tiếng Việt - Chân trời sáng tạo](https://loigiaihay.com/vo-bai-tap-tieng-viet-lop-5-chan-troi-sang-tao-c1981.html \"VBT Tiếng Việt - Chân trời sáng tạo\")\\n      * [VBT Tiếng Việt - Cánh diều](https://loigiaihay.com/vo-bai-tap-tieng-viet-lop-5-canh-dieu-c1897.html \"VBT Tiếng Việt - Cánh diều\")\\n      * [Văn mẫu lớp 5](https://loigiaihay.com/van-mau-lop-5-c329.html \"Văn mẫu lớp 5\")\\n      * [Đề thi, đề kiểm tra Tiếng Việt - Kết nối tri thức](https://loigiaihay.com/de-thi-de-kiem-tra-tieng-viet-lop-5-ket-noi-tri-thuc-c1994.html \"Đề thi, đề kiểm tra Tiếng Việt - Kết nối tri thức\")\\n      * [ >> Xem thêm ](https://loigiaihay.com/lop-5.html \"Xem thêm\")\\n    * ![](https://loigiaihay.com/themes/style/images/i-anh.png) Tiếng Anh 5\\n      * [Tiếng Anh - Global Success ](https://loigiaihay.com/tieng-anh-5-global-success-c1762.html \"Tiếng Anh - Global Success \")\\n      * [Tiếng Anh - Family and Friends](https://loigiaihay.com/tieng-anh-5-family-and-friends-c1763.html \"Tiếng Anh - Family and Friends\")\\n      * [Tiếng Anh - iLearn Smart Start](https://loigiaihay.com/tieng-anh-5-ilearn-smart-start-c1764.html \"Tiếng Anh - iLearn Smart Start\")\\n      * [Tiếng Anh - Explore Our World](https://loigiaihay.com/tieng-anh-5-explore-our-world-c1765.html \"Tiếng Anh - Explore Our World\")\\n      * [Tiếng Anh - Phonics Smart](https://loigiaihay.com/tieng-anh-5-phonics-smart-c1766.html \"Tiếng Anh - Phonics Smart\")\\n      * [SBT Tiếng Anh - Global Success](https://loigiaihay.com/sach-bai-tap-tieng-anh-5-global-success-c1867.html \"SBT Tiếng Anh - Global Success\")\\n      * [SBT Tiếng Anh - Family and Friends](https://loigiaihay.com/sach-bai-tap-tieng-anh-lop-5-family-and-friends-c1868.html \"SBT Tiếng Anh - Family and Friends\")\\n      * [SBT Tiếng Anh - iLearn Smart Start](https://loigiaihay.com/sach-bai-tap-tieng-anh-lop-5-ilearn-smart-start-c1869.html \"SBT Tiếng Anh - iLearn Smart Start\")\\n      * [ >> Xem thêm ](https://loigiaihay.com/lop-5.html \"Xem thêm\")\\n    * ![](https://loigiaihay.com/themes/style/images/i-su.png) Lịch sử và Địa lí 5\\n      * [SGK Lịch sử và Địa lí - Kết nối tri thức](https://loigiaihay.com/sgk-lich-su-va-dia-li-lop-5-ket-noi-tri-thuc-c1830.html \"SGK Lịch sử và Địa lí - Kết nối tri thức\")\\n      * [SGK Lịch sử và Địa lí - Cánh diều](https://loigiaihay.com/sgk-lich-su-va-dia-li-lop-5-canh-dieu-c1831.html \"SGK Lịch sử và Địa lí - Cánh diều\")\\n      * [SGK Lịch sử và Địa lí - Chân trời sáng tạo](https://loigiaihay.com/sgk-lich-su-va-dia-li-lop-5-chan-troi-sang-tao-c1832.html \"SGK Lịch sử và Địa lí - Chân trời sáng tạo\")\\n      * [VBT Lịch sử và Địa lí - Kết nối tri thức](https://loigiaihay.com/vbt-lich-su-va-dia-li-5-ket-noi-tri-thuc-c2333.html \"VBT Lịch sử và Địa lí - Kết nối tri thức\")\\n      * [VBT Lịch sử và Địa lí - Cánh diều](https://loigiaihay.com/vbt-lich-su-va-dia-li-5-canh-dieu-c2351.html \"VBT Lịch sử và Địa lí - Cánh diều\")\\n    * ![](https://loigiaihay.com/themes/style/images/i-sinh.png) Khoa học 5\\n      * [SGK Khoa học - Kết nối tri thức](https://loigiaihay.com/sgk-khoa-hoc-5-ket-noi-tri-thuc-c1856.html \"SGK Khoa học - Kết nối tri thức\")\\n      * [SGK Khoa học - Chân trời sáng tạo](https://loigiaihay.com/sgk-khoa-hoc-5-chan-troi-sang-tao-c1857.html \"SGK Khoa học - Chân trời sáng tạo\")\\n      * [SGK Khoa học - Cánh diều](https://loigiaihay.com/sgk-khoa-hoc-5-canh-dieu-c1858.html \"SGK Khoa học - Cánh diều\")\\n      * [VBT Khoa học - Kết nối tri thức](https://loigiaihay.com/vbt-khoa-hoc-lop-5-ket-noi-tri-thuc-c2198.html \"VBT Khoa học - Kết nối tri thức\")\\n      * [VBT Khoa học - Chân trời sáng tạo](https://loigiaihay.com/vbt-khoa-hoc-lop-5-chan-troi-sang-tao-c2320.html \"VBT Khoa học - Chân trời sáng tạo\")\\n      * [VBT Khoa học - Cánh diều](https://loigiaihay.com/vbt-khoa-hoc-lop-5-canh-dieu-c2328.html \"VBT Khoa học - Cánh diều\")\\n    * ![](https://loigiaihay.com/themes/style/images/i-van.png) Đạo đức 5\\n      * [SGK Đạo đức - Kết nối tri thức](https://loigiaihay.com/sgk-dao-duc-5-ket-noi-tri-thuc-c1852.html \"SGK Đạo đức - Kết nối tri thức\")\\n      * [SGK Đạo đức - Chân trời sáng tạo](https://loigiaihay.com/sgk-dao-duc-5-chan-troi-sang-tao-c1853.html \"SGK Đạo đức - Chân trời sáng tạo\")\\n      * [SGK Đạo đức - Cánh diều](https://loigiaihay.com/sgk-dao-duc-5-canh-dieu-c1855.html \"SGK Đạo đức - Cánh diều\")\\n      * [VBT Đạo đức - Kết nối tri thức](https://loigiaihay.com/vbt-dao-duc-5-ket-noi-tri-thuc-c2429.html \"VBT Đạo đức - Kết nối tri thức\")\\n      * [VBT Đạo đức - Chân trời sáng tạo](https://loigiaihay.com/vbt-dao-duc-5-chan-troi-sang-tao-c2430.html \"VBT Đạo đức  - Chân trời sáng tạo\")\\n      * [VBT Đạo đức - Cánh diều](https://loigiaihay.com/vbt-dao-duc-5-canh-dieu-c2431.html \"VBT Đạo đức  - Cánh diều\")\\n    * ![](https://loigiaihay.com/themes/style/images/i-tin.png) Tin học 5\\n      * [SGK Tin học - Cánh diều](https://loigiaihay.com/sgk-tin-hoc-5-canh-dieu-c1815.html \"SGK Tin học - Cánh diều\")\\n      * [SGK Tin học - Kết nối tri thức](https://loigiaihay.com/sgk-tin-hoc-5-ket-noi-tri-thuc-c1843.html \"SGK Tin học - Kết nối tri thức\")\\n      * [SGK Tin học - Chân trời sáng tạo](https://loigiaihay.com/sgk-tin-hoc-5-chan-troi-sang-tao-c1844.html \"SGK Tin học - Chân trời sáng tạo\")\\n      * [VBT Tin học - Kết nối tri thức](https://loigiaihay.com/vbt-tin-hoc-5-ket-noi-tri-thuc-c2313.html \"VBT Tin học - Kết nối tri thức\")\\n      * [VBT Tin học - Chân trời sáng tạo](https://loigiaihay.com/vbt-tin-hoc-5-chan-troi-sang-tao-c2318.html \"VBT Tin học - Chân trời sáng tạo\")\\n      * [VBT Tin học - Cánh diều](https://loigiaihay.com/vbt-tin-hoc-5-canh-dieu-c2321.html \"VBT Tin học - Cánh diều\")\\n    * ![](https://loigiaihay.com/themes/style/images/i-huong-nghiep.png) HĐ trải nghiệm, hướng nghiệp 5\\n      * [SGK Hoạt động trải nghiệm - Kết nối tri thức](https://loigiaihay.com/sgk-hoat-dong-trai-nghiem-5-ket-noi-tri-thuc-c1806.html \"SGK Hoạt động trải nghiệm - Kết nối tri thức\")\\n      * [SGK Hoạt động trải nghiệm - Cánh diều](https://loigiaihay.com/sgk-hoat-dong-trai-nghiem-5-canh-dieu-c1807.html \"SGK Hoạt động trải nghiệm - Cánh diều\")\\n      * [SGK Hoạt động trải nghiệm - Chân trời sáng tạo Bản 1](https://loigiaihay.com/sgk-hoat-dong-trai-nghiem-5-chan-troi-sang-tao-ban-1-c1808.html \"SGK Hoạt động trải nghiệm - Chân trời sáng tạo Bản 1\")\\n      * [SGK Hoạt động trải nghiệm - Chân trời sáng tạo Bản 2](https://loigiaihay.com/sgk-hoat-dong-trai-nghiem-5-chan-troi-sang-tao-ban-2-c1809.html \"SGK Hoạt động trải nghiệm - Chân trời sáng tạo Bản 2\")\\n      * [VBT Hoạt động trải nghiệm - Kết nối tri thức](https://loigiaihay.com/sbt-hoat-dong-trai-nghiem-5-ket-noi-tri-thuc-c2405.html \"VBT Hoạt động trải nghiệm - Kết nối tri thức\")\\n      * [VBT Hoạt động trải nghiệm - Cánh diều](https://loigiaihay.com/vbt-hoat-dong-trai-nghiem-5-canh-dieu-c2407.html \"VBT Hoạt động trải nghiệm  - Cánh diều\")\\n      * [VBT Hoạt động trải nghiệm - Chân trời sáng tạo (Bản 1)](https://loigiaihay.com/vbt-hoat-dong-trai-nghiem-5-chan-troi-sang-tao-ban1-c2408.html \"VBT Hoạt động trải nghiệm - Chân trời sáng tạo \\\\(Bản 1\\\\)\")\\n      * [VBT Hoạt động trải nghiệm - Chân trời sáng tạo (Bản 2)](https://loigiaihay.com/vbt-hoat-dong-trai-nghiem-5-chan-troi-sang-tao-ban-2-c2412.html \"VBT Hoạt động trải nghiệm - Chân trời sáng tạo \\\\(Bản 2\\\\)\")\\n    * ![](https://loigiaihay.com/themes/style/images/i-cong-nghe.png) Công nghệ 5\\n      * [SGK Công nghệ - Kết nối tri thức](https://loigiaihay.com/sgk-cong-nghe-5-ket-noi-tri-thuc-c2215.html \"SGK Công nghệ - Kết nối tri thức\")\\n      * [SGK Công nghệ - Chân trời sáng tạo](https://loigiaihay.com/sgk-cong-nghe-5-chan-troi-sang-tao-c2216.html \"SGK Công nghệ - Chân trời sáng tạo\")\\n      * [SGK Công nghệ - Cánh diều](https://loigiaihay.com/sgk-cong-nghe-5-canh-dieu-c2217.html \"SGK Công nghệ - Cánh diều\")\\n      * [VBT Công nghệ - Kết nối tri thức](https://loigiaihay.com/vbt-cong-nghe-5-ket-noi-tri-thuc-c2428.html \"VBT Công nghệ - Kết nối tri thức\")\\n    * Đề thi, đề kiểm tra 5\\n      * [Đề thi vào lớp 6](https://loigiaihay.com/de-thi-vao-lop-6-c1417.html \"Đề thi vào lớp 6\")\\n      * [Tổng hợp đề thi, đề kiểm tra ](https://loigiaihay.com/tong-hop-de-thi-de-kiem-tra-lop-5-c1228.html \"Tổng hợp đề thi, đề kiểm tra \")\\n  * [Lớp 4](https://loigiaihay.com/lop-4.html)\\n    * ![](https://loigiaihay.com/themes/style/images/i-toan.png) Toán học 4\\n      * [SGK Toán - Kết nối tri thức](https://loigiaihay.com/sgk-toan-4-ket-noi-tri-thuc-c1398.html \"SGK Toán - Kết nối tri thức\")\\n      * [SGK Toán - Chân trời sáng tạo](https://loigiaihay.com/sgk-toan-4-chan-troi-sang-tao-c1399.html \"SGK Toán - Chân trời sáng tạo\")\\n      * [SGK Toán - Cánh diều](https://loigiaihay.com/sgk-toan-4-canh-dieu-c1400.html \"SGK Toán - Cánh diều\")\\n      * [SGK Toán - Bình Minh](https://loigiaihay.com/sgk-toan-4-binh-minh-c1440.html \"SGK Toán - Bình Minh\")\\n      * [VBT Toán - Kết nối tri thức](https://loigiaihay.com/vo-bai-tap-toan-lop-4-ket-noi-tri-thuc-c1548.html \"VBT Toán - Kết nối tri thức\")\\n      * [Vở thực hành Toán](https://loigiaihay.com/vo-thuc-hanh-toan-4-c1553.html \"Vở thực hành Toán\")\\n      * [Trắc nghiệm Toán - Kết nối tri thức](https://loigiaihay.com/v2/tu-luyen-trac-nghiem-toan-lop-4-ket-noi-tri-thuc-c1468.html \"Trắc nghiệm Toán - Kết nối tri thức\")\\n      * [Trắc nghiệm Toán - Cánh diều](https://loigiaihay.com/v2/tu-luyen-trac-nghiem-toan-lop-4-canh-dieu-c1469.html \"Trắc nghiệm Toán - Cánh diều\")\\n      * [ >> Xem thêm ](https://loigiaihay.com/lop-4.html \"Xem thêm\")\\n    * ![](https://loigiaihay.com/themes/style/images/i-van.png) Tiếng việt 4\\n      * [Tiếng Việt - Kết nối tri thức](https://loigiaihay.com/tieng-viet-4-ket-noi-tri-thuc-c1424.html \"Tiếng Việt - Kết nối tri thức\")\\n      * [Tiếng Việt - Chân trời sáng tạo](https://loigiaihay.com/tieng-viet-4-chan-troi-sang-tao-c1436.html \"Tiếng Việt - Chân trời sáng tạo\")\\n      * [Tiếng Việt - Cánh diều](https://loigiaihay.com/tieng-viet-4-canh-dieu-c1437.html \"Tiếng Việt - Cánh diều\")\\n      * [VBT Tiếng Việt - Kết nối tri thức](https://loigiaihay.com/vbt-tieng-viet-lop-4-ket-noi-tri-thuc-c1665.html \"VBT Tiếng Việt - Kết nối tri thức\")\\n      * [Đề thi, đề kiểm tra Tiếng Việt - Kết nối tri thức](https://loigiaihay.com/de-thi-de-kiem-tra-tieng-viet-lop-4-ket-noi-tri-thuc-c1796.html \"Đề thi, đề kiểm tra Tiếng Việt - Kết nối tri thức\")\\n      * [Đề thi, đề kiểm tra Tiếng Việt - Chân trời sáng tạo](https://loigiaihay.com/de-thi-de-kiem-tra-tieng-viet-lop-4-chan-troi-sang-tao-c1797.html \"Đề thi, đề kiểm tra Tiếng Việt - Chân trời sáng tạo\")\\n      * [Đề thi, đề kiểm tra Tiếng Việt - Cánh diều](https://loigiaihay.com/de-thi-de-kiem-tra-tieng-viet-lop-4-canh-dieu-c1798.html \"Đề thi, đề kiểm tra Tiếng Việt - Cánh diều\")\\n      * [Ôn hè Tiếng Việt](https://loigiaihay.com/on-tap-he-tieng-viet-lop-4-c910.html \"Ôn hè Tiếng Việt\")\\n      * [ >> Xem thêm ](https://loigiaihay.com/lop-4.html \"Xem thêm\")\\n    * ![](https://loigiaihay.com/themes/style/images/i-anh.png) Tiếng Anh 4\\n      * [Tiếng Anh - Global Sucess](https://loigiaihay.com/tieng-anh-4-global-success-c1367.html \"Tiếng Anh - Global Sucess\")\\n      * [Tiếng Anh - Family and Friends ](https://loigiaihay.com/tieng-anh-4-family-and-friends-c1373.html \"Tiếng Anh - Family and Friends \")\\n      * [Tiếng Anh - iLearn Smart Start](https://loigiaihay.com/tieng-anh-4-ilearn-smart-start-c1374.html \"Tiếng Anh - iLearn Smart Start\")\\n      * [Tiếng Anh - Phonics Smart](https://loigiaihay.com/tieng-anh-4-phonics-smart-c1375.html \"Tiếng Anh - Phonics Smart\")\\n      * [Tiếng Anh - Explore Our World](https://loigiaihay.com/tieng-anh-4-explore-our-world-c1376.html \"Tiếng Anh - Explore Our World\")\\n      * [SBT Tiếng Anh - Global Success](https://loigiaihay.com/sbt-tieng-anh-4-global-success-c1544.html \"SBT Tiếng Anh - Global Success\")\\n      * [SBT Tiếng Anh - Family and Friends](https://loigiaihay.com/sbt-tieng-anh-4-family-and-friends-c1545.html \"SBT Tiếng Anh - Family and Friends\")\\n      * [SBT Tiếng Anh - iLearn Smart Start](https://loigiaihay.com/sbt-tieng-anh-4-ilearn-smart-start-c1546.html \"SBT Tiếng Anh - iLearn Smart Start\")\\n      * [ >> Xem thêm ](https://loigiaihay.com/lop-4.html \"Xem thêm\")\\n    * ![](https://loigiaihay.com/themes/style/images/i-su.png) Lịch sử và Địa lí 4\\n      * [SGK Lịch sử và Địa lí - Kết nối tri thức](https://loigiaihay.com/sgk-lich-su-va-dia-li-lop-4-ket-noi-tri-thuc-c1633.html \"SGK Lịch sử và Địa lí - Kết nối tri thức\")\\n      * [SGK Lịch sử và Địa lí - Chân trời sáng tạo](https://loigiaihay.com/sgk-lich-su-va-dia-li-lop-4-chan-troi-sang-tao-c1634.html \"SGK Lịch sử và Địa lí - Chân trời sáng tạo\")\\n      * [SGK Lịch sử và Địa lí - Cánh diều](https://loigiaihay.com/sgk-lich-su-va-dia-li-lop-4-canh-dieu-c1635.html \"SGK Lịch sử và Địa lí - Cánh diều\")\\n      * [VBT Lịch sử và Địa lí - Kết nối tri thức](https://loigiaihay.com/vbt-lich-su-va-dia-li-4-ket-noi-tri-thuc-c2304.html \"VBT Lịch sử và Địa lí - Kết nối tri thức\")\\n      * [VBT Lịch sử và Địa lí - Chân trời sáng tạo](https://loigiaihay.com/vbt-lich-su-va-dia-li-4-chan-troi-sang-tao-c2310.html \"VBT Lịch sử và Địa lí - Chân trời sáng tạo\")\\n      * [VBT Lịch sử và Địa lí - Cánh diều](https://loigiaihay.com/vbt-lich-su-va-dia-li-4-canh-dieu-c2311.html \"VBT Lịch sử và Địa lí - Cánh diều\")\\n    * ![](https://loigiaihay.com/themes/style/images/i-sinh.png) Khoa học 4\\n      * [SGK Khoa học - Kết nối tri thức](https://loigiaihay.com/sgk-khoa-hoc-4-ket-noi-tri-thuc-c1616.html \"SGK Khoa học - Kết nối tri thức\")\\n      * [SGK Khoa học - Chân trời sáng tạo](https://loigiaihay.com/sgk-khoa-hoc-4-chan-troi-sang-tao-c1617.html \"SGK Khoa học - Chân trời sáng tạo\")\\n      * [SGK Khoa học - Cánh diều](https://loigiaihay.com/sgk-khoa-hoc-4-canh-dieu-c1618.html \"SGK Khoa học - Cánh diều\")\\n      * [VBT Khoa học - Kết nối tri thức](https://loigiaihay.com/vbt-khoa-hoc-lop-4-ket-noi-tri-thuc-c2327.html \"VBT Khoa học - Kết nối tri thức\")\\n      * [VBT Khoa học - Chân trời sáng tạo ](https://loigiaihay.com/vbt-khoa-hoc-4-chan-troi-sang-tao-c2343.html \"VBT Khoa học - Chân trời sáng tạo \")\\n      * [VBT Khoa học - Cánh diều](https://loigiaihay.com/vbt-khoa-hoc-lop-4-canh-dieu-c2350.html \"VBT Khoa học - Cánh diều\")\\n    * ![](https://loigiaihay.com/themes/style/images/i-van.png) Đạo đức 4\\n      * [SGK Đạo đức - Kết nối tri thức](https://loigiaihay.com/sgk-dao-duc-4-ket-noi-tri-thuc-c1619.html \"SGK Đạo đức - Kết nối tri thức\")\\n      * [SGK Đạo đức - Chân trời sáng tạo](https://loigiaihay.com/sgk-dao-duc-4-chan-troi-sang-tao-c1620.html \"SGK Đạo đức - Chân trời sáng tạo\")\\n      * [SGK Đạo đức - Cánh diều](https://loigiaihay.com/sgk-dao-duc-4-canh-dieu-c1621.html \"SGK Đạo đức - Cánh diều\")\\n      * [VBT Đạo đức - Kết nối tri thức](https://loigiaihay.com/vbt-dao-duc-4-ket-noi-tri-thuc-c2337.html \"VBT Đạo đức - Kết nối tri thức\")\\n      * [VBT Đạo đức 4 - Chân trời sáng tạo](https://loigiaihay.com/vbt-dao-duc-4-chan-troi-sang-tao-c2338.html \"VBT Đạo đức 4 - Chân trời sáng tạo\")\\n      * [VBT Đạo đức - Cánh diều](https://loigiaihay.com/vbt-dao-duc-4-canh-dieu-c2342.html \"VBT Đạo đức - Cánh diều\")\\n    * ![](https://loigiaihay.com/themes/style/images/i-tin.png) Tin học 4\\n      * [SGK Tin học - Kết nối tri thức](https://loigiaihay.com/sgk-tin-hoc-4-ket-noi-tri-thuc-c2222.html \"SGK Tin học - Kết nối tri thức\")\\n      * [SGK Tin học - Chân trời sáng tạo](https://loigiaihay.com/sgk-tin-hoc-4-chan-troi-sang-tao-c2223.html \"SGK Tin học - Chân trời sáng tạo\")\\n      * [SGK Tin học - Cánh diều](https://loigiaihay.com/sgk-tin-hoc-4-canh-dieu-c2224.html \"SGK Tin học - Cánh diều\")\\n      * [VBT Tin học - Kết nối tri thức ](https://loigiaihay.com/vbt-tin-hoc-4-ket-noi-tri-thuc-voi-cuoc-song-c2356.html \"VBT Tin học - Kết nối tri thức \")\\n      * [VBT Tin học - Chân trời sáng tạo](https://loigiaihay.com/vbt-tin-hoc-4-chan-troi-sang-tao-c2369.html \"VBT Tin học - Chân trời sáng tạo\")\\n      * [VBT Tin học - Cánh diều](https://loigiaihay.com/vbt-tin-hoc-4-canh-dieu-c2370.html \"VBT Tin học - Cánh diều\")\\n    * ![](https://loigiaihay.com/themes/style/images/i-cong-nghe.png) Công nghệ 4\\n      * [SGK Công nghệ - Kết nối tri thức](https://loigiaihay.com/sgk-cong-nghe-4-ket-noi-tri-thuc-c1535.html \"SGK Công nghệ - Kết nối tri thức\")\\n      * [SGK Công nghệ - Chân trời sáng tạo](https://loigiaihay.com/sgk-cong-nghe-4-chan-troi-sang-tao-c1532.html \"SGK Công nghệ - Chân trời sáng tạo\")\\n      * [SGK Công nghệ - Cánh diều](https://loigiaihay.com/sgk-cong-nghe-4-canh-dieu-c1534.html \"SGK Công nghệ - Cánh diều\")\\n      * [VBT Công nghệ - Kết nối tri thức](https://loigiaihay.com/vbt-cong-nghe-4-ket-noi-tri-thuc-c2421.html \"VBT Công nghệ - Kết nối tri thức\")\\n      * [VBT Công nghệ - Chân trời sáng tạo ](https://loigiaihay.com/vbt-cong-nghe-4-chan-troi-sang-tao-c2422.html \"VBT Công nghệ - Chân trời sáng tạo \")\\n      * [VBT Công nghệ - Cánh diều](https://loigiaihay.com/vbt-cong-nghe-4-canh-dieu-c2426.html \"VBT Công nghệ - Cánh diều\")\\n    * ![](https://loigiaihay.com/themes/style/images/i-huong-nghiep.png) HĐ trải nghiệm, hướng nghiệp 4\\n      * [SGK Hoạt động trải nghiệm - Kết nối tri thức](https://loigiaihay.com/sgk-hoat-dong-trai-nghiem-4-ket-noi-tri-thuc-c1522.html \"SGK Hoạt động trải nghiệm - Kết nối tri thức\")\\n      * [SGK Hoạt động trải nghiệm - Cánh diều](https://loigiaihay.com/sgk-hoat-dong-trai-nghiem-4-canh-dieu-c1523.html \"SGK Hoạt động trải nghiệm - Cánh diều\")\\n      * [SGK Hoạt động trải nghiệm - Chân trời sáng tạo Bản 1](https://loigiaihay.com/sgk-hoat-dong-trai-nghiem-huong-nghiep-4-chan-troi-sang-tao-c1507.html \"SGK Hoạt động trải nghiệm - Chân trời sáng tạo Bản 1\")\\n      * [SGK Hoạt động trải nghiệm - Chân trời sáng tạo Bản 2](https://loigiaihay.com/sgk-hoat-dong-trai-nghiem-huong-nghiep-4-chan-troi-sang-tao-ban-2-c1596.html \"SGK Hoạt động trải nghiệm - Chân trời sáng tạo Bản 2\")\\n      * [VBT Hoạt động trải nghiệm - Kết nối tri thức](https://loigiaihay.com/vbt-hoat-dong-trai-nghiem-4-ket-noi-tri-thuc-c2413.html \"VBT Hoạt động trải nghiệm - Kết nối tri thức\")\\n      * [VBT Hoạt động trải nghiệm - Cánh diều](https://loigiaihay.com/vbt-hoat-dong-trai-nghiem-4-canh-dieu-c2414.html \"VBT Hoạt động trải nghiệm - Cánh diều\")\\n      * [VBT Hoạt động trải nghiệm - Chân trời sáng tạo (Bản 1) ](https://loigiaihay.com/vbt-hoat-dong-trai-nghiem-4-chan-troi-sang-tao-ban-1-c2415.html \"VBT Hoạt động trải nghiệm  - Chân trời sáng tạo \\\\(Bản 1\\\\) \")\\n      * [VBT Hoạt động trải nghiệm - Chân trời sáng tạo (Bản 2) ](https://loigiaihay.com/vbt-hoat-dong-trai-nghiem-4-chan-troi-sang-tao-ban-2-c2417.html \"VBT Hoạt động trải nghiệm - Chân trời sáng tạo \\\\(Bản 2\\\\) \")\\n    * ![](https://loigiaihay.com/themes/style/images/i-nhac.png) Âm nhạc 4\\n      * [SGK Âm nhạc - Kết nối tri thức](https://loigiaihay.com/sgk-am-nhac-4-ket-noi-tri-thuc-c1503.html \"SGK Âm nhạc - Kết nối tri thức\")\\n      * [SGK Âm nhạc - Chân trời sáng tạo](https://loigiaihay.com/sgk-am-nhac-4-chan-troi-sang-tao-c1508.html \"SGK Âm nhạc - Chân trời sáng tạo\")\\n      * [SGK Âm nhạc - Cánh diều](https://loigiaihay.com/sgk-am-nhac-4-canh-dieu-c1517.html \"SGK Âm nhạc - Cánh diều\")\\n    * ![](https://loigiaihay.com/themes/style/images/i-mythuat.png) Mỹ thuật 4\\n      * [SGK Mĩ thuật - Kết nối tri thức](https://loigiaihay.com/sgk-mi-thuat-4-ket-noi-tri-thuc-c1514.html \"SGK Mĩ thuật  - Kết nối tri thức\")\\n      * [SGK Mĩ thuật - Cánh diều](https://loigiaihay.com/sgk-mi-thuat-4-canh-dieu-c1516.html \"SGK Mĩ thuật - Cánh diều\")\\n      * [SGK Mĩ thuật - Chân trời sáng tạo bản 1](https://loigiaihay.com/sgk-mi-thuat-4-chan-troi-sang-tao-c1518.html \"SGK Mĩ thuật - Chân trời sáng tạo bản 1\")\\n      * [SGK Mĩ thuật - Chân trời sáng tạo bản 2](https://loigiaihay.com/sgk-mi-thuat-4-chan-troi-sang-tao-ban-2-c1595.html \"SGK Mĩ thuật - Chân trời sáng tạo bản 2\")\\n    * Giáo dục thể chất 4\\n      * [SGK Giáo dục thể chất - Kết nối tri thức](https://loigiaihay.com/sgk-giao-duc-the-chat-4-ket-noi-tri-thuc-c1511.html \"SGK Giáo dục thể chất - Kết nối tri thức\")\\n      * [SGK Giáo dục thể chất - Cánh diều](https://loigiaihay.com/sgk-giao-duc-the-chat-4-canh-dieu-c1509.html \"SGK Giáo dục thể chất - Cánh diều\")\\n      * [SGK Giáo dục thể chất - Chân trời sáng tạo](https://loigiaihay.com/sgk-giao-duc-the-chat-4-chan-troi-sang-tao-c1510.html \"SGK Giáo dục thể chất - Chân trời sáng tạo\")\\n    * Giáo dục địa phương 4\\n      * [Tài liệu Giáo dục địa phương](https://loigiaihay.com/tai-lieu-giao-duc-dia-phuong-4-c2335.html \"Tài liệu Giáo dục địa phương\")\\n    * Đề thi, đề kiểm tra 4\\n      * [Tổng hợp đề thi, đề kiểm tra ](https://loigiaihay.com/tong-hop-de-thi-de-kiem-tra-lop-4-c1231.html \"Tổng hợp đề thi, đề kiểm tra \")\\n  * [Lớp 3](https://loigiaihay.com/lop-3.html)\\n    * ![](https://loigiaihay.com/themes/style/images/i-toan.png) Toán học 3\\n      * [SGK Toán - Kết nối tri thức](https://loigiaihay.com/sgk-toan-3-ket-noi-tri-thuc-c813.html \"SGK Toán - Kết nối tri thức\")\\n      * [SGK Toán - Chân trời sáng tạo](https://loigiaihay.com/sgk-toan-3-chan-troi-sang-tao-c860.html \"SGK Toán - Chân trời sáng tạo\")\\n      * [SGK Toán - Cánh diều](https://loigiaihay.com/sgk-toan-3-canh-dieu-c861.html \"SGK Toán - Cánh diều\")\\n      * [VBT Toán - Kết nối tri thức](https://loigiaihay.com/vo-bai-tap-toan-lop-3-ket-noi-tri-thuc-c1008.html \"VBT Toán - Kết nối tri thức\")\\n      * [Trắc nghiệm Toán - Kết nối tri thức](https://loigiaihay.com/v2/tu-luyen-trac-nghiem-toan-lop-3-ket-noi-tri-thuc-c967.html \"Trắc nghiệm Toán - Kết nối tri thức\")\\n      * [Trắc nghiệm Toán - Cánh diều](https://loigiaihay.com/v2/tu-luyen-trac-nghiem-toan-lop-3-canh-dieu-c974.html \"Trắc nghiệm Toán - Cánh diều\")\\n      * [Trắc nghiệm Toán - Chân trời sáng tạo](https://loigiaihay.com/v2/tu-luyen-trac-nghiem-toan-lop-3-chan-troi-sang-tao-c990.html \"Trắc nghiệm Toán - Chân trời sáng tạo\")\\n      * [Đề thi, đề kiểm tra Toán - Kết nối tri thức](https://loigiaihay.com/de-thi-de-kiem-tra-toan-lop-3-ket-noi-tri-thuc-c1215.html \"Đề thi, đề kiểm tra Toán - Kết nối tri thức\")\\n      * [ >> Xem thêm ](https://loigiaihay.com/lop-3.html \"Xem thêm\")\\n    * ![](https://loigiaihay.com/themes/style/images/i-van.png) Tiếng việt 3\\n      * [Tiếng Việt - Kết nối tri thức](https://loigiaihay.com/tieng-viet-3-ket-noi-tri-thuc-c847.html \"Tiếng Việt - Kết nối tri thức\")\\n      * [Tiếng Việt - Chân trời sáng tạo](https://loigiaihay.com/tieng-viet-3-chan-troi-sang-tao-c848.html \"Tiếng Việt - Chân trời sáng tạo\")\\n      * [Tiếng Việt - Cánh diều](https://loigiaihay.com/tieng-viet-3-canh-dieu-c849.html \"Tiếng Việt - Cánh diều\")\\n      * [VBT Tiếng Việt - Kết nối tri thức](https://loigiaihay.com/vbt-tieng-viet-lop-3-ket-noi-tri-thuc-c1106.html \"VBT Tiếng Việt - Kết nối tri thức\")\\n      * [VBT Tiếng Việt - Chân trời sáng tạo](https://loigiaihay.com/vbt-tieng-viet-lop-3-chan-troi-sang-tao-c1107.html \"VBT Tiếng Việt - Chân trời sáng tạo\")\\n      * [VBT Tiếng Việt - Cánh diều ](https://loigiaihay.com/vbt-tieng-viet-lop-3-canh-dieu-c1349.html \"VBT Tiếng Việt - Cánh diều \")\\n      * [Đề thi, đề kiểm tra Tiếng Việt - Kết nối tri thức](https://loigiaihay.com/de-thi-de-kiem-tra-tieng-viet-lop-3-ket-noi-tri-thuc-c2269.html \"Đề thi, đề kiểm tra Tiếng Việt - Kết nối tri thức\")\\n      * [Đề thi, đề kiểm tra Tiếng Việt - Chân trời sáng tạo](https://loigiaihay.com/de-thi-de-kiem-tra-tieng-viet-lop-3-chan-troi-sang-tao-c2271.html \"Đề thi, đề kiểm tra Tiếng Việt - Chân trời sáng tạo\")\\n      * [ >> Xem thêm ](https://loigiaihay.com/lop-3.html \"Xem thêm\")\\n    * ![](https://loigiaihay.com/themes/style/images/i-anh.png) Tiếng Anh 3\\n      * [Tiếng Anh - Global Success](https://loigiaihay.com/tieng-anh-3-global-success-c864.html \"Tiếng Anh - Global Success\")\\n      * [Tiếng Anh - Family and Friends](https://loigiaihay.com/tieng-anh-3-family-and-friends-c865.html \"Tiếng Anh - Family and Friends\")\\n      * [Tiếng Anh - iLearn Smart Start](https://loigiaihay.com/tieng-anh-3-ilearn-smart-start-c889.html \"Tiếng Anh - iLearn Smart Start\")\\n      * [Tiếng Anh - Explore Our World](https://loigiaihay.com/tieng-anh-3-explore-our-world-c890.html \"Tiếng Anh - Explore Our World\")\\n      * [Tiếng Anh - Phonics Smart](https://loigiaihay.com/tieng-anh-3-phonics-smart-c891.html \"Tiếng Anh - Phonics Smart\")\\n      * [SBT Tiếng Anh - Global Success](https://loigiaihay.com/sach-bai-tap-tieng-anh-lop-3-ket-noi-tri-thuc-c1100.html \"SBT Tiếng Anh - Global Success\")\\n      * [SBT Tiếng Anh - Family and Friends](https://loigiaihay.com/sach-bai-tap-tieng-anh-lop-3-family-and-friends-c1101.html \"SBT Tiếng Anh - Family and Friends\")\\n      * [SBT Tiếng Anh - iLearn Smart Start](https://loigiaihay.com/sach-bai-tap-tieng-anh-lop-3-ilearn-smart-start-c1102.html \"SBT Tiếng Anh - iLearn Smart Start\")\\n      * [ >> Xem thêm ](https://loigiaihay.com/lop-3.html \"Xem thêm\")\\n    * ![](https://loigiaihay.com/themes/style/images/i-van.png) Tự nhiên và xã hội 3\\n      * [VBT Tự nhiên và xã hội - Cánh diều](https://loigiaihay.com/vbt-tu-nhien-va-xa-hoi-3-canh-dieu-c2322.html \"VBT Tự nhiên và xã hội - Cánh diều\")\\n      * [Tự nhiên và xã hội - Kết nối tri thức](https://loigiaihay.com/tu-nhien-va-xa-hoi-lop-3-ket-noi-tri-thuc-c1110.html \"Tự nhiên và xã hội - Kết nối tri thức\")\\n      * [Tự nhiên và xã hội - Chân trời sáng tạo](https://loigiaihay.com/tu-nhien-va-xa-hoi-lop-3-chan-troi-sang-tao-c1111.html \"Tự nhiên và xã hội - Chân trời sáng tạo\")\\n      * [Tự nhiên và xã hội - Cánh diều](https://loigiaihay.com/tu-nhien-va-xa-hoi-lop-3-canh-dieu-c1112.html \"Tự nhiên và xã hội - Cánh diều\")\\n      * [VBT Tự nhiên và xã hội - Kết nối tri thức](https://loigiaihay.com/vbt-tu-nhien-va-xa-hoi-3-ket-noi-tri-thuc-c2317.html \"VBT Tự nhiên và xã hội - Kết nối tri thức\")\\n      * [VBT Tự nhiên và xã hội - Chân trời sáng tạo](https://loigiaihay.com/vbt-tu-nhien-va-xa-hoi-3-chan-troi-sang-tao-c2319.html \"VBT Tự nhiên và xã hội - Chân trời sáng tạo\")\\n    * ![](https://loigiaihay.com/themes/style/images/i-van.png) Đạo đức 3\\n      * [SGK Đạo đức - Kết nối tri thức](https://loigiaihay.com/sgk-dao-duc-3-ket-noi-tri-thuc-c2214.html \"SGK Đạo đức - Kết nối tri thức\")\\n      * [SGK Đạo đức - Chân trời sáng tạo](https://loigiaihay.com/sgk-dao-duc-3-chan-troi-sang-tao-c2225.html \"SGK Đạo đức - Chân trời sáng tạo\")\\n      * [SGK Đạo đức - Cánh diều](https://loigiaihay.com/sgk-dao-duc-3-canh-dieu-c2226.html \"SGK Đạo đức - Cánh diều\")\\n      * [VBT Đạo đức - Kết nối tri thức](https://loigiaihay.com/vbt-dao-duc-3-ket-noi-tri-thuc-c2329.html \"VBT Đạo đức - Kết nối tri thức\")\\n      * [VBT Đạo đức - Cánh diều](https://loigiaihay.com/vbt-dao-duc-3-canh-dieu-c2330.html \"VBT Đạo đức - Cánh diều\")\\n      * [VBT Đạo đức - Chân trời sáng tạo](https://loigiaihay.com/vbt-dao-duc-3-chan-troi-sang-tao-c2334.html \"VBT Đạo đức - Chân trời sáng tạo\")\\n    * ![](https://loigiaihay.com/themes/style/images/i-tin.png) Tin học 3\\n      * [SGK Tin học - Kết nối tri thức](https://loigiaihay.com/sgk-tin-hoc-3-ket-noi-tri-thuc-c940.html \"SGK Tin học - Kết nối tri thức\")\\n      * [SGK Tin học - Chân trời sáng tạo](https://loigiaihay.com/sgk-tin-hoc-3-chan-troi-sang-tao-c938.html \"SGK Tin học - Chân trời sáng tạo\")\\n      * [SGK Tin học - Cánh diều](https://loigiaihay.com/sgk-tin-hoc-3-canh-dieu-c915.html \"SGK Tin học - Cánh diều\")\\n      * [VBT Tin học - Kết nối tri thức](https://loigiaihay.com/vbt-tin-hoc-3-ket-noi-tri-thuc-c2371.html \"VBT Tin học - Kết nối tri thức\")\\n      * [VBT Tin học - Chân trời sáng tạo](https://loigiaihay.com/vbt-tin-hoc-3-chan-troi-sang-tao-c2372.html \"VBT Tin học - Chân trời sáng tạo\")\\n    * ![](https://loigiaihay.com/themes/style/images/i-huong-nghiep.png) HĐ trải nghiệm, hướng nghiệp 3\\n      * [SGK Hoạt động trải nghiệm- Kết nối tri thức](https://loigiaihay.com/sgk-hoat-dong-trai-nghiem-3-ket-noi-tri-thuc-c927.html \"SGK Hoạt động trải nghiệm- Kết nối tri thức\")\\n      * [SGK Hoạt động trải nghiệm- Chân trời sáng tạo](https://loigiaihay.com/sgk-hoat-dong-trai-nghiem-3-chan-troi-sang-tao-c929.html \"SGK Hoạt động trải nghiệm- Chân trời sáng tạo\")\\n      * [SGK Hoạt động trải nghiệm - Cánh diều](https://loigiaihay.com/sgk-hoat-dong-trai-nghiem-3-canh-dieu-c928.html \"SGK Hoạt động trải nghiệm - Cánh diều\")\\n      * [VBT Hoạt động trải nghệm - Kết nối tri thức](https://loigiaihay.com/vbt-hoat-dong-trai-nghem-3-ket-noi-tri-thuc-c2418.html \"VBT Hoạt động trải nghệm - Kết nối tri thức\")\\n      * [VBT Hoạt động trải nghiệm - Chân trời sáng tạo ](https://loigiaihay.com/sbt-hoat-dong-trai-nghiem-3-chan-troi-sang-tao-c2419.html \"VBT Hoạt động trải nghiệm  - Chân trời sáng tạo  \")\\n      * [VBT Hoạt động trải nghiệm - Cánh diều](https://loigiaihay.com/vbt-hoat-dong-trai-nghiem-3-canh-dieu-c2420.html \"VBT Hoạt động trải nghiệm - Cánh diều\")\\n    * ![](https://loigiaihay.com/themes/style/images/i-cong-nghe.png) Công nghệ 3\\n      * [SGK Công nghệ - Kết nối tri thức](https://loigiaihay.com/sgk-cong-nghe-3-ket-noi-tri-thuc-c2227.html \"SGK Công nghệ - Kết nối tri thức\")\\n      * [SGK Công nghệ - Chân trời sáng tạo](https://loigiaihay.com/sgk-cong-nghe-3-chan-troi-sang-tao-c2228.html \"SGK Công nghệ - Chân trời sáng tạo\")\\n      * [SGK Công nghệ - Cánh diều](https://loigiaihay.com/sgk-cong-nghe-3-canh-dieu-c2229.html \"SGK Công nghệ - Cánh diều\")\\n      * [VBT Công nghệ - Kết nối tri thức](https://loigiaihay.com/vbt-cong-nghe-3-ket-noi-tri-thuc-c2348.html \"VBT Công nghệ - Kết nối tri thức\")\\n      * [VBT Công nghệ - Chân trời sáng tạo](https://loigiaihay.com/vbt-cong-nghe-3-chan-troi-sang-tao-c2349.html \"VBT Công nghệ - Chân trời sáng tạo\")\\n      * [VBT Công nghệ - Cánh diều](https://loigiaihay.com/vbt-cong-nghe-3-canh-dieu-c2352.html \"VBT Công nghệ - Cánh diều\")\\n    * ![](https://loigiaihay.com/themes/style/images/i-nhac.png) Âm nhạc 3\\n      * [Âm nhạc - Kết nối tri thức](https://loigiaihay.com/sgk-am-nhac-3-ket-noi-tri-thuc-c935.html \"Âm nhạc - Kết nối tri thức\")\\n      * [Âm nhạc - Chân trời sáng tạo](https://loigiaihay.com/sgk-am-nhac-3-chan-troi-sang-tao-c937.html \"Âm nhạc - Chân trời sáng tạo\")\\n      * [Âm nhạc - Cánh diều](https://loigiaihay.com/sgk-am-nhac-3-canh-dieu-c936.html \"Âm nhạc - Cánh diều\")\\n    * Giáo dục thể chất 3\\n      * [SGK Giáo dục thể chất - Kết nối tri thức](https://loigiaihay.com/sgk-giao-duc-the-chat-ket-noi-tri-thuc-c2434.html \"SGK Giáo dục thể chất - Kết nối tri thức\")\\n      * [SGK Giáo dục thể chất - Chân trời sáng tạo](https://loigiaihay.com/sgk-giao-duc-the-chat-3-chan-troi-sang-tao-c2435.html \"SGK Giáo dục thể chất - Chân trời sáng tạo\")\\n      * [SGK Giáo dục thể chất - Cánh diều](https://loigiaihay.com/sgk-giao-duc-the-chat-3-canh-dieu-c2437.html \"SGK Giáo dục thể chất - Cánh diều\")\\n    * Giáo dục địa phương 3\\n      * [Tài liệu Giáo dục địa phương ](https://loigiaihay.com/tai-lieu-giao-duc-dia-phuong-3-c2341.html \"Tài liệu Giáo dục địa phương \")\\n  * [Lớp 2](https://loigiaihay.com/lop-2.html)\\n    * ![](https://loigiaihay.com/themes/style/images/i-toan.png) Toán học 2\\n      * [SGK Toán - Kết nối tri thức](https://loigiaihay.com/toan-lop-2-ket-noi-tri-thuc-voi-cuoc-song-c625.html \"SGK Toán - Kết nối tri thức\")\\n      * [SGK Toán - Chân trời sáng tạo](https://loigiaihay.com/toan-lop-2-chan-troi-sang-tao-c624.html \"SGK Toán - Chân trời sáng tạo\")\\n      * [SGK Toán - Cánh Diều](https://loigiaihay.com/toan-lop-2-canh-dieu-c626.html \"SGK Toán - Cánh Diều\")\\n      * [VBT Toán - KNTT](https://loigiaihay.com/Vo-bai-tap-toan-2-Ket-noi-tri-thuc-c659.html \"VBT Toán - KNTT\")\\n      * [VBT Toán - CTST](https://loigiaihay.com/Vo-bai-tap-toan-2-Chan-troi-sang-tao-c672.html \"VBT Toán - CTST\")\\n      * [Trắc nghiệm Toán - Kết nối tri thức](https://loigiaihay.com/v2/tu-luyen-trac-nghiem-toan-lop-2-kntt-c785.html \"Trắc nghiệm Toán - Kết nối tri thức\")\\n      * [Trắc nghiệm Toán - Chân trời sáng tạo](https://loigiaihay.com/v2/tu-luyen-trac-nghiem-toan-lop-2-ctst-c786.html \"Trắc nghiệm Toán - Chân trời sáng tạo\")\\n      * [Trắc nghiệm Toán - Cánh Diều](https://loigiaihay.com/v2/tu-luyen-trac-nghiem-toan-lop-2-canh-dieu-c787.html \"Trắc nghiệm Toán - Cánh Diều\")\\n      * [ >> Xem thêm ](https://loigiaihay.com/lop-2.html \"Xem thêm\")\\n    * ![](https://loigiaihay.com/themes/style/images/i-van.png) Tiếng việt 2\\n      * [Tiếng Việt - Kết nối tri thức](https://loigiaihay.com/tieng-viet-2-ket-noi-tri-thuc-voi-cuoc-song-c640.html \"Tiếng Việt - Kết nối tri thức\")\\n      * [Tiếng Việt - Chân trời sáng tạo](https://loigiaihay.com/tieng-viet-2-chan-troi-sang-tao-c639.html \"Tiếng Việt - Chân trời sáng tạo\")\\n      * [Tiếng Việt - Cánh Diều](https://loigiaihay.com/tieng-viet-2-canh-dieu-c636.html \"Tiếng Việt - Cánh Diều\")\\n      * [Văn mẫu - Kết nối tri thức](https://loigiaihay.com/van-mau-lop-2-ket-noi-tri-thuc-voi-cuoc-song-c682.html \"Văn mẫu - Kết nối tri thức\")\\n      * [Văn mẫu - Chân trời sáng tạo](https://loigiaihay.com/van-mau-lop-2-chan-troi-sang-tao-c684.html \"Văn mẫu - Chân trời sáng tạo\")\\n      * [Văn mẫu - Cánh diều](https://loigiaihay.com/van-mau-lop-2-canh-dieu-c683.html \"Văn mẫu - Cánh diều\")\\n      * [VBT Tiếng Việt - Kết nối tri thức](https://loigiaihay.com/vbt-tieng-viet-lop-2-kntt-c664.html \"VBT Tiếng Việt - Kết nối tri thức\")\\n      * [VBT Tiếng Việt - Chân trời sáng tạo](https://loigiaihay.com/vbt-tieng-viet-lop-2-ctst-c668.html \"VBT Tiếng Việt - Chân trời sáng tạo\")\\n      * [ >> Xem thêm ](https://loigiaihay.com/lop-2.html \"Xem thêm\")\\n    * ![](https://loigiaihay.com/themes/style/images/i-anh.png) Tiếng Anh 2\\n      * [Tiếng Anh - Kết nối tri thức](https://loigiaihay.com/tieng-anh-2-ket-noi-tri-thuc-voi-cuoc-song-c622.html \"Tiếng Anh - Kết nối tri thức\")\\n      * [Tiếng Anh - Family and Friends](https://loigiaihay.com/tieng-anh-2-chan-troi-sang-tao-c621.html \"Tiếng Anh - Family and Friends\")\\n      * [Tiếng Anh - iLearn Smart Start](https://loigiaihay.com/tieng-anh-2-ilearn-smart-start-c741.html \"Tiếng Anh - iLearn Smart Start\")\\n      * [Tiếng Anh - Phonics Smart ](https://loigiaihay.com/tieng-anh-2-phonics-smart-c651.html \"Tiếng Anh - Phonics Smart \")\\n      * [Tiếng Anh - English Discovery](https://loigiaihay.com/tieng-anh-2-english-discovery-c652.html \"Tiếng Anh - English Discovery\")\\n      * [Tiếng Anh - Explore Our World](https://loigiaihay.com/tieng-anh-2-explore-our-world-canh-dieu-c623.html \"Tiếng Anh - Explore Our World\")\\n      * [Family & Friends Special](https://loigiaihay.com/family-friends-special-grade-2-c231.html \"Family & Friends Special\")\\n      * [SBT Kết nối tri thức](https://loigiaihay.com/sbt-tieng-anh-2-ket-noi-tri-thuc-c745.html \"SBT Kết nối tri thức\")\\n      * [ >> Xem thêm ](https://loigiaihay.com/lop-2.html \"Xem thêm\")\\n    * ![](https://loigiaihay.com/themes/style/images/i-van.png) Tự nhiên và xã hội 2\\n      * [Tự nhiên và xã hội - Kết nối tri thức](https://loigiaihay.com/tu-nhien-va-xa-hoi-lop-2-ket-noi-tri-thuc-voi-cuoc-song-c687.html \"Tự nhiên và xã hội - Kết nối tri thức\")\\n      * [Tự nhiên và xã hội - Chân trời sáng tạo](https://loigiaihay.com/tu-nhien-va-xa-hoi-lop-2-chan-troi-sang-tao-c685.html \"Tự nhiên và xã hội - Chân trời sáng tạo\")\\n      * [Tự nhiên và xã hội - Cánh diều](https://loigiaihay.com/tu-nhien-va-xa-hoi-lop-2-canh-dieu-c686.html \"Tự nhiên và xã hội - Cánh diều\")\\n      * [VBT Tự nhiên và xã hội - Kết nối tri thức](https://loigiaihay.com/vo-bai-tap-tu-nhien-va-xa-hoi-lop-2-ket-noi-tri-thuc-c752.html \"VBT Tự nhiên và xã hội - Kết nối tri thức\")\\n      * [VBT Tự nhiên và xã hội - Cánh diều](https://loigiaihay.com/vo-bai-tap-tu-nhien-va-xa-hoi-canh-dieu-c753.html \"VBT Tự nhiên và xã hội - Cánh diều\")\\n      * [VBT Tự nhiên và xã hội - Chân trời sáng tạo](https://loigiaihay.com/vo-bai-tap-tu-nhien-va-xa-hoi-lop-2-chan-troi-sang-tao-c754.html \"VBT Tự nhiên và xã hội - Chân trời sáng tạo\")\\n    * ![](https://loigiaihay.com/themes/style/images/i-van.png) Đạo đức 2\\n      * [SGK Đạo đức - Kết nối tri thức](https://loigiaihay.com/sgk-dao-duc-2-ket-noi-tri-thuc-c719.html \"SGK Đạo đức - Kết nối tri thức\")\\n      * [SGK Đạo đức - Chân trời sáng tạo](https://loigiaihay.com/sgk-dao-duc-2-chan-troi-sang-tao-c717.html \"SGK Đạo đức - Chân trời sáng tạo\")\\n      * [SGK Đạo đức - Cánh Diều](https://loigiaihay.com/sgk-dao-duc-lop-2-canh-dieu-c720.html \"SGK Đạo đức - Cánh Diều\")\\n      * [VBT Đạo đức - Kết nối tri thức](https://loigiaihay.com/vbt-dao-duc-lop-2-ket-noi-tri-thuc-c721.html \"VBT Đạo đức - Kết nối tri thức\")\\n      * [VBT Đạo đức - Chân trời sáng tạo](https://loigiaihay.com/vbt-dao-duc-lop-2-chan-troi-sang-tao-c722.html \"VBT Đạo đức - Chân trời sáng tạo\")\\n      * [VBT Đạo đức - Cánh Diều](https://loigiaihay.com/vbt-dao-duc-lop-2-canh-dieu-c723.html \"VBT Đạo đức - Cánh Diều\")\\n    * ![](https://loigiaihay.com/themes/style/images/i-nhac.png) Âm nhạc 2\\n      * [Âm nhạc 2 - Kết nối tri thức](https://loigiaihay.com/am-nhac-2-ket-noi-tri-thuc-c704.html \"Âm nhạc 2 - Kết nối tri thức\")\\n      * [Âm nhạc 2 - Chân trời sáng tạo](https://loigiaihay.com/am-nhac-2-chan-troi-sang-tao-c703.html \"Âm nhạc 2 - Chân trời sáng tạo\")\\n      * [Âm nhạc 2 - Cánh diều](https://loigiaihay.com/am-nhac-2-canh-dieu-c702.html \"Âm nhạc 2 - Cánh diều\")\\n      * [VBT Âm nhạc - Kết nối tri thức](https://loigiaihay.com/vbt-am-nhac-lop-2-ket-noi-tri-thuc-c710.html \"VBT Âm nhạc - Kết nối tri thức\")\\n      * [VBT Âm nhạc - Chân trời sáng tạo](https://loigiaihay.com/vbt-am-nhac-lop-2-chan-troi-sang-tao-c711.html \"VBT Âm nhạc - Chân trời sáng tạo\")\\n      * [VBT Âm nhạc - Cánh diều](https://loigiaihay.com/vbt-am-nhac-lop-2-canh-dieu-c712.html \"VBT Âm nhạc - Cánh diều\")\\n    * ![](https://loigiaihay.com/themes/style/images/i-mythuat.png) Mỹ thuật 2\\n      * [Mĩ thuật- Kết nối tri thức](https://loigiaihay.com/mi-thuat-lop-2-ket-noi-tri-thuc-c693.html \"Mĩ thuật- Kết nối tri thức\")\\n      * [Mĩ thuật- Chân trời sáng tạo](https://loigiaihay.com/mi-thuat-2-chan-troi-sang-tao-c694.html \"Mĩ thuật- Chân trời sáng tạo\")\\n      * [Mĩ thuật - Cánh Diều](https://loigiaihay.com/my-thuat-lop-2-canh-dieu-c695.html \"Mĩ thuật - Cánh Diều\")\\n    * ![](https://loigiaihay.com/themes/style/images/i-huong-nghiep.png) HĐ trải nghiệm, hướng nghiệp 2\\n      * [VBT Hoạt động trải nghiệm - Chân trời sáng tạo](https://loigiaihay.com/vbt-hoat-dong-trai-nghiem-lop-2-chan-troi-sang-tao-c727.html \"VBT Hoạt động trải nghiệm - Chân trời sáng tạo\")\\n      * [VTH Hoạt động trải nghiệm - Cánh Diều](https://loigiaihay.com/vth-hoat-dong-trai-nghiem-lop-2-canh-dieu-c739.html \"VTH Hoạt động trải nghiệm - Cánh Diều\")\\n      * [VBT Hoạt động trải nghiệm - Kết nối tri thức](https://loigiaihay.com/vbt-hoat-dong-trai-nghiem-lop-2-ket-noi-tri-thuc-c742.html \"VBT Hoạt động trải nghiệm - Kết nối tri thức\")\\n    * Giáo dục địa phương 2\\n      * [Tài liệu Giáo dục địa phương ](https://loigiaihay.com/tai-lieu-giao-duc-dia-phuong-2-c2344.html \"Tài liệu Giáo dục địa phương \")\\n  * [Lớp 1](https://loigiaihay.com/lop-1.html)\\n    * ![](https://loigiaihay.com/themes/style/images/i-van.png) Tiếng việt 1\\n      * [Đề thi, kiểm tra Tiếng Việt](https://loigiaihay.com/de-thi-de-kiem-tra-tieng-viet-1-c609.html \"Đề thi, kiểm tra Tiếng Việt\")\\n      * [SGK Tiếng Việt - Kết nối tri thức](https://loigiaihay.com/sgk-tieng-viet-1-ket-noi-tri-thuc-voi-cuoc-song-c1181.html \"SGK Tiếng Việt - Kết nối tri thức\")\\n      * [SGK Tiếng Việt - Chân trời sáng tạo](https://loigiaihay.com/sgk-tieng-viet-1-chan-troi-sang-tao-c1186.html \"SGK Tiếng Việt - Chân trời sáng tạo\")\\n      * [SGK Tiếng Việt - Cánh diều](https://loigiaihay.com/sgk-tieng-viet-1-canh-dieu-c1350.html \"SGK Tiếng Việt - Cánh diều\")\\n    * ![](https://loigiaihay.com/themes/style/images/i-toan.png) Toán học 1\\n      * [SGK Toán - Kết nối tri thức](https://loigiaihay.com/sgk-toan-1-ket-noi-tri-thuc-c1139.html \"SGK Toán - Kết nối tri thức\")\\n      * [SGK Toán - Cánh diều](https://loigiaihay.com/sgk-toan-1-canh-dieu-c1140.html \"SGK Toán - Cánh diều\")\\n      * [SGK Toán - Chân trời sáng tạo](https://loigiaihay.com/sgk-toan-1-chan-troi-sang-tao-c1141.html \"SGK Toán - Chân trời sáng tạo\")\\n      * [Trắc nghiệm Toán](https://loigiaihay.com/v2/tu-luyen-trac-nghiem-toan-lop-1-c798.html \"Trắc nghiệm Toán\")\\n    * ![](https://loigiaihay.com/themes/style/images/i-anh.png) Tiếng Anh 1\\n      * [Chứng chỉ Cambridge Pre A1 Starters](https://loigiaihay.com/chung-chi-starters-c1359.html \"Chứng chỉ Cambridge Pre A1 Starters\")\\n    * ![](https://loigiaihay.com/themes/style/images/i-van.png) Truyện cổ tích 1\\n      * [Truyện cổ tích](https://loigiaihay.com/kho-truyen-c2336.html \"Truyện cổ tích\")\\n    * ![](https://loigiaihay.com/themes/style/images/i-van.png) Tự nhiên và xã hội 1\\n      * [Tự nhiên & xã hội](https://loigiaihay.com/tu-nhien-va-xa-hoi-lop-1-c467.html \"Tự nhiên & xã hội\")\\n      * [VBT Tự nhiên & xã hội](https://loigiaihay.com/vbt-tu-nhien-va-xa-hoi-1-c468.html \"VBT Tự nhiên & xã hội\")\\n    * ![](https://loigiaihay.com/themes/style/images/i-van.png) Đạo đức 1\\n      * [VBT Đạo Đức](https://loigiaihay.com/vbt-dao-duc-1-c475.html \"VBT Đạo Đức\")\\n    * Giáo dục địa phương 1\\n      * [Tài liệu Giáo dục địa phương](https://loigiaihay.com/tai-lieu-giao-duc-dia-phuong-1-c2345.html \"Tài liệu Giáo dục địa phương\")\\n  * [Công cụ](https://loigiaihay.com/congcu.html)\\n    * ![](https://loigiaihay.com/themes/style/images/i-van.png) Ngữ văn\\n      * [Từ đồng nghĩa, trái nghĩa](https://loigiaihay.com/tu-dong-nghia-trai-nghia-c1410.html \"Từ đồng nghĩa, trái nghĩa\")\\n      * [Thành ngữ Việt Nam](https://loigiaihay.com/thanh-ngu-viet-nam-c1411.html \"Thành ngữ Việt Nam\")\\n      * [Ca dao, tục ngữ](https://loigiaihay.com/ca-dao-tuc-ngu-c1412.html \"Ca dao, tục ngữ\")\\n      * [Chính tả tiếng Việt](https://loigiaihay.com/chinh-ta-tieng-viet-c1790.html \"Chính tả tiếng Việt\")\\n      * [Từ láy](https://loigiaihay.com/tu-lay-c1949.html \"Từ láy\")\\n      * [Kho truyện](https://loigiaihay.com/kho-truyen-c2336.html \"Kho truyện\")\\n    * ![](https://loigiaihay.com/themes/style/images/i-anh.png) Tiếng Anh\\n      * [Động từ bất quy tắc](https://loigiaihay.com/dong-tu-bat-quy-tac-c1413.html \"Động từ bất quy tắc\")\\n      * [Cụm động từ (Phrasal verbs)](https://loigiaihay.com/cum-dong-tu-phrasal-verbs-c1414.html \"Cụm động từ \\\\(Phrasal verbs\\\\)\")\\n\\n\\n![](https://loigiaihay.com/themes/style/images/search.png)\\n[ 💥 BÙNG NỔ! ĐỒNG GIÁ 449K, 499K TOÀN BỘ KHOÁ HỌC LỚP 1-12 TẠI TUYENSINH247 Duy nhất từ 16-18/07\\n  * **Chỉ còn**\\n  * **13** Giờ\\n  * **9** Phút\\n  * **33** Giây\\n\\nXem chi tiết![](https://loigiaihay.com/themes/images/icon-right.png)](https://tuyensinh247.com/khuyenmai-thang-7-r760.html?utm_source=Sitevetinh&utm_medium=Countdown&utm_campaign=KMthang7&utm_id=760&utm_term=quynhtt&utm_content=donggia&utm_site=loigiaihay \"KM đồng giá\")[![](https://loigiaihay.com/themes/images/icon-close.png)](javascript:closeCountdown\\\\(\\\\))\\n  * ![](https://loigiaihay.com/themes/images/star_black.png) ![](https://loigiaihay.com/themes/images/star.png) Đề thi vào lớp 6 môn Toán trường Amsterdam\\n    * [ Đề thi vào lớp 6 môn Toán trường Amsterdam năm 2023 ](https://loigiaihay.com/de-thi-vao-lop-6-mon-toan-truong-amsterdam-2023-co-dap-an-a142600.html \"Đề thi vào lớp 6 môn Toán trường Amsterdam năm 2023\")\\n    * [ Đề thi vào lớp 6 môn Toán trường Amsterdam năm 2022 ](https://loigiaihay.com/de-thi-vao-lop-6-mon-toan-truong-amsterdam-2022-co-dap-an-a135015.html \"Đề thi vào lớp 6 môn Toán trường Amsterdam năm 2022\")\\n    * [ Đề thi vào lớp 6 môn Toán trường Amsterdam năm 2020 ](https://loigiaihay.com/de-thi-vao-lop-6-mon-toan-truong-amsterdam-2020-co-dap-an-a135035.html \"Đề thi vào lớp 6 môn Toán trường Amsterdam năm 2020\")\\n  * ![](https://loigiaihay.com/themes/images/star_black.png) ![](https://loigiaihay.com/themes/images/star.png) Đề thi vào lớp 6 môn Toán trường THCS & THPT Nguyễn Tất Thành \\n    * [ Đề thi vào lớp 6 môn Toán trường Nguyễn Tất Thành năm 2025 ](https://loigiaihay.com/de-thi-vao-lop-6-mon-toan-truong-nguyen-tat-thanh-nam-2025-co-dap-an-a185630.html \"Đề thi vào lớp 6 môn Toán trường Nguyễn Tất Thành năm 2025\")\\n    * [ Đề minh họa vào lớp 6 môn Toán trường Nguyễn Tất Thành năm 2025 ](https://loigiaihay.com/de-minh-hoa-vao-lop-6-mon-toan-truong-nguyen-tat-thanh-nam-2025-co-dap-an-a185218.html \"Đề minh họa vào lớp 6 môn Toán trường Nguyễn Tất Thành năm 2025\")\\n    * [ Đề thi vào lớp 6 môn Toán trường Nguyễn Tất Thành năm 2024 (Mã đề 601) ](https://loigiaihay.com/de-thi-vao-lop-6-mon-toan-truong-nguyen-tat-thanh-nam-2024-ma-de-601-a167469.html \"Đề thi vào lớp 6 môn Toán trường Nguyễn Tất Thành năm 2024 \\\\(Mã đề 601\\\\)\")\\n    * [ Đề thi vào lớp 6 môn Toán trường Nguyễn Tất Thành năm 2024 (Mã đề 602) ](https://loigiaihay.com/de-thi-vao-lop-6-mon-toan-truong-nguyen-tat-thanh-nam-2024-ma-de-602-a167472.html \"Đề thi vào lớp 6 môn Toán trường Nguyễn Tất Thành năm 2024 \\\\(Mã đề 602\\\\)\")\\n    * [ Đề thi vào lớp 6 môn Toán trường Nguyễn Tất Thành năm 2023 ](https://loigiaihay.com/de-thi-vao-lop-6-mon-toan-truong-nguyen-tat-thanh-2023-co-dap-an-a140456.html \"Đề thi vào lớp 6 môn Toán trường Nguyễn Tất Thành năm 2023\")\\n    * [ Đề thi vào lớp 6 môn Toán trường Nguyễn Tất Thành năm 2022 ](https://loigiaihay.com/de-thi-vao-lop-6-mon-toan-truong-nguyen-tat-thanh-2022-co-dap-an-a134574.html \"Đề thi vào lớp 6 môn Toán trường Nguyễn Tất Thành năm 2022\")\\n    * [ Đề thi vào lớp 6 môn Toán trường Nguyễn Tất Thành năm 2021 ](https://loigiaihay.com/de-thi-vao-lop-6-mon-toan-truong-nguyen-tat-thanh-2021-co-dap-an-a134579.html \"Đề thi vào lớp 6 môn Toán trường Nguyễn Tất Thành năm 2021\")\\n    * [ Đề thi vào lớp 6 môn Toán trường Nguyễn Tất Thành năm 2020 ](https://loigiaihay.com/de-thi-vao-lop-6-mon-toan-truong-nguyen-tat-thanh-2020-co-dap-an-a134582.html \"Đề thi vào lớp 6 môn Toán trường Nguyễn Tất Thành năm 2020\")\\n    * [ Đề thi vào lớp 6 môn Toán trường Nguyễn Tất Thành năm 2019 ](https://loigiaihay.com/de-thi-vao-lop-6-mon-toan-truong-nguyen-tat-thanh-2019-co-dap-an-a134586.html \"Đề thi vào lớp 6 môn Toán trường Nguyễn Tất Thành năm 2019\")\\n    * [ Đề thi vào lớp 6 môn Toán trường Nguyễn Tất Thành năm 2018 ](https://loigiaihay.com/de-thi-vao-lop-6-mon-toan-truong-nguyen-tat-thanh-2018-co-dap-an-a134598.html \"Đề thi vào lớp 6 môn Toán trường Nguyễn Tất Thành năm 2018\")\\n    * [ Đề minh họa vào lớp 6 môn Toán trường Nguyễn Tất Thành (đề 1) ](https://loigiaihay.com/de-minh-hoa-vao-lop-6-mon-toan-truong-nguyen-tat-thanh-de-1-co-dap-an-a179496.html \"Đề minh họa vào lớp 6 môn Toán trường Nguyễn Tất Thành \\\\(đề 1\\\\)\")\\n  * ![](https://loigiaihay.com/themes/images/star_black.png) ![](https://loigiaihay.com/themes/images/star.png) Đề thi vào lớp 6 môn Toán trường THCS Cầu Giấy - Hà Nội \\n    * [ Đề thi vào lớp 6 môn Toán trường Cầu Giấy năm 2025 ](https://loigiaihay.com/de-thi-vao-lop-6-mon-toan-truong-cau-giay-nam-2025-a186333.html \"Đề thi vào lớp 6 môn Toán trường Cầu Giấy năm 2025\")\\n    * [ Đề thi vào lớp 6 môn Toán trường Cầu Giấy năm 2024 ](https://loigiaihay.com/de-thi-vao-lop-6-mon-toan-truong-cau-giay-nam-2024-a175752.html \"Đề thi vào lớp 6 môn Toán trường Cầu Giấy năm 2024\")\\n    * [ Đề thi vào lớp 6 môn Toán trường Cầu Giấy năm 2023 ](https://loigiaihay.com/de-thi-vao-lop-6-mon-toan-truong-cau-giay-nam-2023-a142098.html \"Đề thi vào lớp 6 môn Toán trường Cầu Giấy năm 2023\")\\n    * [ Đề thi vào lớp 6 môn Toán trường Cầu Giấy năm 2022 ](https://loigiaihay.com/de-thi-vao-lop-6-mon-toan-truong-cau-giay-co-dap-an-a134606.html \"Đề thi vào lớp 6 môn Toán trường Cầu Giấy năm 2022\")\\n    * [ Đề thi vào lớp 6 môn Toán trường Cầu Giấy năm 2021 ](https://loigiaihay.com/de-thi-vao-lop-6-mon-toan-truong-cau-giay-2021-co-dap-an-a134610.html \"Đề thi vào lớp 6 môn Toán trường Cầu Giấy năm 2021\")\\n    * [ Đề thi vào lớp 6 môn Toán trường Cầu Giấy năm 2020 ](https://loigiaihay.com/de-thi-vao-lop-6-mon-toan-truong-cau-giay-2020-2021-co-dap-an-a134614.html \"Đề thi vào lớp 6 môn Toán trường Cầu Giấy năm 2020\")\\n    * [ Đề thi vào lớp 6 môn Toán trường Cầu Giấy năm 2019 ](https://loigiaihay.com/de-thi-vao-lop-6-mon-toan-truong-cau-giay-2019-co-dap-an-a134616.html \"Đề thi vào lớp 6 môn Toán trường Cầu Giấy năm 2019\")\\n  * ![](https://loigiaihay.com/themes/images/star_black.png) ![](https://loigiaihay.com/themes/images/star.png) Đề thi vào lớp 6 môn Toán trường Lương Thế Vinh\\n    * [ Đề thi vào lớp 6 môn Toán trường Lương Thế Vinh năm 2024 ](https://loigiaihay.com/de-thi-vao-lop-6-mon-toan-truong-luong-the-vinh-nam-2024-a164368.html \"Đề thi vào lớp 6 môn Toán trường Lương Thế Vinh năm 2024\")\\n    * [ Đề thi vào lớp 6 môn Toán trường Lương Thế Vinh năm 2023 ](https://loigiaihay.com/de-thi-vao-lop-6-mon-toan-truong-luong-the-vinh-nam-2023-a136445.html \"Đề thi vào lớp 6 môn Toán trường Lương Thế Vinh năm 2023\")\\n    * [ Đề thi vào lớp 6 môn Toán trường Lương Thế Vinh năm 2022 ](https://loigiaihay.com/de-thi-vao-lop-6-mon-toan-truong-luong-the-vinh-2022-co-dap-an-a134685.html \"Đề thi vào lớp 6 môn Toán trường Lương Thế Vinh năm 2022\")\\n    * [ Đề thi vào lớp 6 môn Toán trường Lương Thế Vinh năm 2021 ](https://loigiaihay.com/de-thi-vao-lop-6-mon-toan-truong-luong-the-vinh-2021-co-dap-an-a134641.html \"Đề thi vào lớp 6 môn Toán trường Lương Thế Vinh năm 2021\")\\n    * [ Đề thi vào lớp 6 môn Toán trường Lương Thế Vinh năm 2020 ](https://loigiaihay.com/de-thi-vao-lop-6-mon-toan-truong-luong-the-vinh-2020-co-dap-an-a134727.html \"Đề thi vào lớp 6 môn Toán trường Lương Thế Vinh năm 2020\")\\n    * [ Đề thi vào lớp 6 môn Toán trường Lương Thế Vinh năm 2019 ](https://loigiaihay.com/de-thi-vao-lop-6-mon-toan-truong-luong-the-vinh-2019-co-dap-an-a134644.html \"Đề thi vào lớp 6 môn Toán trường Lương Thế Vinh năm 2019\")\\n    * [ Đề thi vào lớp 6 môn Toán trường Lương Thế Vinh năm 2018 ](https://loigiaihay.com/de-thi-vao-lop-6-mon-toan-truong-luong-the-vinh-2018-2019-co-dap-an-a134728.html \"Đề thi vào lớp 6 môn Toán trường Lương Thế Vinh năm 2018\")\\n    * [ Đề minh họa môn Toán kì thi vào lớp 6 trường Lương Thế Vinh năm 2020 ](https://loigiaihay.com/de-minh-hoa-mon-toan-ki-thi-vao-lop-6-truong-luong-the-vinh-nam-2020-a179104.html \"Đề minh họa môn Toán kì thi vào lớp 6 trường Lương Thế Vinh năm 2020\")\\n    * [ Đề khảo sát đánh giá năng lực vào lớp 6 môn Toán trường Lương Thế Vinh năm 2025 (đề 1) ](https://loigiaihay.com/de-khao-sat-danh-gia-nang-luc-vao-lop-6-mon-toan-truong-luong-the-vinh-nam-2025-de-1-a180565.html \"Đề khảo sát đánh giá năng lực vào lớp 6 môn Toán trường Lương Thế Vinh năm 2025 \\\\(đề 1\\\\)\")\\n  * ![](https://loigiaihay.com/themes/images/star_black.png) ![](https://loigiaihay.com/themes/images/star.png) Đề thi vào lớp 6 môn Toán trường chuyên Ngoại ngữ\\n    * [ Đề thi vào lớp 6 môn Toán trường chuyên Ngoại ngữ năm 2024 ](https://loigiaihay.com/de-thi-vao-lop-6-mon-toan-truong-chuyen-ngoai-ngu-2024-co-dap-an-a176490.html \"Đề thi vào lớp 6 môn Toán trường chuyên Ngoại ngữ năm 2024\")\\n    * [ Đề thi vào lớp 6 môn Toán trường chuyên Ngoại ngữ năm 2023 ](https://loigiaihay.com/de-thi-vao-lop-6-mon-toan-truong-chuyen-ngoai-ngu-2023-co-dap-an-a139833.html \"Đề thi vào lớp 6 môn Toán trường chuyên Ngoại ngữ năm 2023\")\\n    * [ Đề thi vào lớp 6 môn Toán trường chuyên Ngoại ngữ năm 2021 ](https://loigiaihay.com/de-thi-vao-lop-6-mon-toan-truong-chuyen-ngoai-ngu-2021-co-dap-an-a134796.html \"Đề thi vào lớp 6 môn Toán trường chuyên Ngoại ngữ năm 2021\")\\n    * [ Đề thi vào lớp 6 môn Toán trường chuyên Ngoại ngữ năm 2019 ](https://loigiaihay.com/de-thi-vao-lop-6-mon-toan-truong-chuyen-ngoai-ngu-2019-co-dap-an-a134800.html \"Đề thi vào lớp 6 môn Toán trường chuyên Ngoại ngữ năm 2019\")\\n    * [ Đề thi thử vào lớp 6 môn Toán trường chuyên Ngoại ngữ (đề số 1) ](https://loigiaihay.com/de-thi-thu-vao-lop-6-mon-toan-truong-chuyen-ngoai-ngu-de-so-1-co-dap-an-a179937.html \"Đề thi thử vào lớp 6 môn Toán trường chuyên Ngoại ngữ \\\\(đề số 1\\\\)\")\\n    * [ Đề thi thử vào lớp 6 môn Toán trường chuyên Ngoại ngữ (đề số 2) ](https://loigiaihay.com/de-thi-thu-vao-lop-6-mon-toan-truong-chuyen-ngoai-ngu-de-so-2-co-dap-an-a180076.html \"Đề thi thử vào lớp 6 môn Toán trường chuyên Ngoại ngữ \\\\(đề số 2\\\\)\")\\n    * [ Đề thi thử vào lớp 6 môn Toán trường chuyên Ngoại ngữ (đề số 3) ](https://loigiaihay.com/de-thi-thu-vao-lop-6-mon-toan-truong-chuyen-ngoai-ngu-de-so-3-co-dap-an-a180920.html \"Đề thi thử vào lớp 6 môn Toán trường chuyên Ngoại ngữ \\\\(đề số 3\\\\)\")\\n    * [ Đề thi thử vào lớp 6 môn Toán trường chuyên Ngoại ngữ (đề số 4) ](https://loigiaihay.com/de-thi-thu-vao-lop-6-mon-toan-truong-chuyen-ngoai-ngu-de-so-4-co-dap-an-a181911.html \"Đề thi thử vào lớp 6 môn Toán trường chuyên Ngoại ngữ \\\\(đề số 4\\\\)\")\\n  * ![](https://loigiaihay.com/themes/images/star_black.png) ![](https://loigiaihay.com/themes/images/star.png) Đề thi vào lớp 6 môn Toán trường Marie Curie\\n    * [ Đề thi vào lớp 6 môn Toán trường Marie Curie năm 2023 ](https://loigiaihay.com/de-thi-vao-lop-6-mon-toan-truong-marie-curie-2023-co-dap-an-a155508.html \"Đề thi vào lớp 6 môn Toán trường Marie Curie năm 2023\")\\n    * [ Đề thi vào lớp 6 môn Toán trường Marie Curie năm 2022 ](https://loigiaihay.com/de-thi-vao-lop-6-mon-toan-truong-marie-curie-2022-co-dap-an-a135241.html \"Đề thi vào lớp 6 môn Toán trường Marie Curie năm 2022\")\\n    * [ Đề thi vào lớp 6 môn Toán trường Marie Curie năm 2020 ](https://loigiaihay.com/de-thi-vao-lop-6-mon-toan-truong-marie-curie-2020-co-dap-an-a135629.html \"Đề thi vào lớp 6 môn Toán trường Marie Curie năm 2020\")\\n  * ![](https://loigiaihay.com/themes/images/star_black.png) ![](https://loigiaihay.com/themes/images/star.png) Đề thi vào lớp 6 môn Toán trường THCS Thanh Xuân - Hà Nội \\n    * [ Đề thi vào lớp 6 môn Toán trường Thanh Xuân năm 2025 ](https://loigiaihay.com/de-thi-vao-lop-6-mon-toan-truong-thanh-xuan-nam-2025-a185686.html \"Đề thi vào lớp 6 môn Toán trường Thanh Xuân năm 2025\")\\n    * [ Đề thi vào lớp 6 môn Toán trường Thanh Xuân năm 2024 ](https://loigiaihay.com/de-thi-vao-lop-6-mon-toan-truong-thanh-xuan-nam-2024-a175847.html \"Đề thi vào lớp 6 môn Toán trường Thanh Xuân năm 2024\")\\n    * [ Đề thi vào lớp 6 môn Toán trường Thanh Xuân năm 2023 ](https://loigiaihay.com/de-thi-vao-lop-6-mon-toan-truong-thanh-xuan-nam-2023-a142430.html \"Đề thi vào lớp 6 môn Toán trường Thanh Xuân năm 2023\")\\n    * [ Đề thi vào lớp 6 môn Toán trường Thanh Xuân năm 2022 ](https://loigiaihay.com/de-thi-vao-lop-6-mon-toan-truong-thanh-xuan-nam-2022-a142727.html \"Đề thi vào lớp 6 môn Toán trường Thanh Xuân năm 2022\")\\n    * [ Đề thi vào lớp 6 môn Toán trường Thanh Xuân năm 2021 ](https://loigiaihay.com/de-thi-vao-lop-6-mon-toan-truong-thanh-xuan-nam-2021-a142751.html \"Đề thi vào lớp 6 môn Toán trường Thanh Xuân năm 2021\")\\n    * [ Đề thi vào lớp 6 môn Toán trường Thanh Xuân năm 2019 ](https://loigiaihay.com/de-thi-vao-lop-6-mon-toan-truong-thanh-xuan-nam-2019-a143089.html \"Đề thi vào lớp 6 môn Toán trường Thanh Xuân năm 2019\")\\n  * ![](https://loigiaihay.com/themes/images/star_black.png) ![](https://loigiaihay.com/themes/images/star.png) Đề thi vào lớp 6 môn Toán trường THCS Nam Từ Liêm - Hà Nội \\n    * [ Đề thi vào lớp 6 môn Toán trường Nam Từ Liêm năm 2025 ](https://loigiaihay.com/de-thi-vao-lop-6-mon-toan-truong-nam-tu-liem-nam-2025-a186351.html \"Đề thi vào lớp 6 môn Toán trường Nam Từ Liêm năm 2025\")\\n    * [ Đề thi vào lớp 6 môn Toán trường THCS Nam Từ Liêm năm 2024 ](https://loigiaihay.com/de-thi-vao-lop-6-mon-toan-truong-thcs-nam-tu-liem-nam-2024-a176078.html \"Đề thi vào lớp 6 môn Toán trường THCS Nam Từ Liêm năm 2024\")\\n    * [ Đề thi vào lớp 6 môn Toán trường THCS Nam Từ Liêm năm 2023 ](https://loigiaihay.com/de-thi-vao-lop-6-mon-toan-truong-thcs-nam-tu-liem-co-dap-an-a141866.html \"Đề thi vào lớp 6 môn Toán trường THCS Nam Từ Liêm năm 2023\")\\n    * [ Đề thi vào lớp 6 môn Toán trường Nam Từ Liêm năm 2022 ](https://loigiaihay.com/de-thi-vao-lop-6-mon-toan-truong-nam-tu-liem-nam-2022-a142794.html \"Đề thi vào lớp 6 môn Toán trường Nam Từ Liêm năm 2022\")\\n    * [ Đề thi vào lớp 6 môn Toán trường Nam Từ Liêm năm 2020 ](https://loigiaihay.com/de-thi-vao-lop-6-mon-toan-truong-nam-tu-liem-nam-2020-a143040.html \"Đề thi vào lớp 6 môn Toán trường Nam Từ Liêm năm 2020\")\\n  * ![](https://loigiaihay.com/themes/images/star_black.png) ![](https://loigiaihay.com/themes/images/star.png) Đề thi vào lớp 6 môn Toán trường Ngôi Sao\\n    * [ Đề thi vào lớp 6 môn Toán trường Ngôi Sao năm 2025 ](https://loigiaihay.com/de-thi-vao-lop-6-mon-toan-truong-ngoi-sao-2025-co-dap-an-a182539.html \"Đề thi vào lớp 6 môn Toán trường Ngôi sao năm 2025\")\\n    * [ Đề thi vào lớp 6 môn Toán trường Ngôi Sao năm 2023 ](https://loigiaihay.com/de-thi-vao-lop-6-mon-toan-truong-ngoi-sao-2023-co-dap-an-a154791.html \"Đề thi vào lớp 6 môn Toán trường Ngôi sao năm 2023\")\\n    * [ Đề thi vào lớp 6 môn Toán trường Ngôi Sao năm 2021 ](https://loigiaihay.com/de-thi-vao-lop-6-mon-toan-truong-ngoi-sao-2021-co-dap-an-a154844.html \"Đề thi vào lớp 6 môn Toán trường Ngôi sao năm 2021\")\\n    * [ Đề thi vào lớp 6 môn Toán trường Ngôi Sao năm 2020 ](https://loigiaihay.com/de-thi-vao-lop-6-mon-toan-truong-ngoi-sao-2020-co-dap-an-a154845.html \"Đề thi vào lớp 6 môn Toán trường Ngôi sao năm 2020\")\\n    * [ Đề tham khảo môn Toán kì thi học bổng Ngôi Sao Hà Nội (đề 1) ](https://loigiaihay.com/de-tham-khao-mon-toan-ki-thi-hoc-bong-ngoi-sao-ha-noi-de-1-a179732.html \"Đề tham khảo môn Toán kì thi học bổng Ngôi Sao Hà Nội \\\\(đề 1\\\\)\")\\n  * ![](https://loigiaihay.com/themes/images/star_black.png) ![](https://loigiaihay.com/themes/images/star.png) Đề thi vào lớp 6 môn Toán trường Archimedes\\n    * [ Đề thi vào lớp 6 môn Toán trường Archimedes năm 2024 (đề mẫu) ](https://loigiaihay.com/de-thi-vao-lop-6-mon-toan-truong-archimedes-2024-de-mau-co-dap-an-a155569.html \"Đề thi vào lớp 6 môn Toán trường Archimedes năm 2024 \\\\(đề mẫu\\\\)\")\\n    * [ Đề thi vào lớp 6 môn Toán trường Archimedes năm 2022 (bài cơ bản) ](https://loigiaihay.com/de-thi-vao-lop-6-mon-toan-truong-archimedes-2022-bai-co-ban-co-dap-an-a155547.html \"Đề thi vào lớp 6 môn Toán trường Archimedes năm 2022 \\\\(bài cơ bản\\\\)\")\\n    * [ Đề thi vào lớp 6 môn Toán trường Archimedes năm 2021 (bài nâng cao) ](https://loigiaihay.com/de-thi-vao-lop-6-mon-toan-truong-archimedes-2021-bai-nang-cao-co-dap-an-a154892.html \"Đề thi vào lớp 6 môn Toán trường Archimedes năm 2021 \\\\(bài nâng cao\\\\)\")\\n    * [ Đề thi vào lớp 6 môn Toán trường Archimedes năm 2020 (bài cơ bản) ](https://loigiaihay.com/de-thi-vao-lop-6-mon-toan-truong-archimedes-2020-bai-co-ban-co-dap-an-a154956.html \"Đề thi vào lớp 6 môn Toán trường Archimedes năm 2020 \\\\(bài cơ bản\\\\)\")\\n    * [ Đề thi vào lớp 6 môn Toán trường Archimedes năm 2020 (bài nâng cao) ](https://loigiaihay.com/de-thi-vao-lop-6-mon-toan-truong-archimedes-2020-bai-nang-cao-co-dap-an-a154923.html \"Đề thi vào lớp 6 môn Toán trường Archimedes năm 2020 \\\\(bài nâng cao\\\\)\")\\n  * ![](https://loigiaihay.com/themes/images/star_black.png) ![](https://loigiaihay.com/themes/images/star.png) Đề thi vào lớp 6 môn Toán trường Lê Lợi\\n    * [ Đề thi vào lớp 6 môn Toán trường Lê Lợi năm 2024 ](https://loigiaihay.com/de-thi-vao-lop-6-mon-toan-truong-le-loi-2024-co-dap-an-a176389.html \"Đề thi vào lớp 6 môn Toán trường Lê Lợi năm 2024\")\\n    * [ Đề thi vào lớp 6 môn Toán trường Lê Lợi năm 2023 ](https://loigiaihay.com/de-thi-vao-lop-6-mon-toan-truong-le-loi-2023-co-dap-an-a155040.html \"Đề thi vào lớp 6 môn Toán trường Lê Lợi năm 2023\")\\n  * ![](https://loigiaihay.com/themes/images/star_black.png) ![](https://loigiaihay.com/themes/images/star.png) Đề thi vào lớp 6 môn Toán trường chuyên Trần Đại Nghĩa - Hồ Chí Minh\\n    * [ Đề thi vào lớp 6 môn Toán trường chuyên Trần Đại Nghĩa năm 2024 ](https://loigiaihay.com/de-thi-vao-lop-6-mon-toan-truong-chuyen-tran-dai-nghia-nam-2024-a168234.html \"Đề thi vào lớp 6 môn Toán trường chuyên Trần Đại Nghĩa năm 2024\")\\n    * [ Đề thi vào lớp 6 môn Toán trường chuyên Trần Đại Nghĩa năm 2023 ](https://loigiaihay.com/de-thi-vao-lop-6-mon-toan-truong-chuyen-tran-dai-nghia-2023-co-dap-an-a155516.html \"Đề thi vào lớp 6 môn Toán trường chuyên Trần Đại Nghĩa năm 2023\")\\n    * [ Đề thi vào lớp 6 môn Toán trường chuyên Trần Đại Nghĩa năm 2022 ](https://loigiaihay.com/de-thi-vao-lop-6-mon-toan-truong-chuyen-tran-dai-nghia-2022-co-dap-an-a155542.html \"Đề thi vào lớp 6 môn Toán trường chuyên Trần Đại Nghĩa năm 2022\")\\n  * ![](https://loigiaihay.com/themes/images/star_black.png) ![](https://loigiaihay.com/themes/images/star.png) Đề thi vào lớp 6 môn Toán trường chuyên Trần Quốc Toản 1 - Hồ Chí Minh\\n    * [ Đề thi vào lớp 6 môn Toán thành phố Thủ Đức năm 2025 ](https://loigiaihay.com/de-thi-vao-lop-6-mon-toan-thanh-pho-thu-duc-nam-2025-co-dap-an-a185401.html \"Đề thi vào lớp 6 môn Toán thành phố Thủ Đức năm 2025\")\\n    * [ Đề thi vào lớp 6 môn Toán trường Trần Quốc Toản 1 năm 2023 ](https://loigiaihay.com/de-thi-vao-lop-6-mon-toan-truong-tran-quoc-toan-1-nam-2023-co-dap-an-a155686.html \"Đề thi vào lớp 6 môn Toán trường Trần Quốc Toản 1 năm 2023\")\\n  * ![](https://loigiaihay.com/themes/images/star_black.png) ![](https://loigiaihay.com/themes/images/star.png) Đề thi vào lớp 6 môn Toán trường THCS Lê Văn Thiêm - Hà Tĩnh\\n    * [ Đề thi vào lớp 6 môn Toán trường THCS Lê Văn Thiêm năm 2024 ](https://loigiaihay.com/de-thi-vao-lop-6-truong-thcs-le-van-thiem-nam-2024-co-dap-an-a164873.html \"Đề thi vào lớp 6 môn Toán trường THCS Lê Văn Thiêm năm 2024\")\\n    * [ Đề thi vào lớp 6 môn Toán trường THCS Lê Văn Thiêm năm 2023 ](https://loigiaihay.com/de-thi-vao-lop-6-truong-thcs-le-van-thiem-nam-2023-co-dap-an-a164762.html \"Đề thi vào lớp 6 môn Toán trường THCS Lê Văn Thiêm năm 2023\")\\n    * [ Đề thi vào lớp 6 môn Toán trường THCS Lê Văn Thiêm năm 2022 ](https://loigiaihay.com/de-thi-vao-lop-6-truong-thcs-le-van-thiem-nam-2022-co-dap-an-a164869.html \"Đề thi vào lớp 6 môn Toán trường THCS Lê Văn Thiêm năm 2022\")\\n  * ![](https://loigiaihay.com/themes/images/star_black.png) ![](https://loigiaihay.com/themes/images/star.png) Đề thi vào lớp 6 môn Toán trường THCS Hoàng Xuân Hãn - Hà Tĩnh\\n    * [ Đề thi vào lớp 6 trường THCS Hoàng Xuân Hãn năm 2021 ](https://loigiaihay.com/de-thi-vao-lop-6-mon-toan-truong-thcs-le-van-thiem-nam-2022-co-dap-an-a165059.html \"Đề thi vào lớp 6 trường THCS Hoàng Xuân Hãn năm 2021\")\\n  * ![](https://loigiaihay.com/themes/images/star_black.png) ![](https://loigiaihay.com/themes/images/star.png) Đề thi vào lớp 6 môn Toán tỉnh Thanh Hoá\\n    * [ Đề thi vào lớp 6 môn Toán trường THCS Trần Mai Ninh thành phố Thanh Hoá năm 2025 ](https://loigiaihay.com/de-thi-vao-lop-6-mon-toan-truong-thcs-tran-mai-ninh-thanh-pho-thanh-hoa-nam-2025-co-dap-an-a185518.html \"Đề thi vào lớp 6 môn Toán trường THCS Trần Mai Ninh thành phố Thanh Hoá năm 2025\")\\n    * [ Đề thi vào lớp 6 môn Toán trường THCS Nguyễn Hồng Lễ - Thành phố Sầm Sơn năm 2025 ](https://loigiaihay.com/de-thi-vao-lop-6-mon-toan-truong-thcs-nguyen-hong-le-sam-son-nam-2025-co-dap-an-a187015.html \"Đề thi vào lớp 6 môn Toán trường THCS Nguyễn Hồng Lễ - Thành phố Sầm Sơn năm 2025\")\\n  * ![](https://loigiaihay.com/themes/images/star_black.png) ![](https://loigiaihay.com/themes/images/star.png) Đề thi vào lớp 6 môn Toán tỉnh Ninh Bình\\n    * [ Đề thi vào lớp 6 môn Toán trường THCS Đào Sư Tích - Trực Ninh năm 2025 ](https://loigiaihay.com/de-thi-vao-lop-6-mon-toan-truong-thcs-dao-su-tich-nam-2025-co-dap-an-a186985.html \"Đề thi vào lớp 6 môn Toán trường THCS Đào Sư Tích - Trực Ninh năm 2025\")\\n    * [ Đề thi vào lớp 6 môn Toán trường THCS Trần Đăng Ninh thành phố Nam Định năm 2025 ](https://loigiaihay.com/de-thi-vao-lop-6-mon-toan-truong-thcs-tran-dang-ninh-thanh-pho-nam-dinh-nam-2025-co-dap-an-a186847.html \"Đề thi vào lớp 6 môn Toán trường THCS Trần Đăng Ninh thành phố Nam Định năm 2025\")\\n    * [ Đề thi vào lớp 6 môn Toán trường THCS Trần Đăng Ninh thành phố Nam Định năm 2024 ](https://loigiaihay.com/de-thi-vao-lop-6-mon-toan-truong-thcs-tran-dang-ninh-thanh-pho-nam-dinh-nam-2024-co-dap-an-a185584.html \"Đề thi vào lớp 6 môn Toán trường THCS Trần Đăng Ninh thành phố Nam Định năm 2024\")\\n  * ![](https://loigiaihay.com/themes/images/star_black.png) ![](https://loigiaihay.com/themes/images/star.png) Đề thi vào lớp 6 môn Toán tỉnh Phú Thọ\\n    * [ Đề thi vào lớp 6 môn Toán trường THCS Vũ Duệ tỉnh Phú Thọ năm 2025 ](https://loigiaihay.com/de-thi-vao-lop-6-mon-toan-truong-thcs-vu-due-tinh-phu-tho-nam-2025-co-dap-an-a185676.html \"Đề thi vào lớp 6 môn Toán trường THCS Vũ Duệ tỉnh Phú Thọ năm 2025\")\\n    * [ Đề thi vào lớp 6 môn Toán trường THCS Vĩnh Yên năm 2025 ](https://loigiaihay.com/de-thi-vao-lop-6-mon-toan-truong-thcs-vinh-yen-nam-2025-a186763.html \"Đề thi vào lớp 6 môn Toán trường THCS Vĩnh Yên năm 2025\")\\n    * [ Đề thi vào lớp 6 môn Toán trường THCS Tam Đảo năm 2025 ](https://loigiaihay.com/de-thi-vao-lop-6-mon-toan-truong-thcs-tam-dao-nam-2025-co-dap-an-a186956.html \"Đề thi vào lớp 6 môn Toán trường THCS Tam Đảo năm 2025\")\\n    * [ Đề thi vào lớp 6 trường THCS Tam Dương năm 2021 ](https://loigiaihay.com/de-thi-vao-lop-6-mon-toan-truong-thcs-tam-duong-nam-2021-co-dap-an-a164500.html \"Đề thi vào lớp 6 trường THCS Tam Dương năm 2021\")\\n  * ![](https://loigiaihay.com/themes/images/star_black.png) ![](https://loigiaihay.com/themes/images/star.png) Đề thi vào lớp 6 môn Toán tỉnh Hưng Yên\\n    * [ Đề thi vào lớp 6 môn Toán trường THCS Lương Thế Vinh - Thái Bình năm 2025 ](https://loigiaihay.com/de-thi-vao-lop-6-mon-toan-truong-thcs-luong-the-vinh-thai-binh-nam-2025-co-dap-an-a186317.html \"Đề thi vào lớp 6 môn Toán trường THCS Lương Thế Vinh - Thái Bình năm 2025\")\\n  * ![](https://loigiaihay.com/themes/images/star_black.png) ![](https://loigiaihay.com/themes/images/star.png) Đề thi vào lớp 6 môn Toán thành phố Huế\\n    * [ Đề thi vào lớp 6 môn Toán trường Nguyễn Tri Phương - Huế năm 2025 ](https://loigiaihay.com/de-thi-vao-lop-6-mon-toan-truong-nguyen-tri-phuong-hue-nam-2025-a186372.html \"Đề thi vào lớp 6 môn Toán trường Nguyễn Tri Phương - Huế năm 2025\")\\n  * ![](https://loigiaihay.com/themes/images/star_black.png) ![](https://loigiaihay.com/themes/images/star.png) Đề thi vào lớp 6 môn Toán trường THCS Nguyễn Hữu Thọ - Quận 7\\n    * [ Đề thi vào lớp 6 môn Toán trường THCS Nguyễn Hữu Thọ - Quận 7 năm 2025 ](https://loigiaihay.com/de-thi-vao-lop-6-mon-toan-truong-thcs-nguyen-huu-tho-nam-2025-a186597.html \"Đề thi vào lớp 6 môn Toán trường THCS Nguyễn Hữu Thọ - Quận 7 năm 2025\")\\n    * [ Đề thi vào lớp 6 môn Toán trường THCS Nguyễn Hữu Thọ - Quận 7 năm 2024 ](https://loigiaihay.com/de-thi-vao-lop-6-mon-toan-truong-thcs-nguyen-huu-tho-nam-2024-a186596.html \"Đề thi vào lớp 6 môn Toán trường THCS Nguyễn Hữu Thọ - Quận 7 năm 2024\")\\n  * ![](https://loigiaihay.com/themes/images/star_black.png) ![](https://loigiaihay.com/themes/images/star.png) Đề thi vào lớp 6 môn Toán thành phố Hải Phòng\\n    * [ Đề thi vào lớp 6 môn Toán trường THCS Nguyễn Huệ - Cẩm Giàng năm 2025 ](https://loigiaihay.com/de-thi-vao-lop-6-mon-toan-truong-thcs-nguyen-hue-cam-giang-nam-2025-co-dap-an-a186933.html \"Đề thi vào lớp 6 môn Toán trường THCS Nguyễn Huệ - Cẩm Giàng năm 2025\")\\n\\n\\n[ ![](https://images.tuyensinh247.com/picture/2025/0714/1065x200-lgh_5.gif) ](https://tuyensinh247.com/khuyenmai-thang-7-r760.html?utm_source=LGH&utm_medium=banner&utm_campaign=kmthang7&utm_id=760&utm_term=quynhanh&utm_content=banner) [![](https://loigiaihay.com/themes/images/icon-close.png)](javascript:closeTopBanner\\\\(\\\\))\\n![](https://loigiaihay.com/themes/images/n-arrow-4.png) [ Đề thi vào lớp 6 môn toán có đáp án - 9 năm gần nhất](https://loigiaihay.com/de-thi-vao-lop-6-mon-toan-c1387.html \"Đề thi vào lớp 6 môn toán có đáp án - 9 năm gần nhất\") ![](https://loigiaihay.com/themes/images/n-arrow-4.png) Đề thi vào lớp 6 môn Toán trường THCS Cầu Giấy - Hà Nội \\n# [ Đề thi vào lớp 6 môn Toán trường Cầu Giấy năm 2023](https://loigiaihay.com/de-thi-vao-lop-6-mon-toan-truong-cau-giay-nam-2023-a142098.html)\\n[](https://img.loigiaihay.com/picture/share_img/2023/0721/de-thi-vao-lop-6-mon-toan-truong-cau-giay-nam-2023-1689903175.pdf)   \\n\\n##  **Phòng học có dạng hình hộp chữ nhật chiều dài 7m, chiều rộng 4,5m, chiều cao 3m. Tổng số gạo kho I và kho II là 46 tấn.**\\nLựa chọn câu để xem lời giải nhanh hơn\\n  * [Đề bài](javascript:scrollToSubQuestion\\\\(\\'sub-question-1\\'\\\\))\\n  * [Đáp án](javascript:scrollToSubQuestion\\\\(\\'sub-question-2\\'\\\\))\\n[](https://img.loigiaihay.com/picture/share_img/2023/0721/de-thi-vao-lop-6-mon-toan-truong-cau-giay-nam-2023-1689903175.pdf) \\n\\n**Đề bài**\\n**ĐỀ THI TUYỂN SINH VÀO LỚP 6 MÔN TOÁN TRƯỜNG THCS CẦU GIẤY**\\n**NĂM HỌC 202****3****– 202****4**\\n_Thời gian làm bài: 45 phút_\\n**Phần 1: Trắc nghiệm**\\n**Câu 1.** Tìm $x$ sao cho $\\\\frac{{12}}{5} < \\\\overline {x,2} < \\\\frac{{13}}{4}$\\nA. 5 \\nB. 2 \\nC. 3 \\nD. 4\\n**Câu 2.** An đi học lúc 6 giờ 45 phút, xe bus di chuyển hết 10 phút, thời gian chờ xe bus là 0,5 giờ. Hỏi An đến trường lúc mấy giờ?\\nA. 7 giờ 25 phút \\nB. 8 giờ 25 phút\\nC. 7 giờ 15 phút \\nD. 7 giờ 35 phút\\n**Câu 3.** Tổ gồm 10 công nhân hoàn thành xong một công việc trong 30 ngày. Nếu tổ có 20 công nhân thì hoàn thành công việc trong thời gian bao lâu?\\nA. 10 ngày \\nB. 60 ngày \\nC. 40 ngày \\nD. 15 ngày\\n**Câu 4.** Phòng học có dạng hình hộp chữ nhật chiều dài 7m, chiều rộng 4,5m, chiều cao 3m. Người ta muốn sơn toàn bộ trần nhà và 4 bức tường. Biết tổng diện tích các cửa là 7,5m2, tính diện tích cần sơn.\\nA. 83m2 \\nB. 108 m2 \\nC. 93 m2\\nD. 98 m2\\n**Phần 2: Điền đáp số**\\n**Câu 5.** Cho A = $\\\\overline {52xy} $. Biết A chia hết cho 2 và 9; chia 5 dư 4. Tìm A.\\n_Trả lời: ......................_\\n**Câu 6.** Tổng số gạo kho I và kho II là 46 tấn. Biết 15 lần số gạo kho I bằng 8 lần số gạo kho II. Hỏi kho II chứa bao nhiêu tấn gạo?\\n_Trả lời:_.................\\n**Câu 7.** Tính tỉ số phần trăm số học sinh thích ăn cam và chuối so với số học sinh thích ăn táo và xoài?\\n![](https://img.loigiaihay.com/picture/2023/0728/20_15.png)\\n_Trả lời: ......................_\\n**Câu 8.** Cho hình vuông ABCD. Vẽ nửa đường tròn đường kính AB và $\\\\frac{1}{4}$ đường tròn bán kính AB. Tính diện tích phần tô đậm biết chu vi đường tròn đường kính AB là 37,68 cm.\\n![](https://img.loigiaihay.com/picture/2023/0728/20_16.png)\\n_Trả lời: ......................._\\n**Phần 3: Tự luận**\\n**Bài 1.** Cho đoạn đường AD có 1 đoạn lên dốc, 1 đoạn xuống dốc, 1 đoạn bằng phẳng. Trong đó, đoạn đường AB = BC, CD = 4km (AB là đoạn đường lên dốc, BC là đoạn đường xuống dốc, CD là đoạn đường bằng phẳng). Biết vận tốc khi lên dốc là 4 km/giờ, vận tốc khi xuống dốc là là 6 km/giờ, vận tốc đi trên đoạn đường bằng phẳng là 5 km/giờ.\\na) Tính thời gian đi đoạn đường CD.\\nb) Tính độ dài đoạn đường AD, biết người đó đi từ A lúc 5 giờ và đến D lúc 6 giờ 48 phút.\\n**Bài 2**. Bạn Hưng viết 5 số tự nhiên khác nhau trên một vòng tròn sao cho không có 2 hoặc 3 số nào ở vị trí liên tiếp nhau có tổng chia hết cho 3.\\n![](https://img.loigiaihay.com/picture/2023/0728/19_2.png)\\na) Hãy tìm một bộ 5 số tự nhiên thỏa mãn yêu cầu đề bài và điền vào hình.\\nb) Chứng tỏ trong mỗi bộ 5 số thỏa mãn yêu cầu đề bài có ít nhất 1 số chia hết cho 3.\\n**Đáp án**\\n**HƯỚNG DẪN GIẢI CHI TIẾT**\\n**Phần 1: Trắc nghiệm**\\n**Câu 1.** Tìm $x$ sao cho $\\\\frac{{12}}{5} < \\\\overline {x,2} < \\\\frac{{13}}{4}$\\nA. 5 \\nB. 2 \\nC. 3 \\nD. 4\\n**Cách giải**\\nTa có $\\\\frac{{12}}{5} < \\\\overline {x,2} < \\\\frac{{13}}{4}$ nên 2,4 < $\\\\overline {x,2} $ < 3,25\\nDo đó $2 < x \\\\leqslant 3$. Suy ra $x = 3$\\nChọn **C**\\n**Câu 2.** An đi học lúc 6 giờ 45 phút, xe bus di chuyển hết 10 phút, thời gian chờ xe bus là 0,5 giờ. Hỏi An đến trường lúc mấy giờ?\\nA. 7 giờ 25 phút \\nB. 8 giờ 25 phút\\nC. 7 giờ 15 phút \\nD. 7 giờ 35 phút\\n**Cách giải**\\nĐổi 0,5 giờ = 30 phút\\nAn đến trường lúc: 6 giờ 45 phút + 10 phút + 30 phút = 7 giờ 25 phút\\nChọn **A**\\n**Câu 3.** Tổ gồm 10 công nhân hoàn thành xong một công việc trong 30 ngày. Nếu tổ có 20 công nhân thì hoàn thành công việc trong thời gian bao lâu?\\nA. 10 ngày \\nB. 60 ngày \\nC. 40 ngày \\nD. 15 ngày\\n**Cách giải**\\n1 công nhân hoàn thành công việc trong thời gian là 30 x 10 = 300 (ngày)\\n20 công nhân hoàn thành công việc trong thời gian là 300 : 20 = 15 (ngày)\\nChọn **D**\\n**Câu 4.** Phòng học có dạng hình hộp chữ nhật chiều dài 7m, chiều rộng 4,5m, chiều cao 3m. Người ta muốn sơn toàn bộ trần nhà và 4 bức tường. Biết tổng diện tích các cửa là 7,5m2, tính diện tích cần sơn.\\nA. 83m2 \\nB. 108 m2 \\nC. 93 m2\\nD. 98 m2\\n**Cách giải**\\nDiện tích xung quanh của phòng học là (7 + 4,5) x 2 x 3 = 69 (m2)\\nDiện tích trần nhà là: 7 x 4,5 = 31,5 (m2)\\nDiện tích cần sơn là 69 + 31,5 – 7,5 = 93 (m2)\\nChọn **C**\\n**Phần 2: Điền đáp số**\\n**Câu 5.** Cho A = $\\\\overline {52xy} $. Biết A chia hết cho 2 và 9; chia 5 dư 4. Tìm A.\\n**Cách giải**\\nVì A chia hết cho 2 và chia 5 dư 4 nên y = 4\\nTa có số A = $\\\\overline {52x4} $\\nVì A chia hết cho 9 nên 5 + 2 + x + 4 chia hết cho 9. Suy ra x = 7\\nVậy A = 5274\\n**Câu 6.** Tổng số gạo kho I và kho II là 46 tấn. Biết 15 lần số gạo kho I bằng 8 lần số gạo kho II. Hỏi kho II chứa bao nhiêu tấn gạo?\\n**Cách giải**\\nVì 15 lần số gạo kho I\\nKho II chứa số tấn gạo là:\\n46 : (8 + 15) x 15 = 30 (tấn gạo)\\nĐáp số: 30 tấn gạo\\n**Câu 7.** Tính tỉ số phần trăm số học sinh thích ăn cam và chuối so với số học sinh thích ăn táo và xoài?\\n![](https://img.loigiaihay.com/picture/2023/0728/20_15.png)\\n**Cách giải**\\nSố học sinh thích ăn cam và chuối là: 4 + 3 = 7 (học sinh)\\nSố học sinh thích ăn táo và xoài là: 15 + 10 = 25 (học sinh)\\nTỉ số phần trăm số học sinh thích ăn cam và chuối so với số học sinh thích ăn táo và xoài là:\\n7 : 25 = 0,28 = 28%\\nĐáp số: 28%\\n**Câu 8.** Cho hình vuông ABCD. Vẽ nửa đường tròn đường kính AB và $\\\\frac{1}{4}$ đường tròn bán kính AB. Tính diện tích phần tô đậm biết chu vi đường tròn đường kính AB là 37,68 cm.\\n![](https://img.loigiaihay.com/picture/2023/0728/20_17.png)\\n**Cách giải**\\nĐộ dài đoạn thẳng AB là 37,68 : 3,14 = 12 (cm)\\nBán kính đường tròn đường kính AB là 12 : 2 = 6 (cm)\\nDiện tích nửa đường tròn đường kính AB là 6 x 6 x 3,14 : 2 = 56,52 (cm2)\\nDiện tích $\\\\frac{1}{4}$ đường tròn bán kính AB là 12 x 12 x 3,14 : 4 = 113,04 (cm2)\\nDiện tích phần tô đậm là 113,04 – 56,52 = 56,52 (cm2)\\nĐáp số: 56,52 cm2\\n**Phần 3: Tự luận**\\n**Bài 1.** Cho đoạn đường AD có 1 đoạn lên dốc, 1 đoạn xuống dốc, 1 đoạn bằng phẳng. Trong đó, đoạn đường AB = BC, CD = 4km (AB là đoạn đường lên dốc, BC là đoạn đường xuống dốc, CD là đoạn đường bằng phẳng). Biết vận tốc khi lên dốc là 4 km/giờ, vận tốc khi xuống dốc là là 6 km/giờ, vận tốc đi trên đoạn đường bằng phẳng là 5 km/giờ.\\na) Tính thời gian đi đoạn đường CD.\\nb) Tính độ dài đoạn đường AD, biết người đó đi từ A lúc 5 giờ và đến D lúc 6 giờ 48 phút.\\n**Cách giải**\\na) Thời gian đi đoạn đường CD là $4:5 = \\\\frac{4}{5}$ (giờ) = 48 (phút)\\nb) Thời gian đi hết đoạn đường AC là 6 giờ 48 – 5 – 48 phút = 1 (giờ)\\nTỉ số vận tốc trên đoạn đường AB so với đoạn đường BC $4:6 = \\\\frac{2}{3}$\\nTrên cùng một quãng đường thì vận tốc tỉ lệ nghịch với thời gian.\\nVì đoạn đường AB = BC nên tỉ số thời gian đi hết đoạn đường AB so với đoạn đường BC là $\\\\frac{3}{2}$\\nThời gian đi hết đoạn đường AB là 1 : (2 + 3) x 3 = 0,6 (giờ)\\nĐộ dài đoạn đường AB là 0,6 x 4 = 2,4 (km)\\nĐộ dài đoạn đường AD là 2,4 x 2 + 4 = 8,8 (km)\\nĐáp số: a) 48 phút\\nb) 8,8 km\\n**Bài 2**. Bạn Hưng viết 5 số tự nhiên khác nhau trên một vòng tròn sao cho không có 2 hoặc 3 số nào ở vị trí liên tiếp nhau có tổng chia hết cho 3.\\n![](https://img.loigiaihay.com/picture/2023/0728/19_3.png)\\na) Hãy tìm một bộ 5 số tự nhiên thỏa mãn yêu cầu đề bài và điền vào hình.\\nb) Chứng tỏ trong mỗi bộ 5 số thỏa mãn yêu cầu đề bài có ít nhất 1 số chia hết cho 3.\\n**Cách giải:**\\na) Bộ 5 số thỏa mãn yêu cầu như hình vẽ:\\n![](https://img.loigiaihay.com/picture/2023/0620/19_1.png)\\nb) Giả sử cả 5 số đều không chia hết cho 3, khi đó các số này chia 3 dư 1 hoặc chia 3 dư 2.\\n- Xét số a chia 3 dư 1. Khi đó để tổng hai số liên tiếp (có chứa số a) không chia hết cho 3 thì hai số đứng cạnh a phải chia 3 dư 1. Do đó, ta có 3 số liên tiếp cùng chia 3 dư 1, tức là tổng 3 số này chia hết cho 3 (vô lí)\\n- Lập luận tương tự với số chia 3 dư 2, ta thấy vô lí.\\nVậy trong 5 số luôn có ít nhất 1 số phải chia hết cho 3.\\n  \\n\\n[ ![](https://loigiaihay.com/themes/images/iconComment.png)Bình luận](https://loigiaihay.com/de-thi-vao-lop-6-mon-toan-truong-cau-giay-nam-2023-a142098.html#top_facebook_comment)\\n![](https://loigiaihay.com/themes/images/facebook-share.png) Chia sẻ\\n[Chia sẻ](javascript:;)\\nBình chọn: \\n[](javascript:void\\\\(0\\\\) \"1 sao\") [](javascript:void\\\\(0\\\\) \"2 sao\") [](javascript:void\\\\(0\\\\) \"3 sao\") [](javascript:void\\\\(0\\\\) \"4 sao\") [](javascript:void\\\\(0\\\\) \"5 sao\")\\n4.1  trên 7 phiếu \\n[](https://img.loigiaihay.com/picture/share_img/2023/0721/de-thi-vao-lop-6-mon-toan-truong-cau-giay-nam-2023-1689903175.pdf)\\n[Bài tiếp theo ![](https://loigiaihay.com/themes/images/next.png)](https://loigiaihay.com/de-thi-vao-lop-6-mon-toan-truong-cau-giay-co-dap-an-a134606.html)\\n  * [ Đề thi vào lớp 6 môn Toán trường Cầu Giấy năm 2022 ](https://loigiaihay.com/de-thi-vao-lop-6-mon-toan-truong-cau-giay-co-dap-an-a134606.html \"Đề thi vào lớp 6 môn Toán trường Cầu Giấy năm 2022\")\\nMột hình hộp hình chữ nhật có chiều dài là 12 cm, chiều rộng là 8 cm... Tổng số học sinh khối 5 của một trường tiểu học là một số có ba chữ số ...\\n  * [ Đề thi vào lớp 6 môn Toán trường Cầu Giấy năm 2021 ](https://loigiaihay.com/de-thi-vao-lop-6-mon-toan-truong-cau-giay-2021-co-dap-an-a134610.html \"Đề thi vào lớp 6 môn Toán trường Cầu Giấy năm 2021\")\\nMột bể nước dạng hình hộp chữ nhật có các kích thước đo ... Một can chứa 32,5 lít dầu. Sau khi dùng 40% lượng dầu đó thì trong can còn lại ....\\n  * [ Đề thi vào lớp 6 môn Toán trường Cầu Giấy năm 2020 ](https://loigiaihay.com/de-thi-vao-lop-6-mon-toan-truong-cau-giay-2020-2021-co-dap-an-a134614.html \"Đề thi vào lớp 6 môn Toán trường Cầu Giấy năm 2020\")\\nMột lớp 6 của trường Nguyễn Tất Thành tham gia quyên góp ủng hộ người nghèo .... Một bể nước có chiều dài là 120cm,chiều rộng 60cm, chiều cao 70cm. \\n  * [ Đề thi vào lớp 6 môn Toán trường Cầu Giấy năm 2019 ](https://loigiaihay.com/de-thi-vao-lop-6-mon-toan-truong-cau-giay-2019-co-dap-an-a134616.html \"Đề thi vào lớp 6 môn Toán trường Cầu Giấy năm 2019\")\\nTìm chữ số tận cùng của dãy sau 11 x 13 x 15 x 17 x 19 x... x 2019, Một mảnh đất hình chữ nhật có diện tích là 2020 m2.... \\n  * [ Đề thi vào lớp 6 môn Toán trường Cầu Giấy năm 2024 ](https://loigiaihay.com/de-thi-vao-lop-6-mon-toan-truong-cau-giay-nam-2024-a175752.html \"Đề thi vào lớp 6 môn Toán trường Cầu Giấy năm 2024\")\\nMột người đi xe máy qua 1 cây cầu dài 1 875 m hết 3 phút Quãng đường AB có độ dài 95kmĐể hưởng ứng ngày hội sách bạn Liên đã tham gia đọc 1 cuốn sách dày 375 trang trong 4 ngày\\n  * [ Đề thi vào lớp 6 môn Toán trường Cầu Giấy năm 2025 ](https://loigiaihay.com/de-thi-vao-lop-6-mon-toan-truong-cau-giay-nam-2025-a186333.html \"Đề thi vào lớp 6 môn Toán trường Cầu Giấy năm 2025\")\\nMột tổ chức thiện nguyện phát quà tại 4 khu A, B, C và D. Ban đầu phát khu A 50 phần quà Một hộp đựng 1 thẻ ghi số 2, 2 thẻ ghi số 3, ... và 15 thẻ ghi số 16.\\n\\n\\n>> Xem thêm\\n[ **Luyện Bài Tập Trắc nghiệm Toán lớp 5 - Xem ngay**](https://loigiaihay.com/v2/tu-luyen-trac-nghiem-toan-lop-5-c782.html)\\n[Báo lỗi - Góp ý](https://loigiaihay.com/de-thi-vao-lop-6-mon-toan-truong-cau-giay-nam-2023-a142098.html#feed-back-box)\\n### Tham Gia Group Dành Cho Lớp 5 Chia Sẻ, Trao Đổi Tài Liệu Miễn Phí\\n[![](https://w.ladicdn.com/s250x250/5f4df9eb12de6c65fd4c378c/join-group-20221129073656-rwr5b.png)](https://www.facebook.com/groups/2015.tuyensinh247)\\n**> > Học trực tuyến các môn Toán, Tiếng Việt, Tiếng Anh lớp 5 trên Tuyensinh247.com. **Cam kết giúp con lớp 5 học tốt, hoàn trả học phí nếu học không hiệu quả. **PH/HS tham khảo chi tiết khoá học tại:_[Link](https://tuyensinh247.com/hoc-truc-tuyen-lop-5-on-thi-vao-lop-6-r540.html?utm_source=Sitevetinh&utm_medium=banner&utm_campaign=lop5&utm_id=540&utm_term=quynhanh&utm_content=banner-html)_**\\n[![](https://w.ladicdn.com/5f4df9eb12de6c65fd4c378c/montoan-cosaomai-20250612065609-sbtaq.png)](https://tuyensinh247.com/hoc-truc-tuyen-mon-toan-lop-5-c262.html?year=2026&utm_source=banner-html) | [![](https://w.ladicdn.com/5f4df9eb12de6c65fd4c378c/monanh-comaihuong-20250612065609-syf5x.png)](https://tuyensinh247.com/hoc-truc-tuyen-mon-tieng-anh-lop-5-c264.html?year=2026&utm_source=banner-html) | [![](https://w.ladicdn.com/5f4df9eb12de6c65fd4c378c/montiengviet-cothao-20250612065609-1g5xy.png)](https://tuyensinh247.com/hoc-truc-tuyen-mon-tieng-viet-lop-5-c263.html?year=2026&utm_source=banner-html)  \\n---|---|---  \\n**Các bài khác cùng chuyên mục**\\n  * [Đề thi vào lớp 6 môn Toán trường THCS Nguyễn Hồng Lễ - Thành phố Sầm Sơn năm 2025](https://loigiaihay.com/de-thi-vao-lop-6-mon-toan-truong-thcs-nguyen-hong-le-sam-son-nam-2025-co-dap-an-a187015.html \"Đề thi vào lớp 6 môn Toán trường THCS Nguyễn Hồng Lễ - Thành phố Sầm Sơn năm 2025\")\\n  * [Đề thi vào lớp 6 môn Toán trường THCS Đào Sư Tích - Trực Ninh năm 2025](https://loigiaihay.com/de-thi-vao-lop-6-mon-toan-truong-thcs-dao-su-tich-nam-2025-co-dap-an-a186985.html \"Đề thi vào lớp 6 môn Toán trường THCS Đào Sư Tích - Trực Ninh năm 2025\")\\n  * [Đề thi vào lớp 6 môn Toán trường THCS Tam Đảo năm 2025](https://loigiaihay.com/de-thi-vao-lop-6-mon-toan-truong-thcs-tam-dao-nam-2025-co-dap-an-a186956.html \"Đề thi vào lớp 6 môn Toán trường THCS Tam Đảo năm 2025\")\\n  * [Đề thi vào lớp 6 môn Toán trường THCS Nguyễn Huệ - Cẩm Giàng năm 2025](https://loigiaihay.com/de-thi-vao-lop-6-mon-toan-truong-thcs-nguyen-hue-cam-giang-nam-2025-co-dap-an-a186933.html \"Đề thi vào lớp 6 môn Toán trường THCS Nguyễn Huệ - Cẩm Giàng năm 2025\")\\n  * [Đề thi vào lớp 6 môn Toán trường THCS Trần Đăng Ninh thành phố Nam Định năm 2025](https://loigiaihay.com/de-thi-vao-lop-6-mon-toan-truong-thcs-tran-dang-ninh-thanh-pho-nam-dinh-nam-2025-co-dap-an-a186847.html \"Đề thi vào lớp 6 môn Toán trường THCS Trần Đăng Ninh thành phố Nam Định năm 2025\")\\n\\n\\n  \\n\\n[ TẢI APP ĐỂ XEM OFFLINE](https://loigiaihay.com/de-thi-vao-lop-6-mon-toan-truong-cau-giay-nam-2023-a142098.html)\\n[![App Loigiaihay trên google play store](https://loigiaihay.com/themes/style/images/android2024.png)](https://goo.gl/lYsjxK \"Tải app loigiaihay cho android\") [![App Loigiaihay trên apple store](https://loigiaihay.com/themes/style/images/ios2024.png)](https://apps.apple.com/vn/app/loigiaihay-com-l%E1%BB%9Di-gi%E1%BA%A3i-hay/id1209891610 \"Tải app loigiaihay cho iOS\")\\n[Bài giải mới nhất](https://loigiaihay.com/de-thi-vao-lop-6-mon-toan-truong-cau-giay-nam-2023-a142098.html)\\n  * [Đề thi vào lớp 6 môn Toán trường THCS Nguyễn Hồng Lễ - Thành phố Sầm Sơn năm 2025](https://loigiaihay.com/de-thi-vao-lop-6-mon-toan-truong-thcs-nguyen-hong-le-sam-son-nam-2025-co-dap-an-a187015.html \"Đề thi vào lớp 6 môn Toán trường THCS Nguyễn Hồng Lễ - Thành phố Sầm Sơn năm 2025\")\\n  * [Đề thi vào lớp 6 môn Toán trường THCS Đào Sư Tích - Trực Ninh năm 2025](https://loigiaihay.com/de-thi-vao-lop-6-mon-toan-truong-thcs-dao-su-tich-nam-2025-co-dap-an-a186985.html \"Đề thi vào lớp 6 môn Toán trường THCS Đào Sư Tích - Trực Ninh năm 2025\")\\n  * [Đề thi vào lớp 6 môn Toán trường THCS Tam Đảo năm 2025](https://loigiaihay.com/de-thi-vao-lop-6-mon-toan-truong-thcs-tam-dao-nam-2025-co-dap-an-a186956.html \"Đề thi vào lớp 6 môn Toán trường THCS Tam Đảo năm 2025\")\\n  * [Đề thi vào lớp 6 môn Toán trường THCS Nguyễn Huệ - Cẩm Giàng năm 2025](https://loigiaihay.com/de-thi-vao-lop-6-mon-toan-truong-thcs-nguyen-hue-cam-giang-nam-2025-co-dap-an-a186933.html \"Đề thi vào lớp 6 môn Toán trường THCS Nguyễn Huệ - Cẩm Giàng năm 2025\")\\n  * [Đề thi vào lớp 6 môn Toán trường THCS Trần Đăng Ninh thành phố Nam Định năm 2025](https://loigiaihay.com/de-thi-vao-lop-6-mon-toan-truong-thcs-tran-dang-ninh-thanh-pho-nam-dinh-nam-2025-co-dap-an-a186847.html \"Đề thi vào lớp 6 môn Toán trường THCS Trần Đăng Ninh thành phố Nam Định năm 2025\")\\n\\n\\n×\\n#### Góp ý cho loigiaihay.com\\nHãy viết chi tiết giúp [Loigiaihay.com](https://loigiaihay.com/ \"Loigiaihay.com\")\\n**Vui lòng để lại thông tin để ad có thể liên hệ với em nhé!**\\nGửi góp ý Hủy bỏ\\n×\\n#### Báo lỗi góp ý\\nVấn đề em gặp phải là gì ?\\nSai chính tả\\nGiải khó hiểu\\nGiải sai \\nLỗi khác \\nHãy viết chi tiết giúp [Loigiaihay.com](https://loigiaihay.com/ \"Loigiaihay.com\")\\nGửi góp ý Hủy bỏ\\n×\\n#### Báo lỗi\\n**Cảm ơn bạn đã sử dụng[Loigiaihay.com](https://loigiaihay.com/ \"Loigiaihay.com\"). Đội ngũ giáo viên cần cải thiện điều gì để bạn cho bài viết này 5* vậy?**\\n**Vui lòng để lại thông tin để ad có thể liên hệ với em nhé!**\\n**Họ và tên:**\\n**Email / SĐT:**\\nGửi Hủy bỏ\\n[Liên hệ](https://loigiaihay.com/lienhe.html) [Chính sách](https://loigiaihay.com/policy/vi.html)\\nCopyright © **2021 loigiaihay.com**\\n[ ![DMCA.com Protection Status](https://images.dmca.com/Badges/dmca_protected_sml_120m.png?ID=58bfe12e-47c6-4ce9-b0d3-8b2f7abac883)](https://www.dmca.com/Protection/Status.aspx?ID=58bfe12e-47c6-4ce9-b0d3-8b2f7abac883&refurl=https://loigiaihay.com/de-thi-vao-lop-6-mon-toan-truong-cau-giay-nam-2023-a142098.html \"DMCA.com Protection Status\")\\n[ ![](https://loigiaihay.com/themes/style/images/face.png) ](https://www.facebook.com/Loigiaihay/?ref=br_rs) [ ![](https://loigiaihay.com/themes/style/images/youtube.png) ](https://www.youtube.com/channel/UCkMcHVF7v9DiW2OeMvNoj-A)\\n[ ![App Loigiaihay trên apple store](https://loigiaihay.com/themes/style/images/ios2024.png) ](https://apps.apple.com/vn/app/loigiaihay-com-l%E1%BB%9Di-gi%E1%BA%A3i-hay/id1209891610) [ ![App Loigiaihay trên google play store](https://loigiaihay.com/themes/style/images/android2024.png) ](https://goo.gl/lYsjxK)\\n[ ![](https://loigiaihay.com/themes/images/gui-bai.gif) ](https://hoidap247.com?ref=link)\\n',\n",
       "  'index': 0}]"
      ]
     },
     "execution_count": 5,
     "metadata": {},
     "output_type": "execute_result"
    }
   ],
   "source": [
    "relevant_pages = adaptive.get_relevant_content(top_k=5)\n",
    "relevant_pages"
   ]
  },
  {
   "cell_type": "code",
   "execution_count": 6,
   "id": "50a29e78",
   "metadata": {},
   "outputs": [
    {
     "name": "stdout",
     "output_type": "stream",
     "text": [
      "- https://loigiaihay.com/de-thi-vao-lop-6-mon-toan-truong-cau-giay-nam-2023-a142098.html (score: 1.00)\n"
     ]
    }
   ],
   "source": [
    "for page in relevant_pages:\n",
    "    print(f\"- {page['url']} (score: {page['score']:.2f})\")"
   ]
  },
  {
   "cell_type": "markdown",
   "id": "a3a0f5b1",
   "metadata": {},
   "source": [
    "## Config options"
   ]
  },
  {
   "cell_type": "code",
   "execution_count": 7,
   "id": "c9ae7581",
   "metadata": {},
   "outputs": [
    {
     "data": {
      "text/html": [
       "<pre style=\"white-space:pre;overflow-x:auto;line-height:normal;font-family:Menlo,'DejaVu Sans Mono',consolas,'Courier New',monospace\"><span style=\"color: #008080; text-decoration-color: #008080; font-weight: bold\">[</span><span style=\"color: #008080; text-decoration-color: #008080\">INIT</span><span style=\"color: #008080; text-decoration-color: #008080; font-weight: bold\">]</span><span style=\"color: #008080; text-decoration-color: #008080\">.... → Crawl4AI </span><span style=\"color: #008080; text-decoration-color: #008080; font-weight: bold\">0.7</span><span style=\"color: #008080; text-decoration-color: #008080\">.</span><span style=\"color: #008080; text-decoration-color: #008080; font-weight: bold\">1</span><span style=\"color: #008080; text-decoration-color: #008080\"> </span>\n",
       "</pre>\n"
      ],
      "text/plain": [
       "\u001b[1;36m[\u001b[0m\u001b[36mINIT\u001b[0m\u001b[1;36m]\u001b[0m\u001b[36m...\u001b[0m\u001b[36m. → Crawl4AI \u001b[0m\u001b[1;36m0.7\u001b[0m\u001b[36m.\u001b[0m\u001b[1;36m1\u001b[0m\u001b[36m \u001b[0m\n"
      ]
     },
     "metadata": {},
     "output_type": "display_data"
    },
    {
     "data": {
      "text/html": [
       "<pre style=\"white-space:pre;overflow-x:auto;line-height:normal;font-family:Menlo,'DejaVu Sans Mono',consolas,'Courier New',monospace\"><span style=\"color: #008000; text-decoration-color: #008000; font-weight: bold\">[</span><span style=\"color: #008000; text-decoration-color: #008000\">FETCH</span><span style=\"color: #008000; text-decoration-color: #008000; font-weight: bold\">]</span><span style=\"color: #008000; text-decoration-color: #008000\">... ↓ </span><span style=\"color: #008000; text-decoration-color: #008000; text-decoration: underline\">https://loigiaihay.com/de-thi-vao-lop-6-mon-toan-truong-cau-giay-nam-2023-a142098.html</span><span style=\"color: #008000; text-decoration-color: #008000\">               |</span>\n",
       "<span style=\"color: #008000; text-decoration-color: #008000\">✓ | ⏱: </span><span style=\"color: #008000; text-decoration-color: #008000; font-weight: bold\">1.</span><span style=\"color: #008000; text-decoration-color: #008000\">53s </span>\n",
       "</pre>\n"
      ],
      "text/plain": [
       "\u001b[1;32m[\u001b[0m\u001b[32mFETCH\u001b[0m\u001b[1;32m]\u001b[0m\u001b[32m...\u001b[0m\u001b[32m ↓ \u001b[0m\u001b[4;32mhttps://loigiaihay.com/de-thi-vao-lop-6-mon-toan-truong-cau-giay-nam-2023-a142098.html\u001b[0m\u001b[32m               |\u001b[0m\n",
       "\u001b[32m✓\u001b[0m\u001b[32m | ⏱: \u001b[0m\u001b[1;32m1.\u001b[0m\u001b[32m53s \u001b[0m\n"
      ]
     },
     "metadata": {},
     "output_type": "display_data"
    },
    {
     "data": {
      "text/html": [
       "<pre style=\"white-space:pre;overflow-x:auto;line-height:normal;font-family:Menlo,'DejaVu Sans Mono',consolas,'Courier New',monospace\"><span style=\"color: #808080; text-decoration-color: #808080; font-weight: bold\">[</span><span style=\"color: #808080; text-decoration-color: #808080\">LINK_EXTRACT</span><span style=\"color: #808080; text-decoration-color: #808080; font-weight: bold\">]</span><span style=\"color: #808080; text-decoration-color: #808080\"> ℹ Added </span><span style=\"color: #808080; text-decoration-color: #808080; font-weight: bold\">936</span><span style=\"color: #808080; text-decoration-color: #808080\"> internal links </span>\n",
       "</pre>\n"
      ],
      "text/plain": [
       "\u001b[1;90m[\u001b[0m\u001b[90mLINK_EXTRACT\u001b[0m\u001b[1;90m]\u001b[0m\u001b[90m ℹ Added \u001b[0m\u001b[1;90m936\u001b[0m\u001b[90m internal links \u001b[0m\n"
      ]
     },
     "metadata": {},
     "output_type": "display_data"
    },
    {
     "data": {
      "text/html": [
       "<pre style=\"white-space:pre;overflow-x:auto;line-height:normal;font-family:Menlo,'DejaVu Sans Mono',consolas,'Courier New',monospace\"><span style=\"color: #808080; text-decoration-color: #808080; font-weight: bold\">[</span><span style=\"color: #808080; text-decoration-color: #808080\">LINK_EXTRACT</span><span style=\"color: #808080; text-decoration-color: #808080; font-weight: bold\">]</span><span style=\"color: #808080; text-decoration-color: #808080\"> ℹ Limited to </span><span style=\"color: #808080; text-decoration-color: #808080; font-weight: bold\">50</span><span style=\"color: #808080; text-decoration-color: #808080\"> links </span>\n",
       "</pre>\n"
      ],
      "text/plain": [
       "\u001b[1;90m[\u001b[0m\u001b[90mLINK_EXTRACT\u001b[0m\u001b[1;90m]\u001b[0m\u001b[90m ℹ Limited to \u001b[0m\u001b[1;90m50\u001b[0m\u001b[90m links \u001b[0m\n"
      ]
     },
     "metadata": {},
     "output_type": "display_data"
    },
    {
     "data": {
      "text/html": [
       "<pre style=\"white-space:pre;overflow-x:auto;line-height:normal;font-family:Menlo,'DejaVu Sans Mono',consolas,'Courier New',monospace\"><span style=\"color: #808080; text-decoration-color: #808080; font-weight: bold\">[</span><span style=\"color: #808080; text-decoration-color: #808080\">LINK_EXTRACT</span><span style=\"color: #808080; text-decoration-color: #808080; font-weight: bold\">]</span><span style=\"color: #808080; text-decoration-color: #808080\"> ℹ Final filtered URLs: </span><span style=\"color: #808080; text-decoration-color: #808080; font-weight: bold\">50</span><span style=\"color: #808080; text-decoration-color: #808080\"> unique links </span>\n",
       "</pre>\n"
      ],
      "text/plain": [
       "\u001b[1;90m[\u001b[0m\u001b[90mLINK_EXTRACT\u001b[0m\u001b[1;90m]\u001b[0m\u001b[90m ℹ Final filtered URLs: \u001b[0m\u001b[1;90m50\u001b[0m\u001b[90m unique links \u001b[0m\n"
      ]
     },
     "metadata": {},
     "output_type": "display_data"
    },
    {
     "data": {
      "text/html": [
       "<pre style=\"white-space:pre;overflow-x:auto;line-height:normal;font-family:Menlo,'DejaVu Sans Mono',consolas,'Courier New',monospace\"><span style=\"color: #008080; text-decoration-color: #008080; font-weight: bold\">[</span><span style=\"color: #008080; text-decoration-color: #008080\">LINK_EXTRACT</span><span style=\"color: #008080; text-decoration-color: #008080; font-weight: bold\">]</span><span style=\"color: #008080; text-decoration-color: #008080\"> ℹ Extracting head content for </span><span style=\"color: #008080; text-decoration-color: #008080; font-weight: bold\">50</span><span style=\"color: #008080; text-decoration-color: #008080\"> filtered links </span>\n",
       "</pre>\n"
      ],
      "text/plain": [
       "\u001b[1;36m[\u001b[0m\u001b[36mLINK_EXTRACT\u001b[0m\u001b[1;36m]\u001b[0m\u001b[36m ℹ Extracting head content for \u001b[0m\u001b[1;36m50\u001b[0m\u001b[36m filtered links \u001b[0m\n"
      ]
     },
     "metadata": {},
     "output_type": "display_data"
    },
    {
     "data": {
      "text/html": [
       "<pre style=\"white-space:pre;overflow-x:auto;line-height:normal;font-family:Menlo,'DejaVu Sans Mono',consolas,'Courier New',monospace\"><span style=\"color: #008080; text-decoration-color: #008080; font-weight: bold\">[</span><span style=\"color: #008080; text-decoration-color: #008080\">URL_SEED</span><span style=\"color: #008080; text-decoration-color: #008080; font-weight: bold\">]</span><span style=\"color: #008080; text-decoration-color: #008080\"> ℹ Starting head extraction for </span><span style=\"color: #008080; text-decoration-color: #008080; font-weight: bold\">50</span><span style=\"color: #008080; text-decoration-color: #008080\"> custom URLs </span>\n",
       "</pre>\n"
      ],
      "text/plain": [
       "\u001b[1;36m[\u001b[0m\u001b[36mURL_SEED\u001b[0m\u001b[1;36m]\u001b[0m\u001b[36m ℹ Starting head extraction for \u001b[0m\u001b[1;36m50\u001b[0m\u001b[36m custom URLs \u001b[0m\n"
      ]
     },
     "metadata": {},
     "output_type": "display_data"
    },
    {
     "data": {
      "text/html": [
       "<pre style=\"white-space:pre;overflow-x:auto;line-height:normal;font-family:Menlo,'DejaVu Sans Mono',consolas,'Courier New',monospace\"><span style=\"color: #008080; text-decoration-color: #008080; font-weight: bold\">[</span><span style=\"color: #008080; text-decoration-color: #008080\">URL_SEED</span><span style=\"color: #008080; text-decoration-color: #008080; font-weight: bold\">]</span><span style=\"color: #008080; text-decoration-color: #008080\"> ℹ Completed head extraction for </span><span style=\"color: #008080; text-decoration-color: #008080; font-weight: bold\">50</span><span style=\"color: #008080; text-decoration-color: #008080\"> URLs, </span><span style=\"color: #008080; text-decoration-color: #008080; font-weight: bold\">45</span><span style=\"color: #008080; text-decoration-color: #008080\"> successful </span>\n",
       "</pre>\n"
      ],
      "text/plain": [
       "\u001b[1;36m[\u001b[0m\u001b[36mURL_SEED\u001b[0m\u001b[1;36m]\u001b[0m\u001b[36m ℹ Completed head extraction for \u001b[0m\u001b[1;36m50\u001b[0m\u001b[36m URLs, \u001b[0m\u001b[1;36m45\u001b[0m\u001b[36m successful \u001b[0m\n"
      ]
     },
     "metadata": {},
     "output_type": "display_data"
    },
    {
     "data": {
      "text/html": [
       "<pre style=\"white-space:pre;overflow-x:auto;line-height:normal;font-family:Menlo,'DejaVu Sans Mono',consolas,'Courier New',monospace\"><span style=\"color: #008080; text-decoration-color: #008080; font-weight: bold\">[</span><span style=\"color: #008080; text-decoration-color: #008080\">LINK_EXTRACT</span><span style=\"color: #008080; text-decoration-color: #008080; font-weight: bold\">]</span><span style=\"color: #008080; text-decoration-color: #008080\"> ℹ Completed head extraction for links, </span><span style=\"color: #008080; text-decoration-color: #008080; font-weight: bold\">45</span><span style=\"color: #008080; text-decoration-color: #008080\"> successful </span>\n",
       "</pre>\n"
      ],
      "text/plain": [
       "\u001b[1;36m[\u001b[0m\u001b[36mLINK_EXTRACT\u001b[0m\u001b[1;36m]\u001b[0m\u001b[36m ℹ Completed head extraction for links, \u001b[0m\u001b[1;36m45\u001b[0m\u001b[36m successful \u001b[0m\n"
      ]
     },
     "metadata": {},
     "output_type": "display_data"
    },
    {
     "data": {
      "text/html": [
       "<pre style=\"white-space:pre;overflow-x:auto;line-height:normal;font-family:Menlo,'DejaVu Sans Mono',consolas,'Courier New',monospace\"><span style=\"color: #808080; text-decoration-color: #808080; font-weight: bold\">[</span><span style=\"color: #808080; text-decoration-color: #808080\">URL_SEED</span><span style=\"color: #808080; text-decoration-color: #808080; font-weight: bold\">]</span><span style=\"color: #808080; text-decoration-color: #808080\"> ℹ Closed HTTP client </span>\n",
       "</pre>\n"
      ],
      "text/plain": [
       "\u001b[1;90m[\u001b[0m\u001b[90mURL_SEED\u001b[0m\u001b[1;90m]\u001b[0m\u001b[90m ℹ Closed HTTP client \u001b[0m\n"
      ]
     },
     "metadata": {},
     "output_type": "display_data"
    },
    {
     "data": {
      "text/html": [
       "<pre style=\"white-space:pre;overflow-x:auto;line-height:normal;font-family:Menlo,'DejaVu Sans Mono',consolas,'Courier New',monospace\"><span style=\"color: #008080; text-decoration-color: #008080; font-weight: bold\">[</span><span style=\"color: #008080; text-decoration-color: #008080\">LINK_EXTRACT</span><span style=\"color: #008080; text-decoration-color: #008080; font-weight: bold\">]</span><span style=\"color: #008080; text-decoration-color: #008080\"> ℹ Link head extraction completed successfully </span>\n",
       "</pre>\n"
      ],
      "text/plain": [
       "\u001b[1;36m[\u001b[0m\u001b[36mLINK_EXTRACT\u001b[0m\u001b[1;36m]\u001b[0m\u001b[36m ℹ Link head extraction completed successfully \u001b[0m\n"
      ]
     },
     "metadata": {},
     "output_type": "display_data"
    },
    {
     "data": {
      "text/html": [
       "<pre style=\"white-space:pre;overflow-x:auto;line-height:normal;font-family:Menlo,'DejaVu Sans Mono',consolas,'Courier New',monospace\"><span style=\"color: #008000; text-decoration-color: #008000; font-weight: bold\">[</span><span style=\"color: #008000; text-decoration-color: #008000\">SCRAPE</span><span style=\"color: #008000; text-decoration-color: #008000; font-weight: bold\">]</span><span style=\"color: #008000; text-decoration-color: #008000\">.. ◆ </span><span style=\"color: #008000; text-decoration-color: #008000; text-decoration: underline\">https://loigiaihay.com/de-thi-vao-lop-6-mon-toan-truong-cau-giay-nam-2023-a142098.html</span><span style=\"color: #008000; text-decoration-color: #008000\">               |</span>\n",
       "<span style=\"color: #008000; text-decoration-color: #008000\">✓ | ⏱: </span><span style=\"color: #008000; text-decoration-color: #008000; font-weight: bold\">0.</span><span style=\"color: #008000; text-decoration-color: #008000\">37s </span>\n",
       "</pre>\n"
      ],
      "text/plain": [
       "\u001b[1;32m[\u001b[0m\u001b[32mSCRAPE\u001b[0m\u001b[1;32m]\u001b[0m\u001b[32m.. ◆ \u001b[0m\u001b[4;32mhttps://loigiaihay.com/de-thi-vao-lop-6-mon-toan-truong-cau-giay-nam-2023-a142098.html\u001b[0m\u001b[32m               |\u001b[0m\n",
       "\u001b[32m✓\u001b[0m\u001b[32m | ⏱: \u001b[0m\u001b[1;32m0.\u001b[0m\u001b[32m37s \u001b[0m\n"
      ]
     },
     "metadata": {},
     "output_type": "display_data"
    },
    {
     "data": {
      "text/html": [
       "<pre style=\"white-space:pre;overflow-x:auto;line-height:normal;font-family:Menlo,'DejaVu Sans Mono',consolas,'Courier New',monospace\"><span style=\"color: #008000; text-decoration-color: #008000; font-weight: bold\">[</span><span style=\"color: #008000; text-decoration-color: #008000\">COMPLETE</span><span style=\"color: #008000; text-decoration-color: #008000; font-weight: bold\">]</span><span style=\"color: #008000; text-decoration-color: #008000\"> ● </span><span style=\"color: #008000; text-decoration-color: #008000; text-decoration: underline\">https://loigiaihay.com/de-thi-vao-lop-6-mon-toan-truong-cau-giay-nam-2023-a142098.html</span><span style=\"color: #008000; text-decoration-color: #008000\">               |</span>\n",
       "<span style=\"color: #008000; text-decoration-color: #008000\">✓ | ⏱: </span><span style=\"color: #008000; text-decoration-color: #008000; font-weight: bold\">1.</span><span style=\"color: #008000; text-decoration-color: #008000\">91s </span>\n",
       "</pre>\n"
      ],
      "text/plain": [
       "\u001b[1;32m[\u001b[0m\u001b[32mCOMPLETE\u001b[0m\u001b[1;32m]\u001b[0m\u001b[32m ● \u001b[0m\u001b[4;32mhttps://loigiaihay.com/de-thi-vao-lop-6-mon-toan-truong-cau-giay-nam-2023-a142098.html\u001b[0m\u001b[32m               |\u001b[0m\n",
       "\u001b[32m✓\u001b[0m\u001b[32m | ⏱: \u001b[0m\u001b[1;32m1.\u001b[0m\u001b[32m91s \u001b[0m\n"
      ]
     },
     "metadata": {},
     "output_type": "display_data"
    }
   ],
   "source": [
    "from crawl4ai import AdaptiveConfig\n",
    "\n",
    "config = AdaptiveConfig(\n",
    "    confidence_threshold=0.7,    # Stop when 70% confident (default: 0.8)\n",
    "    max_pages=20,               # Maximum pages to crawl (default: 50)\n",
    "    top_k_links=3,              # Links to follow per page (default: 5)\n",
    "    min_gain_threshold=0.05     # Minimum expected gain to continue (default: 0.1)\n",
    ")\n",
    "\n",
    "async with AsyncWebCrawler() as crawler:\n",
    "    adaptive = AdaptiveCrawler(crawler, config)\n",
    "    result = await adaptive.digest(\n",
    "        start_url=sample_url,\n",
    "        query=\"Lời giải chi tiết đề thi vào lớp 6 môn toán\"\n",
    "    )"
   ]
  },
  {
   "cell_type": "code",
   "execution_count": 8,
   "id": "63f44cf2",
   "metadata": {},
   "outputs": [
    {
     "name": "stdout",
     "output_type": "stream",
     "text": [
      "- https://loigiaihay.com/de-thi-vao-lop-6-mon-toan-truong-cau-giay-nam-2023-a142098.html (score: 1.00)\n"
     ]
    }
   ],
   "source": [
    "relevant_pages = adaptive.get_relevant_content(top_k=5)\n",
    "for page in relevant_pages:\n",
    "    print(f\"- {page['url']} (score: {page['score']:.2f})\")"
   ]
  },
  {
   "cell_type": "code",
   "execution_count": null,
   "id": "f468c518",
   "metadata": {},
   "outputs": [],
   "source": []
  }
 ],
 "metadata": {
  "kernelspec": {
   "display_name": "learn-llm",
   "language": "python",
   "name": "python3"
  },
  "language_info": {
   "codemirror_mode": {
    "name": "ipython",
    "version": 3
   },
   "file_extension": ".py",
   "mimetype": "text/x-python",
   "name": "python",
   "nbconvert_exporter": "python",
   "pygments_lexer": "ipython3",
   "version": "3.13.2"
  }
 },
 "nbformat": 4,
 "nbformat_minor": 5
}
