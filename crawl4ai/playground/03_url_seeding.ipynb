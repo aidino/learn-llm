{
 "cells": [
  {
   "cell_type": "markdown",
   "id": "ad190d46",
   "metadata": {},
   "source": [
    "# URL Seeding\n",
    "\n",
    "URL Seeding trong `Crawl4ai` là một tính năng cho phép bạn **khám phá và lọc các URL** của một tên miền trước khi thực hiện quá trình thu thập dữ liệu (crawling). Thay vì bắt đầu từ một URL gốc và khám phá các liên kết một cách tuần tự (như trong Deep Crawling), URL Seeding giúp bạn có được một danh sách lớn các URL hiện có một cách nhanh chóng.\n",
    "\n",
    "Hãy tưởng tượng việc thu thập dữ liệu giống như đọc sách trong thư viện:\n",
    "\n",
    "* **Deep Crawling (Thu thập sâu)**: Bạn vào thư viện, chọn một cuốn sách, đọc nó, và sau đó tìm các cuốn sách khác được trích dẫn trong đó để đọc tiếp. Quá trình này diễn ra tuần tự và có thể tốn thời gian.\n",
    "* **URL Seeding (Gieo mầm URL)**: Bạn xem qua danh mục của toàn bộ thư viện trước, lọc ra những cuốn sách có tiêu đề hoặc mô tả phù hợp với chủ đề bạn quan tâm, và chỉ đọc những cuốn sách đó. Cách này nhanh hơn và nhắm đúng mục tiêu hơn.\n",
    "\n",
    "---\n",
    "\n",
    "### Cách hoạt động của URL Seeding\n",
    "\n",
    "URL Seeding sử dụng các nguồn dữ liệu lớn để tìm kiếm các URL liên quan đến một tên miền. Các nguồn chính bao gồm:\n",
    "\n",
    "* **Common Crawl**: Một kho lưu trữ dữ liệu web khổng lồ chứa thông tin từ hàng tỷ trang web.\n",
    "* **Sitemap**: Các tệp sitemap của chính trang web đó, cung cấp một danh sách có cấu trúc các URL của trang.\n",
    "\n",
    "Bạn có thể kết hợp cả hai nguồn này (`cc+sitemap`) để có được danh sách URL đầy đủ nhất.\n",
    "\n",
    "---\n",
    "\n",
    "### Lợi ích chính của URL Seeding\n",
    "\n",
    "* **Tốc độ**: Khám phá hàng loạt URL gần như ngay lập tức, nhanh hơn nhiều so với việc thu thập từng trang một.\n",
    "* **Hiệu quả về tài nguyên**: Giảm thiểu việc sử dụng tài nguyên vì bạn chỉ thu thập những URL đã được lọc và lựa chọn trước.\n",
    "* **Kiểm soát tốt hơn**: Cho phép bạn lọc và thậm chí xếp hạng các URL dựa trên mức độ liên quan (ví dụ: sử dụng truy vấn tìm kiếm) trước khi bắt đầu quá trình thu thập tốn kém.\n",
    "* **Tránh \"ngõ cụt\"**: Giúp bạn tránh lãng phí thời gian vào việc khám phá các nhánh không liên quan trên một trang web.\n",
    "\n",
    "---\n",
    "\n",
    "### Khi nào nên sử dụng URL Seeding?\n",
    "\n",
    "URL Seeding đặc biệt hữu ích khi:\n",
    "\n",
    "* Bạn muốn thu thập dữ liệu từ một phần cụ thể của một trang web lớn (ví dụ: chỉ các bài đăng trên blog hoặc các trang sản phẩm).\n",
    "* Bạn có một truy vấn hoặc chủ đề cụ thể và muốn tìm các trang có liên quan nhất trên một tên miền.\n",
    "* Bạn muốn tiết kiệm thời gian và chi phí bằng cách tránh thu thập các trang không cần thiết.\n",
    "\n",
    "Tóm lại, **URL Seeding** biến việc thu thập dữ liệu từ một cuộc thám hiểm \"mù\" thành một cuộc tấn công \"chính xác\", giúp bạn thu thập dữ liệu một cách thông minh và hiệu quả hơn."
   ]
  },
  {
   "cell_type": "code",
   "execution_count": 14,
   "id": "9fdfc99f",
   "metadata": {},
   "outputs": [],
   "source": [
    "sample_url='https://loigiaihay.com/de-thi-vao-lop-6-mon-toan-c1387.html'\n",
    "sample_url = \"https://loigiaihay.com/de-thi-vao-lop-6-mon-toan-truong-cau-giay-nam-2023-a142098.html\""
   ]
  },
  {
   "cell_type": "markdown",
   "id": "d11c6cf4",
   "metadata": {},
   "source": [
    "## Basic uasge"
   ]
  },
  {
   "cell_type": "code",
   "execution_count": 10,
   "id": "47ad55fd",
   "metadata": {},
   "outputs": [
    {
     "name": "stdout",
     "output_type": "stream",
     "text": [
      "🔍 Discovering blog posts...\n",
      "✅ Found 0 blog posts\n"
     ]
    }
   ],
   "source": [
    "from crawl4ai import AsyncUrlSeeder, SeedingConfig\n",
    "\n",
    "config = SeedingConfig(\n",
    "    source=\"sitemap\",\n",
    "    extract_head=True,\n",
    "    pattern=\"*de-thi-vao-lop-6-mon-toan*\" ,\n",
    "    # max_urls=100\n",
    ")\n",
    "# Method 2: Context manager (recommended)\n",
    "async with AsyncUrlSeeder() as seeder:\n",
    "    urls = await seeder.urls(sample_url, config)\n",
    "    # Automatically cleaned up on exit\n",
    "    \n",
    "\n",
    "print(\"🔍 Discovering blog posts...\")\n",
    "urls = await seeder.urls(sample_url, config)\n",
    "print(f\"✅ Found {len(urls)} blog posts\")"
   ]
  },
  {
   "cell_type": "markdown",
   "id": "ac92b4e7",
   "metadata": {},
   "source": [
    "## Common Crawl (Most Comprehensive)\n",
    "\n",
    "Common Crawl is a massive public dataset that regularly crawls the entire web"
   ]
  },
  {
   "cell_type": "code",
   "execution_count": 11,
   "id": "c5c8b242",
   "metadata": {},
   "outputs": [
    {
     "name": "stdout",
     "output_type": "stream",
     "text": [
      "🔍 Discovering blog posts...\n",
      "✅ Found 0 blog posts\n"
     ]
    }
   ],
   "source": [
    "config = SeedingConfig(\n",
    "    source=\"cc\",\n",
    "    extract_head=True,\n",
    "    pattern=\"*de-thi-vao-lop-6-mon-toan*\" ,\n",
    "    # max_urls=100\n",
    ")\n",
    "# Method 2: Context manager (recommended)\n",
    "async with AsyncUrlSeeder() as seeder:\n",
    "    urls = await seeder.urls(sample_url, config)\n",
    "    # Automatically cleaned up on exit\n",
    "    \n",
    "\n",
    "print(\"🔍 Discovering blog posts...\")\n",
    "urls = await seeder.urls(sample_url, config)\n",
    "print(f\"✅ Found {len(urls)} blog posts\")"
   ]
  },
  {
   "cell_type": "markdown",
   "id": "efa4c611",
   "metadata": {},
   "source": [
    "## Both Sources (Maximum Coverage)"
   ]
  },
  {
   "cell_type": "code",
   "execution_count": 16,
   "id": "82a0baa7",
   "metadata": {},
   "outputs": [
    {
     "name": "stdout",
     "output_type": "stream",
     "text": [
      "🔍 Discovering blog posts...\n",
      "✅ Found 14615 blog posts\n"
     ]
    }
   ],
   "source": [
    "config = SeedingConfig(\n",
    "    source=\"cc+sitemap\",\n",
    "    extract_head=True,\n",
    "    pattern=\"*\" ,\n",
    "    # max_urls=100\n",
    ")\n",
    "# Method 2: Context manager (recommended)\n",
    "async with AsyncUrlSeeder() as seeder:\n",
    "    urls = await seeder.urls(sample_url, config)\n",
    "    # Automatically cleaned up on exit\n",
    "    \n",
    "\n",
    "print(\"🔍 Discovering blog posts...\")\n",
    "urls = await seeder.urls(sample_url, config)\n",
    "print(f\"✅ Found {len(urls)} blog posts\")"
   ]
  },
  {
   "cell_type": "code",
   "execution_count": 21,
   "id": "940d8271",
   "metadata": {},
   "outputs": [
    {
     "data": {
      "text/plain": [
       "dict_keys(['url', 'status', 'head_data'])"
      ]
     },
     "execution_count": 21,
     "metadata": {},
     "output_type": "execute_result"
    }
   ],
   "source": [
    "urls[0].keys()"
   ]
  },
  {
   "cell_type": "code",
   "execution_count": 23,
   "id": "737b12d7",
   "metadata": {},
   "outputs": [
    {
     "data": {
      "text/plain": [
       "14615"
      ]
     },
     "execution_count": 23,
     "metadata": {},
     "output_type": "execute_result"
    }
   ],
   "source": [
    "all_links = [url['url'] for url in urls]\n",
    "len(all_links)"
   ]
  },
  {
   "cell_type": "code",
   "execution_count": 24,
   "id": "b5b36afa",
   "metadata": {},
   "outputs": [
    {
     "data": {
      "text/plain": [
       "'https://loigiaihay.com/'"
      ]
     },
     "execution_count": 24,
     "metadata": {},
     "output_type": "execute_result"
    }
   ],
   "source": [
    "all_links[0]"
   ]
  },
  {
   "cell_type": "code",
   "execution_count": 25,
   "id": "402b37d9",
   "metadata": {},
   "outputs": [],
   "source": [
    "def write_output_to_file(filepath, content):\n",
    "    with open(filepath, \"w\") as f:\n",
    "        f.write(content)"
   ]
  },
  {
   "cell_type": "code",
   "execution_count": 26,
   "id": "5cc644ae",
   "metadata": {},
   "outputs": [],
   "source": [
    "write_output_to_file('loigiaihay.url.txt', '\\n'.join(all_links))"
   ]
  },
  {
   "cell_type": "code",
   "execution_count": 27,
   "id": "3dc10e99",
   "metadata": {},
   "outputs": [
    {
     "data": {
      "text/plain": [
       "0"
      ]
     },
     "execution_count": 27,
     "metadata": {},
     "output_type": "execute_result"
    }
   ],
   "source": [
    "len([l for l in all_links if \"de-thi-vao-lop-6-mon-toan-\" in l])"
   ]
  },
  {
   "cell_type": "code",
   "execution_count": 29,
   "id": "5cf35313",
   "metadata": {},
   "outputs": [
    {
     "name": "stdout",
     "output_type": "stream",
     "text": [
      "🔍 Discovering blog posts...\n",
      "✅ Found 0 blog posts\n"
     ]
    }
   ],
   "source": [
    "config = SeedingConfig(\n",
    "    source=\"cc+sitemap\",\n",
    "    extract_head=True,\n",
    "    query=\"đề thi vào lớp 6\",\n",
    "    scoring_method=\"bm25\",\n",
    "    score_threshold=0.35\n",
    ")\n",
    "\n",
    "async with AsyncUrlSeeder() as seeder:\n",
    "    urls = await seeder.urls(sample_url, config)\n",
    "    # Automatically cleaned up on exit\n",
    "    \n",
    "print(\"🔍 Discovering blog posts...\")\n",
    "urls = await seeder.urls('loigiaihay.com', config)\n",
    "print(f\"✅ Found {len(urls)} blog posts\")"
   ]
  },
  {
   "cell_type": "code",
   "execution_count": null,
   "id": "f7f13602",
   "metadata": {},
   "outputs": [],
   "source": []
  }
 ],
 "metadata": {
  "kernelspec": {
   "display_name": "learn-llm",
   "language": "python",
   "name": "python3"
  },
  "language_info": {
   "codemirror_mode": {
    "name": "ipython",
    "version": 3
   },
   "file_extension": ".py",
   "mimetype": "text/x-python",
   "name": "python",
   "nbconvert_exporter": "python",
   "pygments_lexer": "ipython3",
   "version": "3.13.2"
  }
 },
 "nbformat": 4,
 "nbformat_minor": 5
}
